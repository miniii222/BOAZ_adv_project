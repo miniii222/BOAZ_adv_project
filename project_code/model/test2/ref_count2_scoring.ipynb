{
 "cells": [
  {
   "cell_type": "code",
   "execution_count": 1,
   "metadata": {},
   "outputs": [
    {
     "data": {
      "text/plain": [
       "['df_ref.csv',\n",
       " 'train.csv',\n",
       " 'submission_popular.csv',\n",
       " 'item_metadata.csv',\n",
       " 'df_full_except_noinfo.csv',\n",
       " 'test.csv',\n",
       " 'dwell_df.csv',\n",
       " 'baseline_sorting.csv',\n",
       " 'dwell_time_agg.csv',\n",
       " 'test2.csv']"
      ]
     },
     "execution_count": 1,
     "metadata": {},
     "output_type": "execute_result"
    }
   ],
   "source": [
    "import pandas as pd\n",
    "import numpy as np\n",
    "import os\n",
    "os.listdir('../input')"
   ]
  },
  {
   "cell_type": "code",
   "execution_count": 2,
   "metadata": {},
   "outputs": [],
   "source": [
    "path = '../input/'\n",
    "train = pd.read_csv(path + 'train.csv')\n",
    "test2 = pd.read_csv(path + 'test2.csv')"
   ]
  },
  {
   "cell_type": "code",
   "execution_count": 60,
   "metadata": {},
   "outputs": [
    {
     "name": "stdout",
     "output_type": "stream",
     "text": [
      "train shape :  (15932992, 12)\n",
      "test2 shape :  (3528762, 13)\n"
     ]
    }
   ],
   "source": [
    "print('train shape : ', train.shape)\n",
    "print('test2 shape : ', test2.shape)"
   ]
  },
  {
   "cell_type": "code",
   "execution_count": 3,
   "metadata": {},
   "outputs": [],
   "source": [
    "test_answer = test2['answer']\n",
    "test2.drop('answer', inplace = True, axis = 1)"
   ]
  },
  {
   "cell_type": "code",
   "execution_count": 4,
   "metadata": {},
   "outputs": [
    {
     "data": {
      "text/plain": [
       "(19461754, 12)"
      ]
     },
     "execution_count": 4,
     "metadata": {},
     "output_type": "execute_result"
    }
   ],
   "source": [
    "df = pd.concat([train, test2])\n",
    "df.shape"
   ]
  },
  {
   "cell_type": "markdown",
   "metadata": {},
   "source": [
    "# except no info"
   ]
  },
  {
   "cell_type": "code",
   "execution_count": 5,
   "metadata": {},
   "outputs": [
    {
     "data": {
      "text/html": [
       "<div>\n",
       "<style scoped>\n",
       "    .dataframe tbody tr th:only-of-type {\n",
       "        vertical-align: middle;\n",
       "    }\n",
       "\n",
       "    .dataframe tbody tr th {\n",
       "        vertical-align: top;\n",
       "    }\n",
       "\n",
       "    .dataframe thead th {\n",
       "        text-align: right;\n",
       "    }\n",
       "</style>\n",
       "<table border=\"1\" class=\"dataframe\">\n",
       "  <thead>\n",
       "    <tr style=\"text-align: right;\">\n",
       "      <th></th>\n",
       "      <th>user_id</th>\n",
       "      <th>session_id</th>\n",
       "      <th>step</th>\n",
       "    </tr>\n",
       "  </thead>\n",
       "  <tbody>\n",
       "    <tr>\n",
       "      <th>0</th>\n",
       "      <td>0006W0R5A5V8</td>\n",
       "      <td>85501a9f27263</td>\n",
       "      <td>1</td>\n",
       "    </tr>\n",
       "    <tr>\n",
       "      <th>1</th>\n",
       "      <td>00071784XQ6B</td>\n",
       "      <td>9617600e1ba7c</td>\n",
       "      <td>1</td>\n",
       "    </tr>\n",
       "    <tr>\n",
       "      <th>2</th>\n",
       "      <td>0008B0X0HC39</td>\n",
       "      <td>1b703eda68d85</td>\n",
       "      <td>1</td>\n",
       "    </tr>\n",
       "  </tbody>\n",
       "</table>\n",
       "</div>"
      ],
      "text/plain": [
       "        user_id     session_id  step\n",
       "0  0006W0R5A5V8  85501a9f27263     1\n",
       "1  00071784XQ6B  9617600e1ba7c     1\n",
       "2  0008B0X0HC39  1b703eda68d85     1"
      ]
     },
     "execution_count": 5,
     "metadata": {},
     "output_type": "execute_result"
    }
   ],
   "source": [
    "no_info = df.groupby(['user_id', 'session_id'])['step'].max()\n",
    "no_info = pd.DataFrame(no_info[no_info == 1]).reset_index()\n",
    "no_info.head(3)"
   ]
  },
  {
   "cell_type": "code",
   "execution_count": 6,
   "metadata": {},
   "outputs": [
    {
     "data": {
      "text/plain": [
       "(19214316, 12)"
      ]
     },
     "execution_count": 6,
     "metadata": {},
     "output_type": "execute_result"
    }
   ],
   "source": [
    "df = df[~df.session_id.isin(no_info.session_id)].reset_index(drop = True)\n",
    "df.shape"
   ]
  },
  {
   "cell_type": "markdown",
   "metadata": {},
   "source": [
    "# reference count"
   ]
  },
  {
   "cell_type": "code",
   "execution_count": 7,
   "metadata": {},
   "outputs": [],
   "source": [
    "#df.to_csv(path + 'df_full_except_noinfo.csv', index = False)"
   ]
  },
  {
   "cell_type": "code",
   "execution_count": 27,
   "metadata": {},
   "outputs": [],
   "source": [
    "def only_number(string):\n",
    "    \"\"\"reference에서 숫자인 것만 뽑아 int type으로 변환\"\"\"\n",
    "    try:\n",
    "        int(string)\n",
    "        return string\n",
    "    except ValueError:\n",
    "        return np.nan"
   ]
  },
  {
   "cell_type": "code",
   "execution_count": 28,
   "metadata": {},
   "outputs": [],
   "source": [
    "df.reference = df.reference.apply(only_number)"
   ]
  },
  {
   "cell_type": "code",
   "execution_count": 51,
   "metadata": {},
   "outputs": [
    {
     "data": {
      "text/html": [
       "<div>\n",
       "<style scoped>\n",
       "    .dataframe tbody tr th:only-of-type {\n",
       "        vertical-align: middle;\n",
       "    }\n",
       "\n",
       "    .dataframe tbody tr th {\n",
       "        vertical-align: top;\n",
       "    }\n",
       "\n",
       "    .dataframe thead th {\n",
       "        text-align: right;\n",
       "    }\n",
       "</style>\n",
       "<table border=\"1\" class=\"dataframe\">\n",
       "  <thead>\n",
       "    <tr style=\"text-align: right;\">\n",
       "      <th></th>\n",
       "      <th>user_id</th>\n",
       "      <th>reference</th>\n",
       "      <th>ref_count</th>\n",
       "    </tr>\n",
       "  </thead>\n",
       "  <tbody>\n",
       "    <tr>\n",
       "      <th>0</th>\n",
       "      <td>0001VQMGUI65</td>\n",
       "      <td>3133074</td>\n",
       "      <td>11</td>\n",
       "    </tr>\n",
       "    <tr>\n",
       "      <th>1</th>\n",
       "      <td>0001VQMGUI65</td>\n",
       "      <td>2019467</td>\n",
       "      <td>1</td>\n",
       "    </tr>\n",
       "    <tr>\n",
       "      <th>2</th>\n",
       "      <td>0001VQMGUI65</td>\n",
       "      <td>4521140</td>\n",
       "      <td>1</td>\n",
       "    </tr>\n",
       "  </tbody>\n",
       "</table>\n",
       "</div>"
      ],
      "text/plain": [
       "        user_id reference  ref_count\n",
       "0  0001VQMGUI65   3133074         11\n",
       "1  0001VQMGUI65   2019467          1\n",
       "2  0001VQMGUI65   4521140          1"
      ]
     },
     "execution_count": 51,
     "metadata": {},
     "output_type": "execute_result"
    }
   ],
   "source": [
    "df_ref2 = df.groupby('user_id')['reference'].value_counts().to_frame().rename(columns = {'reference' : 'ref_count'}).reset_index()\n",
    "df_ref2.head(3)"
   ]
  },
  {
   "cell_type": "code",
   "execution_count": 53,
   "metadata": {},
   "outputs": [],
   "source": [
    "#df_ref2.to_csv(path + 'df_ref2.csv', index = False)\n",
    "#del df_ref2"
   ]
  },
  {
   "cell_type": "code",
   "execution_count": 35,
   "metadata": {},
   "outputs": [
    {
     "data": {
      "text/html": [
       "<div>\n",
       "<style scoped>\n",
       "    .dataframe tbody tr th:only-of-type {\n",
       "        vertical-align: middle;\n",
       "    }\n",
       "\n",
       "    .dataframe tbody tr th {\n",
       "        vertical-align: top;\n",
       "    }\n",
       "\n",
       "    .dataframe thead th {\n",
       "        text-align: right;\n",
       "    }\n",
       "</style>\n",
       "<table border=\"1\" class=\"dataframe\">\n",
       "  <thead>\n",
       "    <tr style=\"text-align: right;\">\n",
       "      <th></th>\n",
       "      <th>user_id</th>\n",
       "      <th>session_id</th>\n",
       "      <th>reference</th>\n",
       "      <th>ref_count</th>\n",
       "    </tr>\n",
       "  </thead>\n",
       "  <tbody>\n",
       "    <tr>\n",
       "      <th>0</th>\n",
       "      <td>0001VQMGUI65</td>\n",
       "      <td>466687f1875ee</td>\n",
       "      <td>3133074</td>\n",
       "      <td>11</td>\n",
       "    </tr>\n",
       "    <tr>\n",
       "      <th>1</th>\n",
       "      <td>0001VQMGUI65</td>\n",
       "      <td>466687f1875ee</td>\n",
       "      <td>2019467</td>\n",
       "      <td>1</td>\n",
       "    </tr>\n",
       "    <tr>\n",
       "      <th>2</th>\n",
       "      <td>0001VQMGUI65</td>\n",
       "      <td>466687f1875ee</td>\n",
       "      <td>4521140</td>\n",
       "      <td>1</td>\n",
       "    </tr>\n",
       "  </tbody>\n",
       "</table>\n",
       "</div>"
      ],
      "text/plain": [
       "        user_id     session_id reference  ref_count\n",
       "0  0001VQMGUI65  466687f1875ee   3133074         11\n",
       "1  0001VQMGUI65  466687f1875ee   2019467          1\n",
       "2  0001VQMGUI65  466687f1875ee   4521140          1"
      ]
     },
     "execution_count": 35,
     "metadata": {},
     "output_type": "execute_result"
    }
   ],
   "source": [
    "aa = df.groupby(['user_id','session_id'])['reference'].value_counts().to_frame().rename(columns = {'reference' : 'ref_count'})\n",
    "aa.reset_index(inplace = True)\n",
    "aa.head(3)"
   ]
  },
  {
   "cell_type": "code",
   "execution_count": 43,
   "metadata": {},
   "outputs": [
    {
     "data": {
      "text/html": [
       "<div>\n",
       "<style scoped>\n",
       "    .dataframe tbody tr th:only-of-type {\n",
       "        vertical-align: middle;\n",
       "    }\n",
       "\n",
       "    .dataframe tbody tr th {\n",
       "        vertical-align: top;\n",
       "    }\n",
       "\n",
       "    .dataframe thead th {\n",
       "        text-align: right;\n",
       "    }\n",
       "</style>\n",
       "<table border=\"1\" class=\"dataframe\">\n",
       "  <thead>\n",
       "    <tr style=\"text-align: right;\">\n",
       "      <th></th>\n",
       "      <th>user_id</th>\n",
       "      <th>session_id</th>\n",
       "      <th>reference</th>\n",
       "      <th>ref_count</th>\n",
       "      <th>rank</th>\n",
       "    </tr>\n",
       "  </thead>\n",
       "  <tbody>\n",
       "    <tr>\n",
       "      <th>0</th>\n",
       "      <td>0001VQMGUI65</td>\n",
       "      <td>466687f1875ee</td>\n",
       "      <td>3133074</td>\n",
       "      <td>11</td>\n",
       "      <td>1.0</td>\n",
       "    </tr>\n",
       "    <tr>\n",
       "      <th>1</th>\n",
       "      <td>0001VQMGUI65</td>\n",
       "      <td>466687f1875ee</td>\n",
       "      <td>2019467</td>\n",
       "      <td>1</td>\n",
       "      <td>3.5</td>\n",
       "    </tr>\n",
       "    <tr>\n",
       "      <th>2</th>\n",
       "      <td>0001VQMGUI65</td>\n",
       "      <td>466687f1875ee</td>\n",
       "      <td>4521140</td>\n",
       "      <td>1</td>\n",
       "      <td>3.5</td>\n",
       "    </tr>\n",
       "  </tbody>\n",
       "</table>\n",
       "</div>"
      ],
      "text/plain": [
       "        user_id     session_id reference  ref_count  rank\n",
       "0  0001VQMGUI65  466687f1875ee   3133074         11   1.0\n",
       "1  0001VQMGUI65  466687f1875ee   2019467          1   3.5\n",
       "2  0001VQMGUI65  466687f1875ee   4521140          1   3.5"
      ]
     },
     "execution_count": 43,
     "metadata": {},
     "output_type": "execute_result"
    }
   ],
   "source": [
    "aa['rank'] = aa.groupby(['user_id','session_id'])['ref_count'].rank(ascending = False)\n",
    "aa.head(3)"
   ]
  },
  {
   "cell_type": "markdown",
   "metadata": {},
   "source": [
    "# make submission file"
   ]
  },
  {
   "cell_type": "code",
   "execution_count": 55,
   "metadata": {},
   "outputs": [],
   "source": [
    "test2['answer'] = test_answer"
   ]
  },
  {
   "cell_type": "code",
   "execution_count": 197,
   "metadata": {},
   "outputs": [],
   "source": [
    "new_submission = test2[test2.answer == True][['user_id','session_id','timestamp','step','reference','impressions']]\n",
    "#new_submission.to_csv(path + 'new_submission.csv', index = False)"
   ]
  },
  {
   "cell_type": "code",
   "execution_count": 60,
   "metadata": {},
   "outputs": [
    {
     "data": {
      "text/html": [
       "<div>\n",
       "<style scoped>\n",
       "    .dataframe tbody tr th:only-of-type {\n",
       "        vertical-align: middle;\n",
       "    }\n",
       "\n",
       "    .dataframe tbody tr th {\n",
       "        vertical-align: top;\n",
       "    }\n",
       "\n",
       "    .dataframe thead th {\n",
       "        text-align: right;\n",
       "    }\n",
       "</style>\n",
       "<table border=\"1\" class=\"dataframe\">\n",
       "  <thead>\n",
       "    <tr style=\"text-align: right;\">\n",
       "      <th></th>\n",
       "      <th>user_id</th>\n",
       "      <th>session_id</th>\n",
       "      <th>timestamp</th>\n",
       "      <th>step</th>\n",
       "      <th>reference</th>\n",
       "      <th>impressions</th>\n",
       "    </tr>\n",
       "  </thead>\n",
       "  <tbody>\n",
       "    <tr>\n",
       "      <th>5</th>\n",
       "      <td>004A07DM0IDW</td>\n",
       "      <td>1d688ec168932</td>\n",
       "      <td>1541555792</td>\n",
       "      <td>6</td>\n",
       "      <td>3241426</td>\n",
       "      <td>2059240|2033381|1724779|127131|399441|103357|1...</td>\n",
       "    </tr>\n",
       "    <tr>\n",
       "      <th>7</th>\n",
       "      <td>00Y1Z24X8084</td>\n",
       "      <td>26b6d294d66e7</td>\n",
       "      <td>1541651766</td>\n",
       "      <td>1</td>\n",
       "      <td>3843244</td>\n",
       "      <td>2714480|4476010|3843244|3833012|9017890|198100...</td>\n",
       "    </tr>\n",
       "    <tr>\n",
       "      <th>11</th>\n",
       "      <td>01V3WDTDM5CU</td>\n",
       "      <td>07628a0f5be0b</td>\n",
       "      <td>1541575516</td>\n",
       "      <td>4</td>\n",
       "      <td>2817590</td>\n",
       "      <td>3565720|2947584|4115018|2039671|3836538|801409...</td>\n",
       "    </tr>\n",
       "  </tbody>\n",
       "</table>\n",
       "</div>"
      ],
      "text/plain": [
       "         user_id     session_id   timestamp  step reference  \\\n",
       "5   004A07DM0IDW  1d688ec168932  1541555792     6   3241426   \n",
       "7   00Y1Z24X8084  26b6d294d66e7  1541651766     1   3843244   \n",
       "11  01V3WDTDM5CU  07628a0f5be0b  1541575516     4   2817590   \n",
       "\n",
       "                                          impressions  \n",
       "5   2059240|2033381|1724779|127131|399441|103357|1...  \n",
       "7   2714480|4476010|3843244|3833012|9017890|198100...  \n",
       "11  3565720|2947584|4115018|2039671|3836538|801409...  "
      ]
     },
     "execution_count": 60,
     "metadata": {},
     "output_type": "execute_result"
    }
   ],
   "source": [
    "new_submission.head(3)"
   ]
  },
  {
   "cell_type": "markdown",
   "metadata": {},
   "source": [
    "# sort by ref count"
   ]
  },
  {
   "cell_type": "code",
   "execution_count": 200,
   "metadata": {},
   "outputs": [
    {
     "data": {
      "text/html": [
       "<div>\n",
       "<style scoped>\n",
       "    .dataframe tbody tr th:only-of-type {\n",
       "        vertical-align: middle;\n",
       "    }\n",
       "\n",
       "    .dataframe tbody tr th {\n",
       "        vertical-align: top;\n",
       "    }\n",
       "\n",
       "    .dataframe thead th {\n",
       "        text-align: right;\n",
       "    }\n",
       "</style>\n",
       "<table border=\"1\" class=\"dataframe\">\n",
       "  <thead>\n",
       "    <tr style=\"text-align: right;\">\n",
       "      <th></th>\n",
       "      <th>user_id</th>\n",
       "      <th>session_id</th>\n",
       "      <th>timestamp</th>\n",
       "      <th>step</th>\n",
       "      <th>reference</th>\n",
       "      <th>impressions</th>\n",
       "    </tr>\n",
       "  </thead>\n",
       "  <tbody>\n",
       "    <tr>\n",
       "      <th>0</th>\n",
       "      <td>004A07DM0IDW</td>\n",
       "      <td>1d688ec168932</td>\n",
       "      <td>1541555792</td>\n",
       "      <td>6</td>\n",
       "      <td>3241426</td>\n",
       "      <td>[2059240, 2033381, 1724779, 127131, 399441, 10...</td>\n",
       "    </tr>\n",
       "    <tr>\n",
       "      <th>1</th>\n",
       "      <td>00Y1Z24X8084</td>\n",
       "      <td>26b6d294d66e7</td>\n",
       "      <td>1541651766</td>\n",
       "      <td>1</td>\n",
       "      <td>3843244</td>\n",
       "      <td>[2714480, 4476010, 3843244, 3833012, 9017890, ...</td>\n",
       "    </tr>\n",
       "    <tr>\n",
       "      <th>2</th>\n",
       "      <td>01V3WDTDM5CU</td>\n",
       "      <td>07628a0f5be0b</td>\n",
       "      <td>1541575516</td>\n",
       "      <td>4</td>\n",
       "      <td>2817590</td>\n",
       "      <td>[3565720, 2947584, 4115018, 2039671, 3836538, ...</td>\n",
       "    </tr>\n",
       "  </tbody>\n",
       "</table>\n",
       "</div>"
      ],
      "text/plain": [
       "        user_id     session_id   timestamp  step  reference  \\\n",
       "0  004A07DM0IDW  1d688ec168932  1541555792     6    3241426   \n",
       "1  00Y1Z24X8084  26b6d294d66e7  1541651766     1    3843244   \n",
       "2  01V3WDTDM5CU  07628a0f5be0b  1541575516     4    2817590   \n",
       "\n",
       "                                         impressions  \n",
       "0  [2059240, 2033381, 1724779, 127131, 399441, 10...  \n",
       "1  [2714480, 4476010, 3843244, 3833012, 9017890, ...  \n",
       "2  [3565720, 2947584, 4115018, 2039671, 3836538, ...  "
      ]
     },
     "execution_count": 200,
     "metadata": {},
     "output_type": "execute_result"
    }
   ],
   "source": [
    "new_submission = pd.read_csv(path + 'new_submission.csv')\n",
    "new_submission['impressions'] = new_submission['impressions'].apply(lambda x : x.split('|'))\n",
    "new_submission.head(3)"
   ]
  },
  {
   "cell_type": "code",
   "execution_count": 91,
   "metadata": {},
   "outputs": [
    {
     "data": {
      "text/html": [
       "<div>\n",
       "<style scoped>\n",
       "    .dataframe tbody tr th:only-of-type {\n",
       "        vertical-align: middle;\n",
       "    }\n",
       "\n",
       "    .dataframe tbody tr th {\n",
       "        vertical-align: top;\n",
       "    }\n",
       "\n",
       "    .dataframe thead th {\n",
       "        text-align: right;\n",
       "    }\n",
       "</style>\n",
       "<table border=\"1\" class=\"dataframe\">\n",
       "  <thead>\n",
       "    <tr style=\"text-align: right;\">\n",
       "      <th></th>\n",
       "      <th>user_id</th>\n",
       "      <th>session_id</th>\n",
       "      <th>reference</th>\n",
       "    </tr>\n",
       "  </thead>\n",
       "  <tbody>\n",
       "    <tr>\n",
       "      <th>6</th>\n",
       "      <td>0008BO33KUQ0</td>\n",
       "      <td>2d0e2102ee0dc</td>\n",
       "      <td>452021 507861</td>\n",
       "    </tr>\n",
       "    <tr>\n",
       "      <th>12</th>\n",
       "      <td>000GO9NY6P4M</td>\n",
       "      <td>c712ede188d00</td>\n",
       "      <td>1618677</td>\n",
       "    </tr>\n",
       "    <tr>\n",
       "      <th>14</th>\n",
       "      <td>000IRHJS2DL9</td>\n",
       "      <td>f6ffffd20d43d</td>\n",
       "      <td>2547840 346166 2285010 4552802</td>\n",
       "    </tr>\n",
       "    <tr>\n",
       "      <th>18</th>\n",
       "      <td>000OWRCYEHKT</td>\n",
       "      <td>53e84da5c2dad</td>\n",
       "      <td>7795438</td>\n",
       "    </tr>\n",
       "    <tr>\n",
       "      <th>19</th>\n",
       "      <td>000VBY1D6BP8</td>\n",
       "      <td>033fddaaa99af</td>\n",
       "      <td>32246 5592656</td>\n",
       "    </tr>\n",
       "  </tbody>\n",
       "</table>\n",
       "</div>"
      ],
      "text/plain": [
       "         user_id     session_id                       reference\n",
       "6   0008BO33KUQ0  2d0e2102ee0dc                   452021 507861\n",
       "12  000GO9NY6P4M  c712ede188d00                         1618677\n",
       "14  000IRHJS2DL9  f6ffffd20d43d  2547840 346166 2285010 4552802\n",
       "18  000OWRCYEHKT  53e84da5c2dad                         7795438\n",
       "19  000VBY1D6BP8  033fddaaa99af                   32246 5592656"
      ]
     },
     "execution_count": 91,
     "metadata": {},
     "output_type": "execute_result"
    }
   ],
   "source": [
    "ref_count_sort = aa.groupby(['user_id', 'session_id'])['reference'].apply(lambda x : ' '.join(x)).to_frame().reset_index()\n",
    "ref_count_sort = ref_count_sort[(ref_count_sort.user_id.isin(new_submission.user_id)) & (ref_count_sort.session_id.isin(new_submission.session_id))]\n",
    "ref_count_sort.head()"
   ]
  },
  {
   "cell_type": "code",
   "execution_count": 115,
   "metadata": {},
   "outputs": [
    {
     "data": {
      "text/html": [
       "<div>\n",
       "<style scoped>\n",
       "    .dataframe tbody tr th:only-of-type {\n",
       "        vertical-align: middle;\n",
       "    }\n",
       "\n",
       "    .dataframe tbody tr th {\n",
       "        vertical-align: top;\n",
       "    }\n",
       "\n",
       "    .dataframe thead th {\n",
       "        text-align: right;\n",
       "    }\n",
       "</style>\n",
       "<table border=\"1\" class=\"dataframe\">\n",
       "  <thead>\n",
       "    <tr style=\"text-align: right;\">\n",
       "      <th></th>\n",
       "      <th>user_id</th>\n",
       "      <th>session_id</th>\n",
       "      <th>ref_count_sorted</th>\n",
       "    </tr>\n",
       "  </thead>\n",
       "  <tbody>\n",
       "    <tr>\n",
       "      <th>6</th>\n",
       "      <td>0008BO33KUQ0</td>\n",
       "      <td>2d0e2102ee0dc</td>\n",
       "      <td>[452021, 507861]</td>\n",
       "    </tr>\n",
       "    <tr>\n",
       "      <th>12</th>\n",
       "      <td>000GO9NY6P4M</td>\n",
       "      <td>c712ede188d00</td>\n",
       "      <td>[1618677]</td>\n",
       "    </tr>\n",
       "    <tr>\n",
       "      <th>14</th>\n",
       "      <td>000IRHJS2DL9</td>\n",
       "      <td>f6ffffd20d43d</td>\n",
       "      <td>[2547840, 346166, 2285010, 4552802]</td>\n",
       "    </tr>\n",
       "  </tbody>\n",
       "</table>\n",
       "</div>"
      ],
      "text/plain": [
       "         user_id     session_id                     ref_count_sorted\n",
       "6   0008BO33KUQ0  2d0e2102ee0dc                     [452021, 507861]\n",
       "12  000GO9NY6P4M  c712ede188d00                            [1618677]\n",
       "14  000IRHJS2DL9  f6ffffd20d43d  [2547840, 346166, 2285010, 4552802]"
      ]
     },
     "execution_count": 115,
     "metadata": {},
     "output_type": "execute_result"
    }
   ],
   "source": [
    "ref_count_sort.reference = ref_count_sort.reference.apply(lambda x : x.split(' '))\n",
    "ref_count_sort.rename(columns = {'reference' : 'ref_count_sorted'}, inplace = True)\n",
    "ref_count_sort.head(3)"
   ]
  },
  {
   "cell_type": "code",
   "execution_count": 202,
   "metadata": {
    "scrolled": true
   },
   "outputs": [],
   "source": [
    "new_submission = pd.merge(new_submission, ref_count_sort, on = ['user_id', 'session_id'], how = 'left')"
   ]
  },
  {
   "cell_type": "code",
   "execution_count": 203,
   "metadata": {},
   "outputs": [],
   "source": [
    "def sort_ref(imp, ref) :\n",
    "    my = []\n",
    "    for rr in ref :\n",
    "        if rr in imp :\n",
    "            my.append(rr)\n",
    "            imp.remove(rr)\n",
    "    imp = my + imp\n",
    "    return imp"
   ]
  },
  {
   "cell_type": "code",
   "execution_count": 204,
   "metadata": {},
   "outputs": [],
   "source": [
    "#apply \n",
    "apply_index = new_submission[(new_submission.user_id.isin(ref_count_sort.user_id)) & (new_submission.session_id.isin(ref_count_sort.session_id))].index\n",
    "new_submission.loc[apply_index, 'impressions'] = new_submission.loc[apply_index].apply(lambda x : sort_ref(x['impressions'], x['ref_count_sorted']), axis = 1)"
   ]
  },
  {
   "cell_type": "code",
   "execution_count": 170,
   "metadata": {},
   "outputs": [],
   "source": [
    "def mrr(answer, imp) :\n",
    "    myscore = 0\n",
    "    \n",
    "    for i,j in zip(answer, imp) :\n",
    "        if i in j :\n",
    "            myscore += 1/(j.index(i) + 1)\n",
    "    print(myscore / len(imp))"
   ]
  },
  {
   "cell_type": "code",
   "execution_count": 205,
   "metadata": {},
   "outputs": [
    {
     "name": "stdout",
     "output_type": "stream",
     "text": [
      "0.7669310355806487\n"
     ]
    }
   ],
   "source": [
    "new_submission.reference = new_submission.reference.apply(str)\n",
    "mrr(new_submission['reference'], new_submission['impressions'])"
   ]
  },
  {
   "cell_type": "code",
   "execution_count": 207,
   "metadata": {},
   "outputs": [
    {
     "data": {
      "text/html": [
       "<div>\n",
       "<style scoped>\n",
       "    .dataframe tbody tr th:only-of-type {\n",
       "        vertical-align: middle;\n",
       "    }\n",
       "\n",
       "    .dataframe tbody tr th {\n",
       "        vertical-align: top;\n",
       "    }\n",
       "\n",
       "    .dataframe thead th {\n",
       "        text-align: right;\n",
       "    }\n",
       "</style>\n",
       "<table border=\"1\" class=\"dataframe\">\n",
       "  <thead>\n",
       "    <tr style=\"text-align: right;\">\n",
       "      <th></th>\n",
       "      <th>user_id</th>\n",
       "      <th>session_id</th>\n",
       "      <th>timestamp</th>\n",
       "      <th>step</th>\n",
       "      <th>reference</th>\n",
       "      <th>impressions</th>\n",
       "      <th>ref_count_sorted</th>\n",
       "    </tr>\n",
       "  </thead>\n",
       "  <tbody>\n",
       "    <tr>\n",
       "      <th>0</th>\n",
       "      <td>004A07DM0IDW</td>\n",
       "      <td>1d688ec168932</td>\n",
       "      <td>1541555792</td>\n",
       "      <td>6</td>\n",
       "      <td>3241426</td>\n",
       "      <td>1050068 2059240 3241426 2033381 1724779 127131...</td>\n",
       "      <td>[1050068, 2059240, 3241426]</td>\n",
       "    </tr>\n",
       "    <tr>\n",
       "      <th>1</th>\n",
       "      <td>00Y1Z24X8084</td>\n",
       "      <td>26b6d294d66e7</td>\n",
       "      <td>1541651766</td>\n",
       "      <td>1</td>\n",
       "      <td>3843244</td>\n",
       "      <td>2714480 4476010 3843244 3833012 9017890 198100...</td>\n",
       "      <td>NaN</td>\n",
       "    </tr>\n",
       "    <tr>\n",
       "      <th>2</th>\n",
       "      <td>01V3WDTDM5CU</td>\n",
       "      <td>07628a0f5be0b</td>\n",
       "      <td>1541575516</td>\n",
       "      <td>4</td>\n",
       "      <td>2817590</td>\n",
       "      <td>2817590 3565720 2947584 4115018 2039671 383653...</td>\n",
       "      <td>[2817590]</td>\n",
       "    </tr>\n",
       "  </tbody>\n",
       "</table>\n",
       "</div>"
      ],
      "text/plain": [
       "        user_id     session_id   timestamp  step reference  \\\n",
       "0  004A07DM0IDW  1d688ec168932  1541555792     6   3241426   \n",
       "1  00Y1Z24X8084  26b6d294d66e7  1541651766     1   3843244   \n",
       "2  01V3WDTDM5CU  07628a0f5be0b  1541575516     4   2817590   \n",
       "\n",
       "                                         impressions  \\\n",
       "0  1050068 2059240 3241426 2033381 1724779 127131...   \n",
       "1  2714480 4476010 3843244 3833012 9017890 198100...   \n",
       "2  2817590 3565720 2947584 4115018 2039671 383653...   \n",
       "\n",
       "              ref_count_sorted  \n",
       "0  [1050068, 2059240, 3241426]  \n",
       "1                          NaN  \n",
       "2                    [2817590]  "
      ]
     },
     "execution_count": 207,
     "metadata": {},
     "output_type": "execute_result"
    }
   ],
   "source": [
    "new_submission.impressions = new_submission.impressions.apply(lambda x : ' '.join(x))\n",
    "new_submission.head(3)"
   ]
  },
  {
   "cell_type": "code",
   "execution_count": 225,
   "metadata": {
    "scrolled": true
   },
   "outputs": [],
   "source": [
    "ind = new_submission.loc[~new_submission.ref_count_sorted.isnull()].index\n",
    "new_submission.loc[ind, 'ref_count_sorted'] = new_submission.loc[ind]['ref_count_sorted'].apply(lambda x : ' '.join(x))"
   ]
  },
  {
   "cell_type": "code",
   "execution_count": 229,
   "metadata": {},
   "outputs": [
    {
     "data": {
      "text/html": [
       "<div>\n",
       "<style scoped>\n",
       "    .dataframe tbody tr th:only-of-type {\n",
       "        vertical-align: middle;\n",
       "    }\n",
       "\n",
       "    .dataframe tbody tr th {\n",
       "        vertical-align: top;\n",
       "    }\n",
       "\n",
       "    .dataframe thead th {\n",
       "        text-align: right;\n",
       "    }\n",
       "</style>\n",
       "<table border=\"1\" class=\"dataframe\">\n",
       "  <thead>\n",
       "    <tr style=\"text-align: right;\">\n",
       "      <th></th>\n",
       "      <th>user_id</th>\n",
       "      <th>session_id</th>\n",
       "      <th>timestamp</th>\n",
       "      <th>step</th>\n",
       "      <th>reference</th>\n",
       "      <th>impressions</th>\n",
       "      <th>ref_count_sorted</th>\n",
       "    </tr>\n",
       "  </thead>\n",
       "  <tbody>\n",
       "    <tr>\n",
       "      <th>0</th>\n",
       "      <td>004A07DM0IDW</td>\n",
       "      <td>1d688ec168932</td>\n",
       "      <td>1541555792</td>\n",
       "      <td>6</td>\n",
       "      <td>3241426</td>\n",
       "      <td>1050068 2059240 3241426 2033381 1724779 127131...</td>\n",
       "      <td>1050068 2059240 3241426</td>\n",
       "    </tr>\n",
       "    <tr>\n",
       "      <th>1</th>\n",
       "      <td>00Y1Z24X8084</td>\n",
       "      <td>26b6d294d66e7</td>\n",
       "      <td>1541651766</td>\n",
       "      <td>1</td>\n",
       "      <td>3843244</td>\n",
       "      <td>2714480 4476010 3843244 3833012 9017890 198100...</td>\n",
       "      <td>NaN</td>\n",
       "    </tr>\n",
       "    <tr>\n",
       "      <th>2</th>\n",
       "      <td>01V3WDTDM5CU</td>\n",
       "      <td>07628a0f5be0b</td>\n",
       "      <td>1541575516</td>\n",
       "      <td>4</td>\n",
       "      <td>2817590</td>\n",
       "      <td>2817590 3565720 2947584 4115018 2039671 383653...</td>\n",
       "      <td>2817590</td>\n",
       "    </tr>\n",
       "  </tbody>\n",
       "</table>\n",
       "</div>"
      ],
      "text/plain": [
       "        user_id     session_id   timestamp  step reference  \\\n",
       "0  004A07DM0IDW  1d688ec168932  1541555792     6   3241426   \n",
       "1  00Y1Z24X8084  26b6d294d66e7  1541651766     1   3843244   \n",
       "2  01V3WDTDM5CU  07628a0f5be0b  1541575516     4   2817590   \n",
       "\n",
       "                                         impressions         ref_count_sorted  \n",
       "0  1050068 2059240 3241426 2033381 1724779 127131...  1050068 2059240 3241426  \n",
       "1  2714480 4476010 3843244 3833012 9017890 198100...                      NaN  \n",
       "2  2817590 3565720 2947584 4115018 2039671 383653...                  2817590  "
      ]
     },
     "execution_count": 229,
     "metadata": {},
     "output_type": "execute_result"
    }
   ],
   "source": [
    "new_submission.head(3)"
   ]
  },
  {
   "cell_type": "code",
   "execution_count": 230,
   "metadata": {},
   "outputs": [],
   "source": [
    "#new_submission.to_csv(path + 'new_submission_baseline.csv', index = False)"
   ]
  }
 ],
 "metadata": {
  "kernelspec": {
   "display_name": "Python 3",
   "language": "python",
   "name": "python3"
  },
  "language_info": {
   "codemirror_mode": {
    "name": "ipython",
    "version": 3
   },
   "file_extension": ".py",
   "mimetype": "text/x-python",
   "name": "python",
   "nbconvert_exporter": "python",
   "pygments_lexer": "ipython3",
   "version": "3.5.2"
  }
 },
 "nbformat": 4,
 "nbformat_minor": 2
}
