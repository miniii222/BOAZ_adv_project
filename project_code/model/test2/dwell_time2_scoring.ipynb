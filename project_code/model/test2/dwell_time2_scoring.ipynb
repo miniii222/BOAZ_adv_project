{
 "cells": [
  {
   "cell_type": "code",
   "execution_count": 1,
   "metadata": {},
   "outputs": [
    {
     "data": {
      "text/plain": [
       "['df_ref2_session.csv',\n",
       " 'new_submission_dwell_time.csv',\n",
       " 'new_submission_baseline.csv',\n",
       " 'df_ref.csv',\n",
       " 'df_dwell_time_session.csv',\n",
       " 'ref_count2_baselineOnly_pred.csv',\n",
       " 'train.csv',\n",
       " 'df_ref2.csv',\n",
       " 'submission_popular.csv',\n",
       " 'item_metadata.csv',\n",
       " 'df_full_except_noinfo.csv',\n",
       " 'test.csv',\n",
       " 'new_submission.csv',\n",
       " 'dwell_df.csv',\n",
       " 'baseline_sorting.csv',\n",
       " 'dwell_time_agg.csv',\n",
       " 'test2.csv']"
      ]
     },
     "execution_count": 1,
     "metadata": {},
     "output_type": "execute_result"
    }
   ],
   "source": [
    "import pandas as pd\n",
    "import numpy as np\n",
    "import os\n",
    "\n",
    "os.listdir('../input')"
   ]
  },
  {
   "cell_type": "code",
   "execution_count": 2,
   "metadata": {},
   "outputs": [],
   "source": [
    "path = '../input/'"
   ]
  },
  {
   "cell_type": "code",
   "execution_count": 3,
   "metadata": {},
   "outputs": [],
   "source": [
    "df = pd.read_csv(path + 'df_full_except_noinfo.csv')"
   ]
  },
  {
   "cell_type": "code",
   "execution_count": 4,
   "metadata": {},
   "outputs": [],
   "source": [
    "def only_number(string):\n",
    "    \"\"\"reference에서 숫자인 것만 뽑아 int type으로 변환\"\"\"\n",
    "    try:\n",
    "        int(string)\n",
    "        return string\n",
    "    except ValueError:\n",
    "        return np.nan\n",
    "    \n",
    "df.reference = df.reference.apply(only_number)"
   ]
  },
  {
   "cell_type": "code",
   "execution_count": 5,
   "metadata": {},
   "outputs": [],
   "source": [
    "df.reset_index(drop = True, inplace = True)"
   ]
  },
  {
   "cell_type": "code",
   "execution_count": 6,
   "metadata": {},
   "outputs": [],
   "source": [
    "ref_list = list(df.reference.values)\n",
    "first_index = [i for i, r in enumerate(ref_list) if ref_list[i-1] != ref_list[i]]"
   ]
  },
  {
   "cell_type": "code",
   "execution_count": 7,
   "metadata": {},
   "outputs": [],
   "source": [
    "dwell_df = pd.DataFrame(columns = ['user_id','session_id','reference','dwell_time'])\n",
    "dwell_df['user_id'] = df.loc[first_index, 'user_id']\n",
    "dwell_df['session_id'] = df.loc[first_index, 'session_id']\n",
    "dwell_df['reference'] = df.loc[first_index, 'reference']\n",
    "dwell_df.reset_index(drop = True, inplace = True)\n",
    "\n",
    "first_time = df.loc[first_index, 'timestamp']\n",
    "first_time = pd.to_datetime(first_time, unit = 's')\n",
    "first_time.reset_index(drop = True, inplace = True)\n",
    "\n",
    "last_time = pd.Series(np.roll(first_time,-1))\n",
    "\n",
    "dwell_df['dwell_time'] = (last_time - first_time).astype('timedelta64[s]')"
   ]
  },
  {
   "cell_type": "code",
   "execution_count": 8,
   "metadata": {},
   "outputs": [
    {
     "data": {
      "text/html": [
       "<div>\n",
       "<style scoped>\n",
       "    .dataframe tbody tr th:only-of-type {\n",
       "        vertical-align: middle;\n",
       "    }\n",
       "\n",
       "    .dataframe tbody tr th {\n",
       "        vertical-align: top;\n",
       "    }\n",
       "\n",
       "    .dataframe thead th {\n",
       "        text-align: right;\n",
       "    }\n",
       "</style>\n",
       "<table border=\"1\" class=\"dataframe\">\n",
       "  <thead>\n",
       "    <tr style=\"text-align: right;\">\n",
       "      <th></th>\n",
       "      <th>user_id</th>\n",
       "      <th>session_id</th>\n",
       "      <th>reference</th>\n",
       "      <th>dwell_time</th>\n",
       "    </tr>\n",
       "  </thead>\n",
       "  <tbody>\n",
       "    <tr>\n",
       "      <th>0</th>\n",
       "      <td>00RL8Z82B2Z1</td>\n",
       "      <td>aff3928535f48</td>\n",
       "      <td>NaN</td>\n",
       "      <td>62.0</td>\n",
       "    </tr>\n",
       "    <tr>\n",
       "      <th>1</th>\n",
       "      <td>00RL8Z82B2Z1</td>\n",
       "      <td>aff3928535f48</td>\n",
       "      <td>666856</td>\n",
       "      <td>10.0</td>\n",
       "    </tr>\n",
       "    <tr>\n",
       "      <th>2</th>\n",
       "      <td>00RL8Z82B2Z1</td>\n",
       "      <td>aff3928535f48</td>\n",
       "      <td>109038</td>\n",
       "      <td>0.0</td>\n",
       "    </tr>\n",
       "    <tr>\n",
       "      <th>3</th>\n",
       "      <td>00RL8Z82B2Z1</td>\n",
       "      <td>aff3928535f48</td>\n",
       "      <td>666856</td>\n",
       "      <td>0.0</td>\n",
       "    </tr>\n",
       "    <tr>\n",
       "      <th>4</th>\n",
       "      <td>00RL8Z82B2Z1</td>\n",
       "      <td>aff3928535f48</td>\n",
       "      <td>109038</td>\n",
       "      <td>0.0</td>\n",
       "    </tr>\n",
       "  </tbody>\n",
       "</table>\n",
       "</div>"
      ],
      "text/plain": [
       "        user_id     session_id reference  dwell_time\n",
       "0  00RL8Z82B2Z1  aff3928535f48       NaN        62.0\n",
       "1  00RL8Z82B2Z1  aff3928535f48    666856        10.0\n",
       "2  00RL8Z82B2Z1  aff3928535f48    109038         0.0\n",
       "3  00RL8Z82B2Z1  aff3928535f48    666856         0.0\n",
       "4  00RL8Z82B2Z1  aff3928535f48    109038         0.0"
      ]
     },
     "execution_count": 8,
     "metadata": {},
     "output_type": "execute_result"
    }
   ],
   "source": [
    "dwell_df.head()"
   ]
  },
  {
   "cell_type": "code",
   "execution_count": 9,
   "metadata": {},
   "outputs": [
    {
     "data": {
      "text/plain": [
       "(2249506, 4)"
      ]
     },
     "execution_count": 9,
     "metadata": {},
     "output_type": "execute_result"
    }
   ],
   "source": [
    "dwell_df.dropna(inplace = True)\n",
    "dwell_df = dwell_df[dwell_df.dwell_time>0]\n",
    "dwell_df.shape"
   ]
  },
  {
   "cell_type": "code",
   "execution_count": 10,
   "metadata": {},
   "outputs": [],
   "source": [
    "dwell_df.dwell_time = dwell_df.dwell_time.apply(int)"
   ]
  },
  {
   "cell_type": "code",
   "execution_count": 14,
   "metadata": {},
   "outputs": [
    {
     "data": {
      "text/html": [
       "<div>\n",
       "<style scoped>\n",
       "    .dataframe tbody tr th:only-of-type {\n",
       "        vertical-align: middle;\n",
       "    }\n",
       "\n",
       "    .dataframe tbody tr th {\n",
       "        vertical-align: top;\n",
       "    }\n",
       "\n",
       "    .dataframe thead th {\n",
       "        text-align: right;\n",
       "    }\n",
       "</style>\n",
       "<table border=\"1\" class=\"dataframe\">\n",
       "  <thead>\n",
       "    <tr style=\"text-align: right;\">\n",
       "      <th></th>\n",
       "      <th>session_id</th>\n",
       "      <th>reference</th>\n",
       "      <th>dwell_time</th>\n",
       "    </tr>\n",
       "  </thead>\n",
       "  <tbody>\n",
       "    <tr>\n",
       "      <th>0</th>\n",
       "      <td>000056cd97ce2</td>\n",
       "      <td>2784325</td>\n",
       "      <td>28</td>\n",
       "    </tr>\n",
       "    <tr>\n",
       "      <th>1</th>\n",
       "      <td>000056cd97ce2</td>\n",
       "      <td>3811810</td>\n",
       "      <td>23559</td>\n",
       "    </tr>\n",
       "    <tr>\n",
       "      <th>2</th>\n",
       "      <td>00008c1f39c46</td>\n",
       "      <td>3501822</td>\n",
       "      <td>41422</td>\n",
       "    </tr>\n",
       "  </tbody>\n",
       "</table>\n",
       "</div>"
      ],
      "text/plain": [
       "      session_id reference  dwell_time\n",
       "0  000056cd97ce2   2784325          28\n",
       "1  000056cd97ce2   3811810       23559\n",
       "2  00008c1f39c46   3501822       41422"
      ]
     },
     "execution_count": 14,
     "metadata": {},
     "output_type": "execute_result"
    }
   ],
   "source": [
    "dwell_df = dwell_df.groupby(['session_id', 'reference'])['dwell_time'].sum().to_frame().reset_index()\n",
    "dwell_df.head(3)"
   ]
  },
  {
   "cell_type": "code",
   "execution_count": 23,
   "metadata": {},
   "outputs": [],
   "source": [
    "dwell_df = dwell_df.groupby('session_id').apply(lambda x : x.sort_values(['dwell_time'], ascending = False)).reset_index(drop = True)"
   ]
  },
  {
   "cell_type": "code",
   "execution_count": 26,
   "metadata": {},
   "outputs": [],
   "source": [
    "#dwell_df.to_csv(path + 'df_dwell_time_session.csv', index = False)"
   ]
  },
  {
   "cell_type": "markdown",
   "metadata": {},
   "source": [
    "# sort by dwell time"
   ]
  },
  {
   "cell_type": "code",
   "execution_count": 27,
   "metadata": {},
   "outputs": [
    {
     "data": {
      "text/html": [
       "<div>\n",
       "<style scoped>\n",
       "    .dataframe tbody tr th:only-of-type {\n",
       "        vertical-align: middle;\n",
       "    }\n",
       "\n",
       "    .dataframe tbody tr th {\n",
       "        vertical-align: top;\n",
       "    }\n",
       "\n",
       "    .dataframe thead th {\n",
       "        text-align: right;\n",
       "    }\n",
       "</style>\n",
       "<table border=\"1\" class=\"dataframe\">\n",
       "  <thead>\n",
       "    <tr style=\"text-align: right;\">\n",
       "      <th></th>\n",
       "      <th>user_id</th>\n",
       "      <th>session_id</th>\n",
       "      <th>timestamp</th>\n",
       "      <th>step</th>\n",
       "      <th>reference</th>\n",
       "      <th>impressions</th>\n",
       "    </tr>\n",
       "  </thead>\n",
       "  <tbody>\n",
       "    <tr>\n",
       "      <th>0</th>\n",
       "      <td>004A07DM0IDW</td>\n",
       "      <td>1d688ec168932</td>\n",
       "      <td>1541555792</td>\n",
       "      <td>6</td>\n",
       "      <td>3241426</td>\n",
       "      <td>[2059240, 2033381, 1724779, 127131, 399441, 10...</td>\n",
       "    </tr>\n",
       "    <tr>\n",
       "      <th>1</th>\n",
       "      <td>00Y1Z24X8084</td>\n",
       "      <td>26b6d294d66e7</td>\n",
       "      <td>1541651766</td>\n",
       "      <td>1</td>\n",
       "      <td>3843244</td>\n",
       "      <td>[2714480, 4476010, 3843244, 3833012, 9017890, ...</td>\n",
       "    </tr>\n",
       "    <tr>\n",
       "      <th>2</th>\n",
       "      <td>01V3WDTDM5CU</td>\n",
       "      <td>07628a0f5be0b</td>\n",
       "      <td>1541575516</td>\n",
       "      <td>4</td>\n",
       "      <td>2817590</td>\n",
       "      <td>[3565720, 2947584, 4115018, 2039671, 3836538, ...</td>\n",
       "    </tr>\n",
       "  </tbody>\n",
       "</table>\n",
       "</div>"
      ],
      "text/plain": [
       "        user_id     session_id   timestamp  step  reference  \\\n",
       "0  004A07DM0IDW  1d688ec168932  1541555792     6    3241426   \n",
       "1  00Y1Z24X8084  26b6d294d66e7  1541651766     1    3843244   \n",
       "2  01V3WDTDM5CU  07628a0f5be0b  1541575516     4    2817590   \n",
       "\n",
       "                                         impressions  \n",
       "0  [2059240, 2033381, 1724779, 127131, 399441, 10...  \n",
       "1  [2714480, 4476010, 3843244, 3833012, 9017890, ...  \n",
       "2  [3565720, 2947584, 4115018, 2039671, 3836538, ...  "
      ]
     },
     "execution_count": 27,
     "metadata": {},
     "output_type": "execute_result"
    }
   ],
   "source": [
    "new_submission = pd.read_csv(path + 'new_submission.csv')\n",
    "new_submission['impressions'] = new_submission['impressions'].apply(lambda x : x.split('|'))\n",
    "new_submission.head(3)"
   ]
  },
  {
   "cell_type": "code",
   "execution_count": 29,
   "metadata": {},
   "outputs": [
    {
     "data": {
      "text/html": [
       "<div>\n",
       "<style scoped>\n",
       "    .dataframe tbody tr th:only-of-type {\n",
       "        vertical-align: middle;\n",
       "    }\n",
       "\n",
       "    .dataframe tbody tr th {\n",
       "        vertical-align: top;\n",
       "    }\n",
       "\n",
       "    .dataframe thead th {\n",
       "        text-align: right;\n",
       "    }\n",
       "</style>\n",
       "<table border=\"1\" class=\"dataframe\">\n",
       "  <thead>\n",
       "    <tr style=\"text-align: right;\">\n",
       "      <th></th>\n",
       "      <th>session_id</th>\n",
       "      <th>reference</th>\n",
       "    </tr>\n",
       "  </thead>\n",
       "  <tbody>\n",
       "    <tr>\n",
       "      <th>6</th>\n",
       "      <td>0000e0500c2e7</td>\n",
       "      <td>9387530 3844380</td>\n",
       "    </tr>\n",
       "    <tr>\n",
       "      <th>10</th>\n",
       "      <td>000177b850519</td>\n",
       "      <td>17011 17266</td>\n",
       "    </tr>\n",
       "    <tr>\n",
       "      <th>11</th>\n",
       "      <td>00017b3b2c136</td>\n",
       "      <td>6698142 6298194</td>\n",
       "    </tr>\n",
       "    <tr>\n",
       "      <th>24</th>\n",
       "      <td>000246890bfc6</td>\n",
       "      <td>386136 98916 98934 98938 98935</td>\n",
       "    </tr>\n",
       "    <tr>\n",
       "      <th>35</th>\n",
       "      <td>000338c4794e8</td>\n",
       "      <td>5574632</td>\n",
       "    </tr>\n",
       "  </tbody>\n",
       "</table>\n",
       "</div>"
      ],
      "text/plain": [
       "       session_id                       reference\n",
       "6   0000e0500c2e7                 9387530 3844380\n",
       "10  000177b850519                     17011 17266\n",
       "11  00017b3b2c136                 6698142 6298194\n",
       "24  000246890bfc6  386136 98916 98934 98938 98935\n",
       "35  000338c4794e8                         5574632"
      ]
     },
     "execution_count": 29,
     "metadata": {},
     "output_type": "execute_result"
    }
   ],
   "source": [
    "dwell_time_sort = dwell_df.groupby('session_id')['reference'].apply(lambda x : ' '.join(x)).to_frame().reset_index()\n",
    "dwell_time_sort = dwell_time_sort[dwell_time_sort.session_id.isin(new_submission.session_id)]\n",
    "dwell_time_sort.head()"
   ]
  },
  {
   "cell_type": "code",
   "execution_count": 30,
   "metadata": {},
   "outputs": [
    {
     "data": {
      "text/html": [
       "<div>\n",
       "<style scoped>\n",
       "    .dataframe tbody tr th:only-of-type {\n",
       "        vertical-align: middle;\n",
       "    }\n",
       "\n",
       "    .dataframe tbody tr th {\n",
       "        vertical-align: top;\n",
       "    }\n",
       "\n",
       "    .dataframe thead th {\n",
       "        text-align: right;\n",
       "    }\n",
       "</style>\n",
       "<table border=\"1\" class=\"dataframe\">\n",
       "  <thead>\n",
       "    <tr style=\"text-align: right;\">\n",
       "      <th></th>\n",
       "      <th>session_id</th>\n",
       "      <th>dwell_time_sort_sorted</th>\n",
       "    </tr>\n",
       "  </thead>\n",
       "  <tbody>\n",
       "    <tr>\n",
       "      <th>6</th>\n",
       "      <td>0000e0500c2e7</td>\n",
       "      <td>[9387530, 3844380]</td>\n",
       "    </tr>\n",
       "    <tr>\n",
       "      <th>10</th>\n",
       "      <td>000177b850519</td>\n",
       "      <td>[17011, 17266]</td>\n",
       "    </tr>\n",
       "    <tr>\n",
       "      <th>11</th>\n",
       "      <td>00017b3b2c136</td>\n",
       "      <td>[6698142, 6298194]</td>\n",
       "    </tr>\n",
       "  </tbody>\n",
       "</table>\n",
       "</div>"
      ],
      "text/plain": [
       "       session_id dwell_time_sort_sorted\n",
       "6   0000e0500c2e7     [9387530, 3844380]\n",
       "10  000177b850519         [17011, 17266]\n",
       "11  00017b3b2c136     [6698142, 6298194]"
      ]
     },
     "execution_count": 30,
     "metadata": {},
     "output_type": "execute_result"
    }
   ],
   "source": [
    "dwell_time_sort.reference = dwell_time_sort.reference.apply(lambda x : x.split(' '))\n",
    "dwell_time_sort.rename(columns = {'reference' : 'dwell_time_sort_sorted'}, inplace = True)\n",
    "dwell_time_sort.head(3)"
   ]
  },
  {
   "cell_type": "code",
   "execution_count": 31,
   "metadata": {},
   "outputs": [],
   "source": [
    "new_submission = pd.merge(new_submission, dwell_time_sort, on = ['session_id'], how = 'left')"
   ]
  },
  {
   "cell_type": "code",
   "execution_count": 32,
   "metadata": {},
   "outputs": [],
   "source": [
    "def sort_dwell(imp, ref) :\n",
    "    my = []\n",
    "    for rr in ref :\n",
    "        if rr in imp :\n",
    "            my.append(rr)\n",
    "            imp.remove(rr)\n",
    "    imp = my + imp\n",
    "    return imp"
   ]
  },
  {
   "cell_type": "code",
   "execution_count": 33,
   "metadata": {},
   "outputs": [],
   "source": [
    "#apply \n",
    "apply_index = new_submission[new_submission.session_id.isin(dwell_time_sort.session_id)].index\n",
    "new_submission.loc[apply_index, 'impressions'] = new_submission.loc[apply_index].apply(lambda x : sort_dwell(x['impressions'], x['dwell_time_sort_sorted']), axis = 1)"
   ]
  },
  {
   "cell_type": "code",
   "execution_count": 34,
   "metadata": {},
   "outputs": [],
   "source": [
    "def mrr(answer, imp) :\n",
    "    myscore = 0\n",
    "    \n",
    "    for i,j in zip(answer, imp) :\n",
    "        if i in j :\n",
    "            myscore += 1/(j.index(i) + 1)\n",
    "    print(myscore / len(imp))"
   ]
  },
  {
   "cell_type": "code",
   "execution_count": 35,
   "metadata": {},
   "outputs": [
    {
     "name": "stdout",
     "output_type": "stream",
     "text": [
      "0.7136369290876735\n"
     ]
    }
   ],
   "source": [
    "new_submission.reference = new_submission.reference.apply(str)\n",
    "mrr(new_submission['reference'], new_submission['impressions'])"
   ]
  },
  {
   "cell_type": "code",
   "execution_count": 37,
   "metadata": {},
   "outputs": [
    {
     "data": {
      "text/html": [
       "<div>\n",
       "<style scoped>\n",
       "    .dataframe tbody tr th:only-of-type {\n",
       "        vertical-align: middle;\n",
       "    }\n",
       "\n",
       "    .dataframe tbody tr th {\n",
       "        vertical-align: top;\n",
       "    }\n",
       "\n",
       "    .dataframe thead th {\n",
       "        text-align: right;\n",
       "    }\n",
       "</style>\n",
       "<table border=\"1\" class=\"dataframe\">\n",
       "  <thead>\n",
       "    <tr style=\"text-align: right;\">\n",
       "      <th></th>\n",
       "      <th>user_id</th>\n",
       "      <th>session_id</th>\n",
       "      <th>timestamp</th>\n",
       "      <th>step</th>\n",
       "      <th>reference</th>\n",
       "      <th>impressions</th>\n",
       "      <th>dwell_time_sort_sorted</th>\n",
       "    </tr>\n",
       "  </thead>\n",
       "  <tbody>\n",
       "    <tr>\n",
       "      <th>0</th>\n",
       "      <td>004A07DM0IDW</td>\n",
       "      <td>1d688ec168932</td>\n",
       "      <td>1541555792</td>\n",
       "      <td>6</td>\n",
       "      <td>3241426</td>\n",
       "      <td>[3241426, 1050068, 2059240, 2033381, 1724779, ...</td>\n",
       "      <td>[3241426, 1050068, 2059240]</td>\n",
       "    </tr>\n",
       "    <tr>\n",
       "      <th>1</th>\n",
       "      <td>00Y1Z24X8084</td>\n",
       "      <td>26b6d294d66e7</td>\n",
       "      <td>1541651766</td>\n",
       "      <td>1</td>\n",
       "      <td>3843244</td>\n",
       "      <td>[2714480, 4476010, 3843244, 3833012, 9017890, ...</td>\n",
       "      <td>NaN</td>\n",
       "    </tr>\n",
       "    <tr>\n",
       "      <th>2</th>\n",
       "      <td>01V3WDTDM5CU</td>\n",
       "      <td>07628a0f5be0b</td>\n",
       "      <td>1541575516</td>\n",
       "      <td>4</td>\n",
       "      <td>2817590</td>\n",
       "      <td>[2817590, 3565720, 2947584, 4115018, 2039671, ...</td>\n",
       "      <td>[2817590]</td>\n",
       "    </tr>\n",
       "  </tbody>\n",
       "</table>\n",
       "</div>"
      ],
      "text/plain": [
       "        user_id     session_id   timestamp  step reference  \\\n",
       "0  004A07DM0IDW  1d688ec168932  1541555792     6   3241426   \n",
       "1  00Y1Z24X8084  26b6d294d66e7  1541651766     1   3843244   \n",
       "2  01V3WDTDM5CU  07628a0f5be0b  1541575516     4   2817590   \n",
       "\n",
       "                                         impressions  \\\n",
       "0  [3241426, 1050068, 2059240, 2033381, 1724779, ...   \n",
       "1  [2714480, 4476010, 3843244, 3833012, 9017890, ...   \n",
       "2  [2817590, 3565720, 2947584, 4115018, 2039671, ...   \n",
       "\n",
       "        dwell_time_sort_sorted  \n",
       "0  [3241426, 1050068, 2059240]  \n",
       "1                          NaN  \n",
       "2                    [2817590]  "
      ]
     },
     "execution_count": 37,
     "metadata": {},
     "output_type": "execute_result"
    }
   ],
   "source": [
    "new_submission.head(3)"
   ]
  },
  {
   "cell_type": "code",
   "execution_count": 38,
   "metadata": {},
   "outputs": [
    {
     "data": {
      "text/html": [
       "<div>\n",
       "<style scoped>\n",
       "    .dataframe tbody tr th:only-of-type {\n",
       "        vertical-align: middle;\n",
       "    }\n",
       "\n",
       "    .dataframe tbody tr th {\n",
       "        vertical-align: top;\n",
       "    }\n",
       "\n",
       "    .dataframe thead th {\n",
       "        text-align: right;\n",
       "    }\n",
       "</style>\n",
       "<table border=\"1\" class=\"dataframe\">\n",
       "  <thead>\n",
       "    <tr style=\"text-align: right;\">\n",
       "      <th></th>\n",
       "      <th>user_id</th>\n",
       "      <th>session_id</th>\n",
       "      <th>timestamp</th>\n",
       "      <th>step</th>\n",
       "      <th>reference</th>\n",
       "      <th>impressions</th>\n",
       "      <th>dwell_time_sort_sorted</th>\n",
       "    </tr>\n",
       "  </thead>\n",
       "  <tbody>\n",
       "    <tr>\n",
       "      <th>0</th>\n",
       "      <td>004A07DM0IDW</td>\n",
       "      <td>1d688ec168932</td>\n",
       "      <td>1541555792</td>\n",
       "      <td>6</td>\n",
       "      <td>3241426</td>\n",
       "      <td>3241426 1050068 2059240 2033381 1724779 127131...</td>\n",
       "      <td>3241426 1050068 2059240</td>\n",
       "    </tr>\n",
       "    <tr>\n",
       "      <th>1</th>\n",
       "      <td>00Y1Z24X8084</td>\n",
       "      <td>26b6d294d66e7</td>\n",
       "      <td>1541651766</td>\n",
       "      <td>1</td>\n",
       "      <td>3843244</td>\n",
       "      <td>2714480 4476010 3843244 3833012 9017890 198100...</td>\n",
       "      <td>NaN</td>\n",
       "    </tr>\n",
       "    <tr>\n",
       "      <th>2</th>\n",
       "      <td>01V3WDTDM5CU</td>\n",
       "      <td>07628a0f5be0b</td>\n",
       "      <td>1541575516</td>\n",
       "      <td>4</td>\n",
       "      <td>2817590</td>\n",
       "      <td>2817590 3565720 2947584 4115018 2039671 383653...</td>\n",
       "      <td>2817590</td>\n",
       "    </tr>\n",
       "  </tbody>\n",
       "</table>\n",
       "</div>"
      ],
      "text/plain": [
       "        user_id     session_id   timestamp  step reference  \\\n",
       "0  004A07DM0IDW  1d688ec168932  1541555792     6   3241426   \n",
       "1  00Y1Z24X8084  26b6d294d66e7  1541651766     1   3843244   \n",
       "2  01V3WDTDM5CU  07628a0f5be0b  1541575516     4   2817590   \n",
       "\n",
       "                                         impressions   dwell_time_sort_sorted  \n",
       "0  3241426 1050068 2059240 2033381 1724779 127131...  3241426 1050068 2059240  \n",
       "1  2714480 4476010 3843244 3833012 9017890 198100...                      NaN  \n",
       "2  2817590 3565720 2947584 4115018 2039671 383653...                  2817590  "
      ]
     },
     "execution_count": 38,
     "metadata": {},
     "output_type": "execute_result"
    }
   ],
   "source": [
    "new_submission.impressions = new_submission.impressions.apply(lambda x : ' '.join(x))\n",
    "ind = new_submission.loc[~new_submission.dwell_time_sort_sorted.isnull()].index\n",
    "new_submission.loc[ind, 'dwell_time_sort_sorted'] = new_submission.loc[ind]['dwell_time_sort_sorted'].apply(lambda x : ' '.join(x))\n",
    "new_submission.head(3)"
   ]
  },
  {
   "cell_type": "code",
   "execution_count": 39,
   "metadata": {},
   "outputs": [],
   "source": [
    "#new_submission.to_csv(path + 'new_submission_dwell_time.csv', index = False)"
   ]
  },
  {
   "cell_type": "markdown",
   "metadata": {},
   "source": [
    "# baseline(ref count) + dwell_time"
   ]
  },
  {
   "cell_type": "code",
   "execution_count": 40,
   "metadata": {},
   "outputs": [
    {
     "data": {
      "text/html": [
       "<div>\n",
       "<style scoped>\n",
       "    .dataframe tbody tr th:only-of-type {\n",
       "        vertical-align: middle;\n",
       "    }\n",
       "\n",
       "    .dataframe tbody tr th {\n",
       "        vertical-align: top;\n",
       "    }\n",
       "\n",
       "    .dataframe thead th {\n",
       "        text-align: right;\n",
       "    }\n",
       "</style>\n",
       "<table border=\"1\" class=\"dataframe\">\n",
       "  <thead>\n",
       "    <tr style=\"text-align: right;\">\n",
       "      <th></th>\n",
       "      <th>user_id</th>\n",
       "      <th>session_id</th>\n",
       "      <th>timestamp</th>\n",
       "      <th>step</th>\n",
       "      <th>reference</th>\n",
       "      <th>dwell_time_sort_sorted</th>\n",
       "    </tr>\n",
       "  </thead>\n",
       "  <tbody>\n",
       "    <tr>\n",
       "      <th>0</th>\n",
       "      <td>004A07DM0IDW</td>\n",
       "      <td>1d688ec168932</td>\n",
       "      <td>1541555792</td>\n",
       "      <td>6</td>\n",
       "      <td>3241426</td>\n",
       "      <td>[3241426, 1050068, 2059240]</td>\n",
       "    </tr>\n",
       "    <tr>\n",
       "      <th>1</th>\n",
       "      <td>00Y1Z24X8084</td>\n",
       "      <td>26b6d294d66e7</td>\n",
       "      <td>1541651766</td>\n",
       "      <td>1</td>\n",
       "      <td>3843244</td>\n",
       "      <td>NaN</td>\n",
       "    </tr>\n",
       "    <tr>\n",
       "      <th>2</th>\n",
       "      <td>01V3WDTDM5CU</td>\n",
       "      <td>07628a0f5be0b</td>\n",
       "      <td>1541575516</td>\n",
       "      <td>4</td>\n",
       "      <td>2817590</td>\n",
       "      <td>[2817590]</td>\n",
       "    </tr>\n",
       "  </tbody>\n",
       "</table>\n",
       "</div>"
      ],
      "text/plain": [
       "        user_id     session_id   timestamp  step  reference  \\\n",
       "0  004A07DM0IDW  1d688ec168932  1541555792     6    3241426   \n",
       "1  00Y1Z24X8084  26b6d294d66e7  1541651766     1    3843244   \n",
       "2  01V3WDTDM5CU  07628a0f5be0b  1541575516     4    2817590   \n",
       "\n",
       "        dwell_time_sort_sorted  \n",
       "0  [3241426, 1050068, 2059240]  \n",
       "1                          NaN  \n",
       "2                    [2817590]  "
      ]
     },
     "execution_count": 40,
     "metadata": {},
     "output_type": "execute_result"
    }
   ],
   "source": [
    "dwell_sorted = pd.read_csv(path + 'new_submission_dwell_time.csv')\n",
    "dwell_sorted.drop('impressions', axis = 1, inplace = True)\n",
    "idx = ~dwell_sorted.dwell_time_sort_sorted.isnull()\n",
    "dwell_sorted.loc[idx, 'dwell_time_sort_sorted'] = dwell_sorted.loc[idx, 'dwell_time_sort_sorted'].apply(lambda x : x.split(' '))\n",
    "dwell_sorted.head(3)"
   ]
  },
  {
   "cell_type": "code",
   "execution_count": 42,
   "metadata": {},
   "outputs": [
    {
     "data": {
      "text/html": [
       "<div>\n",
       "<style scoped>\n",
       "    .dataframe tbody tr th:only-of-type {\n",
       "        vertical-align: middle;\n",
       "    }\n",
       "\n",
       "    .dataframe tbody tr th {\n",
       "        vertical-align: top;\n",
       "    }\n",
       "\n",
       "    .dataframe thead th {\n",
       "        text-align: right;\n",
       "    }\n",
       "</style>\n",
       "<table border=\"1\" class=\"dataframe\">\n",
       "  <thead>\n",
       "    <tr style=\"text-align: right;\">\n",
       "      <th></th>\n",
       "      <th>user_id</th>\n",
       "      <th>session_id</th>\n",
       "      <th>timestamp</th>\n",
       "      <th>step</th>\n",
       "      <th>reference</th>\n",
       "      <th>impressions</th>\n",
       "      <th>ref_count_sorted</th>\n",
       "    </tr>\n",
       "  </thead>\n",
       "  <tbody>\n",
       "    <tr>\n",
       "      <th>0</th>\n",
       "      <td>004A07DM0IDW</td>\n",
       "      <td>1d688ec168932</td>\n",
       "      <td>1541555792</td>\n",
       "      <td>6</td>\n",
       "      <td>3241426</td>\n",
       "      <td>[1050068, 2059240, 3241426, 2033381, 1724779, ...</td>\n",
       "      <td>[1050068, 2059240, 3241426]</td>\n",
       "    </tr>\n",
       "    <tr>\n",
       "      <th>1</th>\n",
       "      <td>00Y1Z24X8084</td>\n",
       "      <td>26b6d294d66e7</td>\n",
       "      <td>1541651766</td>\n",
       "      <td>1</td>\n",
       "      <td>3843244</td>\n",
       "      <td>[2714480, 4476010, 3843244, 3833012, 9017890, ...</td>\n",
       "      <td>NaN</td>\n",
       "    </tr>\n",
       "    <tr>\n",
       "      <th>2</th>\n",
       "      <td>01V3WDTDM5CU</td>\n",
       "      <td>07628a0f5be0b</td>\n",
       "      <td>1541575516</td>\n",
       "      <td>4</td>\n",
       "      <td>2817590</td>\n",
       "      <td>[2817590, 3565720, 2947584, 4115018, 2039671, ...</td>\n",
       "      <td>[2817590]</td>\n",
       "    </tr>\n",
       "  </tbody>\n",
       "</table>\n",
       "</div>"
      ],
      "text/plain": [
       "        user_id     session_id   timestamp  step  reference  \\\n",
       "0  004A07DM0IDW  1d688ec168932  1541555792     6    3241426   \n",
       "1  00Y1Z24X8084  26b6d294d66e7  1541651766     1    3843244   \n",
       "2  01V3WDTDM5CU  07628a0f5be0b  1541575516     4    2817590   \n",
       "\n",
       "                                         impressions  \\\n",
       "0  [1050068, 2059240, 3241426, 2033381, 1724779, ...   \n",
       "1  [2714480, 4476010, 3843244, 3833012, 9017890, ...   \n",
       "2  [2817590, 3565720, 2947584, 4115018, 2039671, ...   \n",
       "\n",
       "              ref_count_sorted  \n",
       "0  [1050068, 2059240, 3241426]  \n",
       "1                          NaN  \n",
       "2                    [2817590]  "
      ]
     },
     "execution_count": 42,
     "metadata": {},
     "output_type": "execute_result"
    }
   ],
   "source": [
    "baseline = pd.read_csv(path + 'new_submission_baseline.csv')\n",
    "idx = ~baseline.ref_count_sorted.isnull()\n",
    "baseline.impressions = baseline.impressions.apply(lambda x : x.split(' '))\n",
    "baseline.loc[idx, 'ref_count_sorted'] = baseline.loc[idx, 'ref_count_sorted'].apply(lambda x : x.split(' '))\n",
    "baseline.head(3)"
   ]
  },
  {
   "cell_type": "code",
   "execution_count": 43,
   "metadata": {},
   "outputs": [
    {
     "name": "stdout",
     "output_type": "stream",
     "text": [
      "dwell sort shape :  (121526, 6)\n",
      "baseline shape :  (121526, 7)\n"
     ]
    }
   ],
   "source": [
    "print('dwell sort shape : ', dwell_sorted.shape)\n",
    "print('baseline shape : ', baseline.shape)"
   ]
  },
  {
   "cell_type": "code",
   "execution_count": 44,
   "metadata": {},
   "outputs": [
    {
     "data": {
      "text/html": [
       "<div>\n",
       "<style scoped>\n",
       "    .dataframe tbody tr th:only-of-type {\n",
       "        vertical-align: middle;\n",
       "    }\n",
       "\n",
       "    .dataframe tbody tr th {\n",
       "        vertical-align: top;\n",
       "    }\n",
       "\n",
       "    .dataframe thead th {\n",
       "        text-align: right;\n",
       "    }\n",
       "</style>\n",
       "<table border=\"1\" class=\"dataframe\">\n",
       "  <thead>\n",
       "    <tr style=\"text-align: right;\">\n",
       "      <th></th>\n",
       "      <th>user_id</th>\n",
       "      <th>session_id</th>\n",
       "      <th>timestamp</th>\n",
       "      <th>step</th>\n",
       "      <th>reference</th>\n",
       "      <th>impressions</th>\n",
       "      <th>ref_count_sorted</th>\n",
       "      <th>dwell_time_sort_sorted</th>\n",
       "    </tr>\n",
       "  </thead>\n",
       "  <tbody>\n",
       "    <tr>\n",
       "      <th>0</th>\n",
       "      <td>004A07DM0IDW</td>\n",
       "      <td>1d688ec168932</td>\n",
       "      <td>1541555792</td>\n",
       "      <td>6</td>\n",
       "      <td>3241426</td>\n",
       "      <td>[1050068, 2059240, 3241426, 2033381, 1724779, ...</td>\n",
       "      <td>[1050068, 2059240, 3241426]</td>\n",
       "      <td>[3241426, 1050068, 2059240]</td>\n",
       "    </tr>\n",
       "    <tr>\n",
       "      <th>1</th>\n",
       "      <td>00Y1Z24X8084</td>\n",
       "      <td>26b6d294d66e7</td>\n",
       "      <td>1541651766</td>\n",
       "      <td>1</td>\n",
       "      <td>3843244</td>\n",
       "      <td>[2714480, 4476010, 3843244, 3833012, 9017890, ...</td>\n",
       "      <td>NaN</td>\n",
       "      <td>NaN</td>\n",
       "    </tr>\n",
       "    <tr>\n",
       "      <th>2</th>\n",
       "      <td>01V3WDTDM5CU</td>\n",
       "      <td>07628a0f5be0b</td>\n",
       "      <td>1541575516</td>\n",
       "      <td>4</td>\n",
       "      <td>2817590</td>\n",
       "      <td>[2817590, 3565720, 2947584, 4115018, 2039671, ...</td>\n",
       "      <td>[2817590]</td>\n",
       "      <td>[2817590]</td>\n",
       "    </tr>\n",
       "  </tbody>\n",
       "</table>\n",
       "</div>"
      ],
      "text/plain": [
       "        user_id     session_id   timestamp  step  reference  \\\n",
       "0  004A07DM0IDW  1d688ec168932  1541555792     6    3241426   \n",
       "1  00Y1Z24X8084  26b6d294d66e7  1541651766     1    3843244   \n",
       "2  01V3WDTDM5CU  07628a0f5be0b  1541575516     4    2817590   \n",
       "\n",
       "                                         impressions  \\\n",
       "0  [1050068, 2059240, 3241426, 2033381, 1724779, ...   \n",
       "1  [2714480, 4476010, 3843244, 3833012, 9017890, ...   \n",
       "2  [2817590, 3565720, 2947584, 4115018, 2039671, ...   \n",
       "\n",
       "              ref_count_sorted       dwell_time_sort_sorted  \n",
       "0  [1050068, 2059240, 3241426]  [3241426, 1050068, 2059240]  \n",
       "1                          NaN                          NaN  \n",
       "2                    [2817590]                    [2817590]  "
      ]
     },
     "execution_count": 44,
     "metadata": {},
     "output_type": "execute_result"
    }
   ],
   "source": [
    "baseline = pd.merge(baseline, dwell_sorted)\n",
    "baseline.head(3)"
   ]
  },
  {
   "cell_type": "code",
   "execution_count": 45,
   "metadata": {},
   "outputs": [],
   "source": [
    "def sort_again(imp, ref_sorted, iid) :\n",
    "    \n",
    "    if type(ref_sorted)!= list :\n",
    "        return imp\n",
    "    \n",
    "    if type(iid)!= list :\n",
    "        return imp\n",
    "    \n",
    "\n",
    "    i = 0\n",
    "    for ref in ref_sorted :\n",
    "        if ref in imp :\n",
    "            i+=1\n",
    "            if ref in iid :\n",
    "                j = iid.index(ref)\n",
    "                iid = iid[:j] + iid[j+1:]\n",
    "\n",
    "\n",
    "    final_list = imp[:i] + iid + list(set(imp[i:]) - set(iid))\n",
    "    return final_list"
   ]
  },
  {
   "cell_type": "code",
   "execution_count": 46,
   "metadata": {},
   "outputs": [],
   "source": [
    "baseline['sort_again'] = baseline.apply(lambda x : sort_again(x['impressions'], x['ref_count_sorted'], x['dwell_time_sort_sorted']), axis = 1)"
   ]
  },
  {
   "cell_type": "code",
   "execution_count": 47,
   "metadata": {},
   "outputs": [
    {
     "name": "stdout",
     "output_type": "stream",
     "text": [
      "0.7671447170738503\n"
     ]
    }
   ],
   "source": [
    "baseline.reference = baseline.reference.apply(str)\n",
    "mrr(baseline.reference, baseline.sort_again)"
   ]
  }
 ],
 "metadata": {
  "kernelspec": {
   "display_name": "Python 3",
   "language": "python",
   "name": "python3"
  },
  "language_info": {
   "codemirror_mode": {
    "name": "ipython",
    "version": 3
   },
   "file_extension": ".py",
   "mimetype": "text/x-python",
   "name": "python",
   "nbconvert_exporter": "python",
   "pygments_lexer": "ipython3",
   "version": "3.5.2"
  }
 },
 "nbformat": 4,
 "nbformat_minor": 2
}
