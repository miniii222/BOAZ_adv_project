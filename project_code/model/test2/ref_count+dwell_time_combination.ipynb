{
 "cells": [
  {
   "cell_type": "code",
   "execution_count": 1,
   "metadata": {},
   "outputs": [
    {
     "data": {
      "text/plain": [
       "['df_ref2_session.csv',\n",
       " 'new_submission_dwell_time.csv',\n",
       " 'new_submission_baseline.csv',\n",
       " 'df_ref.csv',\n",
       " 'df_dwell_time_session.csv',\n",
       " 'ref_count2_baselineOnly_pred.csv',\n",
       " 'train.csv',\n",
       " 'df_ref2.csv',\n",
       " 'submission_popular.csv',\n",
       " 'item_metadata.csv',\n",
       " 'df_full_except_noinfo.csv',\n",
       " 'test.csv',\n",
       " 'new_submission.csv',\n",
       " 'dwell_df.csv',\n",
       " 'baseline_sorting.csv',\n",
       " 'dwell_time_agg.csv',\n",
       " 'test2.csv']"
      ]
     },
     "execution_count": 1,
     "metadata": {},
     "output_type": "execute_result"
    }
   ],
   "source": [
    "import pandas as pd\n",
    "import numpy as np\n",
    "import os\n",
    "os.listdir('../input')"
   ]
  },
  {
   "cell_type": "code",
   "execution_count": 2,
   "metadata": {},
   "outputs": [],
   "source": [
    "path = '../input/'"
   ]
  },
  {
   "cell_type": "code",
   "execution_count": 15,
   "metadata": {},
   "outputs": [
    {
     "name": "stdout",
     "output_type": "stream",
     "text": [
      "baseline shape :  (121526, 6)\n",
      "ref_count shape :  (2322841, 4)\n",
      "dwell_time shape :  (1943901, 3)\n"
     ]
    }
   ],
   "source": [
    "ref_count_df = pd.read_csv(path + 'df_ref2_session.csv')\n",
    "dwell_time_df = pd.read_csv(path + 'df_dwell_time_session.csv')\n",
    "\n",
    "print('ref_count shape : ', ref_count_df.shape)\n",
    "print('dwell_time shape : ', dwell_time_df.shape)"
   ]
  },
  {
   "cell_type": "markdown",
   "metadata": {},
   "source": [
    "# merge"
   ]
  },
  {
   "cell_type": "code",
   "execution_count": 16,
   "metadata": {},
   "outputs": [
    {
     "data": {
      "text/html": [
       "<div>\n",
       "<style scoped>\n",
       "    .dataframe tbody tr th:only-of-type {\n",
       "        vertical-align: middle;\n",
       "    }\n",
       "\n",
       "    .dataframe tbody tr th {\n",
       "        vertical-align: top;\n",
       "    }\n",
       "\n",
       "    .dataframe thead th {\n",
       "        text-align: right;\n",
       "    }\n",
       "</style>\n",
       "<table border=\"1\" class=\"dataframe\">\n",
       "  <thead>\n",
       "    <tr style=\"text-align: right;\">\n",
       "      <th></th>\n",
       "      <th>user_id</th>\n",
       "      <th>session_id</th>\n",
       "      <th>reference</th>\n",
       "      <th>ref_count</th>\n",
       "    </tr>\n",
       "  </thead>\n",
       "  <tbody>\n",
       "    <tr>\n",
       "      <th>0</th>\n",
       "      <td>0001VQMGUI65</td>\n",
       "      <td>466687f1875ee</td>\n",
       "      <td>3133074</td>\n",
       "      <td>11</td>\n",
       "    </tr>\n",
       "    <tr>\n",
       "      <th>1</th>\n",
       "      <td>0001VQMGUI65</td>\n",
       "      <td>466687f1875ee</td>\n",
       "      <td>2019467</td>\n",
       "      <td>1</td>\n",
       "    </tr>\n",
       "    <tr>\n",
       "      <th>2</th>\n",
       "      <td>0001VQMGUI65</td>\n",
       "      <td>466687f1875ee</td>\n",
       "      <td>4521140</td>\n",
       "      <td>1</td>\n",
       "    </tr>\n",
       "  </tbody>\n",
       "</table>\n",
       "</div>"
      ],
      "text/plain": [
       "        user_id     session_id  reference  ref_count\n",
       "0  0001VQMGUI65  466687f1875ee    3133074         11\n",
       "1  0001VQMGUI65  466687f1875ee    2019467          1\n",
       "2  0001VQMGUI65  466687f1875ee    4521140          1"
      ]
     },
     "execution_count": 16,
     "metadata": {},
     "output_type": "execute_result"
    }
   ],
   "source": [
    "ref_count_df.ref_count = ref_count_df.ref_count.apply(int)\n",
    "ref_count_df.head(3)"
   ]
  },
  {
   "cell_type": "code",
   "execution_count": 5,
   "metadata": {},
   "outputs": [
    {
     "data": {
      "text/html": [
       "<div>\n",
       "<style scoped>\n",
       "    .dataframe tbody tr th:only-of-type {\n",
       "        vertical-align: middle;\n",
       "    }\n",
       "\n",
       "    .dataframe tbody tr th {\n",
       "        vertical-align: top;\n",
       "    }\n",
       "\n",
       "    .dataframe thead th {\n",
       "        text-align: right;\n",
       "    }\n",
       "</style>\n",
       "<table border=\"1\" class=\"dataframe\">\n",
       "  <thead>\n",
       "    <tr style=\"text-align: right;\">\n",
       "      <th></th>\n",
       "      <th>session_id</th>\n",
       "      <th>reference</th>\n",
       "      <th>dwell_time</th>\n",
       "    </tr>\n",
       "  </thead>\n",
       "  <tbody>\n",
       "    <tr>\n",
       "      <th>0</th>\n",
       "      <td>000056cd97ce2</td>\n",
       "      <td>3811810</td>\n",
       "      <td>23559</td>\n",
       "    </tr>\n",
       "    <tr>\n",
       "      <th>1</th>\n",
       "      <td>000056cd97ce2</td>\n",
       "      <td>2784325</td>\n",
       "      <td>28</td>\n",
       "    </tr>\n",
       "    <tr>\n",
       "      <th>2</th>\n",
       "      <td>00008c1f39c46</td>\n",
       "      <td>3501822</td>\n",
       "      <td>41422</td>\n",
       "    </tr>\n",
       "  </tbody>\n",
       "</table>\n",
       "</div>"
      ],
      "text/plain": [
       "      session_id  reference  dwell_time\n",
       "0  000056cd97ce2    3811810       23559\n",
       "1  000056cd97ce2    2784325          28\n",
       "2  00008c1f39c46    3501822       41422"
      ]
     },
     "execution_count": 5,
     "metadata": {},
     "output_type": "execute_result"
    }
   ],
   "source": [
    "dwell_time_df.head(3)"
   ]
  },
  {
   "cell_type": "code",
   "execution_count": 17,
   "metadata": {},
   "outputs": [
    {
     "data": {
      "text/plain": [
       "(1943901, 5)"
      ]
     },
     "execution_count": 17,
     "metadata": {},
     "output_type": "execute_result"
    }
   ],
   "source": [
    "merged = pd.merge(ref_count_df, dwell_time_df)\n",
    "del ref_count_df, dwell_time_df\n",
    "merged.shape"
   ]
  },
  {
   "cell_type": "code",
   "execution_count": 20,
   "metadata": {},
   "outputs": [],
   "source": [
    "merged['dwell_min'] = merged.dwell_time / 60\n",
    "\n",
    "merged['ref-min'] = merged.ref_count / merged.dwell_min\n",
    "merged['min-ref'] = merged.dwell_min / merged.ref_count"
   ]
  },
  {
   "cell_type": "code",
   "execution_count": 33,
   "metadata": {},
   "outputs": [
    {
     "data": {
      "text/html": [
       "<div>\n",
       "<style scoped>\n",
       "    .dataframe tbody tr th:only-of-type {\n",
       "        vertical-align: middle;\n",
       "    }\n",
       "\n",
       "    .dataframe tbody tr th {\n",
       "        vertical-align: top;\n",
       "    }\n",
       "\n",
       "    .dataframe thead th {\n",
       "        text-align: right;\n",
       "    }\n",
       "</style>\n",
       "<table border=\"1\" class=\"dataframe\">\n",
       "  <thead>\n",
       "    <tr style=\"text-align: right;\">\n",
       "      <th></th>\n",
       "      <th>user_id</th>\n",
       "      <th>session_id</th>\n",
       "      <th>iid</th>\n",
       "      <th>ref_count</th>\n",
       "      <th>dwell_time</th>\n",
       "      <th>dwell_min</th>\n",
       "      <th>ref-min</th>\n",
       "      <th>min-ref</th>\n",
       "    </tr>\n",
       "  </thead>\n",
       "  <tbody>\n",
       "    <tr>\n",
       "      <th>0</th>\n",
       "      <td>0001VQMGUI65</td>\n",
       "      <td>466687f1875ee</td>\n",
       "      <td>3133074</td>\n",
       "      <td>11</td>\n",
       "      <td>386</td>\n",
       "      <td>6.433333</td>\n",
       "      <td>1.709845</td>\n",
       "      <td>0.584848</td>\n",
       "    </tr>\n",
       "    <tr>\n",
       "      <th>1</th>\n",
       "      <td>0001VQMGUI65</td>\n",
       "      <td>466687f1875ee</td>\n",
       "      <td>2019467</td>\n",
       "      <td>1</td>\n",
       "      <td>69</td>\n",
       "      <td>1.150000</td>\n",
       "      <td>0.869565</td>\n",
       "      <td>1.150000</td>\n",
       "    </tr>\n",
       "    <tr>\n",
       "      <th>2</th>\n",
       "      <td>0001VQMGUI65</td>\n",
       "      <td>466687f1875ee</td>\n",
       "      <td>4521140</td>\n",
       "      <td>1</td>\n",
       "      <td>15588</td>\n",
       "      <td>259.800000</td>\n",
       "      <td>0.003849</td>\n",
       "      <td>259.800000</td>\n",
       "    </tr>\n",
       "  </tbody>\n",
       "</table>\n",
       "</div>"
      ],
      "text/plain": [
       "        user_id     session_id      iid  ref_count  dwell_time   dwell_min  \\\n",
       "0  0001VQMGUI65  466687f1875ee  3133074         11         386    6.433333   \n",
       "1  0001VQMGUI65  466687f1875ee  2019467          1          69    1.150000   \n",
       "2  0001VQMGUI65  466687f1875ee  4521140          1       15588  259.800000   \n",
       "\n",
       "    ref-min     min-ref  \n",
       "0  1.709845    0.584848  \n",
       "1  0.869565    1.150000  \n",
       "2  0.003849  259.800000  "
      ]
     },
     "execution_count": 33,
     "metadata": {},
     "output_type": "execute_result"
    }
   ],
   "source": [
    "merged.rename(columns = {'reference' : 'iid'}, inplace = True)\n",
    "merged.head(3)"
   ]
  },
  {
   "cell_type": "code",
   "execution_count": 28,
   "metadata": {},
   "outputs": [
    {
     "name": "stdout",
     "output_type": "stream",
     "text": [
      "baseline shape :  (121526, 6)\n"
     ]
    },
    {
     "data": {
      "text/html": [
       "<div>\n",
       "<style scoped>\n",
       "    .dataframe tbody tr th:only-of-type {\n",
       "        vertical-align: middle;\n",
       "    }\n",
       "\n",
       "    .dataframe tbody tr th {\n",
       "        vertical-align: top;\n",
       "    }\n",
       "\n",
       "    .dataframe thead th {\n",
       "        text-align: right;\n",
       "    }\n",
       "</style>\n",
       "<table border=\"1\" class=\"dataframe\">\n",
       "  <thead>\n",
       "    <tr style=\"text-align: right;\">\n",
       "      <th></th>\n",
       "      <th>user_id</th>\n",
       "      <th>session_id</th>\n",
       "      <th>timestamp</th>\n",
       "      <th>step</th>\n",
       "      <th>reference</th>\n",
       "      <th>impressions</th>\n",
       "    </tr>\n",
       "  </thead>\n",
       "  <tbody>\n",
       "    <tr>\n",
       "      <th>0</th>\n",
       "      <td>004A07DM0IDW</td>\n",
       "      <td>1d688ec168932</td>\n",
       "      <td>1541555792</td>\n",
       "      <td>6</td>\n",
       "      <td>3241426</td>\n",
       "      <td>[2059240, 2033381, 1724779, 127131, 399441, 10...</td>\n",
       "    </tr>\n",
       "    <tr>\n",
       "      <th>1</th>\n",
       "      <td>00Y1Z24X8084</td>\n",
       "      <td>26b6d294d66e7</td>\n",
       "      <td>1541651766</td>\n",
       "      <td>1</td>\n",
       "      <td>3843244</td>\n",
       "      <td>[2714480, 4476010, 3843244, 3833012, 9017890, ...</td>\n",
       "    </tr>\n",
       "    <tr>\n",
       "      <th>2</th>\n",
       "      <td>01V3WDTDM5CU</td>\n",
       "      <td>07628a0f5be0b</td>\n",
       "      <td>1541575516</td>\n",
       "      <td>4</td>\n",
       "      <td>2817590</td>\n",
       "      <td>[3565720, 2947584, 4115018, 2039671, 3836538, ...</td>\n",
       "    </tr>\n",
       "  </tbody>\n",
       "</table>\n",
       "</div>"
      ],
      "text/plain": [
       "        user_id     session_id   timestamp  step  reference  \\\n",
       "0  004A07DM0IDW  1d688ec168932  1541555792     6    3241426   \n",
       "1  00Y1Z24X8084  26b6d294d66e7  1541651766     1    3843244   \n",
       "2  01V3WDTDM5CU  07628a0f5be0b  1541575516     4    2817590   \n",
       "\n",
       "                                         impressions  \n",
       "0  [2059240, 2033381, 1724779, 127131, 399441, 10...  \n",
       "1  [2714480, 4476010, 3843244, 3833012, 9017890, ...  \n",
       "2  [3565720, 2947584, 4115018, 2039671, 3836538, ...  "
      ]
     },
     "execution_count": 28,
     "metadata": {},
     "output_type": "execute_result"
    }
   ],
   "source": [
    "baseline = pd.read_csv(path + 'new_submission.csv')\n",
    "baseline.impressions = baseline.impressions.apply(lambda x : x.split('|'))\n",
    "print('baseline shape : ', baseline.shape)\n",
    "baseline.head(3)"
   ]
  },
  {
   "cell_type": "markdown",
   "metadata": {},
   "source": [
    "# ref-min"
   ]
  },
  {
   "cell_type": "code",
   "execution_count": 40,
   "metadata": {},
   "outputs": [
    {
     "data": {
      "text/html": [
       "<div>\n",
       "<style scoped>\n",
       "    .dataframe tbody tr th:only-of-type {\n",
       "        vertical-align: middle;\n",
       "    }\n",
       "\n",
       "    .dataframe tbody tr th {\n",
       "        vertical-align: top;\n",
       "    }\n",
       "\n",
       "    .dataframe thead th {\n",
       "        text-align: right;\n",
       "    }\n",
       "</style>\n",
       "<table border=\"1\" class=\"dataframe\">\n",
       "  <thead>\n",
       "    <tr style=\"text-align: right;\">\n",
       "      <th></th>\n",
       "      <th>session_id</th>\n",
       "      <th>iid</th>\n",
       "    </tr>\n",
       "  </thead>\n",
       "  <tbody>\n",
       "    <tr>\n",
       "      <th>0</th>\n",
       "      <td>000056cd97ce2</td>\n",
       "      <td>[2784325, 3811810]</td>\n",
       "    </tr>\n",
       "    <tr>\n",
       "      <th>1</th>\n",
       "      <td>00008c1f39c46</td>\n",
       "      <td>[3501822]</td>\n",
       "    </tr>\n",
       "    <tr>\n",
       "      <th>2</th>\n",
       "      <td>0000be39860d7</td>\n",
       "      <td>[445081, 79237, 76308, 4920008]</td>\n",
       "    </tr>\n",
       "  </tbody>\n",
       "</table>\n",
       "</div>"
      ],
      "text/plain": [
       "      session_id                              iid\n",
       "0  000056cd97ce2               [2784325, 3811810]\n",
       "1  00008c1f39c46                        [3501822]\n",
       "2  0000be39860d7  [445081, 79237, 76308, 4920008]"
      ]
     },
     "execution_count": 40,
     "metadata": {},
     "output_type": "execute_result"
    }
   ],
   "source": [
    "ref_min = merged[['session_id','iid','ref-min']]\n",
    "ref_min = ref_min.groupby('session_id').apply(lambda x : x.sort_values(['ref-min'], ascending = False)).reset_index(drop = True)\n",
    "ref_min.iid = ref_min.iid.apply(str)\n",
    "ref_min = ref_min.groupby('session_id')['iid'].apply(lambda x : ' '.join(x)).to_frame().reset_index()\n",
    "ref_min.iid = ref_min.iid.apply(lambda x : x.split(' '))\n",
    "ref_min.head(3)"
   ]
  },
  {
   "cell_type": "code",
   "execution_count": 41,
   "metadata": {},
   "outputs": [
    {
     "name": "stdout",
     "output_type": "stream",
     "text": [
      "(121526, 7)\n"
     ]
    },
    {
     "data": {
      "text/html": [
       "<div>\n",
       "<style scoped>\n",
       "    .dataframe tbody tr th:only-of-type {\n",
       "        vertical-align: middle;\n",
       "    }\n",
       "\n",
       "    .dataframe tbody tr th {\n",
       "        vertical-align: top;\n",
       "    }\n",
       "\n",
       "    .dataframe thead th {\n",
       "        text-align: right;\n",
       "    }\n",
       "</style>\n",
       "<table border=\"1\" class=\"dataframe\">\n",
       "  <thead>\n",
       "    <tr style=\"text-align: right;\">\n",
       "      <th></th>\n",
       "      <th>user_id</th>\n",
       "      <th>session_id</th>\n",
       "      <th>timestamp</th>\n",
       "      <th>step</th>\n",
       "      <th>reference</th>\n",
       "      <th>impressions</th>\n",
       "      <th>iid</th>\n",
       "    </tr>\n",
       "  </thead>\n",
       "  <tbody>\n",
       "    <tr>\n",
       "      <th>0</th>\n",
       "      <td>004A07DM0IDW</td>\n",
       "      <td>1d688ec168932</td>\n",
       "      <td>1541555792</td>\n",
       "      <td>6</td>\n",
       "      <td>3241426</td>\n",
       "      <td>[2059240, 2033381, 1724779, 127131, 399441, 10...</td>\n",
       "      <td>[1050068, 2059240, 3241426]</td>\n",
       "    </tr>\n",
       "    <tr>\n",
       "      <th>1</th>\n",
       "      <td>00Y1Z24X8084</td>\n",
       "      <td>26b6d294d66e7</td>\n",
       "      <td>1541651766</td>\n",
       "      <td>1</td>\n",
       "      <td>3843244</td>\n",
       "      <td>[2714480, 4476010, 3843244, 3833012, 9017890, ...</td>\n",
       "      <td>NaN</td>\n",
       "    </tr>\n",
       "    <tr>\n",
       "      <th>2</th>\n",
       "      <td>01V3WDTDM5CU</td>\n",
       "      <td>07628a0f5be0b</td>\n",
       "      <td>1541575516</td>\n",
       "      <td>4</td>\n",
       "      <td>2817590</td>\n",
       "      <td>[3565720, 2947584, 4115018, 2039671, 3836538, ...</td>\n",
       "      <td>[2817590]</td>\n",
       "    </tr>\n",
       "  </tbody>\n",
       "</table>\n",
       "</div>"
      ],
      "text/plain": [
       "        user_id     session_id   timestamp  step  reference  \\\n",
       "0  004A07DM0IDW  1d688ec168932  1541555792     6    3241426   \n",
       "1  00Y1Z24X8084  26b6d294d66e7  1541651766     1    3843244   \n",
       "2  01V3WDTDM5CU  07628a0f5be0b  1541575516     4    2817590   \n",
       "\n",
       "                                         impressions  \\\n",
       "0  [2059240, 2033381, 1724779, 127131, 399441, 10...   \n",
       "1  [2714480, 4476010, 3843244, 3833012, 9017890, ...   \n",
       "2  [3565720, 2947584, 4115018, 2039671, 3836538, ...   \n",
       "\n",
       "                           iid  \n",
       "0  [1050068, 2059240, 3241426]  \n",
       "1                          NaN  \n",
       "2                    [2817590]  "
      ]
     },
     "execution_count": 41,
     "metadata": {},
     "output_type": "execute_result"
    }
   ],
   "source": [
    "ref_min = pd.merge(baseline, ref_min, how = 'left')\n",
    "print(ref_min.shape)\n",
    "ref_min.head(3)"
   ]
  },
  {
   "cell_type": "code",
   "execution_count": 42,
   "metadata": {},
   "outputs": [],
   "source": [
    "idx = ref_min.iid.isnull()\n",
    "ref_min.loc[idx, 'iid'] = ref_min.loc[idx, 'impressions']"
   ]
  },
  {
   "cell_type": "code",
   "execution_count": 43,
   "metadata": {},
   "outputs": [
    {
     "data": {
      "text/html": [
       "<div>\n",
       "<style scoped>\n",
       "    .dataframe tbody tr th:only-of-type {\n",
       "        vertical-align: middle;\n",
       "    }\n",
       "\n",
       "    .dataframe tbody tr th {\n",
       "        vertical-align: top;\n",
       "    }\n",
       "\n",
       "    .dataframe thead th {\n",
       "        text-align: right;\n",
       "    }\n",
       "</style>\n",
       "<table border=\"1\" class=\"dataframe\">\n",
       "  <thead>\n",
       "    <tr style=\"text-align: right;\">\n",
       "      <th></th>\n",
       "      <th>user_id</th>\n",
       "      <th>session_id</th>\n",
       "      <th>timestamp</th>\n",
       "      <th>step</th>\n",
       "      <th>reference</th>\n",
       "      <th>impressions</th>\n",
       "      <th>iid</th>\n",
       "    </tr>\n",
       "  </thead>\n",
       "  <tbody>\n",
       "    <tr>\n",
       "      <th>0</th>\n",
       "      <td>004A07DM0IDW</td>\n",
       "      <td>1d688ec168932</td>\n",
       "      <td>1541555792</td>\n",
       "      <td>6</td>\n",
       "      <td>3241426</td>\n",
       "      <td>[2059240, 2033381, 1724779, 127131, 399441, 10...</td>\n",
       "      <td>[1050068, 2059240, 3241426]</td>\n",
       "    </tr>\n",
       "    <tr>\n",
       "      <th>1</th>\n",
       "      <td>00Y1Z24X8084</td>\n",
       "      <td>26b6d294d66e7</td>\n",
       "      <td>1541651766</td>\n",
       "      <td>1</td>\n",
       "      <td>3843244</td>\n",
       "      <td>[2714480, 4476010, 3843244, 3833012, 9017890, ...</td>\n",
       "      <td>[2714480, 4476010, 3843244, 3833012, 9017890, ...</td>\n",
       "    </tr>\n",
       "    <tr>\n",
       "      <th>2</th>\n",
       "      <td>01V3WDTDM5CU</td>\n",
       "      <td>07628a0f5be0b</td>\n",
       "      <td>1541575516</td>\n",
       "      <td>4</td>\n",
       "      <td>2817590</td>\n",
       "      <td>[3565720, 2947584, 4115018, 2039671, 3836538, ...</td>\n",
       "      <td>[2817590]</td>\n",
       "    </tr>\n",
       "  </tbody>\n",
       "</table>\n",
       "</div>"
      ],
      "text/plain": [
       "        user_id     session_id   timestamp  step  reference  \\\n",
       "0  004A07DM0IDW  1d688ec168932  1541555792     6    3241426   \n",
       "1  00Y1Z24X8084  26b6d294d66e7  1541651766     1    3843244   \n",
       "2  01V3WDTDM5CU  07628a0f5be0b  1541575516     4    2817590   \n",
       "\n",
       "                                         impressions  \\\n",
       "0  [2059240, 2033381, 1724779, 127131, 399441, 10...   \n",
       "1  [2714480, 4476010, 3843244, 3833012, 9017890, ...   \n",
       "2  [3565720, 2947584, 4115018, 2039671, 3836538, ...   \n",
       "\n",
       "                                                 iid  \n",
       "0                        [1050068, 2059240, 3241426]  \n",
       "1  [2714480, 4476010, 3843244, 3833012, 9017890, ...  \n",
       "2                                          [2817590]  "
      ]
     },
     "execution_count": 43,
     "metadata": {},
     "output_type": "execute_result"
    }
   ],
   "source": [
    "ref_min.head(3)"
   ]
  },
  {
   "cell_type": "code",
   "execution_count": 37,
   "metadata": {},
   "outputs": [],
   "source": [
    "def mrr(answer, imp) :\n",
    "    myscore = 0\n",
    "    \n",
    "    for i,j in zip(answer, imp) :\n",
    "        if i in j :\n",
    "            myscore += 1/(j.index(i) + 1)\n",
    "    print(myscore / len(imp))"
   ]
  },
  {
   "cell_type": "code",
   "execution_count": 44,
   "metadata": {},
   "outputs": [
    {
     "name": "stdout",
     "output_type": "stream",
     "text": [
      "0.5216253624927869\n"
     ]
    }
   ],
   "source": [
    "ref_min.reference = ref_min.reference.apply(str)\n",
    "mrr(ref_min['reference'], ref_min['iid'])"
   ]
  },
  {
   "cell_type": "markdown",
   "metadata": {},
   "source": [
    "# min-ref"
   ]
  },
  {
   "cell_type": "code",
   "execution_count": 45,
   "metadata": {},
   "outputs": [
    {
     "data": {
      "text/html": [
       "<div>\n",
       "<style scoped>\n",
       "    .dataframe tbody tr th:only-of-type {\n",
       "        vertical-align: middle;\n",
       "    }\n",
       "\n",
       "    .dataframe tbody tr th {\n",
       "        vertical-align: top;\n",
       "    }\n",
       "\n",
       "    .dataframe thead th {\n",
       "        text-align: right;\n",
       "    }\n",
       "</style>\n",
       "<table border=\"1\" class=\"dataframe\">\n",
       "  <thead>\n",
       "    <tr style=\"text-align: right;\">\n",
       "      <th></th>\n",
       "      <th>session_id</th>\n",
       "      <th>iid</th>\n",
       "    </tr>\n",
       "  </thead>\n",
       "  <tbody>\n",
       "    <tr>\n",
       "      <th>0</th>\n",
       "      <td>000056cd97ce2</td>\n",
       "      <td>[3811810, 2784325]</td>\n",
       "    </tr>\n",
       "    <tr>\n",
       "      <th>1</th>\n",
       "      <td>00008c1f39c46</td>\n",
       "      <td>[3501822]</td>\n",
       "    </tr>\n",
       "    <tr>\n",
       "      <th>2</th>\n",
       "      <td>0000be39860d7</td>\n",
       "      <td>[4920008, 76308, 79237, 445081]</td>\n",
       "    </tr>\n",
       "  </tbody>\n",
       "</table>\n",
       "</div>"
      ],
      "text/plain": [
       "      session_id                              iid\n",
       "0  000056cd97ce2               [3811810, 2784325]\n",
       "1  00008c1f39c46                        [3501822]\n",
       "2  0000be39860d7  [4920008, 76308, 79237, 445081]"
      ]
     },
     "execution_count": 45,
     "metadata": {},
     "output_type": "execute_result"
    }
   ],
   "source": [
    "min_ref = merged[['session_id','iid','min-ref']]\n",
    "min_ref = min_ref.groupby('session_id').apply(lambda x : x.sort_values(['min-ref'], ascending = False)).reset_index(drop = True)\n",
    "min_ref.iid = min_ref.iid.apply(str)\n",
    "min_ref = min_ref.groupby('session_id')['iid'].apply(lambda x : ' '.join(x)).to_frame().reset_index()\n",
    "min_ref.iid = min_ref.iid.apply(lambda x : x.split(' '))\n",
    "min_ref.head(3)"
   ]
  },
  {
   "cell_type": "code",
   "execution_count": 46,
   "metadata": {},
   "outputs": [
    {
     "name": "stdout",
     "output_type": "stream",
     "text": [
      "(121526, 7)\n"
     ]
    },
    {
     "data": {
      "text/html": [
       "<div>\n",
       "<style scoped>\n",
       "    .dataframe tbody tr th:only-of-type {\n",
       "        vertical-align: middle;\n",
       "    }\n",
       "\n",
       "    .dataframe tbody tr th {\n",
       "        vertical-align: top;\n",
       "    }\n",
       "\n",
       "    .dataframe thead th {\n",
       "        text-align: right;\n",
       "    }\n",
       "</style>\n",
       "<table border=\"1\" class=\"dataframe\">\n",
       "  <thead>\n",
       "    <tr style=\"text-align: right;\">\n",
       "      <th></th>\n",
       "      <th>user_id</th>\n",
       "      <th>session_id</th>\n",
       "      <th>timestamp</th>\n",
       "      <th>step</th>\n",
       "      <th>reference</th>\n",
       "      <th>impressions</th>\n",
       "      <th>iid</th>\n",
       "    </tr>\n",
       "  </thead>\n",
       "  <tbody>\n",
       "    <tr>\n",
       "      <th>0</th>\n",
       "      <td>004A07DM0IDW</td>\n",
       "      <td>1d688ec168932</td>\n",
       "      <td>1541555792</td>\n",
       "      <td>6</td>\n",
       "      <td>3241426</td>\n",
       "      <td>[2059240, 2033381, 1724779, 127131, 399441, 10...</td>\n",
       "      <td>[3241426, 2059240, 1050068]</td>\n",
       "    </tr>\n",
       "    <tr>\n",
       "      <th>1</th>\n",
       "      <td>00Y1Z24X8084</td>\n",
       "      <td>26b6d294d66e7</td>\n",
       "      <td>1541651766</td>\n",
       "      <td>1</td>\n",
       "      <td>3843244</td>\n",
       "      <td>[2714480, 4476010, 3843244, 3833012, 9017890, ...</td>\n",
       "      <td>NaN</td>\n",
       "    </tr>\n",
       "    <tr>\n",
       "      <th>2</th>\n",
       "      <td>01V3WDTDM5CU</td>\n",
       "      <td>07628a0f5be0b</td>\n",
       "      <td>1541575516</td>\n",
       "      <td>4</td>\n",
       "      <td>2817590</td>\n",
       "      <td>[3565720, 2947584, 4115018, 2039671, 3836538, ...</td>\n",
       "      <td>[2817590]</td>\n",
       "    </tr>\n",
       "  </tbody>\n",
       "</table>\n",
       "</div>"
      ],
      "text/plain": [
       "        user_id     session_id   timestamp  step  reference  \\\n",
       "0  004A07DM0IDW  1d688ec168932  1541555792     6    3241426   \n",
       "1  00Y1Z24X8084  26b6d294d66e7  1541651766     1    3843244   \n",
       "2  01V3WDTDM5CU  07628a0f5be0b  1541575516     4    2817590   \n",
       "\n",
       "                                         impressions  \\\n",
       "0  [2059240, 2033381, 1724779, 127131, 399441, 10...   \n",
       "1  [2714480, 4476010, 3843244, 3833012, 9017890, ...   \n",
       "2  [3565720, 2947584, 4115018, 2039671, 3836538, ...   \n",
       "\n",
       "                           iid  \n",
       "0  [3241426, 2059240, 1050068]  \n",
       "1                          NaN  \n",
       "2                    [2817590]  "
      ]
     },
     "execution_count": 46,
     "metadata": {},
     "output_type": "execute_result"
    }
   ],
   "source": [
    "min_ref = pd.merge(baseline, min_ref, how = 'left')\n",
    "print(min_ref.shape)\n",
    "min_ref.head(3)"
   ]
  },
  {
   "cell_type": "code",
   "execution_count": 47,
   "metadata": {},
   "outputs": [],
   "source": [
    "idx = min_ref.iid.isnull()\n",
    "min_ref.loc[idx, 'iid'] = min_ref.loc[idx, 'impressions']"
   ]
  },
  {
   "cell_type": "code",
   "execution_count": 48,
   "metadata": {},
   "outputs": [
    {
     "name": "stdout",
     "output_type": "stream",
     "text": [
      "0.6389217441361192\n"
     ]
    }
   ],
   "source": [
    "min_ref.reference = min_ref.reference.apply(str)\n",
    "mrr(min_ref['reference'], min_ref['iid'])"
   ]
  },
  {
   "cell_type": "markdown",
   "metadata": {},
   "source": [
    "# ref * dwell"
   ]
  },
  {
   "cell_type": "code",
   "execution_count": 51,
   "metadata": {},
   "outputs": [
    {
     "data": {
      "text/html": [
       "<div>\n",
       "<style scoped>\n",
       "    .dataframe tbody tr th:only-of-type {\n",
       "        vertical-align: middle;\n",
       "    }\n",
       "\n",
       "    .dataframe tbody tr th {\n",
       "        vertical-align: top;\n",
       "    }\n",
       "\n",
       "    .dataframe thead th {\n",
       "        text-align: right;\n",
       "    }\n",
       "</style>\n",
       "<table border=\"1\" class=\"dataframe\">\n",
       "  <thead>\n",
       "    <tr style=\"text-align: right;\">\n",
       "      <th></th>\n",
       "      <th>user_id</th>\n",
       "      <th>session_id</th>\n",
       "      <th>iid</th>\n",
       "      <th>ref_count</th>\n",
       "      <th>dwell_time</th>\n",
       "      <th>dwell_min</th>\n",
       "      <th>ref-min</th>\n",
       "      <th>min-ref</th>\n",
       "      <th>refXdwell</th>\n",
       "    </tr>\n",
       "  </thead>\n",
       "  <tbody>\n",
       "    <tr>\n",
       "      <th>0</th>\n",
       "      <td>0001VQMGUI65</td>\n",
       "      <td>466687f1875ee</td>\n",
       "      <td>3133074</td>\n",
       "      <td>11</td>\n",
       "      <td>386</td>\n",
       "      <td>6.433333</td>\n",
       "      <td>1.709845</td>\n",
       "      <td>0.584848</td>\n",
       "      <td>70.766667</td>\n",
       "    </tr>\n",
       "    <tr>\n",
       "      <th>1</th>\n",
       "      <td>0001VQMGUI65</td>\n",
       "      <td>466687f1875ee</td>\n",
       "      <td>2019467</td>\n",
       "      <td>1</td>\n",
       "      <td>69</td>\n",
       "      <td>1.150000</td>\n",
       "      <td>0.869565</td>\n",
       "      <td>1.150000</td>\n",
       "      <td>1.150000</td>\n",
       "    </tr>\n",
       "    <tr>\n",
       "      <th>2</th>\n",
       "      <td>0001VQMGUI65</td>\n",
       "      <td>466687f1875ee</td>\n",
       "      <td>4521140</td>\n",
       "      <td>1</td>\n",
       "      <td>15588</td>\n",
       "      <td>259.800000</td>\n",
       "      <td>0.003849</td>\n",
       "      <td>259.800000</td>\n",
       "      <td>259.800000</td>\n",
       "    </tr>\n",
       "  </tbody>\n",
       "</table>\n",
       "</div>"
      ],
      "text/plain": [
       "        user_id     session_id      iid  ref_count  dwell_time   dwell_min  \\\n",
       "0  0001VQMGUI65  466687f1875ee  3133074         11         386    6.433333   \n",
       "1  0001VQMGUI65  466687f1875ee  2019467          1          69    1.150000   \n",
       "2  0001VQMGUI65  466687f1875ee  4521140          1       15588  259.800000   \n",
       "\n",
       "    ref-min     min-ref   refXdwell  \n",
       "0  1.709845    0.584848   70.766667  \n",
       "1  0.869565    1.150000    1.150000  \n",
       "2  0.003849  259.800000  259.800000  "
      ]
     },
     "execution_count": 51,
     "metadata": {},
     "output_type": "execute_result"
    }
   ],
   "source": [
    "merged['refXdwell'] = merged['ref_count'] * merged['dwell_min']\n",
    "merged.head(3)"
   ]
  },
  {
   "cell_type": "code",
   "execution_count": 53,
   "metadata": {},
   "outputs": [
    {
     "data": {
      "text/html": [
       "<div>\n",
       "<style scoped>\n",
       "    .dataframe tbody tr th:only-of-type {\n",
       "        vertical-align: middle;\n",
       "    }\n",
       "\n",
       "    .dataframe tbody tr th {\n",
       "        vertical-align: top;\n",
       "    }\n",
       "\n",
       "    .dataframe thead th {\n",
       "        text-align: right;\n",
       "    }\n",
       "</style>\n",
       "<table border=\"1\" class=\"dataframe\">\n",
       "  <thead>\n",
       "    <tr style=\"text-align: right;\">\n",
       "      <th></th>\n",
       "      <th>session_id</th>\n",
       "      <th>iid</th>\n",
       "    </tr>\n",
       "  </thead>\n",
       "  <tbody>\n",
       "    <tr>\n",
       "      <th>0</th>\n",
       "      <td>000056cd97ce2</td>\n",
       "      <td>[3811810, 2784325]</td>\n",
       "    </tr>\n",
       "    <tr>\n",
       "      <th>1</th>\n",
       "      <td>00008c1f39c46</td>\n",
       "      <td>[3501822]</td>\n",
       "    </tr>\n",
       "    <tr>\n",
       "      <th>2</th>\n",
       "      <td>0000be39860d7</td>\n",
       "      <td>[76308, 79237, 445081, 4920008]</td>\n",
       "    </tr>\n",
       "  </tbody>\n",
       "</table>\n",
       "</div>"
      ],
      "text/plain": [
       "      session_id                              iid\n",
       "0  000056cd97ce2               [3811810, 2784325]\n",
       "1  00008c1f39c46                        [3501822]\n",
       "2  0000be39860d7  [76308, 79237, 445081, 4920008]"
      ]
     },
     "execution_count": 53,
     "metadata": {},
     "output_type": "execute_result"
    }
   ],
   "source": [
    "refXdwell = merged[['session_id','iid','refXdwell']]\n",
    "refXdwell = refXdwell.groupby('session_id').apply(lambda x : x.sort_values(['refXdwell'], ascending = False)).reset_index(drop = True)\n",
    "refXdwell.iid = refXdwell.iid.apply(str)\n",
    "refXdwell = refXdwell.groupby('session_id')['iid'].apply(lambda x : ' '.join(x)).to_frame().reset_index()\n",
    "refXdwell.iid = refXdwell.iid.apply(lambda x : x.split(' '))\n",
    "refXdwell.head(3)"
   ]
  },
  {
   "cell_type": "code",
   "execution_count": 54,
   "metadata": {},
   "outputs": [
    {
     "name": "stdout",
     "output_type": "stream",
     "text": [
      "(121526, 7)\n"
     ]
    }
   ],
   "source": [
    "refXdwell = pd.merge(baseline, refXdwell, how = 'left')\n",
    "print(refXdwell.shape)\n",
    "idx = refXdwell.iid.isnull()\n",
    "refXdwell.loc[idx, 'iid'] = refXdwell.loc[idx, 'impressions']"
   ]
  },
  {
   "cell_type": "code",
   "execution_count": 55,
   "metadata": {},
   "outputs": [
    {
     "name": "stdout",
     "output_type": "stream",
     "text": [
      "0.6332330727165942\n"
     ]
    }
   ],
   "source": [
    "refXdwell.reference = refXdwell.reference.apply(str)\n",
    "mrr(refXdwell['reference'], refXdwell['iid'])"
   ]
  }
 ],
 "metadata": {
  "kernelspec": {
   "display_name": "Python 3",
   "language": "python",
   "name": "python3"
  },
  "language_info": {
   "codemirror_mode": {
    "name": "ipython",
    "version": 3
   },
   "file_extension": ".py",
   "mimetype": "text/x-python",
   "name": "python",
   "nbconvert_exporter": "python",
   "pygments_lexer": "ipython3",
   "version": "3.5.2"
  }
 },
 "nbformat": 4,
 "nbformat_minor": 2
}
