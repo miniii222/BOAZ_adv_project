{
 "cells": [
  {
   "cell_type": "markdown",
   "metadata": {},
   "source": [
    "ref count baseline 알고리즘 이용하여 predict한 값으로\n",
    "sorting again 하자"
   ]
  },
  {
   "cell_type": "code",
   "execution_count": 1,
   "metadata": {},
   "outputs": [
    {
     "data": {
      "text/plain": [
       "['df_ref2_session.csv',\n",
       " 'new_submission_dwell_time.csv',\n",
       " 'new_submission_baseline.csv',\n",
       " 'df_ref.csv',\n",
       " 'ref_count2_baselineOnly_pred.csv',\n",
       " 'train.csv',\n",
       " 'df_ref2.csv',\n",
       " 'submission_popular.csv',\n",
       " 'item_metadata.csv',\n",
       " 'df_full_except_noinfo.csv',\n",
       " 'test.csv',\n",
       " 'new_submission.csv',\n",
       " 'dwell_df.csv',\n",
       " 'baseline_sorting.csv',\n",
       " 'dwell_time_agg.csv',\n",
       " 'test2.csv']"
      ]
     },
     "execution_count": 1,
     "metadata": {},
     "output_type": "execute_result"
    }
   ],
   "source": [
    "import pandas as pd\n",
    "import numpy as np\n",
    "import os\n",
    "os.listdir('../input/')"
   ]
  },
  {
   "cell_type": "code",
   "execution_count": 107,
   "metadata": {},
   "outputs": [],
   "source": [
    "blo_pred = pd.read_csv(path + 'ref_count2_baselineOnly_pred.csv')"
   ]
  },
  {
   "cell_type": "code",
   "execution_count": 121,
   "metadata": {},
   "outputs": [
    {
     "name": "stdout",
     "output_type": "stream",
     "text": [
      "(121526, 7)\n"
     ]
    },
    {
     "data": {
      "text/html": [
       "<div>\n",
       "<style scoped>\n",
       "    .dataframe tbody tr th:only-of-type {\n",
       "        vertical-align: middle;\n",
       "    }\n",
       "\n",
       "    .dataframe tbody tr th {\n",
       "        vertical-align: top;\n",
       "    }\n",
       "\n",
       "    .dataframe thead th {\n",
       "        text-align: right;\n",
       "    }\n",
       "</style>\n",
       "<table border=\"1\" class=\"dataframe\">\n",
       "  <thead>\n",
       "    <tr style=\"text-align: right;\">\n",
       "      <th></th>\n",
       "      <th>user_id</th>\n",
       "      <th>session_id</th>\n",
       "      <th>timestamp</th>\n",
       "      <th>step</th>\n",
       "      <th>reference</th>\n",
       "      <th>impressions</th>\n",
       "      <th>ref_count_sorted</th>\n",
       "    </tr>\n",
       "  </thead>\n",
       "  <tbody>\n",
       "    <tr>\n",
       "      <th>0</th>\n",
       "      <td>004A07DM0IDW</td>\n",
       "      <td>1d688ec168932</td>\n",
       "      <td>1541555792</td>\n",
       "      <td>6</td>\n",
       "      <td>3241426</td>\n",
       "      <td>1050068 2059240 3241426 2033381 1724779 127131...</td>\n",
       "      <td>1050068 2059240 3241426</td>\n",
       "    </tr>\n",
       "    <tr>\n",
       "      <th>1</th>\n",
       "      <td>00Y1Z24X8084</td>\n",
       "      <td>26b6d294d66e7</td>\n",
       "      <td>1541651766</td>\n",
       "      <td>1</td>\n",
       "      <td>3843244</td>\n",
       "      <td>2714480 4476010 3843244 3833012 9017890 198100...</td>\n",
       "      <td>NaN</td>\n",
       "    </tr>\n",
       "    <tr>\n",
       "      <th>2</th>\n",
       "      <td>01V3WDTDM5CU</td>\n",
       "      <td>07628a0f5be0b</td>\n",
       "      <td>1541575516</td>\n",
       "      <td>4</td>\n",
       "      <td>2817590</td>\n",
       "      <td>2817590 3565720 2947584 4115018 2039671 383653...</td>\n",
       "      <td>2817590</td>\n",
       "    </tr>\n",
       "  </tbody>\n",
       "</table>\n",
       "</div>"
      ],
      "text/plain": [
       "        user_id     session_id   timestamp  step  reference  \\\n",
       "0  004A07DM0IDW  1d688ec168932  1541555792     6    3241426   \n",
       "1  00Y1Z24X8084  26b6d294d66e7  1541651766     1    3843244   \n",
       "2  01V3WDTDM5CU  07628a0f5be0b  1541575516     4    2817590   \n",
       "\n",
       "                                         impressions         ref_count_sorted  \n",
       "0  1050068 2059240 3241426 2033381 1724779 127131...  1050068 2059240 3241426  \n",
       "1  2714480 4476010 3843244 3833012 9017890 198100...                      NaN  \n",
       "2  2817590 3565720 2947584 4115018 2039671 383653...                  2817590  "
      ]
     },
     "execution_count": 121,
     "metadata": {},
     "output_type": "execute_result"
    }
   ],
   "source": [
    "path = '../input/'\n",
    "new_submission = pd.read_csv(path + 'new_submission_baseline.csv')\n",
    "print(new_submission.shape)\n",
    "new_submission.head(3)"
   ]
  },
  {
   "cell_type": "code",
   "execution_count": 122,
   "metadata": {},
   "outputs": [],
   "source": [
    "new_submission.impressions = new_submission.impressions.apply(lambda x : x.split(' '))"
   ]
  },
  {
   "cell_type": "code",
   "execution_count": 109,
   "metadata": {},
   "outputs": [
    {
     "data": {
      "text/html": [
       "<div>\n",
       "<style scoped>\n",
       "    .dataframe tbody tr th:only-of-type {\n",
       "        vertical-align: middle;\n",
       "    }\n",
       "\n",
       "    .dataframe tbody tr th {\n",
       "        vertical-align: top;\n",
       "    }\n",
       "\n",
       "    .dataframe thead th {\n",
       "        text-align: right;\n",
       "    }\n",
       "</style>\n",
       "<table border=\"1\" class=\"dataframe\">\n",
       "  <thead>\n",
       "    <tr style=\"text-align: right;\">\n",
       "      <th></th>\n",
       "      <th>session_id</th>\n",
       "      <th>iid</th>\n",
       "    </tr>\n",
       "  </thead>\n",
       "  <tbody>\n",
       "    <tr>\n",
       "      <th>0</th>\n",
       "      <td>0000e0500c2e7</td>\n",
       "      <td>[3793522, 8342182, 9377514, 2605288, 7354306, ...</td>\n",
       "    </tr>\n",
       "    <tr>\n",
       "      <th>1</th>\n",
       "      <td>000177b850519</td>\n",
       "      <td>[17529, 16831, 2759696, 153594, 9117602, 17579...</td>\n",
       "    </tr>\n",
       "    <tr>\n",
       "      <th>2</th>\n",
       "      <td>00017b3b2c136</td>\n",
       "      <td>[2810449, 1101646, 509856, 5717238, 2565452, 4...</td>\n",
       "    </tr>\n",
       "  </tbody>\n",
       "</table>\n",
       "</div>"
      ],
      "text/plain": [
       "      session_id                                                iid\n",
       "0  0000e0500c2e7  [3793522, 8342182, 9377514, 2605288, 7354306, ...\n",
       "1  000177b850519  [17529, 16831, 2759696, 153594, 9117602, 17579...\n",
       "2  00017b3b2c136  [2810449, 1101646, 509856, 5717238, 2565452, 4..."
      ]
     },
     "execution_count": 109,
     "metadata": {},
     "output_type": "execute_result"
    }
   ],
   "source": [
    "blo_pred = blo_pred.groupby('session_id').apply(lambda x : x.sort_values(['est'], ascending = False)).reset_index(drop = True)\n",
    "blo_pred.iid = blo_pred.iid.apply(str)\n",
    "blo_pred = blo_pred.groupby('session_id')['iid'].apply(lambda x : ' '.join(x)).to_frame().reset_index()\n",
    "blo_pred.iid = blo_pred.iid.apply(lambda x : x.split(' '))\n",
    "blo_pred.head(3)"
   ]
  },
  {
   "cell_type": "code",
   "execution_count": 123,
   "metadata": {
    "scrolled": true
   },
   "outputs": [
    {
     "data": {
      "text/html": [
       "<div>\n",
       "<style scoped>\n",
       "    .dataframe tbody tr th:only-of-type {\n",
       "        vertical-align: middle;\n",
       "    }\n",
       "\n",
       "    .dataframe tbody tr th {\n",
       "        vertical-align: top;\n",
       "    }\n",
       "\n",
       "    .dataframe thead th {\n",
       "        text-align: right;\n",
       "    }\n",
       "</style>\n",
       "<table border=\"1\" class=\"dataframe\">\n",
       "  <thead>\n",
       "    <tr style=\"text-align: right;\">\n",
       "      <th></th>\n",
       "      <th>user_id</th>\n",
       "      <th>session_id</th>\n",
       "      <th>timestamp</th>\n",
       "      <th>step</th>\n",
       "      <th>reference</th>\n",
       "      <th>impressions</th>\n",
       "      <th>ref_count_sorted</th>\n",
       "      <th>iid</th>\n",
       "    </tr>\n",
       "  </thead>\n",
       "  <tbody>\n",
       "    <tr>\n",
       "      <th>0</th>\n",
       "      <td>004A07DM0IDW</td>\n",
       "      <td>1d688ec168932</td>\n",
       "      <td>1541555792</td>\n",
       "      <td>6</td>\n",
       "      <td>3241426</td>\n",
       "      <td>[1050068, 2059240, 3241426, 2033381, 1724779, ...</td>\n",
       "      <td>1050068 2059240 3241426</td>\n",
       "      <td>[1963235, 4491766, 5162722, 3442272, 1724779, ...</td>\n",
       "    </tr>\n",
       "    <tr>\n",
       "      <th>1</th>\n",
       "      <td>00Y1Z24X8084</td>\n",
       "      <td>26b6d294d66e7</td>\n",
       "      <td>1541651766</td>\n",
       "      <td>1</td>\n",
       "      <td>3843244</td>\n",
       "      <td>[2714480, 4476010, 3843244, 3833012, 9017890, ...</td>\n",
       "      <td>NaN</td>\n",
       "      <td>NaN</td>\n",
       "    </tr>\n",
       "    <tr>\n",
       "      <th>2</th>\n",
       "      <td>01V3WDTDM5CU</td>\n",
       "      <td>07628a0f5be0b</td>\n",
       "      <td>1541575516</td>\n",
       "      <td>4</td>\n",
       "      <td>2817590</td>\n",
       "      <td>[2817590, 3565720, 2947584, 4115018, 2039671, ...</td>\n",
       "      <td>2817590</td>\n",
       "      <td>NaN</td>\n",
       "    </tr>\n",
       "  </tbody>\n",
       "</table>\n",
       "</div>"
      ],
      "text/plain": [
       "        user_id     session_id   timestamp  step  reference  \\\n",
       "0  004A07DM0IDW  1d688ec168932  1541555792     6    3241426   \n",
       "1  00Y1Z24X8084  26b6d294d66e7  1541651766     1    3843244   \n",
       "2  01V3WDTDM5CU  07628a0f5be0b  1541575516     4    2817590   \n",
       "\n",
       "                                         impressions         ref_count_sorted  \\\n",
       "0  [1050068, 2059240, 3241426, 2033381, 1724779, ...  1050068 2059240 3241426   \n",
       "1  [2714480, 4476010, 3843244, 3833012, 9017890, ...                      NaN   \n",
       "2  [2817590, 3565720, 2947584, 4115018, 2039671, ...                  2817590   \n",
       "\n",
       "                                                 iid  \n",
       "0  [1963235, 4491766, 5162722, 3442272, 1724779, ...  \n",
       "1                                                NaN  \n",
       "2                                                NaN  "
      ]
     },
     "execution_count": 123,
     "metadata": {},
     "output_type": "execute_result"
    }
   ],
   "source": [
    "new_submission = pd.merge(new_submission, blo_pred, how = 'left')\n",
    "new_submission.head(3)"
   ]
  },
  {
   "cell_type": "code",
   "execution_count": 124,
   "metadata": {},
   "outputs": [],
   "source": [
    "idx = ~new_submission.ref_count_sorted.isnull()\n",
    "new_submission.loc[idx,'ref_count_sorted'] = new_submission.loc[idx,'ref_count_sorted'].apply(lambda x : x.split(' '))"
   ]
  },
  {
   "cell_type": "code",
   "execution_count": 64,
   "metadata": {},
   "outputs": [],
   "source": [
    "idx = ~new_submission.iid.isnull()\n",
    "aa = new_submission.loc[idx,'impressions'].apply(len)\n",
    "bb = new_submission.loc[idx, 'iid'].apply(len)"
   ]
  },
  {
   "cell_type": "code",
   "execution_count": 73,
   "metadata": {},
   "outputs": [
    {
     "data": {
      "text/plain": [
       "1.0"
      ]
     },
     "execution_count": 73,
     "metadata": {},
     "output_type": "execute_result"
    }
   ],
   "source": [
    "len(aa) / len(aa>=bb)"
   ]
  },
  {
   "cell_type": "markdown",
   "metadata": {},
   "source": [
    "# fix ref_count"
   ]
  },
  {
   "cell_type": "code",
   "execution_count": 142,
   "metadata": {},
   "outputs": [
    {
     "data": {
      "text/html": [
       "<div>\n",
       "<style scoped>\n",
       "    .dataframe tbody tr th:only-of-type {\n",
       "        vertical-align: middle;\n",
       "    }\n",
       "\n",
       "    .dataframe tbody tr th {\n",
       "        vertical-align: top;\n",
       "    }\n",
       "\n",
       "    .dataframe thead th {\n",
       "        text-align: right;\n",
       "    }\n",
       "</style>\n",
       "<table border=\"1\" class=\"dataframe\">\n",
       "  <thead>\n",
       "    <tr style=\"text-align: right;\">\n",
       "      <th></th>\n",
       "      <th>user_id</th>\n",
       "      <th>session_id</th>\n",
       "      <th>timestamp</th>\n",
       "      <th>step</th>\n",
       "      <th>reference</th>\n",
       "      <th>impressions</th>\n",
       "      <th>ref_count_sorted</th>\n",
       "      <th>iid</th>\n",
       "    </tr>\n",
       "  </thead>\n",
       "  <tbody>\n",
       "    <tr>\n",
       "      <th>0</th>\n",
       "      <td>004A07DM0IDW</td>\n",
       "      <td>1d688ec168932</td>\n",
       "      <td>1541555792</td>\n",
       "      <td>6</td>\n",
       "      <td>3241426</td>\n",
       "      <td>[1050068, 2059240, 3241426, 2033381, 1724779, ...</td>\n",
       "      <td>[1050068, 2059240, 3241426]</td>\n",
       "      <td>[1963235, 4491766, 5162722, 3442272, 1724779, ...</td>\n",
       "    </tr>\n",
       "    <tr>\n",
       "      <th>1</th>\n",
       "      <td>00Y1Z24X8084</td>\n",
       "      <td>26b6d294d66e7</td>\n",
       "      <td>1541651766</td>\n",
       "      <td>1</td>\n",
       "      <td>3843244</td>\n",
       "      <td>[2714480, 4476010, 3843244, 3833012, 9017890, ...</td>\n",
       "      <td>NaN</td>\n",
       "      <td>NaN</td>\n",
       "    </tr>\n",
       "    <tr>\n",
       "      <th>2</th>\n",
       "      <td>01V3WDTDM5CU</td>\n",
       "      <td>07628a0f5be0b</td>\n",
       "      <td>1541575516</td>\n",
       "      <td>4</td>\n",
       "      <td>2817590</td>\n",
       "      <td>[2817590, 3565720, 2947584, 4115018, 2039671, ...</td>\n",
       "      <td>[2817590]</td>\n",
       "      <td>NaN</td>\n",
       "    </tr>\n",
       "  </tbody>\n",
       "</table>\n",
       "</div>"
      ],
      "text/plain": [
       "        user_id     session_id   timestamp  step  reference  \\\n",
       "0  004A07DM0IDW  1d688ec168932  1541555792     6    3241426   \n",
       "1  00Y1Z24X8084  26b6d294d66e7  1541651766     1    3843244   \n",
       "2  01V3WDTDM5CU  07628a0f5be0b  1541575516     4    2817590   \n",
       "\n",
       "                                         impressions  \\\n",
       "0  [1050068, 2059240, 3241426, 2033381, 1724779, ...   \n",
       "1  [2714480, 4476010, 3843244, 3833012, 9017890, ...   \n",
       "2  [2817590, 3565720, 2947584, 4115018, 2039671, ...   \n",
       "\n",
       "              ref_count_sorted  \\\n",
       "0  [1050068, 2059240, 3241426]   \n",
       "1                          NaN   \n",
       "2                    [2817590]   \n",
       "\n",
       "                                                 iid  \n",
       "0  [1963235, 4491766, 5162722, 3442272, 1724779, ...  \n",
       "1                                                NaN  \n",
       "2                                                NaN  "
      ]
     },
     "execution_count": 142,
     "metadata": {},
     "output_type": "execute_result"
    }
   ],
   "source": [
    "new_submission.head(3)"
   ]
  },
  {
   "cell_type": "code",
   "execution_count": 152,
   "metadata": {},
   "outputs": [],
   "source": [
    "def sort_again(imp, ref_sorted, iid) :\n",
    "    \n",
    "    if type(ref_sorted)!= list :\n",
    "        return imp\n",
    "    \n",
    "    if type(iid)!= list :\n",
    "        return imp\n",
    "    \n",
    "\n",
    "    i = 0\n",
    "    for ref in ref_sorted :\n",
    "        if ref in imp :\n",
    "            i+=1\n",
    "            if ref in iid :\n",
    "                j = iid.index(ref)\n",
    "                iid = iid[:j] + iid[j+1:]\n",
    "\n",
    "\n",
    "    final_list = imp[:i] + iid + list(set(imp[i:]) - set(iid))\n",
    "    return final_list"
   ]
  },
  {
   "cell_type": "code",
   "execution_count": 154,
   "metadata": {},
   "outputs": [],
   "source": [
    "new_submission['sort_again'] = new_submission.apply(lambda x : sort_again(x['impressions'], x['ref_count_sorted'], x['iid']), axis = 1)"
   ]
  },
  {
   "cell_type": "code",
   "execution_count": 155,
   "metadata": {},
   "outputs": [
    {
     "data": {
      "text/html": [
       "<div>\n",
       "<style scoped>\n",
       "    .dataframe tbody tr th:only-of-type {\n",
       "        vertical-align: middle;\n",
       "    }\n",
       "\n",
       "    .dataframe tbody tr th {\n",
       "        vertical-align: top;\n",
       "    }\n",
       "\n",
       "    .dataframe thead th {\n",
       "        text-align: right;\n",
       "    }\n",
       "</style>\n",
       "<table border=\"1\" class=\"dataframe\">\n",
       "  <thead>\n",
       "    <tr style=\"text-align: right;\">\n",
       "      <th></th>\n",
       "      <th>user_id</th>\n",
       "      <th>session_id</th>\n",
       "      <th>timestamp</th>\n",
       "      <th>step</th>\n",
       "      <th>reference</th>\n",
       "      <th>impressions</th>\n",
       "      <th>ref_count_sorted</th>\n",
       "      <th>iid</th>\n",
       "      <th>sort_again</th>\n",
       "    </tr>\n",
       "  </thead>\n",
       "  <tbody>\n",
       "    <tr>\n",
       "      <th>0</th>\n",
       "      <td>004A07DM0IDW</td>\n",
       "      <td>1d688ec168932</td>\n",
       "      <td>1541555792</td>\n",
       "      <td>6</td>\n",
       "      <td>3241426</td>\n",
       "      <td>[1050068, 2059240, 3241426, 2033381, 1724779, ...</td>\n",
       "      <td>[1050068, 2059240, 3241426]</td>\n",
       "      <td>[1963235, 4491766, 5162722, 3442272, 1724779, ...</td>\n",
       "      <td>[1050068, 2059240, 3241426, 1963235, 4491766, ...</td>\n",
       "    </tr>\n",
       "    <tr>\n",
       "      <th>1</th>\n",
       "      <td>00Y1Z24X8084</td>\n",
       "      <td>26b6d294d66e7</td>\n",
       "      <td>1541651766</td>\n",
       "      <td>1</td>\n",
       "      <td>3843244</td>\n",
       "      <td>[2714480, 4476010, 3843244, 3833012, 9017890, ...</td>\n",
       "      <td>NaN</td>\n",
       "      <td>NaN</td>\n",
       "      <td>[2714480, 4476010, 3843244, 3833012, 9017890, ...</td>\n",
       "    </tr>\n",
       "    <tr>\n",
       "      <th>2</th>\n",
       "      <td>01V3WDTDM5CU</td>\n",
       "      <td>07628a0f5be0b</td>\n",
       "      <td>1541575516</td>\n",
       "      <td>4</td>\n",
       "      <td>2817590</td>\n",
       "      <td>[2817590, 3565720, 2947584, 4115018, 2039671, ...</td>\n",
       "      <td>[2817590]</td>\n",
       "      <td>NaN</td>\n",
       "      <td>[2817590, 3565720, 2947584, 4115018, 2039671, ...</td>\n",
       "    </tr>\n",
       "  </tbody>\n",
       "</table>\n",
       "</div>"
      ],
      "text/plain": [
       "        user_id     session_id   timestamp  step  reference  \\\n",
       "0  004A07DM0IDW  1d688ec168932  1541555792     6    3241426   \n",
       "1  00Y1Z24X8084  26b6d294d66e7  1541651766     1    3843244   \n",
       "2  01V3WDTDM5CU  07628a0f5be0b  1541575516     4    2817590   \n",
       "\n",
       "                                         impressions  \\\n",
       "0  [1050068, 2059240, 3241426, 2033381, 1724779, ...   \n",
       "1  [2714480, 4476010, 3843244, 3833012, 9017890, ...   \n",
       "2  [2817590, 3565720, 2947584, 4115018, 2039671, ...   \n",
       "\n",
       "              ref_count_sorted  \\\n",
       "0  [1050068, 2059240, 3241426]   \n",
       "1                          NaN   \n",
       "2                    [2817590]   \n",
       "\n",
       "                                                 iid  \\\n",
       "0  [1963235, 4491766, 5162722, 3442272, 1724779, ...   \n",
       "1                                                NaN   \n",
       "2                                                NaN   \n",
       "\n",
       "                                          sort_again  \n",
       "0  [1050068, 2059240, 3241426, 1963235, 4491766, ...  \n",
       "1  [2714480, 4476010, 3843244, 3833012, 9017890, ...  \n",
       "2  [2817590, 3565720, 2947584, 4115018, 2039671, ...  "
      ]
     },
     "execution_count": 155,
     "metadata": {},
     "output_type": "execute_result"
    }
   ],
   "source": [
    "new_submission.head(3)"
   ]
  },
  {
   "cell_type": "code",
   "execution_count": 156,
   "metadata": {},
   "outputs": [],
   "source": [
    "def mrr(answer, imp) :\n",
    "    myscore = 0\n",
    "    \n",
    "    for i,j in zip(answer, imp) :\n",
    "        if i in j :\n",
    "            myscore += 1/(j.index(i) + 1)\n",
    "    print(myscore / len(imp))"
   ]
  },
  {
   "cell_type": "code",
   "execution_count": 157,
   "metadata": {},
   "outputs": [
    {
     "name": "stdout",
     "output_type": "stream",
     "text": [
      "0.7669310355806487\n"
     ]
    }
   ],
   "source": [
    "new_submission.reference = new_submission.reference.apply(str)\n",
    "mrr(new_submission['reference'], new_submission['sort_again'])"
   ]
  },
  {
   "cell_type": "markdown",
   "metadata": {},
   "source": [
    "# defalut submission file + baselineOnly predict"
   ]
  },
  {
   "cell_type": "code",
   "execution_count": 163,
   "metadata": {},
   "outputs": [
    {
     "data": {
      "text/html": [
       "<div>\n",
       "<style scoped>\n",
       "    .dataframe tbody tr th:only-of-type {\n",
       "        vertical-align: middle;\n",
       "    }\n",
       "\n",
       "    .dataframe tbody tr th {\n",
       "        vertical-align: top;\n",
       "    }\n",
       "\n",
       "    .dataframe thead th {\n",
       "        text-align: right;\n",
       "    }\n",
       "</style>\n",
       "<table border=\"1\" class=\"dataframe\">\n",
       "  <thead>\n",
       "    <tr style=\"text-align: right;\">\n",
       "      <th></th>\n",
       "      <th>user_id</th>\n",
       "      <th>session_id</th>\n",
       "      <th>timestamp</th>\n",
       "      <th>step</th>\n",
       "      <th>reference</th>\n",
       "      <th>impressions</th>\n",
       "    </tr>\n",
       "  </thead>\n",
       "  <tbody>\n",
       "    <tr>\n",
       "      <th>0</th>\n",
       "      <td>004A07DM0IDW</td>\n",
       "      <td>1d688ec168932</td>\n",
       "      <td>1541555792</td>\n",
       "      <td>6</td>\n",
       "      <td>3241426</td>\n",
       "      <td>[2059240, 2033381, 1724779, 127131, 399441, 10...</td>\n",
       "    </tr>\n",
       "    <tr>\n",
       "      <th>1</th>\n",
       "      <td>00Y1Z24X8084</td>\n",
       "      <td>26b6d294d66e7</td>\n",
       "      <td>1541651766</td>\n",
       "      <td>1</td>\n",
       "      <td>3843244</td>\n",
       "      <td>[2714480, 4476010, 3843244, 3833012, 9017890, ...</td>\n",
       "    </tr>\n",
       "    <tr>\n",
       "      <th>2</th>\n",
       "      <td>01V3WDTDM5CU</td>\n",
       "      <td>07628a0f5be0b</td>\n",
       "      <td>1541575516</td>\n",
       "      <td>4</td>\n",
       "      <td>2817590</td>\n",
       "      <td>[3565720, 2947584, 4115018, 2039671, 3836538, ...</td>\n",
       "    </tr>\n",
       "  </tbody>\n",
       "</table>\n",
       "</div>"
      ],
      "text/plain": [
       "        user_id     session_id   timestamp  step reference  \\\n",
       "0  004A07DM0IDW  1d688ec168932  1541555792     6   3241426   \n",
       "1  00Y1Z24X8084  26b6d294d66e7  1541651766     1   3843244   \n",
       "2  01V3WDTDM5CU  07628a0f5be0b  1541575516     4   2817590   \n",
       "\n",
       "                                         impressions  \n",
       "0  [2059240, 2033381, 1724779, 127131, 399441, 10...  \n",
       "1  [2714480, 4476010, 3843244, 3833012, 9017890, ...  \n",
       "2  [3565720, 2947584, 4115018, 2039671, 3836538, ...  "
      ]
     },
     "execution_count": 163,
     "metadata": {},
     "output_type": "execute_result"
    }
   ],
   "source": [
    "default_sub = pd.read_csv(path + 'new_submission.csv')\n",
    "default_sub.impressions = default_sub.impressions.apply(lambda x : x.split('|'))\n",
    "default_sub.reference = default_sub.reference.apply(str)\n",
    "default_sub.head(3)"
   ]
  },
  {
   "cell_type": "code",
   "execution_count": 164,
   "metadata": {},
   "outputs": [
    {
     "name": "stdout",
     "output_type": "stream",
     "text": [
      "0.4517556722779725\n"
     ]
    }
   ],
   "source": [
    "mrr(default_sub['reference'], default_sub['impressions'])"
   ]
  },
  {
   "cell_type": "code",
   "execution_count": 173,
   "metadata": {},
   "outputs": [
    {
     "data": {
      "text/html": [
       "<div>\n",
       "<style scoped>\n",
       "    .dataframe tbody tr th:only-of-type {\n",
       "        vertical-align: middle;\n",
       "    }\n",
       "\n",
       "    .dataframe tbody tr th {\n",
       "        vertical-align: top;\n",
       "    }\n",
       "\n",
       "    .dataframe thead th {\n",
       "        text-align: right;\n",
       "    }\n",
       "</style>\n",
       "<table border=\"1\" class=\"dataframe\">\n",
       "  <thead>\n",
       "    <tr style=\"text-align: right;\">\n",
       "      <th></th>\n",
       "      <th>user_id</th>\n",
       "      <th>session_id</th>\n",
       "      <th>timestamp</th>\n",
       "      <th>step</th>\n",
       "      <th>reference</th>\n",
       "      <th>impressions</th>\n",
       "      <th>iid</th>\n",
       "    </tr>\n",
       "  </thead>\n",
       "  <tbody>\n",
       "    <tr>\n",
       "      <th>0</th>\n",
       "      <td>004A07DM0IDW</td>\n",
       "      <td>1d688ec168932</td>\n",
       "      <td>1541555792</td>\n",
       "      <td>6</td>\n",
       "      <td>3241426</td>\n",
       "      <td>[2059240, 2033381, 1724779, 127131, 399441, 10...</td>\n",
       "      <td>[1963235, 4491766, 5162722, 3442272, 1724779, ...</td>\n",
       "    </tr>\n",
       "    <tr>\n",
       "      <th>1</th>\n",
       "      <td>00Y1Z24X8084</td>\n",
       "      <td>26b6d294d66e7</td>\n",
       "      <td>1541651766</td>\n",
       "      <td>1</td>\n",
       "      <td>3843244</td>\n",
       "      <td>[2714480, 4476010, 3843244, 3833012, 9017890, ...</td>\n",
       "      <td>[2714480, 4476010, 3843244, 3833012, 9017890, ...</td>\n",
       "    </tr>\n",
       "    <tr>\n",
       "      <th>2</th>\n",
       "      <td>01V3WDTDM5CU</td>\n",
       "      <td>07628a0f5be0b</td>\n",
       "      <td>1541575516</td>\n",
       "      <td>4</td>\n",
       "      <td>2817590</td>\n",
       "      <td>[3565720, 2947584, 4115018, 2039671, 3836538, ...</td>\n",
       "      <td>[3565720, 2947584, 4115018, 2039671, 3836538, ...</td>\n",
       "    </tr>\n",
       "  </tbody>\n",
       "</table>\n",
       "</div>"
      ],
      "text/plain": [
       "        user_id     session_id   timestamp  step reference  \\\n",
       "0  004A07DM0IDW  1d688ec168932  1541555792     6   3241426   \n",
       "1  00Y1Z24X8084  26b6d294d66e7  1541651766     1   3843244   \n",
       "2  01V3WDTDM5CU  07628a0f5be0b  1541575516     4   2817590   \n",
       "\n",
       "                                         impressions  \\\n",
       "0  [2059240, 2033381, 1724779, 127131, 399441, 10...   \n",
       "1  [2714480, 4476010, 3843244, 3833012, 9017890, ...   \n",
       "2  [3565720, 2947584, 4115018, 2039671, 3836538, ...   \n",
       "\n",
       "                                                 iid  \n",
       "0  [1963235, 4491766, 5162722, 3442272, 1724779, ...  \n",
       "1  [2714480, 4476010, 3843244, 3833012, 9017890, ...  \n",
       "2  [3565720, 2947584, 4115018, 2039671, 3836538, ...  "
      ]
     },
     "execution_count": 173,
     "metadata": {},
     "output_type": "execute_result"
    }
   ],
   "source": [
    "aa = pd.merge(default_sub, blo_pred, how = 'left')\n",
    "aa.loc[aa.iid.isnull(), 'iid'] = aa.loc[aa.iid.isnull(), 'impressions']\n",
    "aa.head(3)"
   ]
  },
  {
   "cell_type": "code",
   "execution_count": 174,
   "metadata": {},
   "outputs": [
    {
     "name": "stdout",
     "output_type": "stream",
     "text": [
      "0.3504994501249227\n"
     ]
    }
   ],
   "source": [
    "mrr(aa['reference'], aa['iid'])"
   ]
  },
  {
   "cell_type": "markdown",
   "metadata": {},
   "source": [
    "# 예측간으한 값 only"
   ]
  },
  {
   "cell_type": "code",
   "execution_count": 180,
   "metadata": {},
   "outputs": [],
   "source": [
    "aa = pd.merge(default_sub, blo_pred, how = 'left')\n",
    "idx = ~aa.iid.isnull()\n",
    "aa = aa[idx]"
   ]
  },
  {
   "cell_type": "code",
   "execution_count": 177,
   "metadata": {},
   "outputs": [
    {
     "name": "stdout",
     "output_type": "stream",
     "text": [
      "0.3933998347533362\n",
      "ref count로 예측 가능한 값들 default :  None\n",
      "0.2447909238036744\n",
      "ref count로 예측 가능한 값들 sorting :  None\n"
     ]
    }
   ],
   "source": [
    "print('ref count로 예측 가능한 값들 default : ' ,mrr(aa.loc[idx,'reference'], aa.loc[idx,'impressions']))\n",
    "print('ref count로 예측 가능한 값들 sorting : ' ,mrr(aa.loc[idx,'reference'], aa.loc[idx,'iid']))"
   ]
  }
 ],
 "metadata": {
  "kernelspec": {
   "display_name": "Python 3",
   "language": "python",
   "name": "python3"
  },
  "language_info": {
   "codemirror_mode": {
    "name": "ipython",
    "version": 3
   },
   "file_extension": ".py",
   "mimetype": "text/x-python",
   "name": "python",
   "nbconvert_exporter": "python",
   "pygments_lexer": "ipython3",
   "version": "3.5.2"
  }
 },
 "nbformat": 4,
 "nbformat_minor": 2
}
