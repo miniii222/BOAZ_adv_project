{
 "cells": [
  {
   "cell_type": "code",
   "execution_count": 1,
   "metadata": {},
   "outputs": [
    {
     "data": {
      "text/plain": [
       "['df_ref2_session.csv',\n",
       " 'new_submission_dwell_time.csv',\n",
       " 'new_submission_baseline.csv',\n",
       " 'df_ref.csv',\n",
       " 'ref_count2_baselineOnly_pred.csv',\n",
       " 'train.csv',\n",
       " 'df_ref2.csv',\n",
       " 'submission_popular.csv',\n",
       " 'item_metadata.csv',\n",
       " 'df_full_except_noinfo.csv',\n",
       " 'test.csv',\n",
       " 'new_submission.csv',\n",
       " 'dwell_df.csv',\n",
       " 'baseline_sorting.csv',\n",
       " 'dwell_time_agg.csv',\n",
       " 'test2.csv']"
      ]
     },
     "execution_count": 1,
     "metadata": {},
     "output_type": "execute_result"
    }
   ],
   "source": [
    "import pandas as pd\n",
    "import numpy as np\n",
    "import os\n",
    "os.listdir('../input')"
   ]
  },
  {
   "cell_type": "code",
   "execution_count": 2,
   "metadata": {},
   "outputs": [],
   "source": [
    "path = '../input/'"
   ]
  },
  {
   "cell_type": "code",
   "execution_count": 146,
   "metadata": {},
   "outputs": [
    {
     "data": {
      "text/html": [
       "<div>\n",
       "<style scoped>\n",
       "    .dataframe tbody tr th:only-of-type {\n",
       "        vertical-align: middle;\n",
       "    }\n",
       "\n",
       "    .dataframe tbody tr th {\n",
       "        vertical-align: top;\n",
       "    }\n",
       "\n",
       "    .dataframe thead th {\n",
       "        text-align: right;\n",
       "    }\n",
       "</style>\n",
       "<table border=\"1\" class=\"dataframe\">\n",
       "  <thead>\n",
       "    <tr style=\"text-align: right;\">\n",
       "      <th></th>\n",
       "      <th>user_id</th>\n",
       "      <th>session_id</th>\n",
       "      <th>reference</th>\n",
       "      <th>ref_count</th>\n",
       "    </tr>\n",
       "  </thead>\n",
       "  <tbody>\n",
       "    <tr>\n",
       "      <th>0</th>\n",
       "      <td>0001VQMGUI65</td>\n",
       "      <td>466687f1875ee</td>\n",
       "      <td>3133074</td>\n",
       "      <td>11</td>\n",
       "    </tr>\n",
       "    <tr>\n",
       "      <th>1</th>\n",
       "      <td>0001VQMGUI65</td>\n",
       "      <td>466687f1875ee</td>\n",
       "      <td>2019467</td>\n",
       "      <td>1</td>\n",
       "    </tr>\n",
       "    <tr>\n",
       "      <th>2</th>\n",
       "      <td>0001VQMGUI65</td>\n",
       "      <td>466687f1875ee</td>\n",
       "      <td>4521140</td>\n",
       "      <td>1</td>\n",
       "    </tr>\n",
       "  </tbody>\n",
       "</table>\n",
       "</div>"
      ],
      "text/plain": [
       "        user_id     session_id reference  ref_count\n",
       "0  0001VQMGUI65  466687f1875ee   3133074         11\n",
       "1  0001VQMGUI65  466687f1875ee   2019467          1\n",
       "2  0001VQMGUI65  466687f1875ee   4521140          1"
      ]
     },
     "execution_count": 146,
     "metadata": {},
     "output_type": "execute_result"
    }
   ],
   "source": [
    "df_ref = pd.read_csv(path + 'df_ref2_session.csv')\n",
    "df_ref.reference = df_ref.reference.apply(str)\n",
    "df_ref.ref_count = df_ref.ref_count.apply(int)\n",
    "df_ref.head(3)"
   ]
  },
  {
   "cell_type": "code",
   "execution_count": 89,
   "metadata": {},
   "outputs": [
    {
     "name": "stdout",
     "output_type": "stream",
     "text": [
      "The original data frame shape :  (2322841, 4)\n",
      "The new data frame shape :  (1933316, 4)\n"
     ]
    }
   ],
   "source": [
    "filter_items = df_ref['reference'].value_counts() > 1\n",
    "filter_items = filter_items[filter_items].index.tolist()\n",
    "\n",
    "filter_users = df_ref['user_id'].value_counts() > 1\n",
    "filter_users = filter_users[filter_users].index.tolist()\n",
    "\n",
    "df_new = df_ref[(df_ref['reference'].isin(filter_items)) & (df_ref['user_id'].isin(filter_users))]\n",
    "\n",
    "print('The original data frame shape : ', df_ref.shape)\n",
    "print('The new data frame shape : ', df_new.shape)\n",
    "\n",
    "del df_ref"
   ]
  },
  {
   "cell_type": "code",
   "execution_count": 99,
   "metadata": {},
   "outputs": [
    {
     "data": {
      "text/html": [
       "<div>\n",
       "<style scoped>\n",
       "    .dataframe tbody tr th:only-of-type {\n",
       "        vertical-align: middle;\n",
       "    }\n",
       "\n",
       "    .dataframe tbody tr th {\n",
       "        vertical-align: top;\n",
       "    }\n",
       "\n",
       "    .dataframe thead th {\n",
       "        text-align: right;\n",
       "    }\n",
       "</style>\n",
       "<table border=\"1\" class=\"dataframe\">\n",
       "  <thead>\n",
       "    <tr style=\"text-align: right;\">\n",
       "      <th></th>\n",
       "      <th>user_id</th>\n",
       "      <th>session_id</th>\n",
       "      <th>timestamp</th>\n",
       "      <th>step</th>\n",
       "      <th>reference</th>\n",
       "      <th>impressions</th>\n",
       "    </tr>\n",
       "  </thead>\n",
       "  <tbody>\n",
       "    <tr>\n",
       "      <th>0</th>\n",
       "      <td>004A07DM0IDW</td>\n",
       "      <td>1d688ec168932</td>\n",
       "      <td>1541555792</td>\n",
       "      <td>6</td>\n",
       "      <td>3241426</td>\n",
       "      <td>[2059240, 2033381, 1724779, 127131, 399441, 10...</td>\n",
       "    </tr>\n",
       "    <tr>\n",
       "      <th>1</th>\n",
       "      <td>00Y1Z24X8084</td>\n",
       "      <td>26b6d294d66e7</td>\n",
       "      <td>1541651766</td>\n",
       "      <td>1</td>\n",
       "      <td>3843244</td>\n",
       "      <td>[2714480, 4476010, 3843244, 3833012, 9017890, ...</td>\n",
       "    </tr>\n",
       "    <tr>\n",
       "      <th>2</th>\n",
       "      <td>01V3WDTDM5CU</td>\n",
       "      <td>07628a0f5be0b</td>\n",
       "      <td>1541575516</td>\n",
       "      <td>4</td>\n",
       "      <td>2817590</td>\n",
       "      <td>[3565720, 2947584, 4115018, 2039671, 3836538, ...</td>\n",
       "    </tr>\n",
       "  </tbody>\n",
       "</table>\n",
       "</div>"
      ],
      "text/plain": [
       "        user_id     session_id   timestamp  step  reference  \\\n",
       "0  004A07DM0IDW  1d688ec168932  1541555792     6    3241426   \n",
       "1  00Y1Z24X8084  26b6d294d66e7  1541651766     1    3843244   \n",
       "2  01V3WDTDM5CU  07628a0f5be0b  1541575516     4    2817590   \n",
       "\n",
       "                                         impressions  \n",
       "0  [2059240, 2033381, 1724779, 127131, 399441, 10...  \n",
       "1  [2714480, 4476010, 3843244, 3833012, 9017890, ...  \n",
       "2  [3565720, 2947584, 4115018, 2039671, 3836538, ...  "
      ]
     },
     "execution_count": 99,
     "metadata": {},
     "output_type": "execute_result"
    }
   ],
   "source": [
    "baseline_sub = pd.read_csv(path + 'new_submission.csv')\n",
    "baseline_sub.impressions = baseline_sub.impressions.apply(lambda x : x.split('|'))\n",
    "baseline_sub.head(3)"
   ]
  },
  {
   "cell_type": "code",
   "execution_count": 91,
   "metadata": {},
   "outputs": [
    {
     "data": {
      "text/html": [
       "<div>\n",
       "<style scoped>\n",
       "    .dataframe tbody tr th:only-of-type {\n",
       "        vertical-align: middle;\n",
       "    }\n",
       "\n",
       "    .dataframe tbody tr th {\n",
       "        vertical-align: top;\n",
       "    }\n",
       "\n",
       "    .dataframe thead th {\n",
       "        text-align: right;\n",
       "    }\n",
       "</style>\n",
       "<table border=\"1\" class=\"dataframe\">\n",
       "  <thead>\n",
       "    <tr style=\"text-align: right;\">\n",
       "      <th></th>\n",
       "      <th>session_id</th>\n",
       "      <th>ref_list</th>\n",
       "    </tr>\n",
       "  </thead>\n",
       "  <tbody>\n",
       "    <tr>\n",
       "      <th>0</th>\n",
       "      <td>000056cd97ce2</td>\n",
       "      <td>[3811810, 2784325]</td>\n",
       "    </tr>\n",
       "    <tr>\n",
       "      <th>1</th>\n",
       "      <td>0000be39860d7</td>\n",
       "      <td>[79237, 445081, 4920008]</td>\n",
       "    </tr>\n",
       "    <tr>\n",
       "      <th>2</th>\n",
       "      <td>0000c0fb51e11</td>\n",
       "      <td>[673981, 10369176]</td>\n",
       "    </tr>\n",
       "  </tbody>\n",
       "</table>\n",
       "</div>"
      ],
      "text/plain": [
       "      session_id                  ref_list\n",
       "0  000056cd97ce2        [3811810, 2784325]\n",
       "1  0000be39860d7  [79237, 445081, 4920008]\n",
       "2  0000c0fb51e11        [673981, 10369176]"
      ]
     },
     "execution_count": 91,
     "metadata": {},
     "output_type": "execute_result"
    }
   ],
   "source": [
    "aa = df_new.groupby('session_id')['reference'].apply(lambda x :' '.join(x)).to_frame().reset_index()\n",
    "aa.reference = aa.reference.apply(lambda x : x.split(' '))\n",
    "aa.rename(columns = {'reference' : 'ref_list'}, inplace = True)\n",
    "aa.head(3)"
   ]
  },
  {
   "cell_type": "code",
   "execution_count": 92,
   "metadata": {},
   "outputs": [
    {
     "name": "stdout",
     "output_type": "stream",
     "text": [
      "baseline_sub shape :  (121526, 6)\n",
      "aa shape :  (607606, 2)\n"
     ]
    }
   ],
   "source": [
    "print('baseline_sub shape : ', baseline_subline_sub.shape)\n",
    "print('aa shape : ', aa.shape)"
   ]
  },
  {
   "cell_type": "code",
   "execution_count": 105,
   "metadata": {},
   "outputs": [
    {
     "name": "stdout",
     "output_type": "stream",
     "text": [
      "0.4517556722779725\n"
     ]
    }
   ],
   "source": [
    "baseline_sub.reference = baseline_sub.reference.apply(str)\n",
    "mrr(baseline_sub['reference'], baseline_sub['impressions'])"
   ]
  },
  {
   "cell_type": "code",
   "execution_count": 106,
   "metadata": {},
   "outputs": [
    {
     "name": "stdout",
     "output_type": "stream",
     "text": [
      "shape :  (83799, 7)\n"
     ]
    },
    {
     "data": {
      "text/html": [
       "<div>\n",
       "<style scoped>\n",
       "    .dataframe tbody tr th:only-of-type {\n",
       "        vertical-align: middle;\n",
       "    }\n",
       "\n",
       "    .dataframe tbody tr th {\n",
       "        vertical-align: top;\n",
       "    }\n",
       "\n",
       "    .dataframe thead th {\n",
       "        text-align: right;\n",
       "    }\n",
       "</style>\n",
       "<table border=\"1\" class=\"dataframe\">\n",
       "  <thead>\n",
       "    <tr style=\"text-align: right;\">\n",
       "      <th></th>\n",
       "      <th>user_id</th>\n",
       "      <th>session_id</th>\n",
       "      <th>timestamp</th>\n",
       "      <th>step</th>\n",
       "      <th>reference</th>\n",
       "      <th>impressions</th>\n",
       "      <th>ref_list</th>\n",
       "    </tr>\n",
       "  </thead>\n",
       "  <tbody>\n",
       "    <tr>\n",
       "      <th>0</th>\n",
       "      <td>004A07DM0IDW</td>\n",
       "      <td>1d688ec168932</td>\n",
       "      <td>1541555792</td>\n",
       "      <td>6</td>\n",
       "      <td>3241426</td>\n",
       "      <td>[2059240, 2033381, 1724779, 127131, 399441, 10...</td>\n",
       "      <td>[1050068, 2059240, 3241426]</td>\n",
       "    </tr>\n",
       "    <tr>\n",
       "      <th>1</th>\n",
       "      <td>02AOAVF9PVYH</td>\n",
       "      <td>4a01c3afbc224</td>\n",
       "      <td>1541681239</td>\n",
       "      <td>45</td>\n",
       "      <td>1177554</td>\n",
       "      <td>[1451247, 559056, 1045096, 1963879, 693596, 19...</td>\n",
       "      <td>[749491, 552311, 7304020, 1177554, 1177542, 66...</td>\n",
       "    </tr>\n",
       "    <tr>\n",
       "      <th>2</th>\n",
       "      <td>0339C84S24ET</td>\n",
       "      <td>3e7d55eae386f</td>\n",
       "      <td>1541622146</td>\n",
       "      <td>3</td>\n",
       "      <td>8511456</td>\n",
       "      <td>[10598152, 7031496, 7348404, 5753730, 7238840,...</td>\n",
       "      <td>[4957186, 8511456]</td>\n",
       "    </tr>\n",
       "  </tbody>\n",
       "</table>\n",
       "</div>"
      ],
      "text/plain": [
       "        user_id     session_id   timestamp  step reference  \\\n",
       "0  004A07DM0IDW  1d688ec168932  1541555792     6   3241426   \n",
       "1  02AOAVF9PVYH  4a01c3afbc224  1541681239    45   1177554   \n",
       "2  0339C84S24ET  3e7d55eae386f  1541622146     3   8511456   \n",
       "\n",
       "                                         impressions  \\\n",
       "0  [2059240, 2033381, 1724779, 127131, 399441, 10...   \n",
       "1  [1451247, 559056, 1045096, 1963879, 693596, 19...   \n",
       "2  [10598152, 7031496, 7348404, 5753730, 7238840,...   \n",
       "\n",
       "                                            ref_list  \n",
       "0                        [1050068, 2059240, 3241426]  \n",
       "1  [749491, 552311, 7304020, 1177554, 1177542, 66...  \n",
       "2                                 [4957186, 8511456]  "
      ]
     },
     "execution_count": 106,
     "metadata": {},
     "output_type": "execute_result"
    }
   ],
   "source": [
    "baseline_sub = pd.merge(baseline_sub, aa)\n",
    "print('shape : ', baseline_sub.shape)\n",
    "baseline_sub.head(3)"
   ]
  },
  {
   "cell_type": "code",
   "execution_count": 107,
   "metadata": {},
   "outputs": [],
   "source": [
    "def find_imp(imp, ref_list) :\n",
    "    for ref in ref_list :\n",
    "        if ref not in imp :\n",
    "            ref_list.remove(ref)\n",
    "            \n",
    "    return ref_list"
   ]
  },
  {
   "cell_type": "code",
   "execution_count": 108,
   "metadata": {},
   "outputs": [],
   "source": [
    "idx = baseline_sub[~baseline_sub.ref_list.isnull()].index\n",
    "baseline_sub.loc[idx,'ref_list'] = baseline_sub.loc[idx].apply(lambda x : find_imp(x['impressions'], x['ref_list']), axis = 1)"
   ]
  },
  {
   "cell_type": "code",
   "execution_count": 109,
   "metadata": {
    "scrolled": true
   },
   "outputs": [
    {
     "name": "stdout",
     "output_type": "stream",
     "text": [
      "220798\n"
     ]
    }
   ],
   "source": [
    "s = baseline_sub.loc[idx].apply(lambda x: pd.Series(x['ref_list']),axis=1).stack().reset_index(level=1, drop=True)\n",
    "s.name = 'item_id'\n",
    "print(len(s))"
   ]
  },
  {
   "cell_type": "code",
   "execution_count": 113,
   "metadata": {},
   "outputs": [
    {
     "data": {
      "text/html": [
       "<div>\n",
       "<style scoped>\n",
       "    .dataframe tbody tr th:only-of-type {\n",
       "        vertical-align: middle;\n",
       "    }\n",
       "\n",
       "    .dataframe tbody tr th {\n",
       "        vertical-align: top;\n",
       "    }\n",
       "\n",
       "    .dataframe thead th {\n",
       "        text-align: right;\n",
       "    }\n",
       "</style>\n",
       "<table border=\"1\" class=\"dataframe\">\n",
       "  <thead>\n",
       "    <tr style=\"text-align: right;\">\n",
       "      <th></th>\n",
       "      <th>user_id</th>\n",
       "      <th>session_id</th>\n",
       "      <th>reference</th>\n",
       "      <th>ref_count</th>\n",
       "    </tr>\n",
       "  </thead>\n",
       "  <tbody>\n",
       "    <tr>\n",
       "      <th>0</th>\n",
       "      <td>004A07DM0IDW</td>\n",
       "      <td>1d688ec168932</td>\n",
       "      <td>1050068</td>\n",
       "      <td>3</td>\n",
       "    </tr>\n",
       "    <tr>\n",
       "      <th>1</th>\n",
       "      <td>004A07DM0IDW</td>\n",
       "      <td>1d688ec168932</td>\n",
       "      <td>2059240</td>\n",
       "      <td>2</td>\n",
       "    </tr>\n",
       "    <tr>\n",
       "      <th>2</th>\n",
       "      <td>004A07DM0IDW</td>\n",
       "      <td>1d688ec168932</td>\n",
       "      <td>3241426</td>\n",
       "      <td>1</td>\n",
       "    </tr>\n",
       "  </tbody>\n",
       "</table>\n",
       "</div>"
      ],
      "text/plain": [
       "        user_id     session_id reference  ref_count\n",
       "0  004A07DM0IDW  1d688ec168932   1050068          3\n",
       "1  004A07DM0IDW  1d688ec168932   2059240          2\n",
       "2  004A07DM0IDW  1d688ec168932   3241426          1"
      ]
     },
     "execution_count": 113,
     "metadata": {},
     "output_type": "execute_result"
    }
   ],
   "source": [
    "testset = baseline_sub.loc[idx,['user_id', 'session_id']].join(s).reset_index(drop = True)\n",
    "testset.rename(columns = {'item_id' : 'reference'}, inplace = True)\n",
    "testset = pd.merge(testset, df_new)\n",
    "testset.head(3)"
   ]
  },
  {
   "cell_type": "code",
   "execution_count": 114,
   "metadata": {},
   "outputs": [
    {
     "data": {
      "text/plain": [
       "(220798, 4)"
      ]
     },
     "execution_count": 114,
     "metadata": {},
     "output_type": "execute_result"
    }
   ],
   "source": [
    "testset.shape"
   ]
  },
  {
   "cell_type": "code",
   "execution_count": 116,
   "metadata": {},
   "outputs": [],
   "source": [
    "from surprise import Reader\n",
    "from surprise import Dataset\n",
    "from surprise.model_selection import cross_validate, train_test_split\n",
    "from surprise import NormalPredictor\n",
    "#from surprise import KNNBasic,KNNWithMeans,KNNWithZScore,KNNBaseline #memory error\n",
    "from surprise import SVD, SVDpp, NMF\n",
    "from surprise import BaselineOnly, CoClustering\n",
    "from surprise import NormalPredictor\n",
    "from surprise.accuracy import rmse\n",
    "from surprise import accuracy"
   ]
  },
  {
   "cell_type": "code",
   "execution_count": 43,
   "metadata": {},
   "outputs": [
    {
     "data": {
      "text/plain": [
       "<matplotlib.axes._subplots.AxesSubplot at 0x7f710c15ab38>"
      ]
     },
     "execution_count": 43,
     "metadata": {},
     "output_type": "execute_result"
    },
    {
     "data": {
      "image/png": "[encoded data removed]",
      "text/plain": [
       "<Figure size 432x288 with 1 Axes>"
      ]
     },
     "metadata": {
      "needs_background": "light"
     },
     "output_type": "display_data"
    }
   ],
   "source": [
    "df_new.ref_count.plot.hist(bins = 30)"
   ]
  },
  {
   "cell_type": "code",
   "execution_count": 129,
   "metadata": {},
   "outputs": [
    {
     "data": {
      "text/plain": [
       "count    1.933316e+06\n",
       "mean     6.265562e+00\n",
       "std      7.363268e+00\n",
       "min      1.000000e+00\n",
       "25%      1.000000e+00\n",
       "50%      2.000000e+00\n",
       "75%      1.000000e+01\n",
       "max      2.100000e+01\n",
       "Name: ref_count, dtype: float64"
      ]
     },
     "execution_count": 129,
     "metadata": {},
     "output_type": "execute_result"
    }
   ],
   "source": [
    "df_new.ref_count.describe()"
   ]
  },
  {
   "cell_type": "code",
   "execution_count": 167,
   "metadata": {},
   "outputs": [],
   "source": [
    "df_new.reference = df_new.reference.apply(int)\n",
    "reader = Reader(rating_scale=(1,21))\n",
    "data = Dataset.load_from_df(df_new[['session_id','reference','ref_count']], reader)\n",
    "#by session_id"
   ]
  },
  {
   "cell_type": "code",
   "execution_count": 62,
   "metadata": {},
   "outputs": [],
   "source": [
    "benchmark = []"
   ]
  },
  {
   "cell_type": "markdown",
   "metadata": {},
   "source": [
    "# CV\n",
    "## SVD"
   ]
  },
  {
   "cell_type": "code",
   "execution_count": 63,
   "metadata": {},
   "outputs": [
    {
     "name": "stdout",
     "output_type": "stream",
     "text": [
      "algorithm :  SVD\n"
     ]
    },
    {
     "data": {
      "text/plain": [
       "fit_time     48.2006\n",
       "test_rmse    6.58461\n",
       "test_time    4.10611\n",
       "Algorithm        SVD\n",
       "dtype: object"
      ]
     },
     "execution_count": 63,
     "metadata": {},
     "output_type": "execute_result"
    }
   ],
   "source": [
    "print('algorithm : ', 'SVD')\n",
    "results = cross_validate(SVD(), data, measures=['RMSE'], cv = 3, verbose = False, n_jobs = -1)\n",
    "\n",
    "#get results\n",
    "tmp = pd.DataFrame.from_dict(results).mean(axis = 0)\n",
    "tmp = tmp.append(pd.Series('SVD', index = ['Algorithm']))\n",
    "benchmark.append(tmp)\n",
    "tmp #6.58461"
   ]
  },
  {
   "cell_type": "markdown",
   "metadata": {},
   "source": [
    "## SVDpp"
   ]
  },
  {
   "cell_type": "code",
   "execution_count": 64,
   "metadata": {},
   "outputs": [
    {
     "name": "stdout",
     "output_type": "stream",
     "text": [
      "algorithm :  SVDpp\n"
     ]
    },
    {
     "data": {
      "text/plain": [
       "fit_time     132.943\n",
       "test_rmse     6.7882\n",
       "test_time    8.62438\n",
       "Algorithm      SVDpp\n",
       "dtype: object"
      ]
     },
     "execution_count": 64,
     "metadata": {},
     "output_type": "execute_result"
    }
   ],
   "source": [
    "print('algorithm : ', 'SVDpp')\n",
    "results = cross_validate(SVDpp(), data, measures=['RMSE'], cv = 3, verbose = False, n_jobs = -1)\n",
    "\n",
    "#get results\n",
    "tmp = pd.DataFrame.from_dict(results).mean(axis = 0)\n",
    "tmp = tmp.append(pd.Series('SVDpp', index = ['Algorithm']))\n",
    "benchmark.append(tmp)\n",
    "tmp #6.7882"
   ]
  },
  {
   "cell_type": "markdown",
   "metadata": {},
   "source": [
    "## baseline Only"
   ]
  },
  {
   "cell_type": "code",
   "execution_count": 66,
   "metadata": {},
   "outputs": [
    {
     "name": "stdout",
     "output_type": "stream",
     "text": [
      "algorithm :  BaselineOnly\n"
     ]
    },
    {
     "data": {
      "text/plain": [
       "fit_time          1.54545\n",
       "test_rmse         6.66078\n",
       "test_time          3.3099\n",
       "Algorithm    BaselineOnly\n",
       "dtype: object"
      ]
     },
     "execution_count": 66,
     "metadata": {},
     "output_type": "execute_result"
    }
   ],
   "source": [
    "print('algorithm : ', 'BaselineOnly')\n",
    "results = cross_validate(BaselineOnly(), data, measures=['RMSE'], cv = 3, verbose = False, n_jobs = -1)\n",
    "\n",
    "#get results\n",
    "tmp = pd.DataFrame.from_dict(results).mean(axis = 0)\n",
    "tmp = tmp.append(pd.Series('BaselineOnly', index = ['Algorithm']))\n",
    "benchmark.append(tmp)\n",
    "tmp #6.66078"
   ]
  },
  {
   "cell_type": "markdown",
   "metadata": {},
   "source": [
    "# train test split"
   ]
  },
  {
   "cell_type": "code",
   "execution_count": 67,
   "metadata": {},
   "outputs": [],
   "source": [
    "trainset,testset = train_test_split(data, test_size = 0.3)"
   ]
  },
  {
   "cell_type": "markdown",
   "metadata": {},
   "source": [
    "## SVD"
   ]
  },
  {
   "cell_type": "code",
   "execution_count": 68,
   "metadata": {},
   "outputs": [
    {
     "name": "stdout",
     "output_type": "stream",
     "text": [
      "RMSE: 6.5272\n"
     ]
    },
    {
     "data": {
      "text/plain": [
       "6.527242576422158"
      ]
     },
     "execution_count": 68,
     "metadata": {},
     "output_type": "execute_result"
    }
   ],
   "source": [
    "algo = SVD(lr_all = 0.01, n_epochs = 30)\n",
    "\n",
    "pred = algo.fit(trainset).test(testset)\n",
    "accuracy.rmse(pred) #RMSE: 6.5272"
   ]
  },
  {
   "cell_type": "markdown",
   "metadata": {},
   "source": [
    "## SVDpp"
   ]
  },
  {
   "cell_type": "code",
   "execution_count": 69,
   "metadata": {},
   "outputs": [
    {
     "name": "stdout",
     "output_type": "stream",
     "text": [
      "RMSE: 6.7223\n"
     ]
    },
    {
     "data": {
      "text/plain": [
       "6.722319277006939"
      ]
     },
     "execution_count": 69,
     "metadata": {},
     "output_type": "execute_result"
    }
   ],
   "source": [
    "algo = SVDpp(lr_all = 0.01, n_epochs = 30)\n",
    "\n",
    "pred = algo.fit(trainset).test(testset)\n",
    "accuracy.rmse(pred) #RMSE: 6.7223"
   ]
  },
  {
   "cell_type": "markdown",
   "metadata": {},
   "source": [
    "## BaselineOnly"
   ]
  },
  {
   "cell_type": "code",
   "execution_count": 70,
   "metadata": {},
   "outputs": [
    {
     "name": "stdout",
     "output_type": "stream",
     "text": [
      "Estimating biases using als...\n",
      "RMSE: 6.3431\n"
     ]
    },
    {
     "data": {
      "text/plain": [
       "6.343134657435686"
      ]
     },
     "execution_count": 70,
     "metadata": {},
     "output_type": "execute_result"
    }
   ],
   "source": [
    "bsl_options = {'method' : 'als',\n",
    "              'n_epochs' : 10,\n",
    "              'reg_u' : 5,\n",
    "              'reg_i' : 5}\n",
    "\n",
    "algo = BaselineOnly(bsl_options=bsl_options)\n",
    "\n",
    "pred = algo.fit(trainset).test(testset)\n",
    "accuracy.rmse(pred) #RMSE: 6.3431 best"
   ]
  },
  {
   "cell_type": "markdown",
   "metadata": {},
   "source": [
    "# predict"
   ]
  },
  {
   "cell_type": "code",
   "execution_count": 155,
   "metadata": {},
   "outputs": [
    {
     "data": {
      "text/html": [
       "<div>\n",
       "<style scoped>\n",
       "    .dataframe tbody tr th:only-of-type {\n",
       "        vertical-align: middle;\n",
       "    }\n",
       "\n",
       "    .dataframe tbody tr th {\n",
       "        vertical-align: top;\n",
       "    }\n",
       "\n",
       "    .dataframe thead th {\n",
       "        text-align: right;\n",
       "    }\n",
       "</style>\n",
       "<table border=\"1\" class=\"dataframe\">\n",
       "  <thead>\n",
       "    <tr style=\"text-align: right;\">\n",
       "      <th></th>\n",
       "      <th>user_id</th>\n",
       "      <th>session_id</th>\n",
       "      <th>timestamp</th>\n",
       "      <th>step</th>\n",
       "      <th>reference</th>\n",
       "      <th>impressions</th>\n",
       "    </tr>\n",
       "  </thead>\n",
       "  <tbody>\n",
       "    <tr>\n",
       "      <th>0</th>\n",
       "      <td>004A07DM0IDW</td>\n",
       "      <td>1d688ec168932</td>\n",
       "      <td>1541555792</td>\n",
       "      <td>6</td>\n",
       "      <td>3241426</td>\n",
       "      <td>[2059240, 2033381, 1724779, 127131, 399441, 10...</td>\n",
       "    </tr>\n",
       "    <tr>\n",
       "      <th>1</th>\n",
       "      <td>00Y1Z24X8084</td>\n",
       "      <td>26b6d294d66e7</td>\n",
       "      <td>1541651766</td>\n",
       "      <td>1</td>\n",
       "      <td>3843244</td>\n",
       "      <td>[2714480, 4476010, 3843244, 3833012, 9017890, ...</td>\n",
       "    </tr>\n",
       "    <tr>\n",
       "      <th>2</th>\n",
       "      <td>01V3WDTDM5CU</td>\n",
       "      <td>07628a0f5be0b</td>\n",
       "      <td>1541575516</td>\n",
       "      <td>4</td>\n",
       "      <td>2817590</td>\n",
       "      <td>[3565720, 2947584, 4115018, 2039671, 3836538, ...</td>\n",
       "    </tr>\n",
       "  </tbody>\n",
       "</table>\n",
       "</div>"
      ],
      "text/plain": [
       "        user_id     session_id   timestamp  step  reference  \\\n",
       "0  004A07DM0IDW  1d688ec168932  1541555792     6    3241426   \n",
       "1  00Y1Z24X8084  26b6d294d66e7  1541651766     1    3843244   \n",
       "2  01V3WDTDM5CU  07628a0f5be0b  1541575516     4    2817590   \n",
       "\n",
       "                                         impressions  \n",
       "0  [2059240, 2033381, 1724779, 127131, 399441, 10...  \n",
       "1  [2714480, 4476010, 3843244, 3833012, 9017890, ...  \n",
       "2  [3565720, 2947584, 4115018, 2039671, 3836538, ...  "
      ]
     },
     "execution_count": 155,
     "metadata": {},
     "output_type": "execute_result"
    }
   ],
   "source": [
    "baseline_sub = pd.read_csv(path + 'new_submission.csv')\n",
    "baseline_sub.impressions = baseline_sub.impressions.apply(lambda x : x.split('|'))\n",
    "baseline_sub.head(3)"
   ]
  },
  {
   "cell_type": "code",
   "execution_count": 136,
   "metadata": {},
   "outputs": [
    {
     "name": "stdout",
     "output_type": "stream",
     "text": [
      "(220798, 4)\n"
     ]
    },
    {
     "data": {
      "text/html": [
       "<div>\n",
       "<style scoped>\n",
       "    .dataframe tbody tr th:only-of-type {\n",
       "        vertical-align: middle;\n",
       "    }\n",
       "\n",
       "    .dataframe tbody tr th {\n",
       "        vertical-align: top;\n",
       "    }\n",
       "\n",
       "    .dataframe thead th {\n",
       "        text-align: right;\n",
       "    }\n",
       "</style>\n",
       "<table border=\"1\" class=\"dataframe\">\n",
       "  <thead>\n",
       "    <tr style=\"text-align: right;\">\n",
       "      <th></th>\n",
       "      <th>user_id</th>\n",
       "      <th>session_id</th>\n",
       "      <th>reference</th>\n",
       "      <th>ref_count</th>\n",
       "    </tr>\n",
       "  </thead>\n",
       "  <tbody>\n",
       "    <tr>\n",
       "      <th>0</th>\n",
       "      <td>004A07DM0IDW</td>\n",
       "      <td>1d688ec168932</td>\n",
       "      <td>1050068</td>\n",
       "      <td>3</td>\n",
       "    </tr>\n",
       "    <tr>\n",
       "      <th>1</th>\n",
       "      <td>004A07DM0IDW</td>\n",
       "      <td>1d688ec168932</td>\n",
       "      <td>2059240</td>\n",
       "      <td>2</td>\n",
       "    </tr>\n",
       "    <tr>\n",
       "      <th>2</th>\n",
       "      <td>004A07DM0IDW</td>\n",
       "      <td>1d688ec168932</td>\n",
       "      <td>3241426</td>\n",
       "      <td>1</td>\n",
       "    </tr>\n",
       "  </tbody>\n",
       "</table>\n",
       "</div>"
      ],
      "text/plain": [
       "        user_id     session_id reference  ref_count\n",
       "0  004A07DM0IDW  1d688ec168932   1050068          3\n",
       "1  004A07DM0IDW  1d688ec168932   2059240          2\n",
       "2  004A07DM0IDW  1d688ec168932   3241426          1"
      ]
     },
     "execution_count": 136,
     "metadata": {},
     "output_type": "execute_result"
    }
   ],
   "source": [
    "print(testset.shape)\n",
    "testset.head(3)"
   ]
  },
  {
   "cell_type": "markdown",
   "metadata": {},
   "source": [
    "## Baselineonly"
   ]
  },
  {
   "cell_type": "code",
   "execution_count": 156,
   "metadata": {},
   "outputs": [
    {
     "name": "stdout",
     "output_type": "stream",
     "text": [
      "Estimating biases using als...\n"
     ]
    }
   ],
   "source": [
    "bsl_options = {'method' : 'als',\n",
    "              'n_epochs' : 10,\n",
    "              'reg_u' : 5,\n",
    "              'reg_i' : 5}\n",
    "\n",
    "algo = BaselineOnly(bsl_options=bsl_options)\n",
    "\n",
    "trainset = data.build_full_trainset()\n",
    "fitting = algo.fit(trainset)"
   ]
  },
  {
   "cell_type": "code",
   "execution_count": 194,
   "metadata": {},
   "outputs": [],
   "source": [
    "item_unique = testset.reference.unique()\n",
    "item_unique = item_unique.astype(np.int)"
   ]
  },
  {
   "cell_type": "code",
   "execution_count": 158,
   "metadata": {},
   "outputs": [
    {
     "name": "stdout",
     "output_type": "stream",
     "text": [
      "session id :  83331\n",
      "item id :  93153\n"
     ]
    }
   ],
   "source": [
    "print('session id : ',len(testset.session_id.unique()))\n",
    "print('item id : ',len(item_unique))"
   ]
  },
  {
   "cell_type": "code",
   "execution_count": 207,
   "metadata": {},
   "outputs": [
    {
     "name": "stdout",
     "output_type": "stream",
     "text": [
      "1000번째 id\n",
      "2000번째 id\n",
      "3000번째 id\n",
      "4000번째 id\n",
      "5000번째 id\n",
      "6000번째 id\n",
      "7000번째 id\n",
      "8000번째 id\n",
      "9000번째 id\n",
      "10000번째 id\n",
      "11000번째 id\n",
      "12000번째 id\n",
      "13000번째 id\n",
      "14000번째 id\n",
      "15000번째 id\n",
      "16000번째 id\n",
      "17000번째 id\n",
      "18000번째 id\n",
      "19000번째 id\n",
      "20000번째 id\n",
      "21000번째 id\n",
      "22000번째 id\n",
      "23000번째 id\n",
      "24000번째 id\n",
      "25000번째 id\n",
      "26000번째 id\n",
      "27000번째 id\n",
      "28000번째 id\n",
      "29000번째 id\n",
      "30000번째 id\n",
      "31000번째 id\n",
      "32000번째 id\n",
      "33000번째 id\n",
      "34000번째 id\n",
      "35000번째 id\n",
      "36000번째 id\n",
      "37000번째 id\n",
      "38000번째 id\n",
      "39000번째 id\n",
      "40000번째 id\n",
      "41000번째 id\n",
      "42000번째 id\n",
      "43000번째 id\n",
      "44000번째 id\n",
      "45000번째 id\n",
      "46000번째 id\n",
      "47000번째 id\n",
      "48000번째 id\n",
      "49000번째 id\n",
      "50000번째 id\n",
      "51000번째 id\n",
      "52000번째 id\n",
      "53000번째 id\n",
      "54000번째 id\n",
      "55000번째 id\n",
      "56000번째 id\n",
      "57000번째 id\n",
      "58000번째 id\n",
      "59000번째 id\n",
      "60000번째 id\n",
      "61000번째 id\n",
      "62000번째 id\n",
      "63000번째 id\n",
      "64000번째 id\n",
      "65000번째 id\n",
      "66000번째 id\n",
      "67000번째 id\n",
      "68000번째 id\n",
      "69000번째 id\n",
      "70000번째 id\n",
      "71000번째 id\n",
      "72000번째 id\n",
      "73000번째 id\n",
      "74000번째 id\n",
      "75000번째 id\n",
      "76000번째 id\n",
      "77000번째 id\n",
      "78000번째 id\n",
      "79000번째 id\n",
      "80000번째 id\n",
      "81000번째 id\n",
      "82000번째 id\n",
      "83000번째 id\n"
     ]
    }
   ],
   "source": [
    "pred = []\n",
    "pred_df = pd.DataFrame(columns = ['uid','iid','est'])\n",
    "\n",
    "i = 0\n",
    "for sess in testset.session_id.unique() :\n",
    "    i+=1\n",
    "    if i%1000 == 0 :\n",
    "        print('{}번째 id'.format(i))\n",
    "        if len(pred) > 0 :\n",
    "            pred = pd.DataFrame(pred)[['uid','iid','est']]\n",
    "            pred_df = pred_df.append(pred)\n",
    "            pred_df.to_csv(path + 'ref_count2_baselineOnly_pred.csv', index = False)\n",
    "            pred = []\n",
    "    \n",
    "    iid = baseline_sub[baseline_sub.session_id == sess]['impressions'].values[0]\n",
    "    iid = list(map(int, iid))\n",
    "\n",
    "    for item in iid :\n",
    "        if item in item_unique :\n",
    "            algo_pred = algo.predict(sess, item)\n",
    "            pred.append(algo_pred)"
   ]
  },
  {
   "cell_type": "code",
   "execution_count": 209,
   "metadata": {},
   "outputs": [
    {
     "data": {
      "text/html": [
       "<div>\n",
       "<style scoped>\n",
       "    .dataframe tbody tr th:only-of-type {\n",
       "        vertical-align: middle;\n",
       "    }\n",
       "\n",
       "    .dataframe tbody tr th {\n",
       "        vertical-align: top;\n",
       "    }\n",
       "\n",
       "    .dataframe thead th {\n",
       "        text-align: right;\n",
       "    }\n",
       "</style>\n",
       "<table border=\"1\" class=\"dataframe\">\n",
       "  <thead>\n",
       "    <tr style=\"text-align: right;\">\n",
       "      <th></th>\n",
       "      <th>session_id</th>\n",
       "      <th>iid</th>\n",
       "      <th>est</th>\n",
       "    </tr>\n",
       "  </thead>\n",
       "  <tbody>\n",
       "    <tr>\n",
       "      <th>0</th>\n",
       "      <td>1d688ec168932</td>\n",
       "      <td>2059240</td>\n",
       "      <td>3.714849</td>\n",
       "    </tr>\n",
       "    <tr>\n",
       "      <th>1</th>\n",
       "      <td>1d688ec168932</td>\n",
       "      <td>2033381</td>\n",
       "      <td>6.146838</td>\n",
       "    </tr>\n",
       "    <tr>\n",
       "      <th>2</th>\n",
       "      <td>1d688ec168932</td>\n",
       "      <td>1724779</td>\n",
       "      <td>7.527305</td>\n",
       "    </tr>\n",
       "  </tbody>\n",
       "</table>\n",
       "</div>"
      ],
      "text/plain": [
       "      session_id      iid       est\n",
       "0  1d688ec168932  2059240  3.714849\n",
       "1  1d688ec168932  2033381  6.146838\n",
       "2  1d688ec168932  1724779  7.527305"
      ]
     },
     "execution_count": 209,
     "metadata": {},
     "output_type": "execute_result"
    }
   ],
   "source": [
    "pred_df.rename(columns = {'uid' : 'session_id'}, inplace = True)\n",
    "pred_df.head(3)"
   ]
  },
  {
   "cell_type": "code",
   "execution_count": 210,
   "metadata": {},
   "outputs": [],
   "source": [
    "#pred_df.to_csv(path + 'ref_count2_baselineOnly_pred.csv', index = False)"
   ]
  },
  {
   "cell_type": "markdown",
   "metadata": {},
   "source": [
    "# scoring"
   ]
  },
  {
   "cell_type": "code",
   "execution_count": 211,
   "metadata": {},
   "outputs": [
    {
     "data": {
      "text/html": [
       "<div>\n",
       "<style scoped>\n",
       "    .dataframe tbody tr th:only-of-type {\n",
       "        vertical-align: middle;\n",
       "    }\n",
       "\n",
       "    .dataframe tbody tr th {\n",
       "        vertical-align: top;\n",
       "    }\n",
       "\n",
       "    .dataframe thead th {\n",
       "        text-align: right;\n",
       "    }\n",
       "</style>\n",
       "<table border=\"1\" class=\"dataframe\">\n",
       "  <thead>\n",
       "    <tr style=\"text-align: right;\">\n",
       "      <th></th>\n",
       "      <th>session_id</th>\n",
       "      <th>iid</th>\n",
       "      <th>est</th>\n",
       "    </tr>\n",
       "  </thead>\n",
       "  <tbody>\n",
       "    <tr>\n",
       "      <th>0</th>\n",
       "      <td>0000e0500c2e7</td>\n",
       "      <td>3793522</td>\n",
       "      <td>6.993011</td>\n",
       "    </tr>\n",
       "    <tr>\n",
       "      <th>1</th>\n",
       "      <td>0000e0500c2e7</td>\n",
       "      <td>8342182</td>\n",
       "      <td>5.663945</td>\n",
       "    </tr>\n",
       "    <tr>\n",
       "      <th>2</th>\n",
       "      <td>0000e0500c2e7</td>\n",
       "      <td>9377514</td>\n",
       "      <td>5.573696</td>\n",
       "    </tr>\n",
       "  </tbody>\n",
       "</table>\n",
       "</div>"
      ],
      "text/plain": [
       "      session_id      iid       est\n",
       "0  0000e0500c2e7  3793522  6.993011\n",
       "1  0000e0500c2e7  8342182  5.663945\n",
       "2  0000e0500c2e7  9377514  5.573696"
      ]
     },
     "execution_count": 211,
     "metadata": {},
     "output_type": "execute_result"
    }
   ],
   "source": [
    "pred_df = pred_df.groupby('session_id').apply(lambda x : x.sort_values(['est'], ascending = False)).reset_index(drop = True)\n",
    "pred_df.iid = pred_df.iid.apply(str)\n",
    "pred_df.head(3)"
   ]
  },
  {
   "cell_type": "code",
   "execution_count": 212,
   "metadata": {},
   "outputs": [
    {
     "data": {
      "text/html": [
       "<div>\n",
       "<style scoped>\n",
       "    .dataframe tbody tr th:only-of-type {\n",
       "        vertical-align: middle;\n",
       "    }\n",
       "\n",
       "    .dataframe tbody tr th {\n",
       "        vertical-align: top;\n",
       "    }\n",
       "\n",
       "    .dataframe thead th {\n",
       "        text-align: right;\n",
       "    }\n",
       "</style>\n",
       "<table border=\"1\" class=\"dataframe\">\n",
       "  <thead>\n",
       "    <tr style=\"text-align: right;\">\n",
       "      <th></th>\n",
       "      <th>user_id</th>\n",
       "      <th>session_id</th>\n",
       "      <th>timestamp</th>\n",
       "      <th>step</th>\n",
       "      <th>reference</th>\n",
       "      <th>impressions</th>\n",
       "    </tr>\n",
       "  </thead>\n",
       "  <tbody>\n",
       "    <tr>\n",
       "      <th>0</th>\n",
       "      <td>004A07DM0IDW</td>\n",
       "      <td>1d688ec168932</td>\n",
       "      <td>1541555792</td>\n",
       "      <td>6</td>\n",
       "      <td>3241426</td>\n",
       "      <td>[2059240, 2033381, 1724779, 127131, 399441, 10...</td>\n",
       "    </tr>\n",
       "    <tr>\n",
       "      <th>1</th>\n",
       "      <td>00Y1Z24X8084</td>\n",
       "      <td>26b6d294d66e7</td>\n",
       "      <td>1541651766</td>\n",
       "      <td>1</td>\n",
       "      <td>3843244</td>\n",
       "      <td>[2714480, 4476010, 3843244, 3833012, 9017890, ...</td>\n",
       "    </tr>\n",
       "    <tr>\n",
       "      <th>2</th>\n",
       "      <td>01V3WDTDM5CU</td>\n",
       "      <td>07628a0f5be0b</td>\n",
       "      <td>1541575516</td>\n",
       "      <td>4</td>\n",
       "      <td>2817590</td>\n",
       "      <td>[3565720, 2947584, 4115018, 2039671, 3836538, ...</td>\n",
       "    </tr>\n",
       "  </tbody>\n",
       "</table>\n",
       "</div>"
      ],
      "text/plain": [
       "        user_id     session_id   timestamp  step  reference  \\\n",
       "0  004A07DM0IDW  1d688ec168932  1541555792     6    3241426   \n",
       "1  00Y1Z24X8084  26b6d294d66e7  1541651766     1    3843244   \n",
       "2  01V3WDTDM5CU  07628a0f5be0b  1541575516     4    2817590   \n",
       "\n",
       "                                         impressions  \n",
       "0  [2059240, 2033381, 1724779, 127131, 399441, 10...  \n",
       "1  [2714480, 4476010, 3843244, 3833012, 9017890, ...  \n",
       "2  [3565720, 2947584, 4115018, 2039671, 3836538, ...  "
      ]
     },
     "execution_count": 212,
     "metadata": {},
     "output_type": "execute_result"
    }
   ],
   "source": [
    "baseline_sub.head(3)"
   ]
  },
  {
   "cell_type": "code",
   "execution_count": 213,
   "metadata": {
    "scrolled": true
   },
   "outputs": [
    {
     "data": {
      "text/html": [
       "<div>\n",
       "<style scoped>\n",
       "    .dataframe tbody tr th:only-of-type {\n",
       "        vertical-align: middle;\n",
       "    }\n",
       "\n",
       "    .dataframe tbody tr th {\n",
       "        vertical-align: top;\n",
       "    }\n",
       "\n",
       "    .dataframe thead th {\n",
       "        text-align: right;\n",
       "    }\n",
       "</style>\n",
       "<table border=\"1\" class=\"dataframe\">\n",
       "  <thead>\n",
       "    <tr style=\"text-align: right;\">\n",
       "      <th></th>\n",
       "      <th>session_id</th>\n",
       "      <th>iid</th>\n",
       "    </tr>\n",
       "  </thead>\n",
       "  <tbody>\n",
       "    <tr>\n",
       "      <th>0</th>\n",
       "      <td>0000e0500c2e7</td>\n",
       "      <td>[3793522, 8342182, 9377514, 2605288, 7354306, ...</td>\n",
       "    </tr>\n",
       "    <tr>\n",
       "      <th>1</th>\n",
       "      <td>000177b850519</td>\n",
       "      <td>[17529, 16831, 2759696, 153594, 9117602, 17579...</td>\n",
       "    </tr>\n",
       "    <tr>\n",
       "      <th>2</th>\n",
       "      <td>00017b3b2c136</td>\n",
       "      <td>[2810449, 1101646, 509856, 5717238, 2565452, 4...</td>\n",
       "    </tr>\n",
       "  </tbody>\n",
       "</table>\n",
       "</div>"
      ],
      "text/plain": [
       "      session_id                                                iid\n",
       "0  0000e0500c2e7  [3793522, 8342182, 9377514, 2605288, 7354306, ...\n",
       "1  000177b850519  [17529, 16831, 2759696, 153594, 9117602, 17579...\n",
       "2  00017b3b2c136  [2810449, 1101646, 509856, 5717238, 2565452, 4..."
      ]
     },
     "execution_count": 213,
     "metadata": {},
     "output_type": "execute_result"
    }
   ],
   "source": [
    "pred_df = pred_df.groupby('session_id')['iid'].apply(lambda x : ' '.join(x)).to_frame().reset_index()\n",
    "pred_df.iid = pred_df.iid.apply(lambda x : x.split(' '))\n",
    "pred_df.head(3)"
   ]
  },
  {
   "cell_type": "code",
   "execution_count": 214,
   "metadata": {},
   "outputs": [
    {
     "data": {
      "text/html": [
       "<div>\n",
       "<style scoped>\n",
       "    .dataframe tbody tr th:only-of-type {\n",
       "        vertical-align: middle;\n",
       "    }\n",
       "\n",
       "    .dataframe tbody tr th {\n",
       "        vertical-align: top;\n",
       "    }\n",
       "\n",
       "    .dataframe thead th {\n",
       "        text-align: right;\n",
       "    }\n",
       "</style>\n",
       "<table border=\"1\" class=\"dataframe\">\n",
       "  <thead>\n",
       "    <tr style=\"text-align: right;\">\n",
       "      <th></th>\n",
       "      <th>user_id</th>\n",
       "      <th>session_id</th>\n",
       "      <th>timestamp</th>\n",
       "      <th>step</th>\n",
       "      <th>reference</th>\n",
       "      <th>impressions</th>\n",
       "      <th>iid</th>\n",
       "    </tr>\n",
       "  </thead>\n",
       "  <tbody>\n",
       "    <tr>\n",
       "      <th>0</th>\n",
       "      <td>004A07DM0IDW</td>\n",
       "      <td>1d688ec168932</td>\n",
       "      <td>1541555792</td>\n",
       "      <td>6</td>\n",
       "      <td>3241426</td>\n",
       "      <td>[2059240, 2033381, 1724779, 127131, 399441, 10...</td>\n",
       "      <td>[1963235, 4491766, 5162722, 3442272, 1724779, ...</td>\n",
       "    </tr>\n",
       "    <tr>\n",
       "      <th>1</th>\n",
       "      <td>02AOAVF9PVYH</td>\n",
       "      <td>4a01c3afbc224</td>\n",
       "      <td>1541681239</td>\n",
       "      <td>45</td>\n",
       "      <td>1177554</td>\n",
       "      <td>[1451247, 559056, 1045096, 1963879, 693596, 19...</td>\n",
       "      <td>[2617856, 1967173, 1045096, 1052844, 1052880, ...</td>\n",
       "    </tr>\n",
       "    <tr>\n",
       "      <th>2</th>\n",
       "      <td>0339C84S24ET</td>\n",
       "      <td>3e7d55eae386f</td>\n",
       "      <td>1541622146</td>\n",
       "      <td>3</td>\n",
       "      <td>8511456</td>\n",
       "      <td>[10598152, 7031496, 7348404, 5753730, 7238840,...</td>\n",
       "      <td>[7031496, 10598152, 8511456, 9820556, 5753730]</td>\n",
       "    </tr>\n",
       "  </tbody>\n",
       "</table>\n",
       "</div>"
      ],
      "text/plain": [
       "        user_id     session_id   timestamp  step  reference  \\\n",
       "0  004A07DM0IDW  1d688ec168932  1541555792     6    3241426   \n",
       "1  02AOAVF9PVYH  4a01c3afbc224  1541681239    45    1177554   \n",
       "2  0339C84S24ET  3e7d55eae386f  1541622146     3    8511456   \n",
       "\n",
       "                                         impressions  \\\n",
       "0  [2059240, 2033381, 1724779, 127131, 399441, 10...   \n",
       "1  [1451247, 559056, 1045096, 1963879, 693596, 19...   \n",
       "2  [10598152, 7031496, 7348404, 5753730, 7238840,...   \n",
       "\n",
       "                                                 iid  \n",
       "0  [1963235, 4491766, 5162722, 3442272, 1724779, ...  \n",
       "1  [2617856, 1967173, 1045096, 1052844, 1052880, ...  \n",
       "2     [7031496, 10598152, 8511456, 9820556, 5753730]  "
      ]
     },
     "execution_count": 214,
     "metadata": {},
     "output_type": "execute_result"
    }
   ],
   "source": [
    "baseline_sub = pd.merge(baseline_sub, pred_df)\n",
    "baseline_sub.head(3)"
   ]
  },
  {
   "cell_type": "code",
   "execution_count": 215,
   "metadata": {},
   "outputs": [],
   "source": [
    "def sort_again(imp, ref) :\n",
    "    my = []\n",
    "    for rr in ref :\n",
    "        if rr in imp :\n",
    "            my.append(rr)\n",
    "            imp.remove(rr)\n",
    "    imp = my + imp\n",
    "    return imp"
   ]
  },
  {
   "cell_type": "code",
   "execution_count": 216,
   "metadata": {},
   "outputs": [
    {
     "data": {
      "text/html": [
       "<div>\n",
       "<style scoped>\n",
       "    .dataframe tbody tr th:only-of-type {\n",
       "        vertical-align: middle;\n",
       "    }\n",
       "\n",
       "    .dataframe tbody tr th {\n",
       "        vertical-align: top;\n",
       "    }\n",
       "\n",
       "    .dataframe thead th {\n",
       "        text-align: right;\n",
       "    }\n",
       "</style>\n",
       "<table border=\"1\" class=\"dataframe\">\n",
       "  <thead>\n",
       "    <tr style=\"text-align: right;\">\n",
       "      <th></th>\n",
       "      <th>user_id</th>\n",
       "      <th>session_id</th>\n",
       "      <th>timestamp</th>\n",
       "      <th>step</th>\n",
       "      <th>reference</th>\n",
       "      <th>impressions</th>\n",
       "      <th>iid</th>\n",
       "    </tr>\n",
       "  </thead>\n",
       "  <tbody>\n",
       "    <tr>\n",
       "      <th>0</th>\n",
       "      <td>004A07DM0IDW</td>\n",
       "      <td>1d688ec168932</td>\n",
       "      <td>1541555792</td>\n",
       "      <td>6</td>\n",
       "      <td>3241426</td>\n",
       "      <td>[1963235, 4491766, 5162722, 3442272, 1724779, ...</td>\n",
       "      <td>[1963235, 4491766, 5162722, 3442272, 1724779, ...</td>\n",
       "    </tr>\n",
       "    <tr>\n",
       "      <th>1</th>\n",
       "      <td>02AOAVF9PVYH</td>\n",
       "      <td>4a01c3afbc224</td>\n",
       "      <td>1541681239</td>\n",
       "      <td>45</td>\n",
       "      <td>1177554</td>\n",
       "      <td>[2617856, 1967173, 1045096, 1052844, 1052880, ...</td>\n",
       "      <td>[2617856, 1967173, 1045096, 1052844, 1052880, ...</td>\n",
       "    </tr>\n",
       "    <tr>\n",
       "      <th>2</th>\n",
       "      <td>0339C84S24ET</td>\n",
       "      <td>3e7d55eae386f</td>\n",
       "      <td>1541622146</td>\n",
       "      <td>3</td>\n",
       "      <td>8511456</td>\n",
       "      <td>[7031496, 10598152, 8511456, 9820556, 5753730,...</td>\n",
       "      <td>[7031496, 10598152, 8511456, 9820556, 5753730]</td>\n",
       "    </tr>\n",
       "  </tbody>\n",
       "</table>\n",
       "</div>"
      ],
      "text/plain": [
       "        user_id     session_id   timestamp  step  reference  \\\n",
       "0  004A07DM0IDW  1d688ec168932  1541555792     6    3241426   \n",
       "1  02AOAVF9PVYH  4a01c3afbc224  1541681239    45    1177554   \n",
       "2  0339C84S24ET  3e7d55eae386f  1541622146     3    8511456   \n",
       "\n",
       "                                         impressions  \\\n",
       "0  [1963235, 4491766, 5162722, 3442272, 1724779, ...   \n",
       "1  [2617856, 1967173, 1045096, 1052844, 1052880, ...   \n",
       "2  [7031496, 10598152, 8511456, 9820556, 5753730,...   \n",
       "\n",
       "                                                 iid  \n",
       "0  [1963235, 4491766, 5162722, 3442272, 1724779, ...  \n",
       "1  [2617856, 1967173, 1045096, 1052844, 1052880, ...  \n",
       "2     [7031496, 10598152, 8511456, 9820556, 5753730]  "
      ]
     },
     "execution_count": 216,
     "metadata": {},
     "output_type": "execute_result"
    }
   ],
   "source": [
    "baseline_sub['impressions'] = baseline_sub.apply(lambda x : sort_again(x['impressions'], x['iid']), axis = 1)\n",
    "baseline_sub.head(3)"
   ]
  },
  {
   "cell_type": "code",
   "execution_count": 217,
   "metadata": {},
   "outputs": [],
   "source": [
    "def mrr(answer, imp) :\n",
    "    myscore = 0\n",
    "    \n",
    "    for i,j in zip(answer, imp) :\n",
    "        if i in j :\n",
    "            myscore += 1/(j.index(i) + 1)\n",
    "    print(myscore / len(imp))"
   ]
  },
  {
   "cell_type": "code",
   "execution_count": 218,
   "metadata": {},
   "outputs": [
    {
     "name": "stdout",
     "output_type": "stream",
     "text": [
      "0.24948708816131487\n"
     ]
    }
   ],
   "source": [
    "baseline_sub.reference = baseline_sub.reference.apply(str)\n",
    "mrr(baseline_sub['reference'], baseline_sub['impressions'])"
   ]
  }
 ],
 "metadata": {
  "kernelspec": {
   "display_name": "Python 3",
   "language": "python",
   "name": "python3"
  },
  "language_info": {
   "codemirror_mode": {
    "name": "ipython",
    "version": 3
   },
   "file_extension": ".py",
   "mimetype": "text/x-python",
   "name": "python",
   "nbconvert_exporter": "python",
   "pygments_lexer": "ipython3",
   "version": "3.5.2"
  }
 },
 "nbformat": 4,
 "nbformat_minor": 2
}
