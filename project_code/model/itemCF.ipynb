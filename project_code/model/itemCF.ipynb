{
 "cells": [
  {
   "cell_type": "code",
   "execution_count": 1,
   "metadata": {
    "colab": {},
    "colab_type": "code",
    "id": "9R3omrcC9zSn"
   },
   "outputs": [],
   "source": [
    "import pandas as pd\n",
    "import numpy as np"
   ]
  },
  {
   "cell_type": "code",
   "execution_count": 2,
   "metadata": {
    "colab": {},
    "colab_type": "code",
    "id": "cn5lXUoi-Jqb"
   },
   "outputs": [
    {
     "name": "stdout",
     "output_type": "stream",
     "text": [
      "(19715327, 12)\n"
     ]
    }
   ],
   "source": [
    "train = pd.read_csv('./train.csv')\n",
    "test = pd.read_csv('./test.csv')\n",
    "\n",
    "df_full = pd.concat([train, test])\n",
    "del train ,test\n",
    "\n",
    "print(df_full.shape)"
   ]
  },
  {
   "cell_type": "code",
   "execution_count": 3,
   "metadata": {
    "colab": {},
    "colab_type": "code",
    "id": "et1x0sKAAMrl"
   },
   "outputs": [],
   "source": [
    "def only_number(string):\n",
    "    \"\"\"reference에서 숫자인 것만 뽑아 int type으로 변환\"\"\"\n",
    "    try:\n",
    "        int(string)\n",
    "        return int(string)\n",
    "    except ValueError:\n",
    "        return np.nan\n",
    "    \n",
    "def reference_count(df):\n",
    "    \"\"\"reference_int column에서 reference의 개수를 세서 새로운 df 생성\"\"\"\n",
    "    multi = df.groupby(df.user_id).reference_int.value_counts() # na값 drop by default \n",
    "    df_out = pd.DataFrame(multi).rename(columns = {'reference_int':'ref_count'}).reset_index()\n",
    "    return df_out"
   ]
  },
  {
   "cell_type": "code",
   "execution_count": 4,
   "metadata": {
    "colab": {},
    "colab_type": "code",
    "id": "WIMs6Z0UJaPq"
   },
   "outputs": [],
   "source": [
    "df_full['reference_int'] = df_full.reference.apply(only_number)"
   ]
  },
  {
   "cell_type": "code",
   "execution_count": 5,
   "metadata": {
    "colab": {},
    "colab_type": "code",
    "id": "Zpc8hx2qJadW"
   },
   "outputs": [],
   "source": [
    "# ref cnt by 'user_id'\n",
    "df_ref = reference_count(df_full)"
   ]
  },
  {
   "cell_type": "code",
   "execution_count": 6,
   "metadata": {
    "colab": {},
    "colab_type": "code",
    "id": "GPwV7HJev2xy"
   },
   "outputs": [],
   "source": [
    "# adj_ref df\n",
    "count_mean = df_ref.groupby(['reference_int']).mean().rename(columns = {'ref_count': 'ref_count_mean'})\n",
    "adj_ref = pd.merge(df_ref, count_mean, on = 'reference_int', how = 'left')\n",
    "adj_ref.rename(columns = {'reference_int' : 'item_id'}, inplace = True)\n",
    "adj_ref['ref_adj'] = adj_ref['ref_count'] - adj_ref['ref_count_mean']\n",
    "\n",
    "# replace 0 ref_adj values to 1e-8 to avoid 0 denominator \n",
    "adj_ref.loc[adj_ref.ref_adj == 0, 'ref_adj'] = 1e-8"
   ]
  },
  {
   "cell_type": "code",
   "execution_count": 13,
   "metadata": {},
   "outputs": [],
   "source": [
    "import time"
   ]
  },
  {
   "cell_type": "code",
   "execution_count": 17,
   "metadata": {},
   "outputs": [
    {
     "data": {
      "text/plain": [
       "1561426669.5139935"
      ]
     },
     "execution_count": 17,
     "metadata": {},
     "output_type": "execute_result"
    }
   ],
   "source": [
    "time.time()"
   ]
  },
  {
   "cell_type": "code",
   "execution_count": 28,
   "metadata": {
    "colab": {},
    "colab_type": "code",
    "id": "KbEz5gHI-BsC"
   },
   "outputs": [],
   "source": [
    "def build_w_matrix(item1):\n",
    "    w_matrix_column = ['item1', 'item2', 'weight']\n",
    "    w_matrix = pd.DataFrame(columns = w_matrix_column)\n",
    "\n",
    "    i = 0\n",
    "    \n",
    "    start_time = time.time()\n",
    "\n",
    "        \n",
    "    if i % 100 ==0:\n",
    "        #end_time = time.time()\n",
    "        #print('100번 돌리는데 걸린 시간(분) : ', int((end_time - start_time)/60))\n",
    "        #start_time = time.time()\n",
    "        print(i, \"out of\", len(unique_items))\n",
    "\n",
    "    # extract all users who rated item1  \n",
    "    user_data = adj_ref.loc[adj_ref.item_id == item1]\n",
    "    unique_users = user_data.user_id.unique()\n",
    "\n",
    "    # record the ratings for users who rated both item1 and item2\n",
    "    record_row_columns = ['user_id', 'item1', 'item2', 'rating_adjusted_1', 'rating_adjusted_2']\n",
    "    record_item_1_2 = pd.DataFrame(columns = record_row_columns)\n",
    "\n",
    "    #for each customer who rated item1\n",
    "    for c_user in unique_users:\n",
    "        #print('build weight matrix for customer {0}, movie_1 {1}'.format(c_user, item1))\n",
    "        # user rating for item1\n",
    "        c_item1_rating = user_data.loc[user_data.user_id == c_user, 'ref_adj'].iloc[0]\n",
    "        # user rating except for item1\n",
    "        c_user_data = adj_ref.loc[(adj_ref.user_id == c_user)& (adj_ref.item_id != item1)]\n",
    "\n",
    "        c_unique_movies = c_user_data.item_id.unique()\n",
    "\n",
    "        # for each item rated by user as item2\n",
    "        for item2 in c_unique_movies:\n",
    "\n",
    "        #user rating for item2\n",
    "            c_item2_rating = c_user_data.loc[c_user_data.item_id == item2, 'ref_adj'].iloc[0]\n",
    "            record_row = pd.Series([c_user, item1, item2, c_item1_rating, c_item2_rating], index = record_row_columns)\n",
    "            record_item_1_2 = record_item_1_2.append(record_row, ignore_index = True)\n",
    "\n",
    "        # calculate the similarity values between item1 and the above recorded items\n",
    "        unique_item2 = np.unique(record_item_1_2['item2'])\n",
    "\n",
    "        # for each movie 2\n",
    "\n",
    "        for item2 in unique_item2:\n",
    "            #print('calculate weight for item1 {0}, item2 {1}'.format(item1, item2))\n",
    "            paired_item_1_2 = record_item_1_2.loc[record_item_1_2.item2 == item2]\n",
    "            sim_value_numerator = (paired_item_1_2['rating_adjusted_1'] * paired_item_1_2['rating_adjusted_2']).sum()\n",
    "            sim_value_denominator = np.sqrt(np.square(paired_item_1_2['rating_adjusted_1']).sum()) * np.sqrt(np.square(paired_item_1_2['rating_adjusted_2']).sum())\n",
    "            sim_value_denominator = sim_value_denominator if sim_value_denominator != 0 else 1e-8\n",
    "            sim_value = sim_value_numerator / sim_value_denominator\n",
    "            w_matrix = w_matrix.append(pd.Series([item1, item2, sim_value], index=w_matrix_column), ignore_index=True)\n",
    "    i +=1\n",
    "    return w_matrix\n"
   ]
  },
  {
   "cell_type": "code",
   "execution_count": 22,
   "metadata": {},
   "outputs": [],
   "source": [
    "from joblib import Parallel, delayed\n",
    "import multiprocessing"
   ]
  },
  {
   "cell_type": "code",
   "execution_count": 25,
   "metadata": {},
   "outputs": [],
   "source": [
    " = adj_ref.item_id.unique()"
   ]
  },
  {
   "cell_type": "code",
   "execution_count": null,
   "metadata": {},
   "outputs": [],
   "source": [
    "num_cores = multiprocessing.cpu_count()\n",
    "w_matrix = Parallel(n_jobs=num_cores)(delayed(build_w_matrix)(item1) for item1 in unique_items)\n"
   ]
  },
  {
   "cell_type": "code",
   "execution_count": null,
   "metadata": {},
   "outputs": [],
   "source": [
    "w_matrix.to_csv(path+ 'w_matrix.csv', index = False)"
   ]
  },
  {
   "cell_type": "code",
   "execution_count": 23,
   "metadata": {},
   "outputs": [
    {
     "data": {
      "text/plain": [
       "[0, 1, 4, 9, 16, 25, 36, 49, 64, 81]"
      ]
     },
     "execution_count": 23,
     "metadata": {},
     "output_type": "execute_result"
    }
   ],
   "source": [
    "# what are your inputs, and what operation do you want to \n",
    "# perform on each input. For example...\n",
    "inputs = range(10) \n",
    "def processInput(i):\n",
    "    return i * i\n",
    " \n",
    "\n",
    "     \n",
    "results = Parallel(n_jobs=num_cores)(delayed(processInput)(i) for i in inputs)\n",
    "results"
   ]
  }
 ],
 "metadata": {
  "accelerator": "GPU",
  "colab": {
   "collapsed_sections": [],
   "name": "itemCF.ipynb",
   "provenance": [],
   "version": "0.3.2"
  },
  "kernelspec": {
   "display_name": "Python 3",
   "language": "python",
   "name": "python3"
  },
  "language_info": {
   "codemirror_mode": {
    "name": "ipython",
    "version": 3
   },
   "file_extension": ".py",
   "mimetype": "text/x-python",
   "name": "python",
   "nbconvert_exporter": "python",
   "pygments_lexer": "ipython3",
   "version": "3.6.5"
  },
  "toc": {
   "base_numbering": 1,
   "nav_menu": {},
   "number_sections": true,
   "sideBar": true,
   "skip_h1_title": false,
   "title_cell": "Table of Contents",
   "title_sidebar": "Contents",
   "toc_cell": false,
   "toc_position": {},
   "toc_section_display": true,
   "toc_window_display": false
  }
 },
 "nbformat": 4,
 "nbformat_minor": 1
}
