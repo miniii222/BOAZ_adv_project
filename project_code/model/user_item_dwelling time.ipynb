{
 "cells": [
  {
   "cell_type": "code",
   "execution_count": 1,
   "metadata": {
    "ExecuteTime": {
     "end_time": "2019-06-28T03:57:20.289102Z",
     "start_time": "2019-06-28T03:57:17.125597Z"
    }
   },
   "outputs": [],
   "source": [
    "import pandas as pd\n",
    "import numpy as np\n",
    "import os"
   ]
  },
  {
   "cell_type": "code",
   "execution_count": 2,
   "metadata": {
    "ExecuteTime": {
     "end_time": "2019-06-28T03:57:21.060778Z",
     "start_time": "2019-06-28T03:57:21.045331Z"
    }
   },
   "outputs": [
    {
     "data": {
      "text/plain": [
       "['df_ref.csv',\n",
       " 'dwell_df.csv',\n",
       " 'dwell_time_agg.csv',\n",
       " 'item_metadata.csv',\n",
       " 'reference_first.pkl',\n",
       " 'submission_popular.csv',\n",
       " 'test.csv',\n",
       " 'train.csv']"
      ]
     },
     "execution_count": 2,
     "metadata": {},
     "output_type": "execute_result"
    }
   ],
   "source": [
    "os.listdir('../../input')"
   ]
  },
  {
   "cell_type": "code",
   "execution_count": 22,
   "metadata": {
    "ExecuteTime": {
     "end_time": "2019-06-28T04:10:05.556832Z",
     "start_time": "2019-06-28T04:10:05.551725Z"
    }
   },
   "outputs": [],
   "source": [
    "path = '../../input/'"
   ]
  },
  {
   "cell_type": "code",
   "execution_count": 3,
   "metadata": {
    "ExecuteTime": {
     "end_time": "2019-06-28T03:59:16.057970Z",
     "start_time": "2019-06-28T03:57:26.120517Z"
    }
   },
   "outputs": [],
   "source": [
    "train = pd.read_csv(path + 'train.csv')\n",
    "test = pd.read_csv(path + 'test.csv')\n",
    "\n",
    "train['timestamp'] = pd.to_datetime(train['timestamp'],unit='s')\n",
    "test['timestamp'] = pd.to_datetime(test['timestamp'],unit='s')"
   ]
  },
  {
   "cell_type": "code",
   "execution_count": 4,
   "metadata": {
    "ExecuteTime": {
     "end_time": "2019-06-28T03:59:24.126360Z",
     "start_time": "2019-06-28T03:59:16.064872Z"
    }
   },
   "outputs": [
    {
     "data": {
      "text/plain": [
       "(19715327, 12)"
      ]
     },
     "execution_count": 4,
     "metadata": {},
     "output_type": "execute_result"
    }
   ],
   "source": [
    "df = pd.concat([train, test])\n",
    "del train, test\n",
    "df.shape"
   ]
  },
  {
   "cell_type": "code",
   "execution_count": 5,
   "metadata": {
    "ExecuteTime": {
     "end_time": "2019-06-28T04:00:06.552300Z",
     "start_time": "2019-06-28T03:59:24.130329Z"
    }
   },
   "outputs": [
    {
     "data": {
      "text/html": [
       "<div>\n",
       "<style scoped>\n",
       "    .dataframe tbody tr th:only-of-type {\n",
       "        vertical-align: middle;\n",
       "    }\n",
       "\n",
       "    .dataframe tbody tr th {\n",
       "        vertical-align: top;\n",
       "    }\n",
       "\n",
       "    .dataframe thead th {\n",
       "        text-align: right;\n",
       "    }\n",
       "</style>\n",
       "<table border=\"1\" class=\"dataframe\">\n",
       "  <thead>\n",
       "    <tr style=\"text-align: right;\">\n",
       "      <th></th>\n",
       "      <th>user_id</th>\n",
       "      <th>session_id</th>\n",
       "      <th>timestamp</th>\n",
       "      <th>step</th>\n",
       "      <th>action_type</th>\n",
       "      <th>reference</th>\n",
       "      <th>platform</th>\n",
       "      <th>city</th>\n",
       "      <th>device</th>\n",
       "      <th>current_filters</th>\n",
       "      <th>impressions</th>\n",
       "      <th>prices</th>\n",
       "    </tr>\n",
       "  </thead>\n",
       "  <tbody>\n",
       "    <tr>\n",
       "      <th>0</th>\n",
       "      <td>0001VQMGUI65</td>\n",
       "      <td>466687f1875ee</td>\n",
       "      <td>2018-11-01 12:38:49</td>\n",
       "      <td>1</td>\n",
       "      <td>interaction item deals</td>\n",
       "      <td>3133074</td>\n",
       "      <td>BR</td>\n",
       "      <td>Brasília, Brazil</td>\n",
       "      <td>desktop</td>\n",
       "      <td>NaN</td>\n",
       "      <td>NaN</td>\n",
       "      <td>NaN</td>\n",
       "    </tr>\n",
       "    <tr>\n",
       "      <th>1</th>\n",
       "      <td>0001VQMGUI65</td>\n",
       "      <td>466687f1875ee</td>\n",
       "      <td>2018-11-01 12:39:09</td>\n",
       "      <td>2</td>\n",
       "      <td>interaction item image</td>\n",
       "      <td>3133074</td>\n",
       "      <td>BR</td>\n",
       "      <td>Brasília, Brazil</td>\n",
       "      <td>desktop</td>\n",
       "      <td>NaN</td>\n",
       "      <td>NaN</td>\n",
       "      <td>NaN</td>\n",
       "    </tr>\n",
       "    <tr>\n",
       "      <th>2</th>\n",
       "      <td>0001VQMGUI65</td>\n",
       "      <td>466687f1875ee</td>\n",
       "      <td>2018-11-01 12:39:28</td>\n",
       "      <td>3</td>\n",
       "      <td>clickout item</td>\n",
       "      <td>3133074</td>\n",
       "      <td>BR</td>\n",
       "      <td>Brasília, Brazil</td>\n",
       "      <td>desktop</td>\n",
       "      <td>NaN</td>\n",
       "      <td>3133074|2653226|477811|164667|1990735|104972|1...</td>\n",
       "      <td>43|55|49|51|44|43|47|47|55|46|31|24|33|75|52|4...</td>\n",
       "    </tr>\n",
       "    <tr>\n",
       "      <th>3</th>\n",
       "      <td>0001VQMGUI65</td>\n",
       "      <td>466687f1875ee</td>\n",
       "      <td>2018-11-01 12:39:34</td>\n",
       "      <td>4</td>\n",
       "      <td>interaction item image</td>\n",
       "      <td>3133074</td>\n",
       "      <td>BR</td>\n",
       "      <td>Brasília, Brazil</td>\n",
       "      <td>desktop</td>\n",
       "      <td>NaN</td>\n",
       "      <td>NaN</td>\n",
       "      <td>NaN</td>\n",
       "    </tr>\n",
       "    <tr>\n",
       "      <th>4</th>\n",
       "      <td>0001VQMGUI65</td>\n",
       "      <td>466687f1875ee</td>\n",
       "      <td>2018-11-01 12:39:44</td>\n",
       "      <td>5</td>\n",
       "      <td>interaction item deals</td>\n",
       "      <td>3133074</td>\n",
       "      <td>BR</td>\n",
       "      <td>Brasília, Brazil</td>\n",
       "      <td>desktop</td>\n",
       "      <td>NaN</td>\n",
       "      <td>NaN</td>\n",
       "      <td>NaN</td>\n",
       "    </tr>\n",
       "  </tbody>\n",
       "</table>\n",
       "</div>"
      ],
      "text/plain": [
       "        user_id     session_id           timestamp  step  \\\n",
       "0  0001VQMGUI65  466687f1875ee 2018-11-01 12:38:49     1   \n",
       "1  0001VQMGUI65  466687f1875ee 2018-11-01 12:39:09     2   \n",
       "2  0001VQMGUI65  466687f1875ee 2018-11-01 12:39:28     3   \n",
       "3  0001VQMGUI65  466687f1875ee 2018-11-01 12:39:34     4   \n",
       "4  0001VQMGUI65  466687f1875ee 2018-11-01 12:39:44     5   \n",
       "\n",
       "              action_type reference platform              city   device  \\\n",
       "0  interaction item deals   3133074       BR  Brasília, Brazil  desktop   \n",
       "1  interaction item image   3133074       BR  Brasília, Brazil  desktop   \n",
       "2           clickout item   3133074       BR  Brasília, Brazil  desktop   \n",
       "3  interaction item image   3133074       BR  Brasília, Brazil  desktop   \n",
       "4  interaction item deals   3133074       BR  Brasília, Brazil  desktop   \n",
       "\n",
       "  current_filters                                        impressions  \\\n",
       "0             NaN                                                NaN   \n",
       "1             NaN                                                NaN   \n",
       "2             NaN  3133074|2653226|477811|164667|1990735|104972|1...   \n",
       "3             NaN                                                NaN   \n",
       "4             NaN                                                NaN   \n",
       "\n",
       "                                              prices  \n",
       "0                                                NaN  \n",
       "1                                                NaN  \n",
       "2  43|55|49|51|44|43|47|47|55|46|31|24|33|75|52|4...  \n",
       "3                                                NaN  \n",
       "4                                                NaN  "
      ]
     },
     "execution_count": 5,
     "metadata": {},
     "output_type": "execute_result"
    }
   ],
   "source": [
    "df = df.sort_values(['user_id','session_id','timestamp']).reset_index(drop = True)\n",
    "df.head()"
   ]
  },
  {
   "cell_type": "markdown",
   "metadata": {},
   "source": [
    "# no info 제거\n",
    "- step = 1"
   ]
  },
  {
   "cell_type": "code",
   "execution_count": 9,
   "metadata": {
    "ExecuteTime": {
     "end_time": "2019-06-28T04:03:37.319801Z",
     "start_time": "2019-06-28T04:03:21.655562Z"
    }
   },
   "outputs": [],
   "source": [
    "no_info = df.groupby(['user_id','session_id'])['step'].last()"
   ]
  },
  {
   "cell_type": "code",
   "execution_count": 12,
   "metadata": {
    "ExecuteTime": {
     "end_time": "2019-06-28T04:04:09.617744Z",
     "start_time": "2019-06-28T04:04:09.466454Z"
    }
   },
   "outputs": [
    {
     "data": {
      "text/html": [
       "<div>\n",
       "<style scoped>\n",
       "    .dataframe tbody tr th:only-of-type {\n",
       "        vertical-align: middle;\n",
       "    }\n",
       "\n",
       "    .dataframe tbody tr th {\n",
       "        vertical-align: top;\n",
       "    }\n",
       "\n",
       "    .dataframe thead th {\n",
       "        text-align: right;\n",
       "    }\n",
       "</style>\n",
       "<table border=\"1\" class=\"dataframe\">\n",
       "  <thead>\n",
       "    <tr style=\"text-align: right;\">\n",
       "      <th></th>\n",
       "      <th>user_id</th>\n",
       "      <th>session_id</th>\n",
       "      <th>step</th>\n",
       "    </tr>\n",
       "  </thead>\n",
       "  <tbody>\n",
       "    <tr>\n",
       "      <th>0</th>\n",
       "      <td>0004Q49X39PY</td>\n",
       "      <td>9de47d9a66494</td>\n",
       "      <td>1</td>\n",
       "    </tr>\n",
       "    <tr>\n",
       "      <th>1</th>\n",
       "      <td>0004Q49X39PY</td>\n",
       "      <td>beea5c27030cb</td>\n",
       "      <td>1</td>\n",
       "    </tr>\n",
       "    <tr>\n",
       "      <th>2</th>\n",
       "      <td>0006W0R5A5V8</td>\n",
       "      <td>85501a9f27263</td>\n",
       "      <td>1</td>\n",
       "    </tr>\n",
       "  </tbody>\n",
       "</table>\n",
       "</div>"
      ],
      "text/plain": [
       "        user_id     session_id  step\n",
       "0  0004Q49X39PY  9de47d9a66494     1\n",
       "1  0004Q49X39PY  beea5c27030cb     1\n",
       "2  0006W0R5A5V8  85501a9f27263     1"
      ]
     },
     "execution_count": 12,
     "metadata": {},
     "output_type": "execute_result"
    }
   ],
   "source": [
    "no_info = pd.DataFrame(no_info[no_info == 1]).reset_index()\n",
    "no_info.head(3)"
   ]
  },
  {
   "cell_type": "code",
   "execution_count": 20,
   "metadata": {
    "ExecuteTime": {
     "end_time": "2019-06-28T04:07:43.180240Z",
     "start_time": "2019-06-28T04:07:32.567785Z"
    }
   },
   "outputs": [
    {
     "data": {
      "text/plain": [
       "(19445848, 12)"
      ]
     },
     "execution_count": 20,
     "metadata": {},
     "output_type": "execute_result"
    }
   ],
   "source": [
    "df = df[~df.session_id.isin(no_info.session_id)].reset_index(drop = True)\n",
    "df.shape"
   ]
  },
  {
   "cell_type": "code",
   "execution_count": 23,
   "metadata": {
    "ExecuteTime": {
     "end_time": "2019-06-28T04:23:13.420313Z",
     "start_time": "2019-06-28T04:10:43.135775Z"
    }
   },
   "outputs": [],
   "source": [
    "reference_first = np.zeros(len(df))\n",
    "reference_first[0] = 1\n",
    "check = df['reference'][0]\n",
    "\n",
    "for i in range(1, len(df)) :\n",
    "    if check != df['reference'][i] :\n",
    "        check = df['reference'][i]\n",
    "        reference_first[i] = 1\n",
    "        \n",
    "reference_first = pd.Series(reference_first)\n",
    "reference_first.to_pickle(path+'reference_first.pkl')"
   ]
  },
  {
   "cell_type": "code",
   "execution_count": 24,
   "metadata": {
    "ExecuteTime": {
     "end_time": "2019-06-28T04:23:49.556354Z",
     "start_time": "2019-06-28T04:23:49.552387Z"
    }
   },
   "outputs": [],
   "source": [
    "#reference_first = pd.read_pickle(path + 'reference_first.pkl')"
   ]
  },
  {
   "cell_type": "code",
   "execution_count": 57,
   "metadata": {
    "ExecuteTime": {
     "end_time": "2019-06-28T04:41:18.106672Z",
     "start_time": "2019-06-28T04:41:13.153616Z"
    }
   },
   "outputs": [],
   "source": [
    "dwell_df = pd.DataFrame(columns = ['user_id','reference','dwell_time'])\n",
    "dwell_df['user_id'] = df[reference_first == 1]['user_id']\n",
    "dwell_df['reference'] = df[reference_first == 1]['reference']\n",
    "dwell_df.reset_index(drop = True, inplace = True)\n",
    "\n",
    "first_time = df[reference_first == 1]['timestamp']\n",
    "first_time.reset_index(drop = True, inplace = True)\n",
    "\n",
    "last_time = pd.Series(np.roll(first_time,-1))\n",
    "\n",
    "dwell_df['dwell_time'] = (last_time - first_time).astype('timedelta64[s]')"
   ]
  },
  {
   "cell_type": "code",
   "execution_count": 58,
   "metadata": {
    "ExecuteTime": {
     "end_time": "2019-06-28T04:41:18.489089Z",
     "start_time": "2019-06-28T04:41:18.109649Z"
    }
   },
   "outputs": [
    {
     "data": {
      "text/plain": [
       "(3871806, 3)"
      ]
     },
     "execution_count": 58,
     "metadata": {},
     "output_type": "execute_result"
    }
   ],
   "source": [
    "dwell_df = dwell_df[dwell_df.dwell_time>0]\n",
    "dwell_df.shape"
   ]
  },
  {
   "cell_type": "code",
   "execution_count": 59,
   "metadata": {
    "ExecuteTime": {
     "end_time": "2019-06-28T04:41:21.378853Z",
     "start_time": "2019-06-28T04:41:21.372901Z"
    }
   },
   "outputs": [],
   "source": [
    "def only_number(string):\n",
    "    \"\"\"reference에서 숫자인 것만 뽑아 int type으로 변환\"\"\"\n",
    "    try:\n",
    "        int(string)\n",
    "        return string\n",
    "    except ValueError:\n",
    "        return np.nan"
   ]
  },
  {
   "cell_type": "code",
   "execution_count": 60,
   "metadata": {
    "ExecuteTime": {
     "end_time": "2019-06-28T04:41:29.559860Z",
     "start_time": "2019-06-28T04:41:23.436243Z"
    }
   },
   "outputs": [
    {
     "data": {
      "text/html": [
       "<div>\n",
       "<style scoped>\n",
       "    .dataframe tbody tr th:only-of-type {\n",
       "        vertical-align: middle;\n",
       "    }\n",
       "\n",
       "    .dataframe tbody tr th {\n",
       "        vertical-align: top;\n",
       "    }\n",
       "\n",
       "    .dataframe thead th {\n",
       "        text-align: right;\n",
       "    }\n",
       "</style>\n",
       "<table border=\"1\" class=\"dataframe\">\n",
       "  <thead>\n",
       "    <tr style=\"text-align: right;\">\n",
       "      <th></th>\n",
       "      <th>user_id</th>\n",
       "      <th>reference</th>\n",
       "      <th>dwell_time</th>\n",
       "    </tr>\n",
       "  </thead>\n",
       "  <tbody>\n",
       "    <tr>\n",
       "      <th>0</th>\n",
       "      <td>0001VQMGUI65</td>\n",
       "      <td>3133074</td>\n",
       "      <td>145.0</td>\n",
       "    </tr>\n",
       "    <tr>\n",
       "      <th>1</th>\n",
       "      <td>0001VQMGUI65</td>\n",
       "      <td>477811</td>\n",
       "      <td>2.0</td>\n",
       "    </tr>\n",
       "    <tr>\n",
       "      <th>2</th>\n",
       "      <td>0001VQMGUI65</td>\n",
       "      <td>3133074</td>\n",
       "      <td>151.0</td>\n",
       "    </tr>\n",
       "    <tr>\n",
       "      <th>3</th>\n",
       "      <td>0001VQMGUI65</td>\n",
       "      <td>3133074</td>\n",
       "      <td>90.0</td>\n",
       "    </tr>\n",
       "    <tr>\n",
       "      <th>4</th>\n",
       "      <td>0001VQMGUI65</td>\n",
       "      <td>2019467</td>\n",
       "      <td>69.0</td>\n",
       "    </tr>\n",
       "  </tbody>\n",
       "</table>\n",
       "</div>"
      ],
      "text/plain": [
       "        user_id reference  dwell_time\n",
       "0  0001VQMGUI65   3133074       145.0\n",
       "1  0001VQMGUI65    477811         2.0\n",
       "2  0001VQMGUI65   3133074       151.0\n",
       "3  0001VQMGUI65   3133074        90.0\n",
       "4  0001VQMGUI65   2019467        69.0"
      ]
     },
     "execution_count": 60,
     "metadata": {},
     "output_type": "execute_result"
    }
   ],
   "source": [
    "dwell_df.reference = dwell_df.reference.apply(only_number)\n",
    "dwell_df.dropna(inplace = True)\n",
    "dwell_df.reset_index(drop = True,inplace = True)\n",
    "dwell_df.head()"
   ]
  },
  {
   "cell_type": "code",
   "execution_count": 61,
   "metadata": {
    "ExecuteTime": {
     "end_time": "2019-06-28T04:41:29.569779Z",
     "start_time": "2019-06-28T04:41:29.563332Z"
    }
   },
   "outputs": [
    {
     "data": {
      "text/plain": [
       "(2398726, 3)"
      ]
     },
     "execution_count": 61,
     "metadata": {},
     "output_type": "execute_result"
    }
   ],
   "source": [
    "dwell_df.shape"
   ]
  },
  {
   "cell_type": "code",
   "execution_count": 64,
   "metadata": {
    "ExecuteTime": {
     "end_time": "2019-06-28T04:42:02.683022Z",
     "start_time": "2019-06-28T04:41:59.503661Z"
    }
   },
   "outputs": [
    {
     "data": {
      "text/plain": [
       "(2005970, 3)"
      ]
     },
     "execution_count": 64,
     "metadata": {},
     "output_type": "execute_result"
    }
   ],
   "source": [
    "# row의 개수가 줄어들었다\n",
    "# use_id 당 다른 시점에 동일한 reference를 클릭한 경우가 있다는 뜻\n",
    "dwell_df = pd.DataFrame(dwell_df.groupby(['user_id','reference'])['dwell_time'].sum()).reset_index()\n",
    "dwell_df.shape"
   ]
  },
  {
   "cell_type": "code",
   "execution_count": 76,
   "metadata": {
    "ExecuteTime": {
     "end_time": "2019-06-28T04:48:15.150984Z",
     "start_time": "2019-06-28T04:48:12.383143Z"
    }
   },
   "outputs": [],
   "source": [
    "dwell_df.rename(columns = {'dwell_time' : 'dwell_sec'}, inplace = True)\n",
    "dwell_df['log_dwell_sec'] = np.log1p(dwell_df['dwell_sec'])\n",
    "dwell_df['dwell_min'] = dwell_df['dwell_sec'] / 60\n",
    "dwell_df['log_dwell_min'] = np.log1p(dwell_df['dwell_min'])"
   ]
  },
  {
   "cell_type": "code",
   "execution_count": 88,
   "metadata": {
    "ExecuteTime": {
     "end_time": "2019-06-28T04:53:25.547459Z",
     "start_time": "2019-06-28T04:53:07.040270Z"
    }
   },
   "outputs": [],
   "source": [
    "#dwell_df.to_csv(path + 'dwell_df.csv')"
   ]
  },
  {
   "cell_type": "markdown",
   "metadata": {},
   "source": [
    "# seconds"
   ]
  },
  {
   "cell_type": "code",
   "execution_count": 79,
   "metadata": {
    "ExecuteTime": {
     "end_time": "2019-06-28T04:49:39.238188Z",
     "start_time": "2019-06-28T04:49:39.061155Z"
    }
   },
   "outputs": [
    {
     "data": {
      "text/plain": [
       "count    2.005970e+06\n",
       "mean     4.444397e+04\n",
       "std      1.144866e+05\n",
       "min      1.000000e+00\n",
       "25%      4.400000e+01\n",
       "50%      1.210000e+02\n",
       "75%      7.910000e+02\n",
       "max      2.768116e+06\n",
       "Name: dwell_sec, dtype: float64"
      ]
     },
     "execution_count": 79,
     "metadata": {},
     "output_type": "execute_result"
    }
   ],
   "source": [
    "dwell_df.dwell_sec.describe()"
   ]
  },
  {
   "cell_type": "code",
   "execution_count": 81,
   "metadata": {
    "ExecuteTime": {
     "end_time": "2019-06-28T04:50:17.368769Z",
     "start_time": "2019-06-28T04:50:17.364336Z"
    }
   },
   "outputs": [],
   "source": [
    "import seaborn as sns\n",
    "import matplotlib.pyplot as plt"
   ]
  },
  {
   "cell_type": "code",
   "execution_count": 86,
   "metadata": {
    "ExecuteTime": {
     "end_time": "2019-06-28T04:52:19.745965Z",
     "start_time": "2019-06-28T04:52:17.995533Z"
    }
   },
   "outputs": [
    {
     "data": {
      "text/plain": [
       "<matplotlib.axes._subplots.AxesSubplot at 0x20fa6c70978>"
      ]
     },
     "execution_count": 86,
     "metadata": {},
     "output_type": "execute_result"
    },
    {
     "data": {
      "image/png": "[encoded data removed]",
      "text/plain": [
       "<Figure size 1080x360 with 2 Axes>"
      ]
     },
     "metadata": {
      "needs_background": "light"
     },
     "output_type": "display_data"
    }
   ],
   "source": [
    "fig, axs = plt.subplots(ncols = 2, nrows = 1, figsize = (15,5))\n",
    "sns.distplot(dwell_df.dwell_sec,ax = axs[0])\n",
    "sns.distplot(dwell_df.log_dwell_sec,ax = axs[1])"
   ]
  },
  {
   "cell_type": "markdown",
   "metadata": {},
   "source": [
    "# minutes"
   ]
  },
  {
   "cell_type": "code",
   "execution_count": 87,
   "metadata": {
    "ExecuteTime": {
     "end_time": "2019-06-28T04:52:41.074925Z",
     "start_time": "2019-06-28T04:52:40.906782Z"
    }
   },
   "outputs": [
    {
     "data": {
      "text/plain": [
       "count    2.005970e+06\n",
       "mean     7.407329e+02\n",
       "std      1.908109e+03\n",
       "min      1.666667e-02\n",
       "25%      7.333333e-01\n",
       "50%      2.016667e+00\n",
       "75%      1.318333e+01\n",
       "max      4.613527e+04\n",
       "Name: dwell_min, dtype: float64"
      ]
     },
     "execution_count": 87,
     "metadata": {},
     "output_type": "execute_result"
    }
   ],
   "source": [
    "dwell_df.dwell_min.describe()"
   ]
  },
  {
   "cell_type": "code",
   "execution_count": 89,
   "metadata": {
    "ExecuteTime": {
     "end_time": "2019-06-28T04:53:27.497677Z",
     "start_time": "2019-06-28T04:53:25.549888Z"
    }
   },
   "outputs": [
    {
     "name": "stderr",
     "output_type": "stream",
     "text": [
      "C:\\Users\\wjssm\\Anaconda3\\lib\\site-packages\\scipy\\stats\\stats.py:1713: FutureWarning: Using a non-tuple sequence for multidimensional indexing is deprecated; use `arr[tuple(seq)]` instead of `arr[seq]`. In the future this will be interpreted as an array index, `arr[np.array(seq)]`, which will result either in an error or a different result.\n",
      "  return np.add.reduce(sorted[indexer] * weights, axis=axis) / sumval\n"
     ]
    },
    {
     "data": {
      "text/plain": [
       "<matplotlib.axes._subplots.AxesSubplot at 0x20fa7ea8da0>"
      ]
     },
     "execution_count": 89,
     "metadata": {},
     "output_type": "execute_result"
    },
    {
     "data": {
      "image/png": "[encoded data removed]",
      "text/plain": [
       "<Figure size 1080x360 with 2 Axes>"
      ]
     },
     "metadata": {
      "needs_background": "light"
     },
     "output_type": "display_data"
    }
   ],
   "source": [
    "fig, axs = plt.subplots(ncols = 2, nrows = 1, figsize = (15,5))\n",
    "sns.distplot(dwell_df.dwell_min,ax = axs[0])\n",
    "sns.distplot(dwell_df.log_dwell_min,ax = axs[1])"
   ]
  }
 ],
 "metadata": {
  "hide_input": false,
  "kernelspec": {
   "display_name": "Python 3",
   "language": "python",
   "name": "python3"
  },
  "language_info": {
   "codemirror_mode": {
    "name": "ipython",
    "version": 3
   },
   "file_extension": ".py",
   "mimetype": "text/x-python",
   "name": "python",
   "nbconvert_exporter": "python",
   "pygments_lexer": "ipython3",
   "version": "3.7.1"
  },
  "toc": {
   "base_numbering": 1,
   "nav_menu": {},
   "number_sections": true,
   "sideBar": true,
   "skip_h1_title": false,
   "title_cell": "Table of Contents",
   "title_sidebar": "Contents",
   "toc_cell": false,
   "toc_position": {},
   "toc_section_display": true,
   "toc_window_display": false
  }
 },
 "nbformat": 4,
 "nbformat_minor": 2
}
