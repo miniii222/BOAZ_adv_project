{
 "cells": [
  {
   "cell_type": "code",
   "execution_count": 1,
   "metadata": {},
   "outputs": [
    {
     "data": {
      "text/plain": [
       "['train.csv',\n",
       " 'submission_popular.csv',\n",
       " 'item_metadata.csv',\n",
       " 'df_full_except_noinfo.csv',\n",
       " 'test.csv',\n",
       " 'dwell_df.csv',\n",
       " 'dwell_time_agg.csv']"
      ]
     },
     "execution_count": 1,
     "metadata": {},
     "output_type": "execute_result"
    }
   ],
   "source": [
    "import pandas as pd\n",
    "import numpy as np\n",
    "import os\n",
    "os.listdir('../input')"
   ]
  },
  {
   "cell_type": "code",
   "execution_count": 2,
   "metadata": {},
   "outputs": [],
   "source": [
    "path = '../input/'\n",
    "test = pd.read_csv(path + 'test.csv')"
   ]
  },
  {
   "cell_type": "code",
   "execution_count": 3,
   "metadata": {},
   "outputs": [
    {
     "name": "stdout",
     "output_type": "stream",
     "text": [
      "전체 개수 :  253573\n",
      "session_id unique :  253573\n"
     ]
    }
   ],
   "source": [
    "#NA인 clickout\n",
    "na_clickout = test[(test.action_type == 'clickout item') & (test.reference.isnull())]\n",
    "print('전체 개수 : ',len(na_clickout))\n",
    "print('session_id unique : ',len(na_clickout.session_id.unique()))"
   ]
  },
  {
   "cell_type": "code",
   "execution_count": 6,
   "metadata": {},
   "outputs": [
    {
     "data": {
      "text/html": [
       "<div>\n",
       "<style scoped>\n",
       "    .dataframe tbody tr th:only-of-type {\n",
       "        vertical-align: middle;\n",
       "    }\n",
       "\n",
       "    .dataframe tbody tr th {\n",
       "        vertical-align: top;\n",
       "    }\n",
       "\n",
       "    .dataframe thead th {\n",
       "        text-align: right;\n",
       "    }\n",
       "</style>\n",
       "<table border=\"1\" class=\"dataframe\">\n",
       "  <thead>\n",
       "    <tr style=\"text-align: right;\">\n",
       "      <th></th>\n",
       "      <th>index</th>\n",
       "      <th>user_id</th>\n",
       "      <th>session_id</th>\n",
       "      <th>timestamp</th>\n",
       "      <th>step</th>\n",
       "    </tr>\n",
       "  </thead>\n",
       "  <tbody>\n",
       "    <tr>\n",
       "      <th>0</th>\n",
       "      <td>0</td>\n",
       "      <td>004A07DM0IDW</td>\n",
       "      <td>1d688ec168932</td>\n",
       "      <td>1541555799</td>\n",
       "      <td>7</td>\n",
       "    </tr>\n",
       "    <tr>\n",
       "      <th>1</th>\n",
       "      <td>1</td>\n",
       "      <td>009RGHI3G9A3</td>\n",
       "      <td>f05ab0de907e2</td>\n",
       "      <td>1541570940</td>\n",
       "      <td>2</td>\n",
       "    </tr>\n",
       "    <tr>\n",
       "      <th>2</th>\n",
       "      <td>2</td>\n",
       "      <td>00Y1Z24X8084</td>\n",
       "      <td>26b6d294d66e7</td>\n",
       "      <td>1541651823</td>\n",
       "      <td>2</td>\n",
       "    </tr>\n",
       "    <tr>\n",
       "      <th>3</th>\n",
       "      <td>3</td>\n",
       "      <td>01V3WDTDM5CU</td>\n",
       "      <td>07628a0f5be0b</td>\n",
       "      <td>1541575643</td>\n",
       "      <td>5</td>\n",
       "    </tr>\n",
       "    <tr>\n",
       "      <th>4</th>\n",
       "      <td>4</td>\n",
       "      <td>02AOAVF9PVYH</td>\n",
       "      <td>4a01c3afbc224</td>\n",
       "      <td>1541681278</td>\n",
       "      <td>46</td>\n",
       "    </tr>\n",
       "  </tbody>\n",
       "</table>\n",
       "</div>"
      ],
      "text/plain": [
       "   index       user_id     session_id   timestamp  step\n",
       "0      0  004A07DM0IDW  1d688ec168932  1541555799     7\n",
       "1      1  009RGHI3G9A3  f05ab0de907e2  1541570940     2\n",
       "2      2  00Y1Z24X8084  26b6d294d66e7  1541651823     2\n",
       "3      3  01V3WDTDM5CU  07628a0f5be0b  1541575643     5\n",
       "4      4  02AOAVF9PVYH  4a01c3afbc224  1541681278    46"
      ]
     },
     "execution_count": 6,
     "metadata": {},
     "output_type": "execute_result"
    }
   ],
   "source": [
    "na_clickout = na_clickout[['user_id','session_id','timestamp','step']]\n",
    "na_clickout.reset_index(inplace = True)\n",
    "na_clickout.head()"
   ]
  },
  {
   "cell_type": "code",
   "execution_count": 7,
   "metadata": {},
   "outputs": [],
   "source": [
    "first = (np.array([-1] + list(na_clickout['index'].values))[:-1] +1)[:-1]\n",
    "last = (na_clickout['index'].values - 1)[:-1]"
   ]
  },
  {
   "cell_type": "code",
   "execution_count": 8,
   "metadata": {},
   "outputs": [],
   "source": [
    "fl = np.stack((first, last), axis = 1)"
   ]
  },
  {
   "cell_type": "code",
   "execution_count": 9,
   "metadata": {},
   "outputs": [
    {
     "name": "stdout",
     "output_type": "stream",
     "text": [
      "190000\n",
      "200000\n",
      "210000\n",
      "220000\n",
      "230000\n",
      "240000\n",
      "250000\n"
     ]
    }
   ],
   "source": [
    "i = 181459\n",
    "for f,l in zip(first[181460:],last[181460:]):\n",
    "    i+=1\n",
    "    if i%10000 == 0 :\n",
    "        print(i)\n",
    "    \n",
    "    test.loc[[f,l],'TF'] = True"
   ]
  },
  {
   "cell_type": "code",
   "execution_count": 10,
   "metadata": {},
   "outputs": [],
   "source": [
    "test['TF'].to_pickle(path + 'tf.p')"
   ]
  }
 ],
 "metadata": {
  "kernelspec": {
   "display_name": "Python 3",
   "language": "python",
   "name": "python3"
  },
  "language_info": {
   "codemirror_mode": {
    "name": "ipython",
    "version": 3
   },
   "file_extension": ".py",
   "mimetype": "text/x-python",
   "name": "python",
   "nbconvert_exporter": "python",
   "pygments_lexer": "ipython3",
   "version": "3.5.2"
  }
 },
 "nbformat": 4,
 "nbformat_minor": 2
}
