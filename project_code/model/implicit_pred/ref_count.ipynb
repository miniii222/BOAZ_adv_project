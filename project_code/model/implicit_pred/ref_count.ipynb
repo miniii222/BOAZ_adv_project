{
  "nbformat": 4,
  "nbformat_minor": 0,
  "metadata": {
    "colab": {
      "name": "ref_count.ipynb",
      "version": "0.3.2",
      "provenance": [],
      "collapsed_sections": [],
      "toc_visible": true
    },
    "kernelspec": {
      "name": "python3",
      "display_name": "Python 3"
    }
  },
  "cells": [
    {
      "cell_type": "code",
      "metadata": {
        "id": "3eeq5WYl7UJ5",
        "colab_type": "code",
        "outputId": "dc34335f-cd8f-4f09-8cc6-25bfc2b94d79",
        "colab": {
          "base_uri": "https://localhost:8080/",
          "height": 124
        }
      },
      "source": [
        "# Google 드라이브를 마운트하려면 이 셀을 실행하세요.\n",
        "from google.colab import drive\n",
        "drive.mount('/content/drive')"
      ],
      "execution_count": 1,
      "outputs": [
        {
          "output_type": "stream",
          "text": [
            "Go to this URL in a browser: https://accounts.google.com/o/oauth2/auth?client_id=947318989803-6bn6qk8qdgf4n4g3pfee6491hc0brc4i.apps.googleusercontent.com&redirect_uri=urn%3Aietf%3Awg%3Aoauth%3A2.0%3Aoob&scope=email%20https%3A%2F%2Fwww.googleapis.com%2Fauth%2Fdocs.test%20https%3A%2F%2Fwww.googleapis.com%2Fauth%2Fdrive%20https%3A%2F%2Fwww.googleapis.com%2Fauth%2Fdrive.photos.readonly%20https%3A%2F%2Fwww.googleapis.com%2Fauth%2Fpeopleapi.readonly&response_type=code\n",
            "\n",
            "Enter your authorization code:\n",
            "··········\n",
            "Mounted at /content/drive\n"
          ],
          "name": "stdout"
        }
      ]
    },
    {
      "cell_type": "code",
      "metadata": {
        "id": "epI3VU0L8rtN",
        "colab_type": "code",
        "colab": {}
      },
      "source": [
        "import pandas as pd\n",
        "import numpy as np"
      ],
      "execution_count": 0,
      "outputs": []
    },
    {
      "cell_type": "code",
      "metadata": {
        "id": "7SghY8qd93Bi",
        "colab_type": "code",
        "colab": {
          "base_uri": "https://localhost:8080/",
          "height": 298
        },
        "outputId": "43313629-28dd-4697-9c6d-78fbde799479"
      },
      "source": [
        "!pip install surprise"
      ],
      "execution_count": 3,
      "outputs": [
        {
          "output_type": "stream",
          "text": [
            "Collecting surprise\n",
            "  Downloading https://files.pythonhosted.org/packages/61/de/e5cba8682201fcf9c3719a6fdda95693468ed061945493dea2dd37c5618b/surprise-0.1-py2.py3-none-any.whl\n",
            "Collecting scikit-surprise (from surprise)\n",
            "\u001b[?25l  Downloading https://files.pythonhosted.org/packages/4d/fc/cd4210b247d1dca421c25994740cbbf03c5e980e31881f10eaddf45fdab0/scikit-surprise-1.0.6.tar.gz (3.3MB)\n",
            "\u001b[K     |████████████████████████████████| 3.3MB 4.6MB/s \n",
            "\u001b[?25hRequirement already satisfied: joblib>=0.11 in /usr/local/lib/python3.6/dist-packages (from scikit-surprise->surprise) (0.13.2)\n",
            "Requirement already satisfied: numpy>=1.11.2 in /usr/local/lib/python3.6/dist-packages (from scikit-surprise->surprise) (1.16.4)\n",
            "Requirement already satisfied: scipy>=1.0.0 in /usr/local/lib/python3.6/dist-packages (from scikit-surprise->surprise) (1.3.0)\n",
            "Requirement already satisfied: six>=1.10.0 in /usr/local/lib/python3.6/dist-packages (from scikit-surprise->surprise) (1.12.0)\n",
            "Building wheels for collected packages: scikit-surprise\n",
            "  Building wheel for scikit-surprise (setup.py) ... \u001b[?25l\u001b[?25hdone\n",
            "  Stored in directory: /root/.cache/pip/wheels/ec/c0/55/3a28eab06b53c220015063ebbdb81213cd3dcbb72c088251ec\n",
            "Successfully built scikit-surprise\n",
            "Installing collected packages: scikit-surprise, surprise\n",
            "Successfully installed scikit-surprise-1.0.6 surprise-0.1\n"
          ],
          "name": "stdout"
        }
      ]
    },
    {
      "cell_type": "code",
      "metadata": {
        "id": "tONzuWg28vG_",
        "colab_type": "code",
        "outputId": "4eee435f-84ed-46c1-d4be-ec82fe034b73",
        "colab": {
          "base_uri": "https://localhost:8080/",
          "height": 139
        }
      },
      "source": [
        "import os \n",
        "os.listdir('./drive/My Drive/colab/recsys/data')\n"
      ],
      "execution_count": 0,
      "outputs": [
        {
          "output_type": "execute_result",
          "data": {
            "text/plain": [
              "['test.csv',\n",
              " 'train.csv',\n",
              " 'item_metadata.csv',\n",
              " 'submission_popular.csv',\n",
              " 'reference_first.pkl',\n",
              " 'dwell_df.csv',\n",
              " 'df_ref.csv']"
            ]
          },
          "metadata": {
            "tags": []
          },
          "execution_count": 10
        }
      ]
    },
    {
      "cell_type": "code",
      "metadata": {
        "id": "GboVLIpb86xt",
        "colab_type": "code",
        "outputId": "6038524a-d3c6-4128-8be3-05814b41354c",
        "colab": {
          "base_uri": "https://localhost:8080/",
          "height": 34
        }
      },
      "source": [
        "path = './drive/My Drive/colab/recsys/data/'\n",
        "\n",
        "df_ref = pd.read_csv(path + 'df_ref.csv')\n",
        "df_ref.reference_int = df_ref.reference_int.apply(int)\n",
        "df_ref.rename(columns = {'reference_int' : 'reference'})\n",
        "df_ref.shape"
      ],
      "execution_count": 22,
      "outputs": [
        {
          "output_type": "execute_result",
          "data": {
            "text/plain": [
              "(1682962, 3)"
            ]
          },
          "metadata": {
            "tags": []
          },
          "execution_count": 22
        }
      ]
    },
    {
      "cell_type": "code",
      "metadata": {
        "id": "u9Hjv2QH9H4f",
        "colab_type": "code",
        "outputId": "fd3a7b3e-a0ae-4af2-b0b2-39bcec479e55",
        "colab": {
          "base_uri": "https://localhost:8080/",
          "height": 196
        }
      },
      "source": [
        "df_ref.head()"
      ],
      "execution_count": 23,
      "outputs": [
        {
          "output_type": "execute_result",
          "data": {
            "text/html": [
              "<div>\n",
              "<style scoped>\n",
              "    .dataframe tbody tr th:only-of-type {\n",
              "        vertical-align: middle;\n",
              "    }\n",
              "\n",
              "    .dataframe tbody tr th {\n",
              "        vertical-align: top;\n",
              "    }\n",
              "\n",
              "    .dataframe thead th {\n",
              "        text-align: right;\n",
              "    }\n",
              "</style>\n",
              "<table border=\"1\" class=\"dataframe\">\n",
              "  <thead>\n",
              "    <tr style=\"text-align: right;\">\n",
              "      <th></th>\n",
              "      <th>user_id</th>\n",
              "      <th>reference_int</th>\n",
              "      <th>ref_count</th>\n",
              "    </tr>\n",
              "  </thead>\n",
              "  <tbody>\n",
              "    <tr>\n",
              "      <th>0</th>\n",
              "      <td>0001VQMGUI65</td>\n",
              "      <td>3133074</td>\n",
              "      <td>11.0</td>\n",
              "    </tr>\n",
              "    <tr>\n",
              "      <th>1</th>\n",
              "      <td>0001VQMGUI65</td>\n",
              "      <td>477811</td>\n",
              "      <td>1.0</td>\n",
              "    </tr>\n",
              "    <tr>\n",
              "      <th>2</th>\n",
              "      <td>0001VQMGUI65</td>\n",
              "      <td>950829</td>\n",
              "      <td>1.0</td>\n",
              "    </tr>\n",
              "    <tr>\n",
              "      <th>3</th>\n",
              "      <td>0001VQMGUI65</td>\n",
              "      <td>2019467</td>\n",
              "      <td>1.0</td>\n",
              "    </tr>\n",
              "    <tr>\n",
              "      <th>4</th>\n",
              "      <td>0001VQMGUI65</td>\n",
              "      <td>4521140</td>\n",
              "      <td>1.0</td>\n",
              "    </tr>\n",
              "  </tbody>\n",
              "</table>\n",
              "</div>"
            ],
            "text/plain": [
              "        user_id  reference_int  ref_count\n",
              "0  0001VQMGUI65        3133074       11.0\n",
              "1  0001VQMGUI65         477811        1.0\n",
              "2  0001VQMGUI65         950829        1.0\n",
              "3  0001VQMGUI65        2019467        1.0\n",
              "4  0001VQMGUI65        4521140        1.0"
            ]
          },
          "metadata": {
            "tags": []
          },
          "execution_count": 23
        }
      ]
    },
    {
      "cell_type": "code",
      "metadata": {
        "id": "Bgb-SOr-P7sG",
        "colab_type": "code",
        "outputId": "97237e16-2509-49c1-f078-8aa79951e3a0",
        "colab": {
          "base_uri": "https://localhost:8080/",
          "height": 174
        }
      },
      "source": [
        "df_ref.ref_count.describe()"
      ],
      "execution_count": 0,
      "outputs": [
        {
          "output_type": "execute_result",
          "data": {
            "text/plain": [
              "count    1.682962e+06\n",
              "mean     7.870252e+00\n",
              "std      9.933566e+00\n",
              "min      1.000000e+00\n",
              "25%      1.000000e+00\n",
              "50%      2.000000e+00\n",
              "75%      1.200000e+01\n",
              "max      2.850000e+01\n",
              "Name: ref_count, dtype: float64"
            ]
          },
          "metadata": {
            "tags": []
          },
          "execution_count": 11
        }
      ]
    },
    {
      "cell_type": "code",
      "metadata": {
        "id": "-sw7I9hjQa7s",
        "colab_type": "code",
        "outputId": "eae20e9d-de66-4510-a8b2-6dcd4f59dfac",
        "colab": {
          "base_uri": "https://localhost:8080/",
          "height": 366
        }
      },
      "source": [
        "df_ref.ref_count.value_counts()"
      ],
      "execution_count": 0,
      "outputs": [
        {
          "output_type": "execute_result",
          "data": {
            "text/plain": [
              "1.0     640882\n",
              "28.5    271229\n",
              "2.0     217104\n",
              "3.0     140884\n",
              "4.0      61145\n",
              "5.0      41599\n",
              "6.0      30889\n",
              "7.0      26760\n",
              "10.0     25710\n",
              "8.0      25707\n",
              "9.0      25535\n",
              "11.0     25180\n",
              "12.0     24626\n",
              "13.0     23858\n",
              "14.0     22990\n",
              "15.0     21525\n",
              "16.0     20276\n",
              "17.0     19164\n",
              "18.0     17899\n",
              "Name: ref_count, dtype: int64"
            ]
          },
          "metadata": {
            "tags": []
          },
          "execution_count": 96
        }
      ]
    },
    {
      "cell_type": "code",
      "metadata": {
        "id": "YCQ_xaF1QHXP",
        "colab_type": "code",
        "outputId": "08539295-b7bb-4729-bcc8-759ebaf8e05b",
        "colab": {
          "base_uri": "https://localhost:8080/",
          "height": 34
        }
      },
      "source": [
        "df_ref.ref_count.max()"
      ],
      "execution_count": 0,
      "outputs": [
        {
          "output_type": "execute_result",
          "data": {
            "text/plain": [
              "28.5"
            ]
          },
          "metadata": {
            "tags": []
          },
          "execution_count": 93
        }
      ]
    },
    {
      "cell_type": "code",
      "metadata": {
        "id": "zZevcgMIP_oq",
        "colab_type": "code",
        "outputId": "30b06349-e89b-4751-f5e0-f4b663809a87",
        "colab": {
          "base_uri": "https://localhost:8080/",
          "height": 286
        }
      },
      "source": [
        "df_ref.ref_count.plot.hist(bins = 30)"
      ],
      "execution_count": 0,
      "outputs": [
        {
          "output_type": "execute_result",
          "data": {
            "text/plain": [
              "<matplotlib.axes._subplots.AxesSubplot at 0x7fd9f77ca5f8>"
            ]
          },
          "metadata": {
            "tags": []
          },
          "execution_count": 92
        },
        {
          "output_type": "display_data",
          "data": {
            "image/png": "[encoded data removed]",
            "text/plain": [
              "<Figure size 432x288 with 1 Axes>"
            ]
          },
          "metadata": {
            "tags": []
          }
        }
      ]
    },
    {
      "cell_type": "markdown",
      "metadata": {
        "id": "lQftm_2J9NWl",
        "colab_type": "text"
      },
      "source": [
        "https://antilibrary.org/2086"
      ]
    },
    {
      "cell_type": "markdown",
      "metadata": {
        "id": "n9-Jw13TAGjB",
        "colab_type": "text"
      },
      "source": [
        "## item별로 선택받은 횟수"
      ]
    },
    {
      "cell_type": "code",
      "metadata": {
        "id": "8gQfrF2s_XXS",
        "colab_type": "code",
        "colab": {}
      },
      "source": [
        "byitem = df_ref.groupby('reference_int')['ref_count'].count()"
      ],
      "execution_count": 0,
      "outputs": []
    },
    {
      "cell_type": "code",
      "metadata": {
        "id": "N8JIdrA2Itzm",
        "colab_type": "code",
        "outputId": "d2b4527d-da0d-4717-dfb2-aec4c09c40d5",
        "colab": {
          "base_uri": "https://localhost:8080/",
          "height": 174
        }
      },
      "source": [
        "byitem.describe()"
      ],
      "execution_count": 0,
      "outputs": [
        {
          "output_type": "execute_result",
          "data": {
            "text/plain": [
              "count    336412.000000\n",
              "mean          5.002681\n",
              "std          11.361160\n",
              "min           1.000000\n",
              "25%           1.000000\n",
              "50%           2.000000\n",
              "75%           4.000000\n",
              "max         740.000000\n",
              "Name: ref_count, dtype: float64"
            ]
          },
          "metadata": {
            "tags": []
          },
          "execution_count": 64
        }
      ]
    },
    {
      "cell_type": "code",
      "metadata": {
        "id": "8L7rjLikITX1",
        "colab_type": "code",
        "outputId": "4043e449-7419-462a-e9ac-cfc57b5e9b75",
        "colab": {
          "base_uri": "https://localhost:8080/",
          "height": 286
        }
      },
      "source": [
        "byitem.plot.hist(bins = 30)"
      ],
      "execution_count": 0,
      "outputs": [
        {
          "output_type": "execute_result",
          "data": {
            "text/plain": [
              "<matplotlib.axes._subplots.AxesSubplot at 0x7fd9f92a7b38>"
            ]
          },
          "metadata": {
            "tags": []
          },
          "execution_count": 65
        },
        {
          "output_type": "display_data",
          "data": {
            "image/png": "[encoded data removed]",
            "text/plain": [
              "<Figure size 432x288 with 1 Axes>"
            ]
          },
          "metadata": {
            "tags": []
          }
        }
      ]
    },
    {
      "cell_type": "code",
      "metadata": {
        "id": "67PZEP3D9Qnu",
        "colab_type": "code",
        "outputId": "45fa3512-4f91-41df-e8ac-69dd851e614e",
        "colab": {
          "base_uri": "https://localhost:8080/",
          "height": 34
        }
      },
      "source": [
        "np.mean(byitem == 1)"
      ],
      "execution_count": 0,
      "outputs": [
        {
          "output_type": "execute_result",
          "data": {
            "text/plain": [
              "0.45199338905865427"
            ]
          },
          "metadata": {
            "tags": []
          },
          "execution_count": 71
        }
      ]
    },
    {
      "cell_type": "markdown",
      "metadata": {
        "id": "n57essqSKBPZ",
        "colab_type": "text"
      },
      "source": [
        "## user별로 선택한 횟수"
      ]
    },
    {
      "cell_type": "code",
      "metadata": {
        "id": "KS3BOTjuKHR_",
        "colab_type": "code",
        "outputId": "954d25b9-a64c-4550-a205-a2c7c260d64a",
        "colab": {
          "base_uri": "https://localhost:8080/",
          "height": 137
        }
      },
      "source": [
        "df_ref.head(3)"
      ],
      "execution_count": 0,
      "outputs": [
        {
          "output_type": "execute_result",
          "data": {
            "text/html": [
              "<div>\n",
              "<style scoped>\n",
              "    .dataframe tbody tr th:only-of-type {\n",
              "        vertical-align: middle;\n",
              "    }\n",
              "\n",
              "    .dataframe tbody tr th {\n",
              "        vertical-align: top;\n",
              "    }\n",
              "\n",
              "    .dataframe thead th {\n",
              "        text-align: right;\n",
              "    }\n",
              "</style>\n",
              "<table border=\"1\" class=\"dataframe\">\n",
              "  <thead>\n",
              "    <tr style=\"text-align: right;\">\n",
              "      <th></th>\n",
              "      <th>user_id</th>\n",
              "      <th>reference_int</th>\n",
              "      <th>ref_count</th>\n",
              "    </tr>\n",
              "  </thead>\n",
              "  <tbody>\n",
              "    <tr>\n",
              "      <th>0</th>\n",
              "      <td>0001VQMGUI65</td>\n",
              "      <td>3133074.0</td>\n",
              "      <td>11.0</td>\n",
              "    </tr>\n",
              "    <tr>\n",
              "      <th>1</th>\n",
              "      <td>0001VQMGUI65</td>\n",
              "      <td>477811.0</td>\n",
              "      <td>1.0</td>\n",
              "    </tr>\n",
              "    <tr>\n",
              "      <th>2</th>\n",
              "      <td>0001VQMGUI65</td>\n",
              "      <td>950829.0</td>\n",
              "      <td>1.0</td>\n",
              "    </tr>\n",
              "  </tbody>\n",
              "</table>\n",
              "</div>"
            ],
            "text/plain": [
              "        user_id  reference_int  ref_count\n",
              "0  0001VQMGUI65      3133074.0       11.0\n",
              "1  0001VQMGUI65       477811.0        1.0\n",
              "2  0001VQMGUI65       950829.0        1.0"
            ]
          },
          "metadata": {
            "tags": []
          },
          "execution_count": 74
        }
      ]
    },
    {
      "cell_type": "code",
      "metadata": {
        "id": "msximEnYJjzQ",
        "colab_type": "code",
        "outputId": "f116d2e4-c71f-49ff-e9b4-1c4ebbebcd14",
        "colab": {
          "base_uri": "https://localhost:8080/",
          "height": 34
        }
      },
      "source": [
        "byuser = df_ref.groupby('user_id')['ref_count'].count()\n",
        "np.mean(byuser == 1)"
      ],
      "execution_count": 0,
      "outputs": [
        {
          "output_type": "execute_result",
          "data": {
            "text/plain": [
              "0.39948842347086694"
            ]
          },
          "metadata": {
            "tags": []
          },
          "execution_count": 14
        }
      ]
    },
    {
      "cell_type": "code",
      "metadata": {
        "id": "8BSu0wcJKMIH",
        "colab_type": "code",
        "outputId": "b675681f-afaa-40b9-dc91-720a4cf3a1f7",
        "colab": {
          "base_uri": "https://localhost:8080/",
          "height": 174
        }
      },
      "source": [
        "byuser.describe()"
      ],
      "execution_count": 0,
      "outputs": [
        {
          "output_type": "execute_result",
          "data": {
            "text/plain": [
              "count    544982.000000\n",
              "mean          3.088106\n",
              "std           4.070288\n",
              "min           1.000000\n",
              "25%           1.000000\n",
              "50%           2.000000\n",
              "75%           3.000000\n",
              "max         359.000000\n",
              "Name: ref_count, dtype: float64"
            ]
          },
          "metadata": {
            "tags": []
          },
          "execution_count": 77
        }
      ]
    },
    {
      "cell_type": "code",
      "metadata": {
        "id": "HNP_bFKJKQQO",
        "colab_type": "code",
        "outputId": "6cc87310-041f-4e58-9460-27f608e0dd68",
        "colab": {
          "base_uri": "https://localhost:8080/",
          "height": 286
        }
      },
      "source": [
        "byuser.plot.hist(bins = 30)"
      ],
      "execution_count": 0,
      "outputs": [
        {
          "output_type": "execute_result",
          "data": {
            "text/plain": [
              "<matplotlib.axes._subplots.AxesSubplot at 0x7fd9f03833c8>"
            ]
          },
          "metadata": {
            "tags": []
          },
          "execution_count": 78
        },
        {
          "output_type": "display_data",
          "data": {
            "image/png": "[encoded data removed]",
            "text/plain": [
              "<Figure size 432x288 with 1 Axes>"
            ]
          },
          "metadata": {
            "tags": []
          }
        }
      ]
    },
    {
      "cell_type": "markdown",
      "metadata": {
        "id": "5LpWDJjhMZmn",
        "colab_type": "text"
      },
      "source": [
        "## filtering users and items"
      ]
    },
    {
      "cell_type": "code",
      "metadata": {
        "id": "P1lzOI9pKSkS",
        "colab_type": "code",
        "outputId": "8acc60b0-41d9-4c91-c59f-796404a85717",
        "colab": {
          "base_uri": "https://localhost:8080/",
          "height": 52
        }
      },
      "source": [
        "filter_items = df_ref['reference_int'].value_counts() > 1\n",
        "filter_items = filter_items[filter_items].index.tolist()\n",
        "\n",
        "filter_users = df_ref['user_id'].value_counts() > 1\n",
        "filter_users = filter_users[filter_users].index.tolist()\n",
        "\n",
        "df_new = df_ref[(df_ref['reference_int'].isin(filter_items)) & (df_ref['user_id'].isin(filter_users))]\n",
        "\n",
        "print('The original data frame shape : ', df_ref.shape)\n",
        "print('The new data frame shape : ', df_new.shape)\n",
        "\n",
        "del df_ref"
      ],
      "execution_count": 0,
      "outputs": [
        {
          "output_type": "stream",
          "text": [
            "The original data frame shape :  (1682962, 3)\n",
            "The new data frame shape :  (1332736, 3)\n"
          ],
          "name": "stdout"
        }
      ]
    },
    {
      "cell_type": "markdown",
      "metadata": {
        "id": "Dvbdz8CZPRxQ",
        "colab_type": "text"
      },
      "source": [
        "# Surprise package"
      ]
    },
    {
      "cell_type": "code",
      "metadata": {
        "id": "LmWvrckwO9i7",
        "colab_type": "code",
        "colab": {}
      },
      "source": [
        "from surprise import Reader\n",
        "from surprise import Dataset\n",
        "from surprise.model_selection import cross_validate, train_test_split\n",
        "from surprise import NormalPredictor\n",
        "#from surprise import KNNBasic,KNNWithMeans,KNNWithZScore,KNNBaseline #memory error\n",
        "from surprise import SVD, SVDpp, NMF\n",
        "from surprise import BaselineOnly, CoClustering\n",
        "from surprise import NormalPredictor\n",
        "from surprise.accuracy import rmse\n",
        "from surprise import accuracy"
      ],
      "execution_count": 0,
      "outputs": []
    },
    {
      "cell_type": "code",
      "metadata": {
        "id": "l-WnOrMmPwXW",
        "colab_type": "code",
        "colab": {}
      },
      "source": [
        "reader = Reader(rating_scale=(1,28.5))\n",
        "data = Dataset.load_from_df(df_ref[['user_id','reference_int','ref_count']], reader)"
      ],
      "execution_count": 0,
      "outputs": []
    },
    {
      "cell_type": "code",
      "metadata": {
        "id": "7Cotn-0KV87T",
        "colab_type": "code",
        "colab": {}
      },
      "source": [
        "benchmark = []"
      ],
      "execution_count": 0,
      "outputs": []
    },
    {
      "cell_type": "markdown",
      "metadata": {
        "id": "Nwt-_LclUaiG",
        "colab_type": "text"
      },
      "source": [
        "# SVD"
      ]
    },
    {
      "cell_type": "code",
      "metadata": {
        "id": "PJccsh1LUb3Z",
        "colab_type": "code",
        "outputId": "24917035-c2d9-46fa-d2e8-ddb60b8e61cf",
        "colab": {
          "base_uri": "https://localhost:8080/",
          "height": 34
        }
      },
      "source": [
        "print('algorithm : ', 'SVD')\n",
        "results = cross_validate(SVD(), data, measures=['RMSE'], cv = 3, verbose = False)\n",
        "\n",
        "#get results\n",
        "tmp = pd.DataFrame.from_dict(results).mean(axis = 0)\n",
        "tmp = tmp.append(pd.Series('SVD', index = ['Algorithm']))\n",
        "benchmark.append(tmp)"
      ],
      "execution_count": 0,
      "outputs": [
        {
          "output_type": "stream",
          "text": [
            "algorithm :  SVD\n"
          ],
          "name": "stdout"
        }
      ]
    },
    {
      "cell_type": "code",
      "metadata": {
        "id": "542bFO7jYmyt",
        "colab_type": "code",
        "outputId": "2d14a23c-a1f9-4401-9cae-00b92b66c1c6",
        "colab": {
          "base_uri": "https://localhost:8080/",
          "height": 104
        }
      },
      "source": [
        "tmp"
      ],
      "execution_count": 0,
      "outputs": [
        {
          "output_type": "execute_result",
          "data": {
            "text/plain": [
              "test_rmse    9.3213\n",
              "fit_time     77.182\n",
              "test_time    7.0765\n",
              "Algorithm       SVD\n",
              "dtype: object"
            ]
          },
          "metadata": {
            "tags": []
          },
          "execution_count": 23
        }
      ]
    },
    {
      "cell_type": "markdown",
      "metadata": {
        "id": "NA-I4SOqXkb2",
        "colab_type": "text"
      },
      "source": [
        "# SVDpp"
      ]
    },
    {
      "cell_type": "code",
      "metadata": {
        "id": "4rPSwkt-XjnV",
        "colab_type": "code",
        "outputId": "3f5678e4-6c8e-4467-e8e6-2c41f4ecf01c",
        "colab": {
          "base_uri": "https://localhost:8080/",
          "height": 34
        }
      },
      "source": [
        "print('algorithm : ', 'SVDpp')\n",
        "results = cross_validate(SVDpp(), data, measures=['RMSE'], cv = 3, verbose = False)\n",
        "\n",
        "#get results\n",
        "tmp = pd.DataFrame.from_dict(results).mean(axis = 0)\n",
        "tmp = tmp.append(pd.Series('SVDpp', index = ['Algorithm']))\n",
        "benchmark.append(tmp)"
      ],
      "execution_count": 0,
      "outputs": [
        {
          "output_type": "stream",
          "text": [
            "algorithm :  SVDpp\n"
          ],
          "name": "stdout"
        }
      ]
    },
    {
      "cell_type": "code",
      "metadata": {
        "id": "lWEB1F6sYvHF",
        "colab_type": "code",
        "outputId": "b8020b1c-a9a7-4848-a265-28a6d48871b4",
        "colab": {
          "base_uri": "https://localhost:8080/",
          "height": 104
        }
      },
      "source": [
        "tmp"
      ],
      "execution_count": 0,
      "outputs": [
        {
          "output_type": "execute_result",
          "data": {
            "text/plain": [
              "test_rmse    9.67288\n",
              "fit_time     199.856\n",
              "test_time    15.3761\n",
              "Algorithm        SVD\n",
              "dtype: object"
            ]
          },
          "metadata": {
            "tags": []
          },
          "execution_count": 25
        }
      ]
    },
    {
      "cell_type": "markdown",
      "metadata": {
        "id": "rKyeUgF8bYg-",
        "colab_type": "text"
      },
      "source": [
        "# NMF"
      ]
    },
    {
      "cell_type": "code",
      "metadata": {
        "id": "r9UYLO-4ba4f",
        "colab_type": "code",
        "outputId": "77d1eb83-fb02-4efd-b41e-4073b23ad0b6",
        "colab": {
          "base_uri": "https://localhost:8080/",
          "height": 121
        }
      },
      "source": [
        "print('algorithm : ', 'NMF')\n",
        "results = cross_validate(NMF(), data, measures=['RMSE'], cv = 3, verbose = False)\n",
        "\n",
        "#get results\n",
        "tmp = pd.DataFrame.from_dict(results).mean(axis = 0)\n",
        "tmp = tmp.append(pd.Series('NMF', index = ['Algorithm']))\n",
        "benchmark.append(tmp)\n",
        "tmp"
      ],
      "execution_count": 0,
      "outputs": [
        {
          "output_type": "stream",
          "text": [
            "algorithm :  NMF\n"
          ],
          "name": "stdout"
        },
        {
          "output_type": "execute_result",
          "data": {
            "text/plain": [
              "test_rmse    9.97242\n",
              "fit_time     136.315\n",
              "test_time    6.48009\n",
              "Algorithm        NMF\n",
              "dtype: object"
            ]
          },
          "metadata": {
            "tags": []
          },
          "execution_count": 8
        }
      ]
    },
    {
      "cell_type": "markdown",
      "metadata": {
        "id": "AiZOazxuevBu",
        "colab_type": "text"
      },
      "source": [
        "# BaselineOnly"
      ]
    },
    {
      "cell_type": "code",
      "metadata": {
        "id": "Ef7kVFeaex8o",
        "colab_type": "code",
        "outputId": "2b2ab605-c25d-46e6-8165-4f125833418f",
        "colab": {
          "base_uri": "https://localhost:8080/",
          "height": 174
        }
      },
      "source": [
        "print('algorithm : ', 'BaselineOnly')\n",
        "results = cross_validate(BaselineOnly(), data, measures=['RMSE'], cv = 3, verbose = False)\n",
        "\n",
        "#get results\n",
        "tmp = pd.DataFrame.from_dict(results).mean(axis = 0)\n",
        "tmp = tmp.append(pd.Series('BaselineOnly', index = ['Algorithm']))\n",
        "benchmark.append(tmp)\n",
        "tmp"
      ],
      "execution_count": 0,
      "outputs": [
        {
          "output_type": "stream",
          "text": [
            "algorithm :  BaselineOnly\n",
            "Estimating biases using als...\n",
            "Estimating biases using als...\n",
            "Estimating biases using als...\n"
          ],
          "name": "stdout"
        },
        {
          "output_type": "execute_result",
          "data": {
            "text/plain": [
              "test_rmse         9.32758\n",
              "fit_time          7.83443\n",
              "test_time         5.88081\n",
              "Algorithm    BaselineOnly\n",
              "dtype: object"
            ]
          },
          "metadata": {
            "tags": []
          },
          "execution_count": 8
        }
      ]
    },
    {
      "cell_type": "markdown",
      "metadata": {
        "id": "UCBYKCgyh0l1",
        "colab_type": "text"
      },
      "source": [
        "# Co clustering"
      ]
    },
    {
      "cell_type": "code",
      "metadata": {
        "id": "3XI3Sengh2On",
        "colab_type": "code",
        "outputId": "0d066635-5097-4c22-8901-92cecd190a6d",
        "colab": {
          "base_uri": "https://localhost:8080/",
          "height": 121
        }
      },
      "source": [
        "print('algorithm : ', 'CoClustering')\n",
        "results = cross_validate(CoClustering(), data, measures=['RMSE'], cv = 3, verbose = False)\n",
        "\n",
        "#get results\n",
        "tmp = pd.DataFrame.from_dict(results).mean(axis = 0)\n",
        "tmp = tmp.append(pd.Series('CoClustering', index = ['Algorithm']))\n",
        "benchmark.append(tmp)\n",
        "tmp"
      ],
      "execution_count": 0,
      "outputs": [
        {
          "output_type": "stream",
          "text": [
            "algorithm :  CoClustering\n"
          ],
          "name": "stdout"
        },
        {
          "output_type": "execute_result",
          "data": {
            "text/plain": [
              "test_rmse         9.61101\n",
              "fit_time          76.7366\n",
              "test_time          5.6426\n",
              "Algorithm    CoClustering\n",
              "dtype: object"
            ]
          },
          "metadata": {
            "tags": []
          },
          "execution_count": 9
        }
      ]
    },
    {
      "cell_type": "markdown",
      "metadata": {
        "id": "F1aHHwMamTrc",
        "colab_type": "text"
      },
      "source": [
        "# NormalPredictor"
      ]
    },
    {
      "cell_type": "code",
      "metadata": {
        "id": "gTZXG8PTmU9a",
        "colab_type": "code",
        "outputId": "a223e043-2974-4fa0-c047-3bd84f63d6c7",
        "colab": {
          "base_uri": "https://localhost:8080/",
          "height": 121
        }
      },
      "source": [
        "print('algorithm : ', 'NormalPredictor')\n",
        "results = cross_validate(NormalPredictor(), data, measures=['RMSE'], cv = 3, verbose = False)\n",
        "\n",
        "#get results\n",
        "tmp = pd.DataFrame.from_dict(results).mean(axis = 0)\n",
        "tmp = tmp.append(pd.Series('NormalPredictor', index = ['Algorithm']))\n",
        "benchmark.append(tmp)\n",
        "tmp"
      ],
      "execution_count": 0,
      "outputs": [
        {
          "output_type": "stream",
          "text": [
            "algorithm :  NormalPredictor\n"
          ],
          "name": "stdout"
        },
        {
          "output_type": "execute_result",
          "data": {
            "text/plain": [
              "test_rmse            13.0077\n",
              "fit_time              2.4279\n",
              "test_time            5.80882\n",
              "Algorithm    NormalPredictor\n",
              "dtype: object"
            ]
          },
          "metadata": {
            "tags": []
          },
          "execution_count": 11
        }
      ]
    },
    {
      "cell_type": "markdown",
      "metadata": {
        "id": "h_BWI_WVnNO9",
        "colab_type": "text"
      },
      "source": [
        "### SVD, BaselineOnly best!!"
      ]
    },
    {
      "cell_type": "markdown",
      "metadata": {
        "id": "o3jMgWAdnr1C",
        "colab_type": "text"
      },
      "source": [
        "# Train and Predict"
      ]
    },
    {
      "cell_type": "markdown",
      "metadata": {
        "id": "1q23U6UioKRd",
        "colab_type": "text"
      },
      "source": [
        "## BaselineOnly"
      ]
    },
    {
      "cell_type": "code",
      "metadata": {
        "id": "5yLz1FpqnQvW",
        "colab_type": "code",
        "outputId": "c2e1a6e4-1206-462d-9904-bdcfba93c1b3",
        "colab": {
          "base_uri": "https://localhost:8080/",
          "height": 139
        }
      },
      "source": [
        "print('Using ALS')\n",
        "bsl_options = {'method' : 'als',\n",
        "              'n_epochs' : 5,\n",
        "              'reg_u' : 12,\n",
        "              'reg_i' : 5}\n",
        "\n",
        "algo = BaselineOnly(bsl_options=bsl_options)\n",
        "cross_validate(algo, data, measures=['RMSE'], cv = 3, verbose=False)"
      ],
      "execution_count": 0,
      "outputs": [
        {
          "output_type": "stream",
          "text": [
            "Using ALS\n",
            "Estimating biases using als...\n",
            "Estimating biases using als...\n",
            "Estimating biases using als...\n"
          ],
          "name": "stdout"
        },
        {
          "output_type": "execute_result",
          "data": {
            "text/plain": [
              "{'fit_time': (4.370826005935669, 4.798277139663696, 4.7866010665893555),\n",
              " 'test_rmse': array([9.24898479, 9.27478004, 9.26986095]),\n",
              " 'test_time': (6.4433910846710205, 6.268344163894653, 6.2631213665008545)}"
            ]
          },
          "metadata": {
            "tags": []
          },
          "execution_count": 13
        }
      ]
    },
    {
      "cell_type": "code",
      "metadata": {
        "id": "PXR00PUFoYBu",
        "colab_type": "code",
        "outputId": "5009f38e-65fb-40bb-b0be-97d7f3ad1386",
        "colab": {
          "base_uri": "https://localhost:8080/",
          "height": 69
        }
      },
      "source": [
        "trainset,testset = train_test_split(data, test_size = 0.3)\n",
        "algo = BaselineOnly(bsl_options=bsl_options)\n",
        "pred = algo.fit(trainset).test(testset)\n",
        "accuracy.rmse(pred)"
      ],
      "execution_count": 0,
      "outputs": [
        {
          "output_type": "stream",
          "text": [
            "Estimating biases using als...\n",
            "RMSE: 9.2211\n"
          ],
          "name": "stdout"
        },
        {
          "output_type": "execute_result",
          "data": {
            "text/plain": [
              "9.221136041191842"
            ]
          },
          "metadata": {
            "tags": []
          },
          "execution_count": 17
        }
      ]
    },
    {
      "cell_type": "code",
      "metadata": {
        "id": "0nuU_40CpIXk",
        "colab_type": "code",
        "colab": {}
      },
      "source": [
        "def get_Iu(uid) :\n",
        "  try :\n",
        "    return len(trainset.ur[trainset.to_inner_uid(uid)])\n",
        "  except ValueError :\n",
        "    return 0\n",
        "  \n",
        "def get_Ui(iid) :\n",
        "  try :\n",
        "    return len(trainset.ir[trainset.to_inner_iid(iid)])\n",
        "  except ValueError :\n",
        "    return 0"
      ],
      "execution_count": 0,
      "outputs": []
    },
    {
      "cell_type": "code",
      "metadata": {
        "id": "lNwvKD8wpt4C",
        "colab_type": "code",
        "colab": {}
      },
      "source": [
        "df = pd.DataFrame(pred, columns = ['uid','iid','rui','est','details'])\n",
        "df['Iu'] = df.uid.apply(get_Iu)\n",
        "df['Ui'] = df.iid.apply(get_Ui)\n",
        "df['err'] = abs(df.est - df.rui)"
      ],
      "execution_count": 0,
      "outputs": []
    },
    {
      "cell_type": "code",
      "metadata": {
        "id": "j7SvnSS0p-Ov",
        "colab_type": "code",
        "outputId": "25d5eb44-27e5-4672-dd28-22a212b22f3b",
        "colab": {
          "base_uri": "https://localhost:8080/",
          "height": 34
        }
      },
      "source": [
        "df.shape"
      ],
      "execution_count": 0,
      "outputs": [
        {
          "output_type": "execute_result",
          "data": {
            "text/plain": [
              "(399821, 8)"
            ]
          },
          "metadata": {
            "tags": []
          },
          "execution_count": 21
        }
      ]
    },
    {
      "cell_type": "code",
      "metadata": {
        "id": "DtJNcKUmqEtC",
        "colab_type": "code",
        "outputId": "74b9a4e6-7074-4fdc-8221-392f5bc5cd4c",
        "colab": {
          "base_uri": "https://localhost:8080/",
          "height": 196
        }
      },
      "source": [
        "df.sort_values(by = 'err', inplace = True)\n",
        "df.head()"
      ],
      "execution_count": 0,
      "outputs": [
        {
          "output_type": "execute_result",
          "data": {
            "text/html": [
              "<div>\n",
              "<style scoped>\n",
              "    .dataframe tbody tr th:only-of-type {\n",
              "        vertical-align: middle;\n",
              "    }\n",
              "\n",
              "    .dataframe tbody tr th {\n",
              "        vertical-align: top;\n",
              "    }\n",
              "\n",
              "    .dataframe thead th {\n",
              "        text-align: right;\n",
              "    }\n",
              "</style>\n",
              "<table border=\"1\" class=\"dataframe\">\n",
              "  <thead>\n",
              "    <tr style=\"text-align: right;\">\n",
              "      <th></th>\n",
              "      <th>uid</th>\n",
              "      <th>iid</th>\n",
              "      <th>rui</th>\n",
              "      <th>est</th>\n",
              "      <th>details</th>\n",
              "      <th>Iu</th>\n",
              "      <th>Ui</th>\n",
              "      <th>err</th>\n",
              "    </tr>\n",
              "  </thead>\n",
              "  <tbody>\n",
              "    <tr>\n",
              "      <th>228650</th>\n",
              "      <td>16P4IKHQOFH9</td>\n",
              "      <td>49533.0</td>\n",
              "      <td>2.0</td>\n",
              "      <td>2.0</td>\n",
              "      <td>{'was_impossible': False}</td>\n",
              "      <td>43</td>\n",
              "      <td>26</td>\n",
              "      <td>0.0</td>\n",
              "    </tr>\n",
              "    <tr>\n",
              "      <th>208356</th>\n",
              "      <td>UOXKVF8WID52</td>\n",
              "      <td>9764036.0</td>\n",
              "      <td>2.0</td>\n",
              "      <td>2.0</td>\n",
              "      <td>{'was_impossible': False}</td>\n",
              "      <td>7</td>\n",
              "      <td>56</td>\n",
              "      <td>0.0</td>\n",
              "    </tr>\n",
              "    <tr>\n",
              "      <th>8086</th>\n",
              "      <td>M0CRX7B4YN93</td>\n",
              "      <td>4949748.0</td>\n",
              "      <td>2.0</td>\n",
              "      <td>2.0</td>\n",
              "      <td>{'was_impossible': False}</td>\n",
              "      <td>1</td>\n",
              "      <td>77</td>\n",
              "      <td>0.0</td>\n",
              "    </tr>\n",
              "    <tr>\n",
              "      <th>50483</th>\n",
              "      <td>O0KGLPMF98Q8</td>\n",
              "      <td>1460411.0</td>\n",
              "      <td>2.0</td>\n",
              "      <td>2.0</td>\n",
              "      <td>{'was_impossible': False}</td>\n",
              "      <td>33</td>\n",
              "      <td>16</td>\n",
              "      <td>0.0</td>\n",
              "    </tr>\n",
              "    <tr>\n",
              "      <th>202672</th>\n",
              "      <td>50YD0I82D9QO</td>\n",
              "      <td>3992988.0</td>\n",
              "      <td>2.0</td>\n",
              "      <td>2.0</td>\n",
              "      <td>{'was_impossible': False}</td>\n",
              "      <td>2</td>\n",
              "      <td>22</td>\n",
              "      <td>0.0</td>\n",
              "    </tr>\n",
              "  </tbody>\n",
              "</table>\n",
              "</div>"
            ],
            "text/plain": [
              "                 uid        iid  rui  ...  Iu  Ui  err\n",
              "228650  16P4IKHQOFH9    49533.0  2.0  ...  43  26  0.0\n",
              "208356  UOXKVF8WID52  9764036.0  2.0  ...   7  56  0.0\n",
              "8086    M0CRX7B4YN93  4949748.0  2.0  ...   1  77  0.0\n",
              "50483   O0KGLPMF98Q8  1460411.0  2.0  ...  33  16  0.0\n",
              "202672  50YD0I82D9QO  3992988.0  2.0  ...   2  22  0.0\n",
              "\n",
              "[5 rows x 8 columns]"
            ]
          },
          "metadata": {
            "tags": []
          },
          "execution_count": 25
        }
      ]
    },
    {
      "cell_type": "code",
      "metadata": {
        "id": "4cPbxRjsq4l1",
        "colab_type": "code",
        "outputId": "5c86a2ed-f607-40aa-ca3e-ae4686a82920",
        "colab": {
          "base_uri": "https://localhost:8080/",
          "height": 345
        }
      },
      "source": [
        "df.tail(10)"
      ],
      "execution_count": 0,
      "outputs": [
        {
          "output_type": "execute_result",
          "data": {
            "text/html": [
              "<div>\n",
              "<style scoped>\n",
              "    .dataframe tbody tr th:only-of-type {\n",
              "        vertical-align: middle;\n",
              "    }\n",
              "\n",
              "    .dataframe tbody tr th {\n",
              "        vertical-align: top;\n",
              "    }\n",
              "\n",
              "    .dataframe thead th {\n",
              "        text-align: right;\n",
              "    }\n",
              "</style>\n",
              "<table border=\"1\" class=\"dataframe\">\n",
              "  <thead>\n",
              "    <tr style=\"text-align: right;\">\n",
              "      <th></th>\n",
              "      <th>uid</th>\n",
              "      <th>iid</th>\n",
              "      <th>rui</th>\n",
              "      <th>est</th>\n",
              "      <th>details</th>\n",
              "      <th>Iu</th>\n",
              "      <th>Ui</th>\n",
              "      <th>err</th>\n",
              "    </tr>\n",
              "  </thead>\n",
              "  <tbody>\n",
              "    <tr>\n",
              "      <th>213281</th>\n",
              "      <td>LB7W0UXL76OP</td>\n",
              "      <td>1244912.0</td>\n",
              "      <td>28.5</td>\n",
              "      <td>2.024048</td>\n",
              "      <td>{'was_impossible': False}</td>\n",
              "      <td>2</td>\n",
              "      <td>84</td>\n",
              "      <td>26.475952</td>\n",
              "    </tr>\n",
              "    <tr>\n",
              "      <th>154033</th>\n",
              "      <td>06DNN6G3DH9Q</td>\n",
              "      <td>342731.0</td>\n",
              "      <td>28.5</td>\n",
              "      <td>2.000000</td>\n",
              "      <td>{'was_impossible': False}</td>\n",
              "      <td>2</td>\n",
              "      <td>36</td>\n",
              "      <td>26.500000</td>\n",
              "    </tr>\n",
              "    <tr>\n",
              "      <th>341526</th>\n",
              "      <td>99CKCFZ3H69W</td>\n",
              "      <td>478491.0</td>\n",
              "      <td>28.5</td>\n",
              "      <td>2.000000</td>\n",
              "      <td>{'was_impossible': False}</td>\n",
              "      <td>12</td>\n",
              "      <td>8</td>\n",
              "      <td>26.500000</td>\n",
              "    </tr>\n",
              "    <tr>\n",
              "      <th>137008</th>\n",
              "      <td>737CBO2FXH5O</td>\n",
              "      <td>5737714.0</td>\n",
              "      <td>28.5</td>\n",
              "      <td>2.000000</td>\n",
              "      <td>{'was_impossible': False}</td>\n",
              "      <td>12</td>\n",
              "      <td>5</td>\n",
              "      <td>26.500000</td>\n",
              "    </tr>\n",
              "    <tr>\n",
              "      <th>73519</th>\n",
              "      <td>X3D1A9DUJXBJ</td>\n",
              "      <td>99422.0</td>\n",
              "      <td>28.5</td>\n",
              "      <td>2.000000</td>\n",
              "      <td>{'was_impossible': False}</td>\n",
              "      <td>11</td>\n",
              "      <td>19</td>\n",
              "      <td>26.500000</td>\n",
              "    </tr>\n",
              "    <tr>\n",
              "      <th>258898</th>\n",
              "      <td>3RODJWVUCFKZ</td>\n",
              "      <td>10487598.0</td>\n",
              "      <td>28.5</td>\n",
              "      <td>2.000000</td>\n",
              "      <td>{'was_impossible': False}</td>\n",
              "      <td>17</td>\n",
              "      <td>5</td>\n",
              "      <td>26.500000</td>\n",
              "    </tr>\n",
              "    <tr>\n",
              "      <th>182853</th>\n",
              "      <td>PHN9Z4X90VND</td>\n",
              "      <td>2156040.0</td>\n",
              "      <td>28.5</td>\n",
              "      <td>2.000000</td>\n",
              "      <td>{'was_impossible': False}</td>\n",
              "      <td>11</td>\n",
              "      <td>6</td>\n",
              "      <td>26.500000</td>\n",
              "    </tr>\n",
              "    <tr>\n",
              "      <th>127441</th>\n",
              "      <td>C2HIHX3P77D6</td>\n",
              "      <td>149591.0</td>\n",
              "      <td>28.5</td>\n",
              "      <td>2.000000</td>\n",
              "      <td>{'was_impossible': False}</td>\n",
              "      <td>119</td>\n",
              "      <td>22</td>\n",
              "      <td>26.500000</td>\n",
              "    </tr>\n",
              "    <tr>\n",
              "      <th>106925</th>\n",
              "      <td>YKNINOH9QI3U</td>\n",
              "      <td>61700.0</td>\n",
              "      <td>28.5</td>\n",
              "      <td>2.000000</td>\n",
              "      <td>{'was_impossible': False}</td>\n",
              "      <td>29</td>\n",
              "      <td>153</td>\n",
              "      <td>26.500000</td>\n",
              "    </tr>\n",
              "    <tr>\n",
              "      <th>117147</th>\n",
              "      <td>OVZDADERPF8D</td>\n",
              "      <td>10357418.0</td>\n",
              "      <td>28.5</td>\n",
              "      <td>2.000000</td>\n",
              "      <td>{'was_impossible': False}</td>\n",
              "      <td>16</td>\n",
              "      <td>5</td>\n",
              "      <td>26.500000</td>\n",
              "    </tr>\n",
              "  </tbody>\n",
              "</table>\n",
              "</div>"
            ],
            "text/plain": [
              "                 uid         iid   rui  ...   Iu   Ui        err\n",
              "213281  LB7W0UXL76OP   1244912.0  28.5  ...    2   84  26.475952\n",
              "154033  06DNN6G3DH9Q    342731.0  28.5  ...    2   36  26.500000\n",
              "341526  99CKCFZ3H69W    478491.0  28.5  ...   12    8  26.500000\n",
              "137008  737CBO2FXH5O   5737714.0  28.5  ...   12    5  26.500000\n",
              "73519   X3D1A9DUJXBJ     99422.0  28.5  ...   11   19  26.500000\n",
              "258898  3RODJWVUCFKZ  10487598.0  28.5  ...   17    5  26.500000\n",
              "182853  PHN9Z4X90VND   2156040.0  28.5  ...   11    6  26.500000\n",
              "127441  C2HIHX3P77D6    149591.0  28.5  ...  119   22  26.500000\n",
              "106925  YKNINOH9QI3U     61700.0  28.5  ...   29  153  26.500000\n",
              "117147  OVZDADERPF8D  10357418.0  28.5  ...   16    5  26.500000\n",
              "\n",
              "[10 rows x 8 columns]"
            ]
          },
          "metadata": {
            "tags": []
          },
          "execution_count": 31
        }
      ]
    },
    {
      "cell_type": "code",
      "metadata": {
        "id": "gdyXK4S7xWZQ",
        "colab_type": "code",
        "colab": {}
      },
      "source": [
        "import matplotlib.pyplot as plt"
      ],
      "execution_count": 0,
      "outputs": []
    },
    {
      "cell_type": "code",
      "metadata": {
        "id": "kB5-XcPSxP1D",
        "colab_type": "code",
        "outputId": "dc7dae17-7017-4589-a34b-b1483255030e",
        "colab": {
          "base_uri": "https://localhost:8080/",
          "height": 286
        }
      },
      "source": [
        "plt.scatter(df.rui, df.est)"
      ],
      "execution_count": 0,
      "outputs": [
        {
          "output_type": "execute_result",
          "data": {
            "text/plain": [
              "<matplotlib.collections.PathCollection at 0x7f22cdeb9208>"
            ]
          },
          "metadata": {
            "tags": []
          },
          "execution_count": 39
        },
        {
          "output_type": "display_data",
          "data": {
            "image/png": "[encoded data removed]",
            "text/plain": [
              "<Figure size 432x288 with 1 Axes>"
            ]
          },
          "metadata": {
            "tags": []
          }
        }
      ]
    },
    {
      "cell_type": "code",
      "metadata": {
        "id": "43VwK-x4xMfM",
        "colab_type": "code",
        "outputId": "72e290f6-6b73-4ecb-8a98-760903ce0276",
        "colab": {
          "base_uri": "https://localhost:8080/",
          "height": 286
        }
      },
      "source": [
        "df.err.hist()"
      ],
      "execution_count": 0,
      "outputs": [
        {
          "output_type": "execute_result",
          "data": {
            "text/plain": [
              "<matplotlib.axes._subplots.AxesSubplot at 0x7f22cdf907b8>"
            ]
          },
          "metadata": {
            "tags": []
          },
          "execution_count": 36
        },
        {
          "output_type": "display_data",
          "data": {
            "image/png": "[encoded data removed]",
            "text/plain": [
              "<Figure size 432x288 with 1 Axes>"
            ]
          },
          "metadata": {
            "tags": []
          }
        }
      ]
    },
    {
      "cell_type": "code",
      "metadata": {
        "id": "rywYDvK0v8-8",
        "colab_type": "code",
        "outputId": "0fc2514a-cd33-44ea-9b04-4c97e539ca2b",
        "colab": {
          "base_uri": "https://localhost:8080/",
          "height": 174
        }
      },
      "source": [
        "df_new.loc[df_new['reference_int'] == 2156040.0]['ref_count'].describe()"
      ],
      "execution_count": 0,
      "outputs": [
        {
          "output_type": "execute_result",
          "data": {
            "text/plain": [
              "count    12.000000\n",
              "mean      6.000000\n",
              "std      10.537811\n",
              "min       1.000000\n",
              "25%       1.000000\n",
              "50%       1.000000\n",
              "75%       3.000000\n",
              "max      28.500000\n",
              "Name: ref_count, dtype: float64"
            ]
          },
          "metadata": {
            "tags": []
          },
          "execution_count": 33
        }
      ]
    },
    {
      "cell_type": "code",
      "metadata": {
        "id": "FcRYrpvjwVya",
        "colab_type": "code",
        "outputId": "ca462a81-69d6-4fdb-a749-384bb6865567",
        "colab": {
          "base_uri": "https://localhost:8080/",
          "height": 286
        }
      },
      "source": [
        "df_new.loc[df_new['reference_int'] == 2156040.0]['ref_count'].hist()"
      ],
      "execution_count": 0,
      "outputs": [
        {
          "output_type": "execute_result",
          "data": {
            "text/plain": [
              "<matplotlib.axes._subplots.AxesSubplot at 0x7f22cdfdb780>"
            ]
          },
          "metadata": {
            "tags": []
          },
          "execution_count": 34
        },
        {
          "output_type": "display_data",
          "data": {
            "image/png": "[encoded data removed]",
            "text/plain": [
              "<Figure size 432x288 with 1 Axes>"
            ]
          },
          "metadata": {
            "tags": []
          }
        }
      ]
    },
    {
      "cell_type": "markdown",
      "metadata": {
        "id": "hA_P3fyayEMd",
        "colab_type": "text"
      },
      "source": [
        "## SVD"
      ]
    },
    {
      "cell_type": "code",
      "metadata": {
        "id": "iZgD_KCCyFeo",
        "colab_type": "code",
        "colab": {}
      },
      "source": [
        "trainset = data.build_full_trainset()\n",
        "algo = SVD()\n",
        "fitting = algo.fit(trainset)"
      ],
      "execution_count": 0,
      "outputs": []
    },
    {
      "cell_type": "code",
      "metadata": {
        "id": "fFtf_yu1yjGy",
        "colab_type": "code",
        "colab": {
          "base_uri": "https://localhost:8080/",
          "height": 196
        },
        "outputId": "82ff9a11-3e2c-4e4f-b04b-65ce9f5f852f"
      },
      "source": [
        "baseline_sub = pd.read_csv(path + 'baseline_sorting.csv')\n",
        "baseline_sub.head()"
      ],
      "execution_count": 9,
      "outputs": [
        {
          "output_type": "execute_result",
          "data": {
            "text/html": [
              "<div>\n",
              "<style scoped>\n",
              "    .dataframe tbody tr th:only-of-type {\n",
              "        vertical-align: middle;\n",
              "    }\n",
              "\n",
              "    .dataframe tbody tr th {\n",
              "        vertical-align: top;\n",
              "    }\n",
              "\n",
              "    .dataframe thead th {\n",
              "        text-align: right;\n",
              "    }\n",
              "</style>\n",
              "<table border=\"1\" class=\"dataframe\">\n",
              "  <thead>\n",
              "    <tr style=\"text-align: right;\">\n",
              "      <th></th>\n",
              "      <th>user_id</th>\n",
              "      <th>session_id</th>\n",
              "      <th>timestamp</th>\n",
              "      <th>step</th>\n",
              "      <th>item_recommendations</th>\n",
              "    </tr>\n",
              "  </thead>\n",
              "  <tbody>\n",
              "    <tr>\n",
              "      <th>0</th>\n",
              "      <td>000324D9BBUC</td>\n",
              "      <td>89643988fdbfb</td>\n",
              "      <td>1541593942</td>\n",
              "      <td>10</td>\n",
              "      <td>1000915 1241375 923407 1729121 1050792 97171 3...</td>\n",
              "    </tr>\n",
              "    <tr>\n",
              "      <th>1</th>\n",
              "      <td>0004Q49X39PY</td>\n",
              "      <td>beea5c27030cb</td>\n",
              "      <td>1541561202</td>\n",
              "      <td>1</td>\n",
              "      <td>3812004 3505150 3202894 2292254 1984229 222789...</td>\n",
              "    </tr>\n",
              "    <tr>\n",
              "      <th>2</th>\n",
              "      <td>0004Q49X39PY</td>\n",
              "      <td>9de47d9a66494</td>\n",
              "      <td>1541641157</td>\n",
              "      <td>1</td>\n",
              "      <td>2213014 3184842 10213134 4504242 4486372 38120...</td>\n",
              "    </tr>\n",
              "    <tr>\n",
              "      <th>3</th>\n",
              "      <td>00071784XQ6B</td>\n",
              "      <td>9617600e1ba7c</td>\n",
              "      <td>1541630328</td>\n",
              "      <td>2</td>\n",
              "      <td>22721 3067559 16121 22727 22854 22819 22764 14...</td>\n",
              "    </tr>\n",
              "    <tr>\n",
              "      <th>4</th>\n",
              "      <td>0008BO33KUQ0</td>\n",
              "      <td>2d0e2102ee0dc</td>\n",
              "      <td>1541636411</td>\n",
              "      <td>6</td>\n",
              "      <td>507861 2176280 1669587 502066 1352530 4342348 ...</td>\n",
              "    </tr>\n",
              "  </tbody>\n",
              "</table>\n",
              "</div>"
            ],
            "text/plain": [
              "        user_id  ...                               item_recommendations\n",
              "0  000324D9BBUC  ...  1000915 1241375 923407 1729121 1050792 97171 3...\n",
              "1  0004Q49X39PY  ...  3812004 3505150 3202894 2292254 1984229 222789...\n",
              "2  0004Q49X39PY  ...  2213014 3184842 10213134 4504242 4486372 38120...\n",
              "3  00071784XQ6B  ...  22721 3067559 16121 22727 22854 22819 22764 14...\n",
              "4  0008BO33KUQ0  ...  507861 2176280 1669587 502066 1352530 4342348 ...\n",
              "\n",
              "[5 rows x 5 columns]"
            ]
          },
          "metadata": {
            "tags": []
          },
          "execution_count": 9
        }
      ]
    },
    {
      "cell_type": "code",
      "metadata": {
        "id": "3svUvxvCytf0",
        "colab_type": "code",
        "colab": {
          "base_uri": "https://localhost:8080/",
          "height": 137
        },
        "outputId": "4025c9d5-83a9-4c44-fb41-feb4c9537718"
      },
      "source": [
        "df_ref.head(3)"
      ],
      "execution_count": 25,
      "outputs": [
        {
          "output_type": "execute_result",
          "data": {
            "text/html": [
              "<div>\n",
              "<style scoped>\n",
              "    .dataframe tbody tr th:only-of-type {\n",
              "        vertical-align: middle;\n",
              "    }\n",
              "\n",
              "    .dataframe tbody tr th {\n",
              "        vertical-align: top;\n",
              "    }\n",
              "\n",
              "    .dataframe thead th {\n",
              "        text-align: right;\n",
              "    }\n",
              "</style>\n",
              "<table border=\"1\" class=\"dataframe\">\n",
              "  <thead>\n",
              "    <tr style=\"text-align: right;\">\n",
              "      <th></th>\n",
              "      <th>user_id</th>\n",
              "      <th>reference_int</th>\n",
              "      <th>ref_count</th>\n",
              "    </tr>\n",
              "  </thead>\n",
              "  <tbody>\n",
              "    <tr>\n",
              "      <th>0</th>\n",
              "      <td>0001VQMGUI65</td>\n",
              "      <td>3133074</td>\n",
              "      <td>11.0</td>\n",
              "    </tr>\n",
              "    <tr>\n",
              "      <th>1</th>\n",
              "      <td>0001VQMGUI65</td>\n",
              "      <td>477811</td>\n",
              "      <td>1.0</td>\n",
              "    </tr>\n",
              "    <tr>\n",
              "      <th>2</th>\n",
              "      <td>0001VQMGUI65</td>\n",
              "      <td>950829</td>\n",
              "      <td>1.0</td>\n",
              "    </tr>\n",
              "  </tbody>\n",
              "</table>\n",
              "</div>"
            ],
            "text/plain": [
              "        user_id  reference_int  ref_count\n",
              "0  0001VQMGUI65        3133074       11.0\n",
              "1  0001VQMGUI65         477811        1.0\n",
              "2  0001VQMGUI65         950829        1.0"
            ]
          },
          "metadata": {
            "tags": []
          },
          "execution_count": 25
        }
      ]
    },
    {
      "cell_type": "code",
      "metadata": {
        "id": "_rW-IPgoyoqI",
        "colab_type": "code",
        "colab": {}
      },
      "source": [
        "uni = df_ref.user_id.unique()\n",
        "item_unique = df_ref.reference_int.unique()"
      ],
      "execution_count": 0,
      "outputs": []
    },
    {
      "cell_type": "code",
      "metadata": {
        "id": "dKDMzs2OzLbQ",
        "colab_type": "code",
        "colab": {
          "base_uri": "https://localhost:8080/",
          "height": 196
        },
        "outputId": "673730c4-f443-4bfb-a4c3-2578705d69fe"
      },
      "source": [
        "\n",
        "baseline_sub['is_in'] = baseline_sub.user_id.apply(lambda x : x in uni)\n",
        "baseline_sub.head()"
      ],
      "execution_count": 13,
      "outputs": [
        {
          "output_type": "execute_result",
          "data": {
            "text/html": [
              "<div>\n",
              "<style scoped>\n",
              "    .dataframe tbody tr th:only-of-type {\n",
              "        vertical-align: middle;\n",
              "    }\n",
              "\n",
              "    .dataframe tbody tr th {\n",
              "        vertical-align: top;\n",
              "    }\n",
              "\n",
              "    .dataframe thead th {\n",
              "        text-align: right;\n",
              "    }\n",
              "</style>\n",
              "<table border=\"1\" class=\"dataframe\">\n",
              "  <thead>\n",
              "    <tr style=\"text-align: right;\">\n",
              "      <th></th>\n",
              "      <th>user_id</th>\n",
              "      <th>session_id</th>\n",
              "      <th>timestamp</th>\n",
              "      <th>step</th>\n",
              "      <th>item_recommendations</th>\n",
              "      <th>is_in</th>\n",
              "    </tr>\n",
              "  </thead>\n",
              "  <tbody>\n",
              "    <tr>\n",
              "      <th>0</th>\n",
              "      <td>000324D9BBUC</td>\n",
              "      <td>89643988fdbfb</td>\n",
              "      <td>1541593942</td>\n",
              "      <td>10</td>\n",
              "      <td>1000915 1241375 923407 1729121 1050792 97171 3...</td>\n",
              "      <td>True</td>\n",
              "    </tr>\n",
              "    <tr>\n",
              "      <th>1</th>\n",
              "      <td>0004Q49X39PY</td>\n",
              "      <td>beea5c27030cb</td>\n",
              "      <td>1541561202</td>\n",
              "      <td>1</td>\n",
              "      <td>3812004 3505150 3202894 2292254 1984229 222789...</td>\n",
              "      <td>False</td>\n",
              "    </tr>\n",
              "    <tr>\n",
              "      <th>2</th>\n",
              "      <td>0004Q49X39PY</td>\n",
              "      <td>9de47d9a66494</td>\n",
              "      <td>1541641157</td>\n",
              "      <td>1</td>\n",
              "      <td>2213014 3184842 10213134 4504242 4486372 38120...</td>\n",
              "      <td>False</td>\n",
              "    </tr>\n",
              "    <tr>\n",
              "      <th>3</th>\n",
              "      <td>00071784XQ6B</td>\n",
              "      <td>9617600e1ba7c</td>\n",
              "      <td>1541630328</td>\n",
              "      <td>2</td>\n",
              "      <td>22721 3067559 16121 22727 22854 22819 22764 14...</td>\n",
              "      <td>False</td>\n",
              "    </tr>\n",
              "    <tr>\n",
              "      <th>4</th>\n",
              "      <td>0008BO33KUQ0</td>\n",
              "      <td>2d0e2102ee0dc</td>\n",
              "      <td>1541636411</td>\n",
              "      <td>6</td>\n",
              "      <td>507861 2176280 1669587 502066 1352530 4342348 ...</td>\n",
              "      <td>True</td>\n",
              "    </tr>\n",
              "  </tbody>\n",
              "</table>\n",
              "</div>"
            ],
            "text/plain": [
              "        user_id  ...  is_in\n",
              "0  000324D9BBUC  ...   True\n",
              "1  0004Q49X39PY  ...  False\n",
              "2  0004Q49X39PY  ...  False\n",
              "3  00071784XQ6B  ...  False\n",
              "4  0008BO33KUQ0  ...   True\n",
              "\n",
              "[5 rows x 6 columns]"
            ]
          },
          "metadata": {
            "tags": []
          },
          "execution_count": 13
        }
      ]
    },
    {
      "cell_type": "code",
      "metadata": {
        "id": "4sL2StCszQtl",
        "colab_type": "code",
        "colab": {
          "base_uri": "https://localhost:8080/",
          "height": 34
        },
        "outputId": "0402f092-d9cd-456a-edef-f6b1cbfe31e2"
      },
      "source": [
        "testset = baseline_sub[baseline_sub.is_in == True]\n",
        "testset.shape"
      ],
      "execution_count": 28,
      "outputs": [
        {
          "output_type": "execute_result",
          "data": {
            "text/plain": [
              "(127047, 6)"
            ]
          },
          "metadata": {
            "tags": []
          },
          "execution_count": 28
        }
      ]
    },
    {
      "cell_type": "code",
      "metadata": {
        "id": "3DAjbUKLzVzw",
        "colab_type": "code",
        "colab": {
          "base_uri": "https://localhost:8080/",
          "height": 226
        },
        "outputId": "d7c4777f-6d4a-4bee-91ec-1a5c24a70359"
      },
      "source": [
        "pred = []\n",
        "i = 0\n",
        "for user in testset.user_id :\n",
        "  i+=1\n",
        "  if i%10000 == 0 :\n",
        "    print('{}번째 id'.format(i))\n",
        "    \n",
        "  iid = baseline_sub[baseline_sub.user_id == user]['item_recommendations'].values[0].split(' ')\n",
        "  iid = list(map(int, iid))\n",
        "  \n",
        "  for item in iid :\n",
        "    if item in item_unique :\n",
        "      algo_pred = algo.predict(user, item)\n",
        "      pred.append(algo_pred)"
      ],
      "execution_count": 33,
      "outputs": [
        {
          "output_type": "stream",
          "text": [
            "10000번째 id\n",
            "20000번째 id\n",
            "30000번째 id\n",
            "40000번째 id\n",
            "50000번째 id\n",
            "60000번째 id\n",
            "70000번째 id\n",
            "80000번째 id\n",
            "90000번째 id\n",
            "100000번째 id\n",
            "110000번째 id\n",
            "120000번째 id\n"
          ],
          "name": "stdout"
        }
      ]
    },
    {
      "cell_type": "code",
      "metadata": {
        "id": "KzasKi62zd83",
        "colab_type": "code",
        "colab": {
          "base_uri": "https://localhost:8080/",
          "height": 34
        },
        "outputId": "2627a1e1-b2ee-4d98-e323-676b4a50bcf6"
      },
      "source": [
        "pred = pd.DataFrame(pred)\n",
        "pred.shape"
      ],
      "execution_count": 34,
      "outputs": [
        {
          "output_type": "execute_result",
          "data": {
            "text/plain": [
              "(2520919, 5)"
            ]
          },
          "metadata": {
            "tags": []
          },
          "execution_count": 34
        }
      ]
    },
    {
      "cell_type": "code",
      "metadata": {
        "id": "Xo4jS0bFKYZT",
        "colab_type": "code",
        "colab": {
          "base_uri": "https://localhost:8080/",
          "height": 196
        },
        "outputId": "7c0b08eb-5fce-4f58-8d8a-fe17ec56af59"
      },
      "source": [
        "pred.head()"
      ],
      "execution_count": 35,
      "outputs": [
        {
          "output_type": "execute_result",
          "data": {
            "text/html": [
              "<div>\n",
              "<style scoped>\n",
              "    .dataframe tbody tr th:only-of-type {\n",
              "        vertical-align: middle;\n",
              "    }\n",
              "\n",
              "    .dataframe tbody tr th {\n",
              "        vertical-align: top;\n",
              "    }\n",
              "\n",
              "    .dataframe thead th {\n",
              "        text-align: right;\n",
              "    }\n",
              "</style>\n",
              "<table border=\"1\" class=\"dataframe\">\n",
              "  <thead>\n",
              "    <tr style=\"text-align: right;\">\n",
              "      <th></th>\n",
              "      <th>uid</th>\n",
              "      <th>iid</th>\n",
              "      <th>r_ui</th>\n",
              "      <th>est</th>\n",
              "      <th>details</th>\n",
              "    </tr>\n",
              "  </thead>\n",
              "  <tbody>\n",
              "    <tr>\n",
              "      <th>0</th>\n",
              "      <td>000324D9BBUC</td>\n",
              "      <td>1000915</td>\n",
              "      <td>None</td>\n",
              "      <td>5.465421</td>\n",
              "      <td>{'was_impossible': False}</td>\n",
              "    </tr>\n",
              "    <tr>\n",
              "      <th>1</th>\n",
              "      <td>000324D9BBUC</td>\n",
              "      <td>1241375</td>\n",
              "      <td>None</td>\n",
              "      <td>5.720941</td>\n",
              "      <td>{'was_impossible': False}</td>\n",
              "    </tr>\n",
              "    <tr>\n",
              "      <th>2</th>\n",
              "      <td>000324D9BBUC</td>\n",
              "      <td>923407</td>\n",
              "      <td>None</td>\n",
              "      <td>5.961871</td>\n",
              "      <td>{'was_impossible': False}</td>\n",
              "    </tr>\n",
              "    <tr>\n",
              "      <th>3</th>\n",
              "      <td>000324D9BBUC</td>\n",
              "      <td>1050792</td>\n",
              "      <td>None</td>\n",
              "      <td>9.725500</td>\n",
              "      <td>{'was_impossible': False}</td>\n",
              "    </tr>\n",
              "    <tr>\n",
              "      <th>4</th>\n",
              "      <td>000324D9BBUC</td>\n",
              "      <td>97171</td>\n",
              "      <td>None</td>\n",
              "      <td>5.341487</td>\n",
              "      <td>{'was_impossible': False}</td>\n",
              "    </tr>\n",
              "  </tbody>\n",
              "</table>\n",
              "</div>"
            ],
            "text/plain": [
              "            uid      iid  r_ui       est                    details\n",
              "0  000324D9BBUC  1000915  None  5.465421  {'was_impossible': False}\n",
              "1  000324D9BBUC  1241375  None  5.720941  {'was_impossible': False}\n",
              "2  000324D9BBUC   923407  None  5.961871  {'was_impossible': False}\n",
              "3  000324D9BBUC  1050792  None  9.725500  {'was_impossible': False}\n",
              "4  000324D9BBUC    97171  None  5.341487  {'was_impossible': False}"
            ]
          },
          "metadata": {
            "tags": []
          },
          "execution_count": 35
        }
      ]
    },
    {
      "cell_type": "code",
      "metadata": {
        "id": "1QTuIzMbzer2",
        "colab_type": "code",
        "colab": {
          "base_uri": "https://localhost:8080/",
          "height": 196
        },
        "outputId": "18dab15f-8a09-4cb4-f19c-83e050692236"
      },
      "source": [
        "pred = pred[['uid','iid','est']]\n",
        "pred.head()"
      ],
      "execution_count": 36,
      "outputs": [
        {
          "output_type": "execute_result",
          "data": {
            "text/html": [
              "<div>\n",
              "<style scoped>\n",
              "    .dataframe tbody tr th:only-of-type {\n",
              "        vertical-align: middle;\n",
              "    }\n",
              "\n",
              "    .dataframe tbody tr th {\n",
              "        vertical-align: top;\n",
              "    }\n",
              "\n",
              "    .dataframe thead th {\n",
              "        text-align: right;\n",
              "    }\n",
              "</style>\n",
              "<table border=\"1\" class=\"dataframe\">\n",
              "  <thead>\n",
              "    <tr style=\"text-align: right;\">\n",
              "      <th></th>\n",
              "      <th>uid</th>\n",
              "      <th>iid</th>\n",
              "      <th>est</th>\n",
              "    </tr>\n",
              "  </thead>\n",
              "  <tbody>\n",
              "    <tr>\n",
              "      <th>0</th>\n",
              "      <td>000324D9BBUC</td>\n",
              "      <td>1000915</td>\n",
              "      <td>5.465421</td>\n",
              "    </tr>\n",
              "    <tr>\n",
              "      <th>1</th>\n",
              "      <td>000324D9BBUC</td>\n",
              "      <td>1241375</td>\n",
              "      <td>5.720941</td>\n",
              "    </tr>\n",
              "    <tr>\n",
              "      <th>2</th>\n",
              "      <td>000324D9BBUC</td>\n",
              "      <td>923407</td>\n",
              "      <td>5.961871</td>\n",
              "    </tr>\n",
              "    <tr>\n",
              "      <th>3</th>\n",
              "      <td>000324D9BBUC</td>\n",
              "      <td>1050792</td>\n",
              "      <td>9.725500</td>\n",
              "    </tr>\n",
              "    <tr>\n",
              "      <th>4</th>\n",
              "      <td>000324D9BBUC</td>\n",
              "      <td>97171</td>\n",
              "      <td>5.341487</td>\n",
              "    </tr>\n",
              "  </tbody>\n",
              "</table>\n",
              "</div>"
            ],
            "text/plain": [
              "            uid      iid       est\n",
              "0  000324D9BBUC  1000915  5.465421\n",
              "1  000324D9BBUC  1241375  5.720941\n",
              "2  000324D9BBUC   923407  5.961871\n",
              "3  000324D9BBUC  1050792  9.725500\n",
              "4  000324D9BBUC    97171  5.341487"
            ]
          },
          "metadata": {
            "tags": []
          },
          "execution_count": 36
        }
      ]
    },
    {
      "cell_type": "code",
      "metadata": {
        "id": "1l1T3AHyzhRh",
        "colab_type": "code",
        "colab": {}
      },
      "source": [
        "pred = pred.groupby('uid').apply(lambda x : x.sort_values(['est'], ascending = False)).reset_index(drop = True)\n",
        "#pred.to_csv(path + 'ref_count_svd_pred.csv', index = False)\n",
        "pred.iid = pred.iid.apply(str)"
      ],
      "execution_count": 0,
      "outputs": []
    },
    {
      "cell_type": "code",
      "metadata": {
        "id": "bEHA_HIdzkde",
        "colab_type": "code",
        "colab": {
          "base_uri": "https://localhost:8080/",
          "height": 196
        },
        "outputId": "ef88e67b-77c5-43a2-87c7-7e357ae5dc67"
      },
      "source": [
        "first_pred = pred.groupby('uid')['iid'].first().to_frame().reset_index()\n",
        "first_pred.iid = first_pred.iid.apply(str)\n",
        "first_pred = first_pred.rename(columns={'iid' : 'pred_first'})\n",
        "first_pred.head()"
      ],
      "execution_count": 38,
      "outputs": [
        {
          "output_type": "execute_result",
          "data": {
            "text/html": [
              "<div>\n",
              "<style scoped>\n",
              "    .dataframe tbody tr th:only-of-type {\n",
              "        vertical-align: middle;\n",
              "    }\n",
              "\n",
              "    .dataframe tbody tr th {\n",
              "        vertical-align: top;\n",
              "    }\n",
              "\n",
              "    .dataframe thead th {\n",
              "        text-align: right;\n",
              "    }\n",
              "</style>\n",
              "<table border=\"1\" class=\"dataframe\">\n",
              "  <thead>\n",
              "    <tr style=\"text-align: right;\">\n",
              "      <th></th>\n",
              "      <th>uid</th>\n",
              "      <th>pred_first</th>\n",
              "    </tr>\n",
              "  </thead>\n",
              "  <tbody>\n",
              "    <tr>\n",
              "      <th>0</th>\n",
              "      <td>000324D9BBUC</td>\n",
              "      <td>1050792</td>\n",
              "    </tr>\n",
              "    <tr>\n",
              "      <th>1</th>\n",
              "      <td>0008BO33KUQ0</td>\n",
              "      <td>1944129</td>\n",
              "    </tr>\n",
              "    <tr>\n",
              "      <th>2</th>\n",
              "      <td>000IRHJS2DL9</td>\n",
              "      <td>3054956</td>\n",
              "    </tr>\n",
              "    <tr>\n",
              "      <th>3</th>\n",
              "      <td>000OWRCYEHKT</td>\n",
              "      <td>158917</td>\n",
              "    </tr>\n",
              "    <tr>\n",
              "      <th>4</th>\n",
              "      <td>000VBY1D6BP8</td>\n",
              "      <td>32230</td>\n",
              "    </tr>\n",
              "  </tbody>\n",
              "</table>\n",
              "</div>"
            ],
            "text/plain": [
              "            uid pred_first\n",
              "0  000324D9BBUC    1050792\n",
              "1  0008BO33KUQ0    1944129\n",
              "2  000IRHJS2DL9    3054956\n",
              "3  000OWRCYEHKT     158917\n",
              "4  000VBY1D6BP8      32230"
            ]
          },
          "metadata": {
            "tags": []
          },
          "execution_count": 38
        }
      ]
    },
    {
      "cell_type": "code",
      "metadata": {
        "id": "AdsAlv6mzqRw",
        "colab_type": "code",
        "colab": {
          "base_uri": "https://localhost:8080/",
          "height": 196
        },
        "outputId": "e88c461e-ea82-47ae-9c2a-334e67db6cf6"
      },
      "source": [
        "join_pred = pred.groupby('uid')['iid'].apply(lambda x : ' '.join(x)).to_frame().reset_index()\n",
        "join_pred = pd.merge(join_pred, first_pred)\n",
        "join_pred.head()"
      ],
      "execution_count": 39,
      "outputs": [
        {
          "output_type": "execute_result",
          "data": {
            "text/html": [
              "<div>\n",
              "<style scoped>\n",
              "    .dataframe tbody tr th:only-of-type {\n",
              "        vertical-align: middle;\n",
              "    }\n",
              "\n",
              "    .dataframe tbody tr th {\n",
              "        vertical-align: top;\n",
              "    }\n",
              "\n",
              "    .dataframe thead th {\n",
              "        text-align: right;\n",
              "    }\n",
              "</style>\n",
              "<table border=\"1\" class=\"dataframe\">\n",
              "  <thead>\n",
              "    <tr style=\"text-align: right;\">\n",
              "      <th></th>\n",
              "      <th>uid</th>\n",
              "      <th>iid</th>\n",
              "      <th>pred_first</th>\n",
              "    </tr>\n",
              "  </thead>\n",
              "  <tbody>\n",
              "    <tr>\n",
              "      <th>0</th>\n",
              "      <td>000324D9BBUC</td>\n",
              "      <td>1050792 119494 97170 147907 101758 903037 1838...</td>\n",
              "      <td>1050792</td>\n",
              "    </tr>\n",
              "    <tr>\n",
              "      <th>1</th>\n",
              "      <td>0008BO33KUQ0</td>\n",
              "      <td>1944129 1830637 6147882 1669587 1241177 188775...</td>\n",
              "      <td>1944129</td>\n",
              "    </tr>\n",
              "    <tr>\n",
              "      <th>2</th>\n",
              "      <td>000IRHJS2DL9</td>\n",
              "      <td>3054956 33191 558046 2922292 20154 4481844 254...</td>\n",
              "      <td>3054956</td>\n",
              "    </tr>\n",
              "    <tr>\n",
              "      <th>3</th>\n",
              "      <td>000OWRCYEHKT</td>\n",
              "      <td>158917 520411 898083 104943 2672072 3810824 11...</td>\n",
              "      <td>158917</td>\n",
              "    </tr>\n",
              "    <tr>\n",
              "      <th>4</th>\n",
              "      <td>000VBY1D6BP8</td>\n",
              "      <td>32230 32235 32233 32256 5411980 32246 5592656</td>\n",
              "      <td>32230</td>\n",
              "    </tr>\n",
              "  </tbody>\n",
              "</table>\n",
              "</div>"
            ],
            "text/plain": [
              "            uid                                                iid pred_first\n",
              "0  000324D9BBUC  1050792 119494 97170 147907 101758 903037 1838...    1050792\n",
              "1  0008BO33KUQ0  1944129 1830637 6147882 1669587 1241177 188775...    1944129\n",
              "2  000IRHJS2DL9  3054956 33191 558046 2922292 20154 4481844 254...    3054956\n",
              "3  000OWRCYEHKT  158917 520411 898083 104943 2672072 3810824 11...     158917\n",
              "4  000VBY1D6BP8      32230 32235 32233 32256 5411980 32246 5592656      32230"
            ]
          },
          "metadata": {
            "tags": []
          },
          "execution_count": 39
        }
      ]
    },
    {
      "cell_type": "code",
      "metadata": {
        "id": "CDQuHwin0AfN",
        "colab_type": "code",
        "colab": {
          "base_uri": "https://localhost:8080/",
          "height": 313
        },
        "outputId": "6631c807-e450-496e-f0c0-65e446e920d2"
      },
      "source": [
        "baseline_sub = pd.merge(baseline_sub, join_pred, how = 'left', left_on='user_id', right_on='uid').drop('uid', axis = 1)\n",
        "baseline_sub.head()"
      ],
      "execution_count": 40,
      "outputs": [
        {
          "output_type": "execute_result",
          "data": {
            "text/html": [
              "<div>\n",
              "<style scoped>\n",
              "    .dataframe tbody tr th:only-of-type {\n",
              "        vertical-align: middle;\n",
              "    }\n",
              "\n",
              "    .dataframe tbody tr th {\n",
              "        vertical-align: top;\n",
              "    }\n",
              "\n",
              "    .dataframe thead th {\n",
              "        text-align: right;\n",
              "    }\n",
              "</style>\n",
              "<table border=\"1\" class=\"dataframe\">\n",
              "  <thead>\n",
              "    <tr style=\"text-align: right;\">\n",
              "      <th></th>\n",
              "      <th>user_id</th>\n",
              "      <th>session_id</th>\n",
              "      <th>timestamp</th>\n",
              "      <th>step</th>\n",
              "      <th>item_recommendations</th>\n",
              "      <th>is_in</th>\n",
              "      <th>iid</th>\n",
              "      <th>pred_first</th>\n",
              "    </tr>\n",
              "  </thead>\n",
              "  <tbody>\n",
              "    <tr>\n",
              "      <th>0</th>\n",
              "      <td>000324D9BBUC</td>\n",
              "      <td>89643988fdbfb</td>\n",
              "      <td>1541593942</td>\n",
              "      <td>10</td>\n",
              "      <td>1000915 1241375 923407 1729121 1050792 97171 3...</td>\n",
              "      <td>True</td>\n",
              "      <td>1050792 119494 97170 147907 101758 903037 1838...</td>\n",
              "      <td>1050792</td>\n",
              "    </tr>\n",
              "    <tr>\n",
              "      <th>1</th>\n",
              "      <td>0004Q49X39PY</td>\n",
              "      <td>beea5c27030cb</td>\n",
              "      <td>1541561202</td>\n",
              "      <td>1</td>\n",
              "      <td>3812004 3505150 3202894 2292254 1984229 222789...</td>\n",
              "      <td>False</td>\n",
              "      <td>NaN</td>\n",
              "      <td>NaN</td>\n",
              "    </tr>\n",
              "    <tr>\n",
              "      <th>2</th>\n",
              "      <td>0004Q49X39PY</td>\n",
              "      <td>9de47d9a66494</td>\n",
              "      <td>1541641157</td>\n",
              "      <td>1</td>\n",
              "      <td>2213014 3184842 10213134 4504242 4486372 38120...</td>\n",
              "      <td>False</td>\n",
              "      <td>NaN</td>\n",
              "      <td>NaN</td>\n",
              "    </tr>\n",
              "    <tr>\n",
              "      <th>3</th>\n",
              "      <td>00071784XQ6B</td>\n",
              "      <td>9617600e1ba7c</td>\n",
              "      <td>1541630328</td>\n",
              "      <td>2</td>\n",
              "      <td>22721 3067559 16121 22727 22854 22819 22764 14...</td>\n",
              "      <td>False</td>\n",
              "      <td>NaN</td>\n",
              "      <td>NaN</td>\n",
              "    </tr>\n",
              "    <tr>\n",
              "      <th>4</th>\n",
              "      <td>0008BO33KUQ0</td>\n",
              "      <td>2d0e2102ee0dc</td>\n",
              "      <td>1541636411</td>\n",
              "      <td>6</td>\n",
              "      <td>507861 2176280 1669587 502066 1352530 4342348 ...</td>\n",
              "      <td>True</td>\n",
              "      <td>1944129 1830637 6147882 1669587 1241177 188775...</td>\n",
              "      <td>1944129</td>\n",
              "    </tr>\n",
              "  </tbody>\n",
              "</table>\n",
              "</div>"
            ],
            "text/plain": [
              "        user_id  ... pred_first\n",
              "0  000324D9BBUC  ...    1050792\n",
              "1  0004Q49X39PY  ...        NaN\n",
              "2  0004Q49X39PY  ...        NaN\n",
              "3  00071784XQ6B  ...        NaN\n",
              "4  0008BO33KUQ0  ...    1944129\n",
              "\n",
              "[5 rows x 8 columns]"
            ]
          },
          "metadata": {
            "tags": []
          },
          "execution_count": 40
        }
      ]
    },
    {
      "cell_type": "code",
      "metadata": {
        "id": "if4IrdjT0DjN",
        "colab_type": "code",
        "colab": {}
      },
      "source": [
        "def sort_again(item_reco, first, iid) :\n",
        "  a = item_reco.split(' ')[0]\n",
        "  if a == first :\n",
        "    return iid\n",
        "  else :\n",
        "    try :\n",
        "      b = str(iid).split(' ')\n",
        "      b.remove(a)\n",
        "      return ' '.join([a] + b)\n",
        "    except :\n",
        "      return item_reco"
      ],
      "execution_count": 0,
      "outputs": []
    },
    {
      "cell_type": "code",
      "metadata": {
        "id": "SPbIVhPi0GDU",
        "colab_type": "code",
        "colab": {
          "base_uri": "https://localhost:8080/",
          "height": 104
        },
        "outputId": "8997dea7-42b5-4f87-8b43-1485dd6b05c1"
      },
      "source": [
        "baseline_sub.item_recommendations.loc[baseline_sub.is_in == True] = baseline_sub[baseline_sub.is_in == True].apply(lambda x : sort_again(x['item_recommendations'], x['pred_first'], x['iid']), axis = 1)"
      ],
      "execution_count": 42,
      "outputs": [
        {
          "output_type": "stream",
          "text": [
            "/usr/local/lib/python3.6/dist-packages/pandas/core/indexing.py:190: SettingWithCopyWarning: \n",
            "A value is trying to be set on a copy of a slice from a DataFrame\n",
            "\n",
            "See the caveats in the documentation: http://pandas.pydata.org/pandas-docs/stable/indexing.html#indexing-view-versus-copy\n",
            "  self._setitem_with_indexer(indexer, value)\n"
          ],
          "name": "stderr"
        }
      ]
    },
    {
      "cell_type": "code",
      "metadata": {
        "id": "Vcvqq87A0Gju",
        "colab_type": "code",
        "colab": {}
      },
      "source": [
        "baseline_sub = baseline_sub.iloc[:,:5]\n",
        "baseline_sub.to_csv(path + 'baseline_add_SVD_ref_count_sub.csv', index = False)"
      ],
      "execution_count": 0,
      "outputs": []
    },
    {
      "cell_type": "code",
      "metadata": {
        "id": "Ejr_j9xcLLeT",
        "colab_type": "code",
        "colab": {
          "base_uri": "https://localhost:8080/",
          "height": 196
        },
        "outputId": "5465dbf4-0de7-4f9d-85bc-d179ea294679"
      },
      "source": [
        "baseline_sub.head()"
      ],
      "execution_count": 44,
      "outputs": [
        {
          "output_type": "execute_result",
          "data": {
            "text/html": [
              "<div>\n",
              "<style scoped>\n",
              "    .dataframe tbody tr th:only-of-type {\n",
              "        vertical-align: middle;\n",
              "    }\n",
              "\n",
              "    .dataframe tbody tr th {\n",
              "        vertical-align: top;\n",
              "    }\n",
              "\n",
              "    .dataframe thead th {\n",
              "        text-align: right;\n",
              "    }\n",
              "</style>\n",
              "<table border=\"1\" class=\"dataframe\">\n",
              "  <thead>\n",
              "    <tr style=\"text-align: right;\">\n",
              "      <th></th>\n",
              "      <th>user_id</th>\n",
              "      <th>session_id</th>\n",
              "      <th>timestamp</th>\n",
              "      <th>step</th>\n",
              "      <th>item_recommendations</th>\n",
              "    </tr>\n",
              "  </thead>\n",
              "  <tbody>\n",
              "    <tr>\n",
              "      <th>0</th>\n",
              "      <td>000324D9BBUC</td>\n",
              "      <td>89643988fdbfb</td>\n",
              "      <td>1541593942</td>\n",
              "      <td>10</td>\n",
              "      <td>1000915 1050792 119494 97170 147907 101758 903...</td>\n",
              "    </tr>\n",
              "    <tr>\n",
              "      <th>1</th>\n",
              "      <td>0004Q49X39PY</td>\n",
              "      <td>beea5c27030cb</td>\n",
              "      <td>1541561202</td>\n",
              "      <td>1</td>\n",
              "      <td>3812004 3505150 3202894 2292254 1984229 222789...</td>\n",
              "    </tr>\n",
              "    <tr>\n",
              "      <th>2</th>\n",
              "      <td>0004Q49X39PY</td>\n",
              "      <td>9de47d9a66494</td>\n",
              "      <td>1541641157</td>\n",
              "      <td>1</td>\n",
              "      <td>2213014 3184842 10213134 4504242 4486372 38120...</td>\n",
              "    </tr>\n",
              "    <tr>\n",
              "      <th>3</th>\n",
              "      <td>00071784XQ6B</td>\n",
              "      <td>9617600e1ba7c</td>\n",
              "      <td>1541630328</td>\n",
              "      <td>2</td>\n",
              "      <td>22721 3067559 16121 22727 22854 22819 22764 14...</td>\n",
              "    </tr>\n",
              "    <tr>\n",
              "      <th>4</th>\n",
              "      <td>0008BO33KUQ0</td>\n",
              "      <td>2d0e2102ee0dc</td>\n",
              "      <td>1541636411</td>\n",
              "      <td>6</td>\n",
              "      <td>507861 1944129 1830637 6147882 1669587 1241177...</td>\n",
              "    </tr>\n",
              "  </tbody>\n",
              "</table>\n",
              "</div>"
            ],
            "text/plain": [
              "        user_id  ...                               item_recommendations\n",
              "0  000324D9BBUC  ...  1000915 1050792 119494 97170 147907 101758 903...\n",
              "1  0004Q49X39PY  ...  3812004 3505150 3202894 2292254 1984229 222789...\n",
              "2  0004Q49X39PY  ...  2213014 3184842 10213134 4504242 4486372 38120...\n",
              "3  00071784XQ6B  ...  22721 3067559 16121 22727 22854 22819 22764 14...\n",
              "4  0008BO33KUQ0  ...  507861 1944129 1830637 6147882 1669587 1241177...\n",
              "\n",
              "[5 rows x 5 columns]"
            ]
          },
          "metadata": {
            "tags": []
          },
          "execution_count": 44
        }
      ]
    }
  ]
}