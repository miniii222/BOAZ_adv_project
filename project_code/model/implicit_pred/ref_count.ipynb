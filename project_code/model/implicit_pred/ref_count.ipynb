{
  "nbformat": 4,
  "nbformat_minor": 0,
  "metadata": {
    "colab": {
      "name": "Untitled0.ipynb",
      "version": "0.3.2",
      "provenance": [],
      "collapsed_sections": []
    },
    "kernelspec": {
      "name": "python3",
      "display_name": "Python 3"
    }
  },
  "cells": [
    {
      "cell_type": "code",
      "metadata": {
        "id": "3eeq5WYl7UJ5",
        "colab_type": "code",
        "outputId": "3b184a80-96fe-4ba2-ea86-1ff2ba3bd1f5",
        "colab": {
          "base_uri": "https://localhost:8080/",
          "height": 34
        }
      },
      "source": [
        "# Google 드라이브를 마운트하려면 이 셀을 실행하세요.\n",
        "from google.colab import drive\n",
        "drive.mount('/content/drive')"
      ],
      "execution_count": 0,
      "outputs": [
        {
          "output_type": "stream",
          "text": [
            "Drive already mounted at /content/drive; to attempt to forcibly remount, call drive.mount(\"/content/drive\", force_remount=True).\n"
          ],
          "name": "stdout"
        }
      ]
    },
    {
      "cell_type": "code",
      "metadata": {
        "id": "epI3VU0L8rtN",
        "colab_type": "code",
        "colab": {}
      },
      "source": [
        "import pandas as pd\n",
        "import numpy as np"
      ],
      "execution_count": 0,
      "outputs": []
    },
    {
      "cell_type": "code",
      "metadata": {
        "id": "7SghY8qd93Bi",
        "colab_type": "code",
        "colab": {}
      },
      "source": [
        "!pip install surprise"
      ],
      "execution_count": 0,
      "outputs": []
    },
    {
      "cell_type": "code",
      "metadata": {
        "id": "tONzuWg28vG_",
        "colab_type": "code",
        "outputId": "4eee435f-84ed-46c1-d4be-ec82fe034b73",
        "colab": {
          "base_uri": "https://localhost:8080/",
          "height": 139
        }
      },
      "source": [
        "import os \n",
        "os.listdir('./drive/My Drive/colab/recsys/data')\n"
      ],
      "execution_count": 0,
      "outputs": [
        {
          "output_type": "execute_result",
          "data": {
            "text/plain": [
              "['test.csv',\n",
              " 'train.csv',\n",
              " 'item_metadata.csv',\n",
              " 'submission_popular.csv',\n",
              " 'reference_first.pkl',\n",
              " 'dwell_df.csv',\n",
              " 'df_ref.csv']"
            ]
          },
          "metadata": {
            "tags": []
          },
          "execution_count": 10
        }
      ]
    },
    {
      "cell_type": "code",
      "metadata": {
        "id": "GboVLIpb86xt",
        "colab_type": "code",
        "outputId": "bb81ddde-5708-4a56-ea29-5780fac7272d",
        "colab": {
          "base_uri": "https://localhost:8080/",
          "height": 34
        }
      },
      "source": [
        "path = './drive/My Drive/colab/recsys/data/'\n",
        "\n",
        "df_ref = pd.read_csv(path + 'df_ref.csv')\n",
        "df_ref.shape"
      ],
      "execution_count": 0,
      "outputs": [
        {
          "output_type": "execute_result",
          "data": {
            "text/plain": [
              "(1682962, 3)"
            ]
          },
          "metadata": {
            "tags": []
          },
          "execution_count": 3
        }
      ]
    },
    {
      "cell_type": "code",
      "metadata": {
        "id": "u9Hjv2QH9H4f",
        "colab_type": "code",
        "outputId": "a1a1ace1-aed0-460e-90c9-b0dfddd7340a",
        "colab": {
          "base_uri": "https://localhost:8080/",
          "height": 196
        }
      },
      "source": [
        "df_ref.head()"
      ],
      "execution_count": 0,
      "outputs": [
        {
          "output_type": "execute_result",
          "data": {
            "text/html": [
              "<div>\n",
              "<style scoped>\n",
              "    .dataframe tbody tr th:only-of-type {\n",
              "        vertical-align: middle;\n",
              "    }\n",
              "\n",
              "    .dataframe tbody tr th {\n",
              "        vertical-align: top;\n",
              "    }\n",
              "\n",
              "    .dataframe thead th {\n",
              "        text-align: right;\n",
              "    }\n",
              "</style>\n",
              "<table border=\"1\" class=\"dataframe\">\n",
              "  <thead>\n",
              "    <tr style=\"text-align: right;\">\n",
              "      <th></th>\n",
              "      <th>user_id</th>\n",
              "      <th>reference_int</th>\n",
              "      <th>ref_count</th>\n",
              "    </tr>\n",
              "  </thead>\n",
              "  <tbody>\n",
              "    <tr>\n",
              "      <th>0</th>\n",
              "      <td>0001VQMGUI65</td>\n",
              "      <td>3133074.0</td>\n",
              "      <td>11.0</td>\n",
              "    </tr>\n",
              "    <tr>\n",
              "      <th>1</th>\n",
              "      <td>0001VQMGUI65</td>\n",
              "      <td>477811.0</td>\n",
              "      <td>1.0</td>\n",
              "    </tr>\n",
              "    <tr>\n",
              "      <th>2</th>\n",
              "      <td>0001VQMGUI65</td>\n",
              "      <td>950829.0</td>\n",
              "      <td>1.0</td>\n",
              "    </tr>\n",
              "    <tr>\n",
              "      <th>3</th>\n",
              "      <td>0001VQMGUI65</td>\n",
              "      <td>2019467.0</td>\n",
              "      <td>1.0</td>\n",
              "    </tr>\n",
              "    <tr>\n",
              "      <th>4</th>\n",
              "      <td>0001VQMGUI65</td>\n",
              "      <td>4521140.0</td>\n",
              "      <td>1.0</td>\n",
              "    </tr>\n",
              "  </tbody>\n",
              "</table>\n",
              "</div>"
            ],
            "text/plain": [
              "        user_id  reference_int  ref_count\n",
              "0  0001VQMGUI65      3133074.0       11.0\n",
              "1  0001VQMGUI65       477811.0        1.0\n",
              "2  0001VQMGUI65       950829.0        1.0\n",
              "3  0001VQMGUI65      2019467.0        1.0\n",
              "4  0001VQMGUI65      4521140.0        1.0"
            ]
          },
          "metadata": {
            "tags": []
          },
          "execution_count": 12
        }
      ]
    },
    {
      "cell_type": "code",
      "metadata": {
        "id": "Bgb-SOr-P7sG",
        "colab_type": "code",
        "outputId": "97237e16-2509-49c1-f078-8aa79951e3a0",
        "colab": {
          "base_uri": "https://localhost:8080/",
          "height": 174
        }
      },
      "source": [
        "df_ref.ref_count.describe()"
      ],
      "execution_count": 0,
      "outputs": [
        {
          "output_type": "execute_result",
          "data": {
            "text/plain": [
              "count    1.682962e+06\n",
              "mean     7.870252e+00\n",
              "std      9.933566e+00\n",
              "min      1.000000e+00\n",
              "25%      1.000000e+00\n",
              "50%      2.000000e+00\n",
              "75%      1.200000e+01\n",
              "max      2.850000e+01\n",
              "Name: ref_count, dtype: float64"
            ]
          },
          "metadata": {
            "tags": []
          },
          "execution_count": 11
        }
      ]
    },
    {
      "cell_type": "code",
      "metadata": {
        "id": "-sw7I9hjQa7s",
        "colab_type": "code",
        "outputId": "eae20e9d-de66-4510-a8b2-6dcd4f59dfac",
        "colab": {
          "base_uri": "https://localhost:8080/",
          "height": 366
        }
      },
      "source": [
        "df_ref.ref_count.value_counts()"
      ],
      "execution_count": 0,
      "outputs": [
        {
          "output_type": "execute_result",
          "data": {
            "text/plain": [
              "1.0     640882\n",
              "28.5    271229\n",
              "2.0     217104\n",
              "3.0     140884\n",
              "4.0      61145\n",
              "5.0      41599\n",
              "6.0      30889\n",
              "7.0      26760\n",
              "10.0     25710\n",
              "8.0      25707\n",
              "9.0      25535\n",
              "11.0     25180\n",
              "12.0     24626\n",
              "13.0     23858\n",
              "14.0     22990\n",
              "15.0     21525\n",
              "16.0     20276\n",
              "17.0     19164\n",
              "18.0     17899\n",
              "Name: ref_count, dtype: int64"
            ]
          },
          "metadata": {
            "tags": []
          },
          "execution_count": 96
        }
      ]
    },
    {
      "cell_type": "code",
      "metadata": {
        "id": "YCQ_xaF1QHXP",
        "colab_type": "code",
        "outputId": "08539295-b7bb-4729-bcc8-759ebaf8e05b",
        "colab": {
          "base_uri": "https://localhost:8080/",
          "height": 34
        }
      },
      "source": [
        "df_ref.ref_count.max()"
      ],
      "execution_count": 0,
      "outputs": [
        {
          "output_type": "execute_result",
          "data": {
            "text/plain": [
              "28.5"
            ]
          },
          "metadata": {
            "tags": []
          },
          "execution_count": 93
        }
      ]
    },
    {
      "cell_type": "code",
      "metadata": {
        "id": "zZevcgMIP_oq",
        "colab_type": "code",
        "outputId": "30b06349-e89b-4751-f5e0-f4b663809a87",
        "colab": {
          "base_uri": "https://localhost:8080/",
          "height": 286
        }
      },
      "source": [
        "df_ref.ref_count.plot.hist(bins = 30)"
      ],
      "execution_count": 0,
      "outputs": [
        {
          "output_type": "execute_result",
          "data": {
            "text/plain": [
              "<matplotlib.axes._subplots.AxesSubplot at 0x7fd9f77ca5f8>"
            ]
          },
          "metadata": {
            "tags": []
          },
          "execution_count": 92
        },
        {
          "output_type": "display_data",
          "data": {
            "image/png": "[encoded data removed]",
            "text/plain": [
              "<Figure size 432x288 with 1 Axes>"
            ]
          },
          "metadata": {
            "tags": []
          }
        }
      ]
    },
    {
      "cell_type": "markdown",
      "metadata": {
        "id": "lQftm_2J9NWl",
        "colab_type": "text"
      },
      "source": [
        "https://antilibrary.org/2086"
      ]
    },
    {
      "cell_type": "markdown",
      "metadata": {
        "id": "n9-Jw13TAGjB",
        "colab_type": "text"
      },
      "source": [
        "## item별로 선택받은 횟수"
      ]
    },
    {
      "cell_type": "code",
      "metadata": {
        "id": "8gQfrF2s_XXS",
        "colab_type": "code",
        "colab": {}
      },
      "source": [
        "byitem = df_ref.groupby('reference_int')['ref_count'].count()"
      ],
      "execution_count": 0,
      "outputs": []
    },
    {
      "cell_type": "code",
      "metadata": {
        "id": "N8JIdrA2Itzm",
        "colab_type": "code",
        "outputId": "d2b4527d-da0d-4717-dfb2-aec4c09c40d5",
        "colab": {
          "base_uri": "https://localhost:8080/",
          "height": 174
        }
      },
      "source": [
        "byitem.describe()"
      ],
      "execution_count": 0,
      "outputs": [
        {
          "output_type": "execute_result",
          "data": {
            "text/plain": [
              "count    336412.000000\n",
              "mean          5.002681\n",
              "std          11.361160\n",
              "min           1.000000\n",
              "25%           1.000000\n",
              "50%           2.000000\n",
              "75%           4.000000\n",
              "max         740.000000\n",
              "Name: ref_count, dtype: float64"
            ]
          },
          "metadata": {
            "tags": []
          },
          "execution_count": 64
        }
      ]
    },
    {
      "cell_type": "code",
      "metadata": {
        "id": "8L7rjLikITX1",
        "colab_type": "code",
        "outputId": "4043e449-7419-462a-e9ac-cfc57b5e9b75",
        "colab": {
          "base_uri": "https://localhost:8080/",
          "height": 286
        }
      },
      "source": [
        "byitem.plot.hist(bins = 30)"
      ],
      "execution_count": 0,
      "outputs": [
        {
          "output_type": "execute_result",
          "data": {
            "text/plain": [
              "<matplotlib.axes._subplots.AxesSubplot at 0x7fd9f92a7b38>"
            ]
          },
          "metadata": {
            "tags": []
          },
          "execution_count": 65
        },
        {
          "output_type": "display_data",
          "data": {
            "image/png": "[encoded data removed]",
            "text/plain": [
              "<Figure size 432x288 with 1 Axes>"
            ]
          },
          "metadata": {
            "tags": []
          }
        }
      ]
    },
    {
      "cell_type": "code",
      "metadata": {
        "id": "67PZEP3D9Qnu",
        "colab_type": "code",
        "outputId": "45fa3512-4f91-41df-e8ac-69dd851e614e",
        "colab": {
          "base_uri": "https://localhost:8080/",
          "height": 34
        }
      },
      "source": [
        "np.mean(byitem == 1)"
      ],
      "execution_count": 0,
      "outputs": [
        {
          "output_type": "execute_result",
          "data": {
            "text/plain": [
              "0.45199338905865427"
            ]
          },
          "metadata": {
            "tags": []
          },
          "execution_count": 71
        }
      ]
    },
    {
      "cell_type": "markdown",
      "metadata": {
        "id": "n57essqSKBPZ",
        "colab_type": "text"
      },
      "source": [
        "## user별로 선택한 횟수"
      ]
    },
    {
      "cell_type": "code",
      "metadata": {
        "id": "KS3BOTjuKHR_",
        "colab_type": "code",
        "outputId": "954d25b9-a64c-4550-a205-a2c7c260d64a",
        "colab": {
          "base_uri": "https://localhost:8080/",
          "height": 137
        }
      },
      "source": [
        "df_ref.head(3)"
      ],
      "execution_count": 0,
      "outputs": [
        {
          "output_type": "execute_result",
          "data": {
            "text/html": [
              "<div>\n",
              "<style scoped>\n",
              "    .dataframe tbody tr th:only-of-type {\n",
              "        vertical-align: middle;\n",
              "    }\n",
              "\n",
              "    .dataframe tbody tr th {\n",
              "        vertical-align: top;\n",
              "    }\n",
              "\n",
              "    .dataframe thead th {\n",
              "        text-align: right;\n",
              "    }\n",
              "</style>\n",
              "<table border=\"1\" class=\"dataframe\">\n",
              "  <thead>\n",
              "    <tr style=\"text-align: right;\">\n",
              "      <th></th>\n",
              "      <th>user_id</th>\n",
              "      <th>reference_int</th>\n",
              "      <th>ref_count</th>\n",
              "    </tr>\n",
              "  </thead>\n",
              "  <tbody>\n",
              "    <tr>\n",
              "      <th>0</th>\n",
              "      <td>0001VQMGUI65</td>\n",
              "      <td>3133074.0</td>\n",
              "      <td>11.0</td>\n",
              "    </tr>\n",
              "    <tr>\n",
              "      <th>1</th>\n",
              "      <td>0001VQMGUI65</td>\n",
              "      <td>477811.0</td>\n",
              "      <td>1.0</td>\n",
              "    </tr>\n",
              "    <tr>\n",
              "      <th>2</th>\n",
              "      <td>0001VQMGUI65</td>\n",
              "      <td>950829.0</td>\n",
              "      <td>1.0</td>\n",
              "    </tr>\n",
              "  </tbody>\n",
              "</table>\n",
              "</div>"
            ],
            "text/plain": [
              "        user_id  reference_int  ref_count\n",
              "0  0001VQMGUI65      3133074.0       11.0\n",
              "1  0001VQMGUI65       477811.0        1.0\n",
              "2  0001VQMGUI65       950829.0        1.0"
            ]
          },
          "metadata": {
            "tags": []
          },
          "execution_count": 74
        }
      ]
    },
    {
      "cell_type": "code",
      "metadata": {
        "id": "msximEnYJjzQ",
        "colab_type": "code",
        "outputId": "f116d2e4-c71f-49ff-e9b4-1c4ebbebcd14",
        "colab": {
          "base_uri": "https://localhost:8080/",
          "height": 34
        }
      },
      "source": [
        "byuser = df_ref.groupby('user_id')['ref_count'].count()\n",
        "np.mean(byuser == 1)"
      ],
      "execution_count": 0,
      "outputs": [
        {
          "output_type": "execute_result",
          "data": {
            "text/plain": [
              "0.39948842347086694"
            ]
          },
          "metadata": {
            "tags": []
          },
          "execution_count": 14
        }
      ]
    },
    {
      "cell_type": "code",
      "metadata": {
        "id": "8BSu0wcJKMIH",
        "colab_type": "code",
        "outputId": "b675681f-afaa-40b9-dc91-720a4cf3a1f7",
        "colab": {
          "base_uri": "https://localhost:8080/",
          "height": 174
        }
      },
      "source": [
        "byuser.describe()"
      ],
      "execution_count": 0,
      "outputs": [
        {
          "output_type": "execute_result",
          "data": {
            "text/plain": [
              "count    544982.000000\n",
              "mean          3.088106\n",
              "std           4.070288\n",
              "min           1.000000\n",
              "25%           1.000000\n",
              "50%           2.000000\n",
              "75%           3.000000\n",
              "max         359.000000\n",
              "Name: ref_count, dtype: float64"
            ]
          },
          "metadata": {
            "tags": []
          },
          "execution_count": 77
        }
      ]
    },
    {
      "cell_type": "code",
      "metadata": {
        "id": "HNP_bFKJKQQO",
        "colab_type": "code",
        "outputId": "6cc87310-041f-4e58-9460-27f608e0dd68",
        "colab": {
          "base_uri": "https://localhost:8080/",
          "height": 286
        }
      },
      "source": [
        "byuser.plot.hist(bins = 30)"
      ],
      "execution_count": 0,
      "outputs": [
        {
          "output_type": "execute_result",
          "data": {
            "text/plain": [
              "<matplotlib.axes._subplots.AxesSubplot at 0x7fd9f03833c8>"
            ]
          },
          "metadata": {
            "tags": []
          },
          "execution_count": 78
        },
        {
          "output_type": "display_data",
          "data": {
            "image/png": "[encoded data removed]",
            "text/plain": [
              "<Figure size 432x288 with 1 Axes>"
            ]
          },
          "metadata": {
            "tags": []
          }
        }
      ]
    },
    {
      "cell_type": "markdown",
      "metadata": {
        "id": "5LpWDJjhMZmn",
        "colab_type": "text"
      },
      "source": [
        "## filtering users and items"
      ]
    },
    {
      "cell_type": "code",
      "metadata": {
        "id": "P1lzOI9pKSkS",
        "colab_type": "code",
        "outputId": "8acc60b0-41d9-4c91-c59f-796404a85717",
        "colab": {
          "base_uri": "https://localhost:8080/",
          "height": 52
        }
      },
      "source": [
        "filter_items = df_ref['reference_int'].value_counts() > 1\n",
        "filter_items = filter_items[filter_items].index.tolist()\n",
        "\n",
        "filter_users = df_ref['user_id'].value_counts() > 1\n",
        "filter_users = filter_users[filter_users].index.tolist()\n",
        "\n",
        "df_new = df_ref[(df_ref['reference_int'].isin(filter_items)) & (df_ref['user_id'].isin(filter_users))]\n",
        "\n",
        "print('The original data frame shape : ', df_ref.shape)\n",
        "print('The new data frame shape : ', df_new.shape)\n",
        "\n",
        "del df_ref"
      ],
      "execution_count": 0,
      "outputs": [
        {
          "output_type": "stream",
          "text": [
            "The original data frame shape :  (1682962, 3)\n",
            "The new data frame shape :  (1332736, 3)\n"
          ],
          "name": "stdout"
        }
      ]
    },
    {
      "cell_type": "markdown",
      "metadata": {
        "id": "Dvbdz8CZPRxQ",
        "colab_type": "text"
      },
      "source": [
        "# Surprise package"
      ]
    },
    {
      "cell_type": "code",
      "metadata": {
        "id": "LmWvrckwO9i7",
        "colab_type": "code",
        "colab": {}
      },
      "source": [
        "from surprise import Reader\n",
        "from surprise import Dataset\n",
        "from surprise.model_selection import cross_validate, train_test_split\n",
        "from surprise import NormalPredictor\n",
        "#from surprise import KNNBasic,KNNWithMeans,KNNWithZScore,KNNBaseline #memory error\n",
        "from surprise import SVD, SVDpp, NMF\n",
        "from surprise import BaselineOnly, CoClustering\n",
        "from surprise import NormalPredictor\n",
        "from surprise.accuracy import rmse\n",
        "from surprise import accuracy"
      ],
      "execution_count": 0,
      "outputs": []
    },
    {
      "cell_type": "code",
      "metadata": {
        "id": "l-WnOrMmPwXW",
        "colab_type": "code",
        "colab": {}
      },
      "source": [
        "reader = Reader(rating_scale=(2,28.5))\n",
        "data = Dataset.load_from_df(df_new[['user_id','reference_int','ref_count']], reader)"
      ],
      "execution_count": 0,
      "outputs": []
    },
    {
      "cell_type": "code",
      "metadata": {
        "id": "7Cotn-0KV87T",
        "colab_type": "code",
        "colab": {}
      },
      "source": [
        "benchmark = []"
      ],
      "execution_count": 0,
      "outputs": []
    },
    {
      "cell_type": "markdown",
      "metadata": {
        "id": "Nwt-_LclUaiG",
        "colab_type": "text"
      },
      "source": [
        "# SVD"
      ]
    },
    {
      "cell_type": "code",
      "metadata": {
        "id": "PJccsh1LUb3Z",
        "colab_type": "code",
        "outputId": "24917035-c2d9-46fa-d2e8-ddb60b8e61cf",
        "colab": {
          "base_uri": "https://localhost:8080/",
          "height": 34
        }
      },
      "source": [
        "print('algorithm : ', 'SVD')\n",
        "results = cross_validate(SVD(), data, measures=['RMSE'], cv = 3, verbose = False)\n",
        "\n",
        "#get results\n",
        "tmp = pd.DataFrame.from_dict(results).mean(axis = 0)\n",
        "tmp = tmp.append(pd.Series('SVD', index = ['Algorithm']))\n",
        "benchmark.append(tmp)"
      ],
      "execution_count": 0,
      "outputs": [
        {
          "output_type": "stream",
          "text": [
            "algorithm :  SVD\n"
          ],
          "name": "stdout"
        }
      ]
    },
    {
      "cell_type": "code",
      "metadata": {
        "id": "542bFO7jYmyt",
        "colab_type": "code",
        "outputId": "2d14a23c-a1f9-4401-9cae-00b92b66c1c6",
        "colab": {
          "base_uri": "https://localhost:8080/",
          "height": 104
        }
      },
      "source": [
        "tmp"
      ],
      "execution_count": 0,
      "outputs": [
        {
          "output_type": "execute_result",
          "data": {
            "text/plain": [
              "test_rmse    9.3213\n",
              "fit_time     77.182\n",
              "test_time    7.0765\n",
              "Algorithm       SVD\n",
              "dtype: object"
            ]
          },
          "metadata": {
            "tags": []
          },
          "execution_count": 23
        }
      ]
    },
    {
      "cell_type": "markdown",
      "metadata": {
        "id": "NA-I4SOqXkb2",
        "colab_type": "text"
      },
      "source": [
        "# SVDpp"
      ]
    },
    {
      "cell_type": "code",
      "metadata": {
        "id": "4rPSwkt-XjnV",
        "colab_type": "code",
        "outputId": "3f5678e4-6c8e-4467-e8e6-2c41f4ecf01c",
        "colab": {
          "base_uri": "https://localhost:8080/",
          "height": 34
        }
      },
      "source": [
        "print('algorithm : ', 'SVDpp')\n",
        "results = cross_validate(SVDpp(), data, measures=['RMSE'], cv = 3, verbose = False)\n",
        "\n",
        "#get results\n",
        "tmp = pd.DataFrame.from_dict(results).mean(axis = 0)\n",
        "tmp = tmp.append(pd.Series('SVDpp', index = ['Algorithm']))\n",
        "benchmark.append(tmp)"
      ],
      "execution_count": 0,
      "outputs": [
        {
          "output_type": "stream",
          "text": [
            "algorithm :  SVDpp\n"
          ],
          "name": "stdout"
        }
      ]
    },
    {
      "cell_type": "code",
      "metadata": {
        "id": "lWEB1F6sYvHF",
        "colab_type": "code",
        "outputId": "b8020b1c-a9a7-4848-a265-28a6d48871b4",
        "colab": {
          "base_uri": "https://localhost:8080/",
          "height": 104
        }
      },
      "source": [
        "tmp"
      ],
      "execution_count": 0,
      "outputs": [
        {
          "output_type": "execute_result",
          "data": {
            "text/plain": [
              "test_rmse    9.67288\n",
              "fit_time     199.856\n",
              "test_time    15.3761\n",
              "Algorithm        SVD\n",
              "dtype: object"
            ]
          },
          "metadata": {
            "tags": []
          },
          "execution_count": 25
        }
      ]
    },
    {
      "cell_type": "markdown",
      "metadata": {
        "id": "rKyeUgF8bYg-",
        "colab_type": "text"
      },
      "source": [
        "# NMF"
      ]
    },
    {
      "cell_type": "code",
      "metadata": {
        "id": "r9UYLO-4ba4f",
        "colab_type": "code",
        "outputId": "77d1eb83-fb02-4efd-b41e-4073b23ad0b6",
        "colab": {
          "base_uri": "https://localhost:8080/",
          "height": 121
        }
      },
      "source": [
        "print('algorithm : ', 'NMF')\n",
        "results = cross_validate(NMF(), data, measures=['RMSE'], cv = 3, verbose = False)\n",
        "\n",
        "#get results\n",
        "tmp = pd.DataFrame.from_dict(results).mean(axis = 0)\n",
        "tmp = tmp.append(pd.Series('NMF', index = ['Algorithm']))\n",
        "benchmark.append(tmp)\n",
        "tmp"
      ],
      "execution_count": 0,
      "outputs": [
        {
          "output_type": "stream",
          "text": [
            "algorithm :  NMF\n"
          ],
          "name": "stdout"
        },
        {
          "output_type": "execute_result",
          "data": {
            "text/plain": [
              "test_rmse    9.97242\n",
              "fit_time     136.315\n",
              "test_time    6.48009\n",
              "Algorithm        NMF\n",
              "dtype: object"
            ]
          },
          "metadata": {
            "tags": []
          },
          "execution_count": 8
        }
      ]
    },
    {
      "cell_type": "markdown",
      "metadata": {
        "id": "AiZOazxuevBu",
        "colab_type": "text"
      },
      "source": [
        "# BaselineOnly"
      ]
    },
    {
      "cell_type": "code",
      "metadata": {
        "id": "Ef7kVFeaex8o",
        "colab_type": "code",
        "outputId": "2b2ab605-c25d-46e6-8165-4f125833418f",
        "colab": {
          "base_uri": "https://localhost:8080/",
          "height": 174
        }
      },
      "source": [
        "print('algorithm : ', 'BaselineOnly')\n",
        "results = cross_validate(BaselineOnly(), data, measures=['RMSE'], cv = 3, verbose = False)\n",
        "\n",
        "#get results\n",
        "tmp = pd.DataFrame.from_dict(results).mean(axis = 0)\n",
        "tmp = tmp.append(pd.Series('BaselineOnly', index = ['Algorithm']))\n",
        "benchmark.append(tmp)\n",
        "tmp"
      ],
      "execution_count": 0,
      "outputs": [
        {
          "output_type": "stream",
          "text": [
            "algorithm :  BaselineOnly\n",
            "Estimating biases using als...\n",
            "Estimating biases using als...\n",
            "Estimating biases using als...\n"
          ],
          "name": "stdout"
        },
        {
          "output_type": "execute_result",
          "data": {
            "text/plain": [
              "test_rmse         9.32758\n",
              "fit_time          7.83443\n",
              "test_time         5.88081\n",
              "Algorithm    BaselineOnly\n",
              "dtype: object"
            ]
          },
          "metadata": {
            "tags": []
          },
          "execution_count": 8
        }
      ]
    },
    {
      "cell_type": "markdown",
      "metadata": {
        "id": "UCBYKCgyh0l1",
        "colab_type": "text"
      },
      "source": [
        "# Co clustering"
      ]
    },
    {
      "cell_type": "code",
      "metadata": {
        "id": "3XI3Sengh2On",
        "colab_type": "code",
        "outputId": "0d066635-5097-4c22-8901-92cecd190a6d",
        "colab": {
          "base_uri": "https://localhost:8080/",
          "height": 121
        }
      },
      "source": [
        "print('algorithm : ', 'CoClustering')\n",
        "results = cross_validate(CoClustering(), data, measures=['RMSE'], cv = 3, verbose = False)\n",
        "\n",
        "#get results\n",
        "tmp = pd.DataFrame.from_dict(results).mean(axis = 0)\n",
        "tmp = tmp.append(pd.Series('CoClustering', index = ['Algorithm']))\n",
        "benchmark.append(tmp)\n",
        "tmp"
      ],
      "execution_count": 0,
      "outputs": [
        {
          "output_type": "stream",
          "text": [
            "algorithm :  CoClustering\n"
          ],
          "name": "stdout"
        },
        {
          "output_type": "execute_result",
          "data": {
            "text/plain": [
              "test_rmse         9.61101\n",
              "fit_time          76.7366\n",
              "test_time          5.6426\n",
              "Algorithm    CoClustering\n",
              "dtype: object"
            ]
          },
          "metadata": {
            "tags": []
          },
          "execution_count": 9
        }
      ]
    },
    {
      "cell_type": "markdown",
      "metadata": {
        "id": "F1aHHwMamTrc",
        "colab_type": "text"
      },
      "source": [
        "# NormalPredictor"
      ]
    },
    {
      "cell_type": "code",
      "metadata": {
        "id": "gTZXG8PTmU9a",
        "colab_type": "code",
        "outputId": "a223e043-2974-4fa0-c047-3bd84f63d6c7",
        "colab": {
          "base_uri": "https://localhost:8080/",
          "height": 121
        }
      },
      "source": [
        "print('algorithm : ', 'NormalPredictor')\n",
        "results = cross_validate(NormalPredictor(), data, measures=['RMSE'], cv = 3, verbose = False)\n",
        "\n",
        "#get results\n",
        "tmp = pd.DataFrame.from_dict(results).mean(axis = 0)\n",
        "tmp = tmp.append(pd.Series('NormalPredictor', index = ['Algorithm']))\n",
        "benchmark.append(tmp)\n",
        "tmp"
      ],
      "execution_count": 0,
      "outputs": [
        {
          "output_type": "stream",
          "text": [
            "algorithm :  NormalPredictor\n"
          ],
          "name": "stdout"
        },
        {
          "output_type": "execute_result",
          "data": {
            "text/plain": [
              "test_rmse            13.0077\n",
              "fit_time              2.4279\n",
              "test_time            5.80882\n",
              "Algorithm    NormalPredictor\n",
              "dtype: object"
            ]
          },
          "metadata": {
            "tags": []
          },
          "execution_count": 11
        }
      ]
    },
    {
      "cell_type": "markdown",
      "metadata": {
        "id": "h_BWI_WVnNO9",
        "colab_type": "text"
      },
      "source": [
        "### SVD, BaselineOnly best!!"
      ]
    },
    {
      "cell_type": "markdown",
      "metadata": {
        "id": "o3jMgWAdnr1C",
        "colab_type": "text"
      },
      "source": [
        "# Train and Predict"
      ]
    },
    {
      "cell_type": "markdown",
      "metadata": {
        "id": "1q23U6UioKRd",
        "colab_type": "text"
      },
      "source": [
        "## BaselineOnly"
      ]
    },
    {
      "cell_type": "code",
      "metadata": {
        "id": "5yLz1FpqnQvW",
        "colab_type": "code",
        "outputId": "c2e1a6e4-1206-462d-9904-bdcfba93c1b3",
        "colab": {
          "base_uri": "https://localhost:8080/",
          "height": 139
        }
      },
      "source": [
        "print('Using ALS')\n",
        "bsl_options = {'method' : 'als',\n",
        "              'n_epochs' : 5,\n",
        "              'reg_u' : 12,\n",
        "              'reg_i' : 5}\n",
        "\n",
        "algo = BaselineOnly(bsl_options=bsl_options)\n",
        "cross_validate(algo, data, measures=['RMSE'], cv = 3, verbose=False)"
      ],
      "execution_count": 0,
      "outputs": [
        {
          "output_type": "stream",
          "text": [
            "Using ALS\n",
            "Estimating biases using als...\n",
            "Estimating biases using als...\n",
            "Estimating biases using als...\n"
          ],
          "name": "stdout"
        },
        {
          "output_type": "execute_result",
          "data": {
            "text/plain": [
              "{'fit_time': (4.370826005935669, 4.798277139663696, 4.7866010665893555),\n",
              " 'test_rmse': array([9.24898479, 9.27478004, 9.26986095]),\n",
              " 'test_time': (6.4433910846710205, 6.268344163894653, 6.2631213665008545)}"
            ]
          },
          "metadata": {
            "tags": []
          },
          "execution_count": 13
        }
      ]
    },
    {
      "cell_type": "code",
      "metadata": {
        "id": "PXR00PUFoYBu",
        "colab_type": "code",
        "outputId": "5009f38e-65fb-40bb-b0be-97d7f3ad1386",
        "colab": {
          "base_uri": "https://localhost:8080/",
          "height": 69
        }
      },
      "source": [
        "trainset,testset = train_test_split(data, test_size = 0.3)\n",
        "algo = BaselineOnly(bsl_options=bsl_options)\n",
        "pred = algo.fit(trainset).test(testset)\n",
        "accuracy.rmse(pred)"
      ],
      "execution_count": 0,
      "outputs": [
        {
          "output_type": "stream",
          "text": [
            "Estimating biases using als...\n",
            "RMSE: 9.2211\n"
          ],
          "name": "stdout"
        },
        {
          "output_type": "execute_result",
          "data": {
            "text/plain": [
              "9.221136041191842"
            ]
          },
          "metadata": {
            "tags": []
          },
          "execution_count": 17
        }
      ]
    },
    {
      "cell_type": "code",
      "metadata": {
        "id": "X15uZ3Nmw_5v",
        "colab_type": "code",
        "outputId": "885728c8-b07a-400c-8c38-33597429204f",
        "colab": {
          "base_uri": "https://localhost:8080/",
          "height": 1000
        }
      },
      "source": [
        "testset"
      ],
      "execution_count": 0,
      "outputs": [
        {
          "output_type": "execute_result",
          "data": {
            "text/plain": [
              "[('8JV2SHGWPL1R', 10457146.0, 1.0),\n",
              " ('FX4LB67D38JP', 316791.0, 11.0),\n",
              " ('YFST3ZR745AS', 6274082.0, 1.0),\n",
              " ('DPCZOKVWIB00', 1724665.0, 1.0),\n",
              " ('2GN74YCWIC3E', 43750.0, 13.0),\n",
              " ('S3YIWZ794WSD', 2767204.0, 6.0),\n",
              " ('HI7DC0VA08M9', 1034502.0, 28.5),\n",
              " ('9E1997L1OHY8', 41171.0, 1.0),\n",
              " ('T47075JIUABU', 758131.0, 6.0),\n",
              " ('SYSJZWT8GJWO', 1392988.0, 15.0),\n",
              " ('ZVWM10NXW7RT', 3381230.0, 1.0),\n",
              " ('OLXE27LRGMEI', 1334115.0, 1.0),\n",
              " ('620XOUOS5D90', 350786.0, 1.0),\n",
              " ('GHFI5J3019V5', 164658.0, 28.5),\n",
              " ('ZBN44NZCWLIA', 3500898.0, 3.0),\n",
              " ('985D7GY5SQQI', 2942001.0, 1.0),\n",
              " ('W765TNA0HF7U', 12657.0, 1.0),\n",
              " ('X9UQV6WU4KTS', 1266491.0, 18.0),\n",
              " ('IF1WS29M1FQZ', 23753.0, 1.0),\n",
              " ('CLIHP8EKZ32J', 444846.0, 16.0),\n",
              " ('RM9PBSD7CMP5', 1247493.0, 2.0),\n",
              " ('X7K972WUNLL3', 76837.0, 17.0),\n",
              " ('7QE8DMK6ZN38', 1242485.0, 1.0),\n",
              " ('RU1X6ZKQIVUM', 103475.0, 1.0),\n",
              " ('XTA58N41IR1A', 53835.0, 15.0),\n",
              " ('ANCW963W4J58', 149587.0, 2.0),\n",
              " ('S98STRAJX3Y1', 9720006.0, 28.5),\n",
              " ('3KKBWMMEJ4JP', 47712.0, 4.0),\n",
              " ('KA27P8Q5W785', 2042385.0, 18.0),\n",
              " ('NM9STT159MIL', 9885284.0, 1.0),\n",
              " ('NJFJAPYSE8L3', 9590644.0, 2.0),\n",
              " ('8628K3LAUI86', 1022519.0, 8.0),\n",
              " ('57J239TLOUO8', 960311.0, 1.0),\n",
              " ('Q1C813793AEA', 939944.0, 1.0),\n",
              " ('JAR05XNTMEFG', 58637.0, 1.0),\n",
              " ('534MYCK2V757', 349221.0, 1.0),\n",
              " ('8J9E01R02DK2', 7365424.0, 1.0),\n",
              " ('AUTLJT92K813', 44388.0, 10.0),\n",
              " ('ST8RA319VBWM', 3159681.0, 1.0),\n",
              " ('O59PABGZDG53', 755686.0, 28.5),\n",
              " ('YYKSGBDHN95N', 8100528.0, 2.0),\n",
              " ('BAFSO7DLU7DD', 53069.0, 28.5),\n",
              " ('IFE1S9H64ZCC', 4891974.0, 18.0),\n",
              " ('7KCD59MC6K6R', 2225536.0, 28.5),\n",
              " ('Y5GIXOZ71RVH', 112150.0, 6.0),\n",
              " ('8L78N8EHC0T7', 10234804.0, 28.5),\n",
              " ('MK9JB02E6HDN', 40809.0, 1.0),\n",
              " ('JU22UTU19AOP', 1373158.0, 3.0),\n",
              " ('AOX75I243RIY', 356636.0, 1.0),\n",
              " ('D78S2OB3QVJ2', 2384050.0, 8.0),\n",
              " ('D5AZE9VF372Q', 10303810.0, 28.5),\n",
              " ('ER8MZZLFAAGN', 3203780.0, 4.0),\n",
              " ('M4G64DKDFQOM', 103377.0, 1.0),\n",
              " ('RRS0SQO977FH', 1069950.0, 1.0),\n",
              " ('XDCT8JBUQ7N7', 8160472.0, 12.0),\n",
              " ('RHH2KCH1I5M7', 2161650.0, 1.0),\n",
              " ('854DESUCVDUG', 1393443.0, 28.5),\n",
              " ('8EQ672HEDLIY', 12390.0, 1.0),\n",
              " ('NOE506X7WHH6', 2759190.0, 16.0),\n",
              " ('NRZKW01UW977', 5917.0, 2.0),\n",
              " ('D2B3PWB4TG77', 3981010.0, 1.0),\n",
              " ('D7NQ8BQOT6BO', 21100.0, 28.5),\n",
              " ('CES54F5JZDD3', 3554146.0, 15.0),\n",
              " ('13R07N46UN9E', 1710415.0, 28.5),\n",
              " ('MXAMAKFOBW2U', 5789162.0, 2.0),\n",
              " ('H6ZORP6P3Q27', 1329920.0, 1.0),\n",
              " ('PRSZSS08X6I3', 7018628.0, 28.5),\n",
              " ('L093NX71F9I9', 536941.0, 1.0),\n",
              " ('75OR9F58ZV69', 42849.0, 28.5),\n",
              " ('467IK4LM4FYL', 3184474.0, 4.0),\n",
              " ('29A86UYEGOQ0', 2491394.0, 1.0),\n",
              " ('6OHFLHF2APY9', 34548.0, 1.0),\n",
              " ('MF4NPC10DFZ1', 5738418.0, 1.0),\n",
              " ('CMP7DSOQ4L9N', 6114404.0, 1.0),\n",
              " ('EN2YTVLQH3TO', 4371434.0, 28.5),\n",
              " ('Y1K29DVX7QSL', 27024.0, 28.5),\n",
              " ('X9ZWIQT3WQ13', 1260346.0, 4.0),\n",
              " ('FRWTSVH8OK8M', 7334414.0, 2.0),\n",
              " ('FGPLZBAKQPHN', 5066908.0, 15.0),\n",
              " ('7Z1RI2LKS9TO', 10121470.0, 3.0),\n",
              " ('D1ITTTK4Q3IL', 1148428.0, 1.0),\n",
              " ('50XN0I0E01Y8', 902965.0, 28.5),\n",
              " ('ZDRH8JAH4M2I', 94206.0, 28.5),\n",
              " ('ZF9ONU7H4YS3', 210891.0, 28.5),\n",
              " ('7AZFLKWX5MC7', 2635641.0, 1.0),\n",
              " ('44RPF1R57YKF', 7171.0, 1.0),\n",
              " ('111QOF05ZVKF', 787621.0, 28.5),\n",
              " ('P72BNHCW2OZ2', 2813719.0, 16.0),\n",
              " ('2JI00LY787NO', 2855482.0, 1.0),\n",
              " ('79Q640M5IDHT', 112643.0, 13.0),\n",
              " ('L9AUAX2Q44CY', 503926.0, 1.0),\n",
              " ('RXBJSWI6JK97', 1010345.0, 2.0),\n",
              " ('YT5JA63I2V88', 9034076.0, 1.0),\n",
              " ('G4M8CR0K0325', 67379.0, 13.0),\n",
              " ('LLSFJL1X2BQX', 4590810.0, 1.0),\n",
              " ('74UZC8CMP4ES', 3241692.0, 14.0),\n",
              " ('R0PLNGCPCTZZ', 1510165.0, 2.0),\n",
              " ('R6LCT0ZC4S5U', 2299312.0, 1.0),\n",
              " ('Q309OY56BA09', 3477736.0, 2.0),\n",
              " ('4YJXEYP1PHE6', 3868384.0, 17.0),\n",
              " ('CFOVPBJT4NUI', 3552406.0, 2.0),\n",
              " ('1FVR7KDS4VYG', 5173766.0, 28.5),\n",
              " ('8Z880ND9822S', 93655.0, 3.0),\n",
              " ('4MZ68N5CMIXJ', 9774742.0, 28.5),\n",
              " ('872QDZDZX1R6', 590686.0, 28.5),\n",
              " ('C2E277959K07', 2558291.0, 1.0),\n",
              " ('XOQQTQIEYFBW', 3226762.0, 4.0),\n",
              " ('EITJLQIW54C5', 2237206.0, 2.0),\n",
              " ('4ZG3WCDPT15Q', 1211616.0, 17.0),\n",
              " ('SA5JFIPY0TSV', 2829879.0, 13.0),\n",
              " ('52UID615P8TS', 4553882.0, 1.0),\n",
              " ('GMUK0SI8H1S8', 2505786.0, 1.0),\n",
              " ('AGGAM8PEMLW0', 34351.0, 1.0),\n",
              " ('9ZQWS930DCAW', 9491548.0, 1.0),\n",
              " ('U9PISN64I904', 10675960.0, 1.0),\n",
              " ('M34VBQ02LQUB', 80627.0, 2.0),\n",
              " ('Y8FDBEDJ6CTW', 20426.0, 9.0),\n",
              " ('XYR94UFIMTR9', 110917.0, 4.0),\n",
              " ('BM5HKVBG5197', 1104184.0, 28.5),\n",
              " ('98EJWMXY4BTG', 8744.0, 1.0),\n",
              " ('R5MU9WIUVD2W', 4871050.0, 28.5),\n",
              " ('1UD5HZASW6FB', 2627240.0, 28.5),\n",
              " ('TYA2C66C5CA9', 6954620.0, 2.0),\n",
              " ('8662C0OY9G8A', 1571839.0, 3.0),\n",
              " ('1KRSHXB7K80N', 2757001.0, 5.0),\n",
              " ('N2BDHQUI8804', 5847150.0, 2.0),\n",
              " ('UGZXJUFO8V85', 1494523.0, 28.5),\n",
              " ('P5TXYK0PAPFM', 4979914.0, 28.5),\n",
              " ('PQVXRKL6BW1E', 3811810.0, 3.0),\n",
              " ('6XA8H527VIFO', 4277088.0, 1.0),\n",
              " ('O4N3EV9EVMC0', 2438499.0, 28.5),\n",
              " ('R7RU0L32DFX5', 138786.0, 1.0),\n",
              " ('CQM1034RBOZI', 8380.0, 28.5),\n",
              " ('0UOJG77EXE81', 8758034.0, 1.0),\n",
              " ('YOZ8WCGDAJA1', 1291535.0, 2.0),\n",
              " ('YKXPDVCRP3LJ', 4760030.0, 7.0),\n",
              " ('U985OZETD2BH', 5825870.0, 2.0),\n",
              " ('RR0C78IX55K7', 4845152.0, 28.5),\n",
              " ('95A03TRKYGMM', 100535.0, 13.0),\n",
              " ('K5E93I4QAR39', 2269790.0, 3.0),\n",
              " ('94SJBXB0R78X', 44647.0, 4.0),\n",
              " ('S7Z2ADJZUMJN', 321941.0, 4.0),\n",
              " ('26BIRNYNBRHJ', 4510026.0, 28.5),\n",
              " ('813VQKDQZ6ZZ', 16247.0, 16.0),\n",
              " ('FOPLU8H0GPFO', 5075132.0, 1.0),\n",
              " ('UXZI536B7G5T', 1135067.0, 1.0),\n",
              " ('1CUMSB8ZNK3N', 930571.0, 13.0),\n",
              " ('94QCJG11EU1O', 1833111.0, 13.0),\n",
              " ('TJJEDI23U141', 2471356.0, 2.0),\n",
              " ('IJIJM3F49JX5', 40015.0, 28.5),\n",
              " ('F2Q0DV5O1SWS', 3835270.0, 28.5),\n",
              " ('6UKMPQ2C41W8', 104811.0, 28.5),\n",
              " ('B3HBHDH36XB3', 1153142.0, 1.0),\n",
              " ('02VWCPJ4BMN4', 5010716.0, 28.5),\n",
              " ('K5P2LXSXWH0L', 7060068.0, 1.0),\n",
              " ('S915IB64F13Q', 1240909.0, 3.0),\n",
              " ('83GIU20NWU1N', 4589728.0, 3.0),\n",
              " ('H2EZO7BOL1HE', 5710586.0, 12.0),\n",
              " ('PFVO2D5BZJS7', 1668489.0, 28.5),\n",
              " ('UXH879AWWFRK', 4127294.0, 28.5),\n",
              " ('98SQTOGR0VHR', 2728192.0, 1.0),\n",
              " ('DZ2MLX799E67', 62529.0, 3.0),\n",
              " ('40Y1MJ04A9DU', 1037104.0, 3.0),\n",
              " ('2LX6N8J4XCNT', 98801.0, 3.0),\n",
              " ('VYQZFX9CJLL8', 1929315.0, 28.5),\n",
              " ('RV3037JRU6Y1', 2857625.0, 16.0),\n",
              " ('CSUI8WE44D56', 6954246.0, 3.0),\n",
              " ('9G0XJ748YF0T', 5852516.0, 1.0),\n",
              " ('I99K8MW8JL9N', 3497814.0, 28.5),\n",
              " ('5M0M9G3QSTO2', 40395.0, 1.0),\n",
              " ('HLEN6LOXWJ7J', 1178118.0, 28.5),\n",
              " ('3BA6VLWGBN45', 6284274.0, 17.0),\n",
              " ('O5P4CE7M0I6V', 2759718.0, 3.0),\n",
              " ('NB7TVDHQTES4', 95453.0, 2.0),\n",
              " ('C11TYX3A6PQP', 3788612.0, 1.0),\n",
              " ('HN0TPG56DGOH', 1895913.0, 1.0),\n",
              " ('W246RNX6JZ7I', 15948.0, 28.5),\n",
              " ('WSH8RG3A2RD6', 473691.0, 1.0),\n",
              " ('961NA1EX8B0P', 4623764.0, 1.0),\n",
              " ('O1R6R1H18NYW', 6735.0, 1.0),\n",
              " ('YII8ZC9BZEUZ', 6800208.0, 1.0),\n",
              " ('7QIGE8IZQ23Q', 95009.0, 3.0),\n",
              " ('S0XJTHWGWZZ7', 7729806.0, 2.0),\n",
              " ('302K1WKF0059', 2092518.0, 1.0),\n",
              " ('F1TTF0UAIV80', 508816.0, 2.0),\n",
              " ('F12HFJQR4NND', 2826688.0, 1.0),\n",
              " ('H0G44SRRGK1T', 1885365.0, 16.0),\n",
              " ('YRSKKIC9VBHU', 5843142.0, 17.0),\n",
              " ('MIB0R1EDMI66', 67361.0, 8.0),\n",
              " ('7CIFJNMU4G26', 5753.0, 2.0),\n",
              " ('VQLOLRSLLJA4', 321971.0, 28.5),\n",
              " ('IX43XMTKK4OA', 232201.0, 14.0),\n",
              " ('K5TY86GF56O3', 69296.0, 28.5),\n",
              " ('0IP00F4QQ915', 2199830.0, 13.0),\n",
              " ('0DL6FLBOJ3Q9', 1769979.0, 28.5),\n",
              " ('OR84JPR7Z2PJ', 11910.0, 28.5),\n",
              " ('MY89T5XQP05F', 4535840.0, 4.0),\n",
              " ('BGBK48273HTT', 3137233.0, 18.0),\n",
              " ('E9RBUC9JP9Y8', 2510332.0, 10.0),\n",
              " ('1GWM31B9G2IR', 133004.0, 4.0),\n",
              " ('JM4MWWM6345R', 2776586.0, 28.5),\n",
              " ('1ZQ1TP467C1M', 9171490.0, 3.0),\n",
              " ('7YVUQF44B3ML', 43174.0, 5.0),\n",
              " ('08C125JHE8GO', 1323790.0, 2.0),\n",
              " ('W0EEDUTWBIZ2', 42626.0, 3.0),\n",
              " ('0NW7IJ6DRWFC', 81011.0, 18.0),\n",
              " ('9SH70MFXEXW3', 4492818.0, 15.0),\n",
              " ('Q6UNLMGJLP8E', 3953390.0, 28.5),\n",
              " ('HTGDTHNC921H', 1908493.0, 3.0),\n",
              " ('7B09ABSNFLO3', 993311.0, 4.0),\n",
              " ('WLHJ97ZHO4EM', 2676734.0, 5.0),\n",
              " ('5B83JC58E19O', 1236205.0, 1.0),\n",
              " ('K4IZP2AWARBJ', 4044004.0, 4.0),\n",
              " ('1RBCYPP2QG43', 14333.0, 1.0),\n",
              " ('UWOJSZZBDQIX', 1798787.0, 1.0),\n",
              " ('38K6M9J0Y838', 1354520.0, 1.0),\n",
              " ('8D8CA9P2K8M1', 9511088.0, 1.0),\n",
              " ('WL8BVA9Y6P05', 103500.0, 1.0),\n",
              " ('X5B819T8UUPK', 5760058.0, 1.0),\n",
              " ('3OTEK8299VCB', 17202.0, 17.0),\n",
              " ('MSNBFR2AS09K', 2924107.0, 12.0),\n",
              " ('22QZK5Y58X8I', 124098.0, 2.0),\n",
              " ('L6GJP1E8UT4S', 2220098.0, 1.0),\n",
              " ('1ZWA8R7C7AVE', 3876298.0, 4.0),\n",
              " ('V7G0R0UZ6MMY', 49750.0, 1.0),\n",
              " ('GTANAVNLUH7P', 152121.0, 12.0),\n",
              " ('6U3XUD6FJ2U0', 596371.0, 6.0),\n",
              " ('YXU2KXCS3DKP', 432886.0, 1.0),\n",
              " ('768ZFT6WRS97', 507301.0, 28.5),\n",
              " ('P4PQVHZ2NAGL', 10636340.0, 2.0),\n",
              " ('8W6QTGFP3VMY', 11317.0, 1.0),\n",
              " ('2UZ7PRC4A80X', 5714694.0, 2.0),\n",
              " ('IX0S3X0EZC68', 8486524.0, 1.0),\n",
              " ('5XBWOL7Q5Q64', 2675618.0, 2.0),\n",
              " ('C4S3VR866DDR', 3894326.0, 2.0),\n",
              " ('GN2MKMJ7D6O5', 5737100.0, 28.5),\n",
              " ('6ROFG1F9AMVH', 2542692.0, 14.0),\n",
              " ('OW3KM169O2SI', 102971.0, 28.5),\n",
              " ('LKXIR76UMXMM', 2049991.0, 28.5),\n",
              " ('LXVD4Z17NEFV', 932765.0, 11.0),\n",
              " ('W80BU0Q50L7S', 7122194.0, 10.0),\n",
              " ('FVI30KAN8C0F', 1288430.0, 5.0),\n",
              " ('3PS9W7SQV5T5', 1645917.0, 28.5),\n",
              " ('N4T07EK29334', 4860432.0, 1.0),\n",
              " ('CV8NFS26C93B', 104882.0, 2.0),\n",
              " ('5VY8FAI6N95B', 204626.0, 2.0),\n",
              " ('G4NZD00726CZ', 35147.0, 13.0),\n",
              " ('YOZ8WCGDAJA1', 63700.0, 12.0),\n",
              " ('EUPUDHKQUCR4', 66636.0, 12.0),\n",
              " ('KC1OVSYUI7KA', 4066418.0, 1.0),\n",
              " ('G9LTF4ZSFIG9', 6028734.0, 6.0),\n",
              " ('GWRHSPNMDWII', 59102.0, 1.0),\n",
              " ('J456W4K97768', 5631.0, 1.0),\n",
              " ('6TURDPQ45URE', 1108295.0, 28.5),\n",
              " ('B8N5WCICAKAA', 9667482.0, 1.0),\n",
              " ('4OT5KYP0T59H', 7192870.0, 1.0),\n",
              " ('YS1O6FWGG0W5', 5216.0, 1.0),\n",
              " ('8C2WHQR5RDHY', 8600298.0, 28.5),\n",
              " ('8KTT51Y6RQYA', 80790.0, 13.0),\n",
              " ('6H2ZXIRQ90GB', 134924.0, 1.0),\n",
              " ('JBGE2G9HEFBN', 12459.0, 1.0),\n",
              " ('1VZFXT8AGGOR', 1718187.0, 2.0),\n",
              " ('5BXYR9KGCMUP', 106143.0, 2.0),\n",
              " ('7G245J7U2YI0', 3143268.0, 6.0),\n",
              " ('5L5QFBNAFL59', 2662486.0, 1.0),\n",
              " ('RX8JK63JVL2Z', 2811970.0, 1.0),\n",
              " ('PBFUSYHM5JMX', 9727622.0, 1.0),\n",
              " ('YGE5PTHRWZ0L', 6938340.0, 1.0),\n",
              " ('WUTR74SEFJX8', 9492270.0, 28.5),\n",
              " ('UKQQ6B97FFX4', 478326.0, 28.5),\n",
              " ('MRIRPO9B71DJ', 4853820.0, 28.5),\n",
              " ('O8MSKYNQTJ17', 3156441.0, 3.0),\n",
              " ('IB47IWO5FD4D', 5050336.0, 3.0),\n",
              " ('2GZMX0E0XK27', 54626.0, 5.0),\n",
              " ('9038AZ2NY6TN', 343191.0, 28.5),\n",
              " ('L6MN4R6058F4', 13877.0, 28.5),\n",
              " ('ZA7J42DUNA6M', 1956323.0, 4.0),\n",
              " ('LQYE2GKPPI61', 7931838.0, 2.0),\n",
              " ('FBTT48IRVDJ3', 42154.0, 1.0),\n",
              " ('C9GRHAX5V2NF', 111076.0, 2.0),\n",
              " ('SQJB53WFZ40P', 11992.0, 17.0),\n",
              " ('1KBH5NIFEXZE', 2312444.0, 1.0),\n",
              " ('X6I5RIYQ2MSB', 2835834.0, 2.0),\n",
              " ('7OG79RGU8EMD', 2094440.0, 1.0),\n",
              " ('S75G93SSE8CE', 10097174.0, 1.0),\n",
              " ('9K53055R3ZGQ', 149403.0, 28.5),\n",
              " ('IKHCTL34OIJD', 1956019.0, 1.0),\n",
              " ('N06B940BFFXS', 1522347.0, 1.0),\n",
              " ('VE6WW3QT9BC5', 1642531.0, 2.0),\n",
              " ('6K7G74E2NV4J', 2828162.0, 2.0),\n",
              " ('RV7GQ7WWWIBF', 1084260.0, 28.5),\n",
              " ('3HLG54N1SBWD', 1668569.0, 28.5),\n",
              " ('PF25858C0KDS', 4078652.0, 1.0),\n",
              " ('ZJDE5WUSCNXQ', 3175930.0, 1.0),\n",
              " ('9CE903A20896', 2474263.0, 28.5),\n",
              " ('822KRM0R105E', 1535885.0, 10.0),\n",
              " ('SAF67Z2NWBCM', 666511.0, 2.0),\n",
              " ('WZ4BLICXDBF4', 5483408.0, 1.0),\n",
              " ('2RG2Q715CGPP', 10598396.0, 11.0),\n",
              " ('BZ73WBEU8HI0', 103495.0, 3.0),\n",
              " ('BHVAA8NK38F9', 1144612.0, 28.5),\n",
              " ('59K2J56Z5TC4', 147736.0, 2.0),\n",
              " ('2B37PI57H4G5', 6553.0, 8.0),\n",
              " ('EGCNY7XZA824', 552311.0, 1.0),\n",
              " ('EFD3F7WABGQ3', 10797970.0, 28.5),\n",
              " ('W8SBMPMMVKFT', 4414488.0, 12.0),\n",
              " ('LG024ZOU8I0Z', 3214934.0, 28.5),\n",
              " ('13FN138QN46F', 6942612.0, 1.0),\n",
              " ('3IDJBCR6JE28', 3242287.0, 5.0),\n",
              " ('92PG20K1SV9O', 34755.0, 1.0),\n",
              " ('OZPXQC877PY6', 126946.0, 1.0),\n",
              " ('47F31W6YZSE0', 2502548.0, 9.0),\n",
              " ('BN5NC332GFN5', 69134.0, 1.0),\n",
              " ('96HT8162CVN4', 1850573.0, 28.5),\n",
              " ('NEX7EQRIB2C1', 2052005.0, 11.0),\n",
              " ('N7H60T40LAPY', 2084626.0, 18.0),\n",
              " ('CO5KKUU30OMW', 152437.0, 28.5),\n",
              " ('434ICICNCHJ9', 3200366.0, 3.0),\n",
              " ('0V35K10X6X4N', 46471.0, 1.0),\n",
              " ('JL8M577JWNN8', 9054220.0, 1.0),\n",
              " ('HVCI3NFHQAD0', 100611.0, 3.0),\n",
              " ('46S8BV5MF2H4', 10067460.0, 1.0),\n",
              " ('DG18ZA7XC1QI', 1362994.0, 15.0),\n",
              " ('W7D4ERAWJZA7', 32674.0, 28.5),\n",
              " ('J9L30S2M2QNM', 19832.0, 1.0),\n",
              " ('Y06HXCJU5G20', 155648.0, 1.0),\n",
              " ('4OTQO8VRIA84', 4321308.0, 1.0),\n",
              " ('RYUJU16ICTP8', 6733562.0, 10.0),\n",
              " ('O4L3UUG0EC49', 1171294.0, 18.0),\n",
              " ('473F5S962E1L', 8809.0, 1.0),\n",
              " ('S3KACC8UVKK5', 6802192.0, 1.0),\n",
              " ('ZOVC1PHWCRLG', 5188306.0, 1.0),\n",
              " ('JDYSE1ZT99U6', 1043386.0, 3.0),\n",
              " ('HCXEUXXEV4MH', 1708963.0, 28.5),\n",
              " ('7HUBUP8FBB9G', 1049064.0, 2.0),\n",
              " ('QA9706WCY90I', 1817455.0, 28.5),\n",
              " ('CW0L680NUG9K', 508086.0, 4.0),\n",
              " ('SS67N677EMB4', 19043.0, 28.5),\n",
              " ('U4NNB902WR92', 2571721.0, 28.5),\n",
              " ('GC2M88FLJSEB', 1265111.0, 1.0),\n",
              " ('T9TGXXE90AK0', 2260570.0, 11.0),\n",
              " ('837A6P2ITTP2', 9495470.0, 14.0),\n",
              " ('7FJWCSQHQ6GV', 46566.0, 18.0),\n",
              " ('T2NNFEW0IE55', 8789766.0, 1.0),\n",
              " ('1EZTOXSEW17Q', 98753.0, 1.0),\n",
              " ('RZ2ZM5T3660I', 107183.0, 28.5),\n",
              " ('ESMIF1E6R6EX', 1646105.0, 2.0),\n",
              " ('ZQE7J97807M8', 2421342.0, 28.5),\n",
              " ('O9JOTRTUVF7J', 3515434.0, 1.0),\n",
              " ('RUKYBB8N8T6F', 921315.0, 2.0),\n",
              " ('TKIMYJ39ERU4', 4746438.0, 28.5),\n",
              " ('IHZG39DEHGCZ', 2581826.0, 2.0),\n",
              " ('CVUYILYCUQFA', 3125382.0, 3.0),\n",
              " ('FT7BX6KXEOUX', 9771364.0, 1.0),\n",
              " ('4YUFKO4R01IY', 1755873.0, 16.0),\n",
              " ('GK598GPT38QU', 55814.0, 1.0),\n",
              " ('ZZ705NBD13F3', 132292.0, 1.0),\n",
              " ('G7XSM1ME3W9B', 894327.0, 17.0),\n",
              " ('18KGYB76G5NC', 102148.0, 13.0),\n",
              " ('83BTVZS312ZS', 6022002.0, 1.0),\n",
              " ('CCK29Q41ULUD', 2784325.0, 8.0),\n",
              " ('LWAN38M77GRH', 9836662.0, 1.0),\n",
              " ('SMGI1QWCD6R0', 1707137.0, 1.0),\n",
              " ('TIX9277WMM7O', 1952361.0, 28.5),\n",
              " ('6RDN8TUF058L', 4452280.0, 1.0),\n",
              " ('02DXJW8F0DN1', 5806324.0, 12.0),\n",
              " ('VKWT7T71P2VR', 5062034.0, 1.0),\n",
              " ('DTX14B6K2898', 1255571.0, 2.0),\n",
              " ('F1ZK190AN1RU', 2848192.0, 4.0),\n",
              " ('7SK602F9C3JI', 6833094.0, 1.0),\n",
              " ('K95T07RV0727', 2627682.0, 4.0),\n",
              " ('S8UR8C4XDDNZ', 109360.0, 28.5),\n",
              " ('6GIS86A2DEX7', 899547.0, 28.5),\n",
              " ('604WEA9K68IW', 99107.0, 28.5),\n",
              " ('K1UX1A2OQ66D', 3076752.0, 1.0),\n",
              " ('ZH9TVN6B7C5D', 3167650.0, 13.0),\n",
              " ('642901ZPS1ZI', 106563.0, 3.0),\n",
              " ('EAVGFHYT925Z', 1950751.0, 1.0),\n",
              " ('5HIQCXL9CNK6', 2045293.0, 1.0),\n",
              " ('GBNLF3PPEAOK', 1544745.0, 3.0),\n",
              " ('ZLK66I94E0P6', 6274082.0, 1.0),\n",
              " ('OKC9Q8WK9K0K', 326846.0, 1.0),\n",
              " ('V88VTNEGJKS7', 104102.0, 14.0),\n",
              " ('5WABAGQ6KDJS', 13536.0, 28.5),\n",
              " ('41OIQKJLOXHC', 2438074.0, 28.5),\n",
              " ('T0PXU04DGCFH', 44874.0, 3.0),\n",
              " ('SV9TNUPM9G6G', 158113.0, 17.0),\n",
              " ('KH661178E1RT', 151099.0, 28.5),\n",
              " ('5KURKCR54613', 1787429.0, 8.0),\n",
              " ('IMBXWGDAU98J', 344761.0, 2.0),\n",
              " ('UXVA7VJSSG8N', 245386.0, 1.0),\n",
              " ('FZ0US4O3ZI6K', 246601.0, 28.5),\n",
              " ('10KQO0A895KA', 16271.0, 1.0),\n",
              " ('020G0RKVAWZ4', 3891208.0, 1.0),\n",
              " ('K74Q2QJGVFYH', 40280.0, 1.0),\n",
              " ('8HS4TS8N1GPR', 2093580.0, 1.0),\n",
              " ('AXR1850UK801', 12613.0, 2.0),\n",
              " ('24ICZYU9B7Z1', 3811828.0, 2.0),\n",
              " ('FIH6TMKEZRK4', 7195454.0, 2.0),\n",
              " ('DG6TOQK5F5TB', 3442272.0, 4.0),\n",
              " ('TQXEO468BS0Z', 8118900.0, 3.0),\n",
              " ('92UDJ2LOBP59', 103554.0, 5.0),\n",
              " ('HAT2OJTRW22X', 1646339.0, 3.0),\n",
              " ('AJ1OCSSWL1A5', 3051236.0, 1.0),\n",
              " ('HBIGM8OQT0VA', 1204582.0, 1.0),\n",
              " ('8IC9USMXBDSA', 77136.0, 28.5),\n",
              " ('7Q2U95BL15T3', 2813912.0, 1.0),\n",
              " ('19QCW1NQT99L', 40776.0, 18.0),\n",
              " ('69CDMWR2AJK8', 5594.0, 1.0),\n",
              " ('ZM8VUHPOYAHR', 1475717.0, 16.0),\n",
              " ('7EK9M3WAQMCV', 718691.0, 5.0),\n",
              " ('9NHKL3XG9BVF', 5790750.0, 6.0),\n",
              " ('7W1EK1B75NIY', 29924.0, 4.0),\n",
              " ('3T2O0NPNUX6B', 926893.0, 2.0),\n",
              " ('9WYMZ277WB03', 107742.0, 1.0),\n",
              " ('TMW3QTJ3JS0X', 3152036.0, 17.0),\n",
              " ('HBGLF60WE7YM', 10304454.0, 4.0),\n",
              " ('4N56QW768150', 95794.0, 3.0),\n",
              " ('VJAH3CIAZX4I', 3412476.0, 2.0),\n",
              " ('5D22BB9J08RN', 489031.0, 2.0),\n",
              " ('UJS38T9XNUR4', 8372508.0, 1.0),\n",
              " ('59LK6F33HMAU', 5437786.0, 1.0),\n",
              " ('K1SDY4727QG0', 2618224.0, 1.0),\n",
              " ('8RZQ4VB6JXE7', 2284276.0, 1.0),\n",
              " ('SFPYKPLHNGUV', 2827133.0, 1.0),\n",
              " ('850Z1QBN88YF', 5891.0, 1.0),\n",
              " ('WCIV6PY0TCMS', 5962870.0, 1.0),\n",
              " ('RTY1L81MDVCP', 450456.0, 1.0),\n",
              " ('GCJE3918VDL9', 3239182.0, 1.0),\n",
              " ('F16BT20KJ6Q8', 4068048.0, 1.0),\n",
              " ('HUD0O1UUXSKQ', 8650.0, 28.5),\n",
              " ('0H7LLAAQOSKB', 2503376.0, 1.0),\n",
              " ('4P7UX9H3GVTY', 11217664.0, 2.0),\n",
              " ('FX3CZRP5F5LA', 5155202.0, 28.5),\n",
              " ('06D09GGEONWR', 364311.0, 1.0),\n",
              " ('4HJ5573D13NY', 3132119.0, 1.0),\n",
              " ('IH93WNTT0127', 99035.0, 18.0),\n",
              " ('LQ6VYA9L10F3', 2676734.0, 28.5),\n",
              " ('N07WPYIRX5VM', 5845202.0, 1.0),\n",
              " ('NORY4KBFSZW8', 1823437.0, 6.0),\n",
              " ('5XM17S05IOP0', 990475.0, 1.0),\n",
              " ('DL0P4R02ERU4', 2142832.0, 4.0),\n",
              " ('8LHKRDK2F2JH', 152366.0, 28.5),\n",
              " ('YF2I4ZPSMC9R', 4699160.0, 1.0),\n",
              " ('QEOY18W7JME7', 16404.0, 28.5),\n",
              " ('8SM4FQHH8YV1', 95984.0, 2.0),\n",
              " ('7TRR3NOO9FN9', 16116.0, 28.5),\n",
              " ('5DYJXRV20KRH', 1825895.0, 2.0),\n",
              " ('GCBVUVI0ZW8B', 2197824.0, 1.0),\n",
              " ('KHGV4NC9GRSN', 973233.0, 14.0),\n",
              " ('E6TXCKTAU053', 37518.0, 2.0),\n",
              " ('3N5AIDUME51R', 9723.0, 1.0),\n",
              " ('F8Z5PT8V42P1', 185596.0, 1.0),\n",
              " ('33OCX9SQU204', 3054411.0, 28.5),\n",
              " ('C12WJT5293ZL', 6683242.0, 1.0),\n",
              " ('4GTSJK0VXWHL', 55323.0, 4.0),\n",
              " ('FKFSOSGO118M', 47281.0, 28.5),\n",
              " ('N05JYP8HDPUJ', 7110408.0, 28.5),\n",
              " ('ID5W9520BNFS', 5909054.0, 4.0),\n",
              " ('BNC5E11K12WQ', 322811.0, 1.0),\n",
              " ('00YY0MC5TNO8', 149964.0, 1.0),\n",
              " ('P6384CRBJXM5', 623286.0, 2.0),\n",
              " ('PCH67PSUL5AB', 5427540.0, 28.5),\n",
              " ('UIF84LIBQE5Q', 2045703.0, 2.0),\n",
              " ('39XC7JOZXQC3', 324226.0, 28.5),\n",
              " ('89GOE4W69OL3', 4816130.0, 1.0),\n",
              " ('7JX4ZZ1AOSSV', 22601.0, 1.0),\n",
              " ('HXPFGOYDY226', 1064756.0, 1.0),\n",
              " ('7HBFU3NTX406', 66283.0, 1.0),\n",
              " ('36PC515QW8S7', 1241524.0, 1.0),\n",
              " ('0U9W7A7VO5FT', 2922372.0, 13.0),\n",
              " ('5II7CCUD418Z', 7930042.0, 1.0),\n",
              " ('G7U04A2HQFSG', 42157.0, 28.5),\n",
              " ('51MXYLR89IPJ', 6957944.0, 3.0),\n",
              " ('XWD3LRD1F0O3', 2501186.0, 2.0),\n",
              " ('6GDJS52709FG', 3136796.0, 2.0),\n",
              " ('XC15WF4LVUDG', 6689308.0, 3.0),\n",
              " ('H83H608V80Y6', 7413258.0, 28.5),\n",
              " ('CVFTSRXQCW2K', 93683.0, 1.0),\n",
              " ('MAZ6PKGSMPDJ', 6953024.0, 1.0),\n",
              " ('02X1ET9ZJH94', 3119310.0, 2.0),\n",
              " ('SM97R4BO5N8Y', 46833.0, 9.0),\n",
              " ('NZY2F48WFJ8P', 950855.0, 1.0),\n",
              " ('N7757LQ91V03', 316651.0, 7.0),\n",
              " ('YLJN535241V1', 9109430.0, 4.0),\n",
              " ('F3RA6O0GI7KU', 3485610.0, 2.0),\n",
              " ('TEHE0L25DIN9', 964699.0, 28.5),\n",
              " ('T8SNIY7N89J5', 16944.0, 1.0),\n",
              " ('4O6FOEDYWY8B', 130919.0, 13.0),\n",
              " ('2Y00OOFKIZ6P', 9911400.0, 1.0),\n",
              " ('F2APYBK7DKGY', 5594652.0, 28.5),\n",
              " ('LHRF84RP6IMI', 552246.0, 28.5),\n",
              " ('UKEC53LWYPL2', 1375150.0, 28.5),\n",
              " ('Y4LSVW4FCQ2J', 5414320.0, 1.0),\n",
              " ('5FKA0NQZ7XAP', 184936.0, 28.5),\n",
              " ('7SH4XJ9PYN7Z', 98938.0, 1.0),\n",
              " ('4NFB6IF4E6B1', 1117260.0, 1.0),\n",
              " ('MF9RB44V121S', 1380694.0, 4.0),\n",
              " ('VCOJVSKJSE5T', 6914122.0, 1.0),\n",
              " ('0QG643EXXWFI', 101010.0, 28.5),\n",
              " ('G19VH30566KU', 17143.0, 28.5),\n",
              " ('743HFXU82Z04', 508541.0, 15.0),\n",
              " ('EYIKRRKQOMAP', 6948938.0, 1.0),\n",
              " ('QG7RYG30HNI0', 3137512.0, 1.0),\n",
              " ('8BH1TRH0SGAH', 949519.0, 1.0),\n",
              " ('K7VGUIK13S9H', 6634972.0, 2.0),\n",
              " ('BKKB8KZ6S2UD', 5498468.0, 28.5),\n",
              " ('7KUEIK5X6D3H', 499796.0, 1.0),\n",
              " ('94U06QVVE3E6', 1942063.0, 13.0),\n",
              " ('JBEKL9JIWOXM', 5107768.0, 1.0),\n",
              " ('1A1XRF7NMM7D', 5195984.0, 4.0),\n",
              " ('73G67AYEW9F9', 1474387.0, 1.0),\n",
              " ('9492MGGYJCDR', 9370388.0, 1.0),\n",
              " ('1EP41GKOXBWO', 2896756.0, 2.0),\n",
              " ('PKUX135NGM85', 999161.0, 28.5),\n",
              " ('FXRII2C9K47T', 32733.0, 2.0),\n",
              " ('K3C1Y9I344N9', 129178.0, 2.0),\n",
              " ('131Z055JDESK', 3837120.0, 14.0),\n",
              " ('K75SIPHDBZ97', 2466727.0, 2.0),\n",
              " ('VK3D06UEBSUY', 893651.0, 4.0),\n",
              " ('UDZ1JPKP1G7A', 46985.0, 10.0),\n",
              " ('R5Y8JA99Q2IE', 14666.0, 28.5),\n",
              " ('OA1Q3Z17HIQ6', 3279544.0, 1.0),\n",
              " ('UHHILVVLBI22', 1889173.0, 1.0),\n",
              " ('ACAX8XQ6ON0R', 99099.0, 1.0),\n",
              " ('PFP9NEH8EVP9', 2759718.0, 28.5),\n",
              " ('3SHO08N3314J', 4342016.0, 18.0),\n",
              " ('3EL4S40DE4WL', 42104.0, 2.0),\n",
              " ('D9F1S9L1A4AA', 93148.0, 11.0),\n",
              " ('AIQTG20Z23SB', 2555098.0, 28.5),\n",
              " ('15BFX6BPWV05', 469441.0, 5.0),\n",
              " ('8G4B4UBQXY47', 17432.0, 28.5),\n",
              " ('VGF0EDBHQFG1', 2038379.0, 28.5),\n",
              " ('0H73OEP6Z71O', 757261.0, 28.5),\n",
              " ('8RHAMWM609R0', 2643962.0, 3.0),\n",
              " ('0KNMPWC8CIS3', 1365176.0, 28.5),\n",
              " ('1R156UQQG0WK', 2487899.0, 12.0),\n",
              " ('JQ2MNZ4F7IX4', 5669.0, 5.0),\n",
              " ('9H01029D71E9', 1153350.0, 1.0),\n",
              " ('FYT21XGXS218', 4352860.0, 7.0),\n",
              " ('RTKD89EUL4U3', 1297518.0, 9.0),\n",
              " ('ZYD5I06P6K7T', 1254745.0, 1.0),\n",
              " ('CHI2E0Y07B4G', 18910.0, 8.0),\n",
              " ('RXG5TQ8V47G5', 997289.0, 3.0),\n",
              " ('636934DD4C1K', 1335787.0, 28.5),\n",
              " ('G22465D4Q166', 42943.0, 28.5),\n",
              " ('05OMSLMQU0U3', 103327.0, 1.0),\n",
              " ('0MIC5WYHMY3Z', 14747.0, 1.0),\n",
              " ('9AJVE4AUM7X4', 14030.0, 2.0),\n",
              " ('3AYNVC58EG1B', 9616138.0, 1.0),\n",
              " ('ETPPGKWVFM55', 34949.0, 1.0),\n",
              " ('DREXHWPU4XLT', 42737.0, 15.0),\n",
              " ('DE07IOKMOIP2', 56888.0, 10.0),\n",
              " ('FZM87M8RLK1J', 1057358.0, 5.0),\n",
              " ('XQ5B359Z4QMD', 8264.0, 2.0),\n",
              " ('T9OB8R0G0DT4', 207691.0, 14.0),\n",
              " ('2OPBMPT01YH6', 157502.0, 28.5),\n",
              " ('G114O9BRNW25', 104507.0, 4.0),\n",
              " ('S4DQPDGWK2LC', 556686.0, 28.5),\n",
              " ('97CH1ID0L066', 6039100.0, 1.0),\n",
              " ('Q0D0XDP31D96', 10103772.0, 2.0),\n",
              " ('MNR43SRNH4HA', 59763.0, 8.0),\n",
              " ('QA0U4TGDF4VD', 2317104.0, 1.0),\n",
              " ('JT3SWS07XFKL', 1487713.0, 1.0),\n",
              " ('3S8UPJE580CR', 3145342.0, 1.0),\n",
              " ('IO0QK14R6LNU', 54682.0, 3.0),\n",
              " ('Y1PLFS1TBXSM', 1048412.0, 28.5),\n",
              " ('YVBOEP5P8ZX3', 3046033.0, 28.5),\n",
              " ('5NNO7PQ1GMQL', 2892204.0, 5.0),\n",
              " ('XXZ12GRD0C5A', 1475717.0, 28.5),\n",
              " ('UH3139TAB7UL', 3053252.0, 1.0),\n",
              " ('7MAD9PS4VMUY', 2813288.0, 1.0),\n",
              " ('VVBI1IXMZ0SB', 1281700.0, 1.0),\n",
              " ('B3NNW3TEKB15', 6113580.0, 28.5),\n",
              " ('796G76GTXUXI', 1509677.0, 1.0),\n",
              " ('DDUJNJJVTHW6', 2106348.0, 3.0),\n",
              " ('MIKIMVJT4ILJ', 3245262.0, 11.0),\n",
              " ('8JO4HNRWLSN5', 1341081.0, 3.0),\n",
              " ('931OCPDLZA2G', 98931.0, 11.0),\n",
              " ('JBCSFLGX3SHA', 29829.0, 28.5),\n",
              " ('R1V9K1FD18BO', 2315822.0, 28.5),\n",
              " ('F0JNF77T0V14', 671586.0, 2.0),\n",
              " ('FPNTFX5T3DY3', 2610110.0, 2.0),\n",
              " ('R8452156386Y', 5041492.0, 1.0),\n",
              " ('R7Z6C2F647EF', 106920.0, 28.5),\n",
              " ('EDLPT2AQ5PHB', 137884.0, 1.0),\n",
              " ('L3BXI18K60R3', 46551.0, 28.5),\n",
              " ('F7JQUIA8GRZT', 779678.0, 1.0),\n",
              " ('5858W9JEW04J', 40763.0, 1.0),\n",
              " ('4KCOTMHIGT33', 5200974.0, 28.5),\n",
              " ('3DI6406Z5AQ0', 4040654.0, 28.5),\n",
              " ('G61WG3OD70AC', 353191.0, 28.5),\n",
              " ('NZZ9NOL67L90', 3071004.0, 1.0),\n",
              " ('X51FTPP1F2TN', 15826.0, 1.0),\n",
              " ('RHV0Z31VLI87', 1023315.0, 1.0),\n",
              " ('GTY9C6LQKQZP', 1132183.0, 1.0),\n",
              " ('8G1HHXUO5HOU', 6046668.0, 1.0),\n",
              " ('6HGLI632WRF4', 9212640.0, 2.0),\n",
              " ('ZW57KSQYU0JV', 1419973.0, 1.0),\n",
              " ('IU3755NQLHVM', 44734.0, 1.0),\n",
              " ('2IS922XVE3U3', 2557124.0, 1.0),\n",
              " ('AEA0OV7K6SPU', 8564.0, 10.0),\n",
              " ('NGBPY08XHXM1', 99415.0, 2.0),\n",
              " ('FHT0I90O6890', 12253.0, 16.0),\n",
              " ('9HCNL5DZF553', 2424529.0, 28.5),\n",
              " ('L6UD790KYHHK', 45037.0, 1.0),\n",
              " ('19W5RI4QQIB6', 2245282.0, 28.5),\n",
              " ('1NHJSZ0K1DUB', 1455417.0, 13.0),\n",
              " ('J4W7W44BHR91', 55077.0, 5.0),\n",
              " ('FBJYRK3E520V', 5893.0, 28.5),\n",
              " ('2OBMKBBWCQMU', 8498246.0, 1.0),\n",
              " ('GE2MZ0XV59SK', 3876846.0, 28.5),\n",
              " ('PP8U3ABNV3TL', 939394.0, 9.0),\n",
              " ('34HOOJCODV64', 9634190.0, 1.0),\n",
              " ('MAK8JK3DHQHI', 801591.0, 1.0),\n",
              " ('CI32BS3OPIG7', 110188.0, 3.0),\n",
              " ('27V9KA26O9LC', 44112.0, 1.0),\n",
              " ('G2WHLJFW8NW5', 8002.0, 2.0),\n",
              " ('5GVM6PKW3MZZ', 7021878.0, 1.0),\n",
              " ('ZWQKZRUUH9UQ', 105999.0, 5.0),\n",
              " ('T99ECK8OGO67', 5073156.0, 28.5),\n",
              " ('5R7VUN61M0NF', 101901.0, 28.5),\n",
              " ('8DR070DXPPGG', 1527309.0, 28.5),\n",
              " ('C9CA1FN2FHQT', 80158.0, 2.0),\n",
              " ('MSE82B23LR98', 95292.0, 2.0),\n",
              " ('VBYMW9SZVGS9', 4024576.0, 2.0),\n",
              " ('GAE74515BZQ6', 1621311.0, 6.0),\n",
              " ('2RK6Z36A33R7', 1991881.0, 2.0),\n",
              " ('0V0MYOJBT0RP', 1082586.0, 14.0),\n",
              " ('GJ5243G998Y6', 4693922.0, 2.0),\n",
              " ('RABJ77I4B7SO', 46601.0, 1.0),\n",
              " ('MHNBAN9MKXFX', 1542965.0, 10.0),\n",
              " ('GJMYLHBZHIYG', 5521314.0, 2.0),\n",
              " ('DGP6E911128K', 3050528.0, 28.5),\n",
              " ('PA1N5OJIX963', 40090.0, 1.0),\n",
              " ('7415PKLZCV2X', 67196.0, 9.0),\n",
              " ('MKWEKK1X888U', 894677.0, 1.0),\n",
              " ('3ZSJZ5F30UY1', 1889413.0, 3.0),\n",
              " ('SVHHALTTY9VA', 715001.0, 28.5),\n",
              " ('IF2MJTC18DKK', 5410132.0, 1.0),\n",
              " ('0BM4K7XA51NC', 5659518.0, 8.0),\n",
              " ('HP2Y2H5HCQZ4', 9206778.0, 1.0),\n",
              " ('CLQI2I9Z15K5', 103481.0, 1.0),\n",
              " ('TXG6KQC17UMM', 9008562.0, 1.0),\n",
              " ('RALVI6F4FPAH', 9455294.0, 1.0),\n",
              " ('2DIEX8HRV67G', 2002819.0, 10.0),\n",
              " ('GU81EVWY02UL', 7219768.0, 2.0),\n",
              " ('84A6A7TW7QH7', 4204380.0, 28.5),\n",
              " ('8XNZ37SY1HK2', 49527.0, 1.0),\n",
              " ('A3AJ2Q4JNR62', 110224.0, 28.5),\n",
              " ('VHMG1VUTLTVW', 21153.0, 3.0),\n",
              " ('2V97QIE1CP9K', 139003.0, 4.0),\n",
              " ('NAQBY1P2KG3I', 477461.0, 8.0),\n",
              " ('1YD16RGG9X0H', 2716660.0, 13.0),\n",
              " ('U7RH618O7PWS', 141085.0, 5.0),\n",
              " ('894MR28SNVMX', 2097586.0, 28.5),\n",
              " ('T005Y0632IH3', 4656112.0, 3.0),\n",
              " ('24GDA5U711YH', 478781.0, 2.0),\n",
              " ('D5CGS0YHY2AU', 15707.0, 15.0),\n",
              " ('J2451F961CMA', 1016185.0, 16.0),\n",
              " ('0S0DZ850XL47', 903051.0, 9.0),\n",
              " ('BNM3P2KD1QQX', 531106.0, 6.0),\n",
              " ('D4SZWLPOJ2PL', 14871.0, 1.0),\n",
              " ('17BHFTT5GM84', 8892164.0, 28.5),\n",
              " ('UTR0AL78HZSP', 41579.0, 3.0),\n",
              " ('61R85F428UZM', 20298.0, 5.0),\n",
              " ('9BOY7P72MOM6', 320251.0, 2.0),\n",
              " ('ZPQMHKG2826M', 1054058.0, 1.0),\n",
              " ('K6ER40UWWVPZ', 381666.0, 2.0),\n",
              " ('X6JQK1R4UQEL', 5234.0, 2.0),\n",
              " ('TNBYNN6MY0DK', 3243042.0, 7.0),\n",
              " ('ESV9O5TJH3UV', 38866.0, 1.0),\n",
              " ('EUG1BQBZHQHU', 44663.0, 11.0),\n",
              " ('7GXXNDO8T67K', 2239398.0, 14.0),\n",
              " ('3WZH5C0Y7O3V', 3523704.0, 17.0),\n",
              " ('7IE88A350ISW', 2779355.0, 1.0),\n",
              " ('D487VHKEZL09', 4127334.0, 1.0),\n",
              " ('WVUC7OBUIVNF', 3186512.0, 6.0),\n",
              " ('H3LG66B8KZYE', 2395594.0, 12.0),\n",
              " ('5D6LHJE28REO', 1487955.0, 28.5),\n",
              " ('2GDA0K6PTG89', 99932.0, 1.0),\n",
              " ('UFFUX9IUMFL3', 2820110.0, 2.0),\n",
              " ('5KCUCTQJFZ8L', 1285473.0, 7.0),\n",
              " ('XOP3MYLJA690', 102087.0, 4.0),\n",
              " ('L506GIMCBKMI', 3243612.0, 14.0),\n",
              " ('1HI9BP6VPLJM', 53429.0, 1.0),\n",
              " ('45YH6KYQL938', 1328481.0, 1.0),\n",
              " ('N2WQEKXI68D0', 1855763.0, 4.0),\n",
              " ('8ML5HG1AKUHJ', 1714431.0, 2.0),\n",
              " ('95I2M0MWNL86', 8624.0, 4.0),\n",
              " ('MBP3UWVUOA12', 40134.0, 28.5),\n",
              " ('45AEHV6LU50P', 69134.0, 12.0),\n",
              " ('HT1QHX0ANO8M', 1046396.0, 17.0),\n",
              " ('IKHZTZTM760O', 1216944.0, 28.5),\n",
              " ('U3DIPMMJ2W2U', 59712.0, 28.5),\n",
              " ('27G0A5MI62YB', 1005807.0, 2.0),\n",
              " ('CQM41T091A5D', 6078162.0, 1.0),\n",
              " ('B7DI04CEN655', 893759.0, 3.0),\n",
              " ('IOCAG6GYIMOI', 1708649.0, 1.0),\n",
              " ('7TW4AOD7T8Q4', 3184997.0, 2.0),\n",
              " ('B2R192MS2WCG', 4332796.0, 3.0),\n",
              " ('L73F3GGMVQT9', 323671.0, 1.0),\n",
              " ('O28QGX36E43Q', 2145736.0, 1.0),\n",
              " ('70ZLLRMMD3VG', 116086.0, 2.0),\n",
              " ('TJBYWGVO39TT', 1106920.0, 1.0),\n",
              " ('KYLBMSURAG1R', 740601.0, 28.5),\n",
              " ('5OIMJSNPR7OL', 429691.0, 10.0),\n",
              " ('ZR6F3FRY1UCL', 106506.0, 10.0),\n",
              " ('PWGZWJU9AYBR', 10020264.0, 3.0),\n",
              " ('G41SJE1PWURK', 37761.0, 28.5),\n",
              " ('MZ9FY1LAIX4E', 45058.0, 1.0),\n",
              " ('H9X2B1YHA9YA', 989615.0, 2.0),\n",
              " ('JV2T9WDRDDDU', 349251.0, 8.0),\n",
              " ('25SBQ778VSSK', 1400234.0, 7.0),\n",
              " ('RDDUQBF4L4CK', 1357046.0, 1.0),\n",
              " ('B498J9ABVSI4', 1776301.0, 28.5),\n",
              " ('Z3ZY2YOB2O0U', 45229.0, 1.0),\n",
              " ('TXQ5RX3Q7DZY', 43127.0, 12.0),\n",
              " ('IEE5WZKF32FR', 5015898.0, 18.0),\n",
              " ('336FH47PD4RC', 57368.0, 28.5),\n",
              " ('7O99EQG6B646', 2196326.0, 3.0),\n",
              " ('H0ODLBHDQ5K5', 49750.0, 28.5),\n",
              " ('Q4NZ5MM3OO1O', 2467696.0, 3.0),\n",
              " ('LQ18A52WTAB7', 99516.0, 13.0),\n",
              " ('BAZUM74R2RLR', 5861802.0, 4.0),\n",
              " ('UFU6KC70TWFV', 34807.0, 1.0),\n",
              " ('OOB4URLOUL9F', 2226228.0, 3.0),\n",
              " ('I77MRCWRT0LX', 82426.0, 1.0),\n",
              " ('7UPU6OS95ZCF', 100623.0, 28.5),\n",
              " ('CE7K69F2J3E6', 1724779.0, 9.0),\n",
              " ('2HO7NXU6WUM7', 2128208.0, 17.0),\n",
              " ('BQ0DM57Q5Y6A', 107638.0, 7.0),\n",
              " ('I9OJL64VFUER', 1982135.0, 2.0),\n",
              " ('OJE2HFC7MG5R', 147471.0, 1.0),\n",
              " ('D1Y6BXWMEVC5', 1810457.0, 1.0),\n",
              " ('8U9FRUOVBQIF', 1042070.0, 1.0),\n",
              " ('3Z9XSS8WR66Z', 1817159.0, 1.0),\n",
              " ('DBXDW9I4R7HG', 2077872.0, 18.0),\n",
              " ('2T01MUCDFHH2', 3969254.0, 1.0),\n",
              " ('T14BXLXQCP5W', 3144968.0, 28.5),\n",
              " ('C89MFQKQPUBB', 158527.0, 1.0),\n",
              " ('J64V82QQRDRD', 2216738.0, 3.0),\n",
              " ('TO7M1Y3NK355', 1119376.0, 2.0),\n",
              " ('660LJM36Y53K', 1185878.0, 5.0),\n",
              " ('089OFXUW49MB', 6526.0, 3.0),\n",
              " ('DV7G740DHLEQ', 947741.0, 1.0),\n",
              " ('Q4SWN3A5GR99', 470986.0, 28.5),\n",
              " ('JH0D0J272IIQ', 45468.0, 1.0),\n",
              " ('8U2MH3ASXU4M', 5116706.0, 28.5),\n",
              " ('MNSHII4Q7U4U', 23175.0, 13.0),\n",
              " ('PFKCGJTSZKWQ', 47394.0, 17.0),\n",
              " ('9Y1F9C3HP9WV', 104731.0, 17.0),\n",
              " ('8GMZ3W17FST1', 2839875.0, 1.0),\n",
              " ('439G9TBQW8PI', 132237.0, 1.0),\n",
              " ('C53YOJBBQUPX', 2790960.0, 14.0),\n",
              " ('94VOY4GALG68', 6016004.0, 2.0),\n",
              " ('8AASOAEG8O1I', 1073846.0, 1.0),\n",
              " ('29GJ54P75U4Q', 2195914.0, 3.0),\n",
              " ('QS9RPUM9510D', 14870.0, 28.5),\n",
              " ('GTTB5UQ4D1H4', 3515296.0, 28.5),\n",
              " ('O14R4LYYEP3A', 3058538.0, 1.0),\n",
              " ('I8A9GQ8H6J3T', 1044420.0, 2.0),\n",
              " ('1C7ZXA56WK3X', 6257506.0, 1.0),\n",
              " ('B1X6ZNSPF64X', 4163966.0, 1.0),\n",
              " ('CH0R1Y373OWU', 3968584.0, 1.0),\n",
              " ('7C3VIPB585P4', 2083932.0, 13.0),\n",
              " ('BJI1E6CFN6BP', 7152374.0, 1.0),\n",
              " ('8OG5EGQNHWMD', 2031715.0, 28.5),\n",
              " ('AGUWLTDXAK91', 2746846.0, 12.0),\n",
              " ('S950XIXUKWFP', 9200412.0, 3.0),\n",
              " ('XNZGV22R7E7W', 2565311.0, 2.0),\n",
              " ('XVLI0M77M0QX', 1215376.0, 1.0),\n",
              " ('XA40K4R8133Q', 2675776.0, 28.5),\n",
              " ('2E1471JP2DGM', 7878660.0, 1.0),\n",
              " ('FX0AR9IZYLCQ', 8640.0, 1.0),\n",
              " ('P4XXSARLN3SG', 1590585.0, 1.0),\n",
              " ('VDKD676P477I', 7309972.0, 3.0),\n",
              " ('U147E67JC6TM', 103455.0, 2.0),\n",
              " ('3UPGD50AHDLZ', 46952.0, 28.5),\n",
              " ('4XUI19B6A1F3', 165512.0, 2.0),\n",
              " ('99O6UP5JLNC2', 478646.0, 2.0),\n",
              " ('CJ8WLQ5JJWD6', 928883.0, 13.0),\n",
              " ('8Y1ZJ0Q0EH3X', 14785.0, 16.0),\n",
              " ('C9I8OVZA0340', 2834730.0, 1.0),\n",
              " ('3ODNTCAI9NY4', 7310290.0, 5.0),\n",
              " ('ZGE6F0N8EV4V', 8421674.0, 1.0),\n",
              " ('8HQRZHN0XVMH', 10628408.0, 28.5),\n",
              " ('5IG4ZQZ6RJNG', 5671.0, 3.0),\n",
              " ('Z0SEGT8LT938', 46756.0, 1.0),\n",
              " ('4KKKF7X7KG7G', 1110093.0, 1.0),\n",
              " ('12G07A7UISIJ', 102961.0, 1.0),\n",
              " ('PC6CLK7QXPPO', 11910.0, 28.5),\n",
              " ('QY744UDN5FND', 1270881.0, 18.0),\n",
              " ('UNK2GTM2HV0C', 30845.0, 8.0),\n",
              " ('5HIY9N9QQ5XP', 105209.0, 1.0),\n",
              " ('BJP47UH7OZE9', 9860212.0, 1.0),\n",
              " ('5S12MEBMWIG3', 2437309.0, 2.0),\n",
              " ('RPX29IT1WMOM', 1394424.0, 3.0),\n",
              " ('RGA4KQUP1TAC', 12195.0, 28.5),\n",
              " ('LVZEWPOK15IW', 40408.0, 18.0),\n",
              " ('9MMEE0SCBO46', 1344503.0, 2.0),\n",
              " ('EM2YDY00JCTO', 633541.0, 1.0),\n",
              " ('3MFKC8J9WSWK', 3112332.0, 17.0),\n",
              " ('B6ELC3W9XZZU', 99424.0, 1.0),\n",
              " ('E977NL64O176', 66929.0, 15.0),\n",
              " ('M3CZG6UXN3KO', 1757435.0, 28.5),\n",
              " ('Z93RX43VZWSC', 2419156.0, 2.0),\n",
              " ('P4RQD6SCGVDG', 220596.0, 1.0),\n",
              " ('R6X9XI0R8143', 155240.0, 28.5),\n",
              " ('HHK3JMGW0I34', 385381.0, 1.0),\n",
              " ('Y4AEJL64KPVY', 6018.0, 1.0),\n",
              " ('1O5U1NG492FE', 107601.0, 1.0),\n",
              " ('4KRY951TKTNV', 5200182.0, 5.0),\n",
              " ('C9WE2EPO8TUO', 513191.0, 28.5),\n",
              " ('DQ5VU41137IB', 3747780.0, 10.0),\n",
              " ('PM1NUFM1LLVG', 3932274.0, 1.0),\n",
              " ('2AU1BFDCNWE7', 8160472.0, 2.0),\n",
              " ('5J9KYNF7B279', 4862230.0, 1.0),\n",
              " ('TZ39D7E55R7C', 2213158.0, 1.0),\n",
              " ('0GYA5R36GDQS', 7382336.0, 1.0),\n",
              " ('9TOB6OI518U8', 8118.0, 2.0),\n",
              " ('6H78007BF911', 3192963.0, 3.0),\n",
              " ('BWB3ZI5FAMN2', 387626.0, 15.0),\n",
              " ('UZF5DJHBGZ19', 47467.0, 28.5),\n",
              " ('6MA3SL6Q76T5', 3152662.0, 1.0),\n",
              " ('2BDSV24147F2', 8011254.0, 2.0),\n",
              " ('ECQ08UTH1DDJ', 9365862.0, 1.0),\n",
              " ('RT4BG5167D28', 10525054.0, 1.0),\n",
              " ('DF66I38UFW9B', 6623912.0, 16.0),\n",
              " ('G3507X4Y8ZFH', 72225.0, 4.0),\n",
              " ('S42PPJ2DVO4L', 494476.0, 1.0),\n",
              " ('Z4690UKZ6VB9', 64546.0, 28.5),\n",
              " ('3C4YZJU2Q4E0', 5703798.0, 1.0),\n",
              " ('F21U1G0WH4F0', 34750.0, 1.0),\n",
              " ('R62LS1B7HZBQ', 21077.0, 11.0),\n",
              " ('45E1KN3PNTYL', 50025.0, 1.0),\n",
              " ('HV3D8OCR963V', 2941080.0, 5.0),\n",
              " ('MGS94X0I7H47', 103473.0, 2.0),\n",
              " ('GFW5I4526GGS', 1519015.0, 1.0),\n",
              " ('1T0QNHJ1WN85', 2217050.0, 1.0),\n",
              " ('VF09S6XQADYR', 157566.0, 1.0),\n",
              " ('BPG7IYD5PEKY', 55037.0, 2.0),\n",
              " ('HXCJ0VKOFMHA', 40295.0, 1.0),\n",
              " ('DVJAI229WZQ1', 3881612.0, 14.0),\n",
              " ('A4PJP2NPLDA0', 41280.0, 10.0),\n",
              " ('U55JCQA1DI89', 322306.0, 1.0),\n",
              " ('VT1B2GQDHX8E', 2717814.0, 28.5),\n",
              " ('24D4P7P0RYQT', 12103.0, 2.0),\n",
              " ('9OT5FO1ZRG64', 8459408.0, 1.0),\n",
              " ('X5J1GSICOW7Y', 3843794.0, 1.0),\n",
              " ('ZIH0NJYSB3G6', 335196.0, 1.0),\n",
              " ('J8GA0129HEO0', 100014.0, 28.5),\n",
              " ('Q77GHE0V4KEO', 7090524.0, 15.0),\n",
              " ('VXK8ODOXJO7T', 834471.0, 2.0),\n",
              " ('M05ZEISY07SB', 804296.0, 1.0),\n",
              " ('VMVVUM66MOMR', 47563.0, 13.0),\n",
              " ('8HE6DM98VSYN', 2848836.0, 8.0),\n",
              " ('TJTJFG9BOOVM', 83911.0, 1.0),\n",
              " ('4W4M6XI4KOM8', 8473608.0, 1.0),\n",
              " ('3KM16MWIN16D', 2306748.0, 2.0),\n",
              " ('389PJ7ZS5AXU', 152111.0, 28.5),\n",
              " ('LUL7N4K8OJK7', 57402.0, 28.5),\n",
              " ('PE4H8BQK03V7', 2891312.0, 28.5),\n",
              " ('MF9C2XTQGE37', 5522156.0, 1.0),\n",
              " ('BZ6CM8CK4LZ7', 3134528.0, 1.0),\n",
              " ('P6U0I3A54D0J', 368336.0, 28.5),\n",
              " ('6ECAN50M4XV0', 4754962.0, 1.0),\n",
              " ('QVA24YX0TZK9', 85801.0, 1.0),\n",
              " ('C0WW0KGNFY8H', 6774892.0, 1.0),\n",
              " ('6OQ9TH3O30GU', 2570220.0, 1.0),\n",
              " ('8V0WYP2F3ZAF', 5066512.0, 28.5),\n",
              " ('2OQP1A50DOHC', 857741.0, 1.0),\n",
              " ('PTUXEMAGMZB6', 5174478.0, 16.0),\n",
              " ('1N3N8M4U5D19', 1328247.0, 7.0),\n",
              " ('I9EQ1KC60VRU', 432021.0, 28.5),\n",
              " ('T41UJAHDRC6U', 1719357.0, 10.0),\n",
              " ('SRUV2WWKZ4K3', 1814013.0, 28.5),\n",
              " ('71B4AW9M03BC', 7825516.0, 1.0),\n",
              " ('Q46K4RJHTQFR', 4596922.0, 28.5),\n",
              " ('D6DLCDR473AJ', 9317340.0, 4.0),\n",
              " ('JTON1A55MK3V', 7161302.0, 1.0),\n",
              " ('9IX5ZDR4ILCT', 3823104.0, 1.0),\n",
              " ('HBE70P6AA2ZO', 2940310.0, 2.0),\n",
              " ('T5PMNHNROHP5', 4487166.0, 1.0),\n",
              " ('9M2U4KM6RH11', 2615140.0, 1.0),\n",
              " ('AP8DYZPRYP3R', 667201.0, 1.0),\n",
              " ('95173NLY1Q66', 348826.0, 1.0),\n",
              " ('L6PB0FS9KUCH', 115332.0, 2.0),\n",
              " ('7K4LXCHH3665', 103497.0, 1.0),\n",
              " ('8C8IHEJCA3CK', 5974318.0, 2.0),\n",
              " ('08JHE5BTEOOR', 4440118.0, 12.0),\n",
              " ('MLDMFN6OM9EV', 34429.0, 7.0),\n",
              " ('V5JK17FG4575', 10610638.0, 1.0),\n",
              " ('U0PYITUHWAO5', 6806560.0, 28.5),\n",
              " ('L2Y1J463AS05', 1946779.0, 28.5),\n",
              " ('SI5LMJ23Z9XC', 1120925.0, 28.5),\n",
              " ('NXJVJFJ9H36O', 321771.0, 3.0),\n",
              " ('O98TWRIMWXE8', 5088010.0, 1.0),\n",
              " ('PII1U462NVXJ', 2812734.0, 1.0),\n",
              " ('U3JU49RS1J5Y', 1882827.0, 1.0),\n",
              " ('8AJ1WLVGK22O', 1711845.0, 2.0),\n",
              " ('ICB841D063NQ', 1701833.0, 12.0),\n",
              " ('5U78SSHLJKKP', 82901.0, 1.0),\n",
              " ('OY4962Z6NEV9', 2030147.0, 28.5),\n",
              " ('RQVW9D5EYQ99', 5639328.0, 1.0),\n",
              " ('HL7OHN5MYNTM', 42662.0, 28.5),\n",
              " ('HEBVGYH5GIK6', 6171602.0, 14.0),\n",
              " ('53R325O2TCS3', 3076034.0, 1.0),\n",
              " ('B1YILYH2WFC2', 76141.0, 1.0),\n",
              " ('PR5YPHS7OF01', 2991512.0, 12.0),\n",
              " ('5CXQA3NVT918', 2795881.0, 1.0),\n",
              " ('2QFVRRFAGFC1', 7171360.0, 1.0),\n",
              " ('CYUL08RWE6A8', 151815.0, 3.0),\n",
              " ('4HQT3HZYVHV3', 1244593.0, 28.5),\n",
              " ('R0ZRCO7MR25A', 1481677.0, 1.0),\n",
              " ('EK81QBNNBKM7', 54656.0, 1.0),\n",
              " ('JWK8S1V7CHGL', 57405.0, 28.5),\n",
              " ('7TX827FOQ00A', 55061.0, 28.5),\n",
              " ('PB903Y9A651X', 149239.0, 3.0),\n",
              " ('ME79G2K9MQ8A', 396571.0, 1.0),\n",
              " ('Z59CD38G2AOF', 2318100.0, 2.0),\n",
              " ('6UTZCBQB7J0C', 508196.0, 5.0),\n",
              " ('ML6C1HN5J81L', 9072506.0, 1.0),\n",
              " ('FV4QM0WQL7BA', 66756.0, 1.0),\n",
              " ('Y09SRRF21213', 4460946.0, 1.0),\n",
              " ('KZABTPKLZE5G', 1501173.0, 28.5),\n",
              " ('4M1K39S72WA0', 2362550.0, 13.0),\n",
              " ('H1LU33GWU95D', 5071424.0, 16.0),\n",
              " ('FH8VPKW3NZ4E', 6608.0, 2.0),\n",
              " ('VZ9PT64GTOEV', 8514328.0, 28.5),\n",
              " ('CRKQ66Y2GW6R', 49685.0, 1.0),\n",
              " ('3HZUP8BCSB4J', 73041.0, 3.0),\n",
              " ('OL06D83Z3XB1', 2123814.0, 1.0),\n",
              " ('YSPD7T26NF8X', 9227470.0, 3.0),\n",
              " ('3Q6EGEX11LVE', 132653.0, 3.0),\n",
              " ('Z0B9KBJDFW45', 4261288.0, 1.0),\n",
              " ('JTYT084LXG39', 967509.0, 28.5),\n",
              " ('78H391934J4C', 2416930.0, 2.0),\n",
              " ('Y62F0WL5F8C0', 16895.0, 1.0),\n",
              " ('S1M985B1U5GT', 2941930.0, 5.0),\n",
              " ('JNMRQC6JQL0K', 1361654.0, 14.0),\n",
              " ('B6NW089NXP51', 9459940.0, 1.0),\n",
              " ('VED8G7GEN01M', 5784.0, 18.0),\n",
              " ('D09LNFNVC5A2', 7997464.0, 8.0),\n",
              " ('9G5M6DJ67GL0', 151195.0, 1.0),\n",
              " ('4S00Z1WDV15F', 48883.0, 1.0),\n",
              " ('JAC2PPP3WFXF', 1107508.0, 1.0),\n",
              " ('ABA7ZLRWZ9PM', 42330.0, 4.0),\n",
              " ('8AMPU0LLFP69', 6471792.0, 1.0),\n",
              " ('CL9Y0YN49OWW', 2044165.0, 1.0),\n",
              " ('OL0X5OAA5V7P', 943555.0, 3.0),\n",
              " ('RPU9DBEVXHS1', 757536.0, 1.0),\n",
              " ('EMQZHUN6Y5QM', 49928.0, 2.0),\n",
              " ('IHD84B713DG2', 3748456.0, 1.0),\n",
              " ('BVYCZCGUKBCB', 12087.0, 3.0),\n",
              " ('73KHFDJY9PSZ', 8343796.0, 5.0),\n",
              " ('VKRI6IK2TFRI', 29952.0, 1.0),\n",
              " ('246293OGRBN8', 1982107.0, 1.0),\n",
              " ('P2ZBQUWZACQ2', 46500.0, 1.0),\n",
              " ('LD1WZIDT1QOI', 20284.0, 10.0),\n",
              " ('YNBB30PUIAEZ', 5865974.0, 1.0),\n",
              " ('9XNT7T860A67', 4357504.0, 1.0),\n",
              " ('LLLC199PJB1P', 84025.0, 2.0),\n",
              " ('XPUQ6SYQFVES', 8643.0, 2.0),\n",
              " ('N9YON7HND3BS', 5536.0, 2.0),\n",
              " ('6NZKODC4YKD3', 104767.0, 28.5),\n",
              " ('0N5CIQTCYC43', 1722517.0, 1.0),\n",
              " ('7O0DHI0KG9H6', 3134774.0, 1.0),\n",
              " ('D03YQD34XO9K', 65491.0, 16.0),\n",
              " ('6682LAKWS9J6', 37790.0, 1.0),\n",
              " ('9JV5CPV3UIW4', 2198200.0, 8.0),\n",
              " ('2Q2Y68MGHW8W', 2730030.0, 8.0),\n",
              " ('6TACQ76EV61O', 2380472.0, 3.0),\n",
              " ('4K8NL420X5SR', 2297952.0, 5.0),\n",
              " ('997ANUVOTQAP', 9146740.0, 1.0),\n",
              " ('44U51RYT4SBH', 633296.0, 1.0),\n",
              " ('IW99O1DWBBG5', 4366978.0, 3.0),\n",
              " ('22R0VZD6C7QI', 1750769.0, 9.0),\n",
              " ('963VH8LQQJ2P', 8321.0, 1.0),\n",
              " ('542DC3AOAWRL', 1355136.0, 13.0),\n",
              " ('4LDMSVFQICOK', 6914396.0, 8.0),\n",
              " ('9C5THRCXL1AU', 1835319.0, 28.5),\n",
              " ('S6CKTA833NTP', 5081814.0, 2.0),\n",
              " ('3FXNUZ80NX9H', 684641.0, 28.5),\n",
              " ('SDHHKIME0RM5', 126808.0, 28.5),\n",
              " ('5898JHV94N5Y', 2829721.0, 3.0),\n",
              " ('9K2R3F9HATAE', 1023079.0, 2.0),\n",
              " ('VCWLBPL7UF8D', 2150466.0, 28.5),\n",
              " ('V78AO43TZ7LX', 104539.0, 1.0),\n",
              " ('SA58Q3WKJ0I0', 7171192.0, 13.0),\n",
              " ('ZCRT551ATFSP', 8969690.0, 28.5),\n",
              " ('V5TS1S4GF3OA', 1331240.0, 1.0),\n",
              " ('1NP4RZCVGI08', 56485.0, 28.5),\n",
              " ('OJ7U1IFQXBN7', 8989982.0, 1.0),\n",
              " ('9312RDJJYX0G', 740596.0, 28.5),\n",
              " ('6FMK83UQ9H6K', 5762432.0, 1.0),\n",
              " ('48QEL96AH721', 6930142.0, 1.0),\n",
              " ('7TA0ULC3DKL2', 4015006.0, 28.5),\n",
              " ('XBF7L3AH517Y', 8512252.0, 13.0),\n",
              " ('WYQJZO5TTDXW', 8422.0, 3.0),\n",
              " ...]"
            ]
          },
          "metadata": {
            "tags": []
          },
          "execution_count": 35
        }
      ]
    },
    {
      "cell_type": "code",
      "metadata": {
        "id": "0nuU_40CpIXk",
        "colab_type": "code",
        "colab": {}
      },
      "source": [
        "def get_Iu(uid) :\n",
        "  try :\n",
        "    return len(trainset.ur[trainset.to_inner_uid(uid)])\n",
        "  except ValueError :\n",
        "    return 0\n",
        "  \n",
        "def get_Ui(iid) :\n",
        "  try :\n",
        "    return len(trainset.ir[trainset.to_inner_iid(iid)])\n",
        "  except ValueError :\n",
        "    return 0"
      ],
      "execution_count": 0,
      "outputs": []
    },
    {
      "cell_type": "code",
      "metadata": {
        "id": "lNwvKD8wpt4C",
        "colab_type": "code",
        "colab": {}
      },
      "source": [
        "df = pd.DataFrame(pred, columns = ['uid','iid','rui','est','details'])\n",
        "df['Iu'] = df.uid.apply(get_Iu)\n",
        "df['Ui'] = df.iid.apply(get_Ui)\n",
        "df['err'] = abs(df.est - df.rui)"
      ],
      "execution_count": 0,
      "outputs": []
    },
    {
      "cell_type": "code",
      "metadata": {
        "id": "j7SvnSS0p-Ov",
        "colab_type": "code",
        "outputId": "25d5eb44-27e5-4672-dd28-22a212b22f3b",
        "colab": {
          "base_uri": "https://localhost:8080/",
          "height": 34
        }
      },
      "source": [
        "df.shape"
      ],
      "execution_count": 0,
      "outputs": [
        {
          "output_type": "execute_result",
          "data": {
            "text/plain": [
              "(399821, 8)"
            ]
          },
          "metadata": {
            "tags": []
          },
          "execution_count": 21
        }
      ]
    },
    {
      "cell_type": "code",
      "metadata": {
        "id": "DtJNcKUmqEtC",
        "colab_type": "code",
        "outputId": "74b9a4e6-7074-4fdc-8221-392f5bc5cd4c",
        "colab": {
          "base_uri": "https://localhost:8080/",
          "height": 196
        }
      },
      "source": [
        "df.sort_values(by = 'err', inplace = True)\n",
        "df.head()"
      ],
      "execution_count": 0,
      "outputs": [
        {
          "output_type": "execute_result",
          "data": {
            "text/html": [
              "<div>\n",
              "<style scoped>\n",
              "    .dataframe tbody tr th:only-of-type {\n",
              "        vertical-align: middle;\n",
              "    }\n",
              "\n",
              "    .dataframe tbody tr th {\n",
              "        vertical-align: top;\n",
              "    }\n",
              "\n",
              "    .dataframe thead th {\n",
              "        text-align: right;\n",
              "    }\n",
              "</style>\n",
              "<table border=\"1\" class=\"dataframe\">\n",
              "  <thead>\n",
              "    <tr style=\"text-align: right;\">\n",
              "      <th></th>\n",
              "      <th>uid</th>\n",
              "      <th>iid</th>\n",
              "      <th>rui</th>\n",
              "      <th>est</th>\n",
              "      <th>details</th>\n",
              "      <th>Iu</th>\n",
              "      <th>Ui</th>\n",
              "      <th>err</th>\n",
              "    </tr>\n",
              "  </thead>\n",
              "  <tbody>\n",
              "    <tr>\n",
              "      <th>228650</th>\n",
              "      <td>16P4IKHQOFH9</td>\n",
              "      <td>49533.0</td>\n",
              "      <td>2.0</td>\n",
              "      <td>2.0</td>\n",
              "      <td>{'was_impossible': False}</td>\n",
              "      <td>43</td>\n",
              "      <td>26</td>\n",
              "      <td>0.0</td>\n",
              "    </tr>\n",
              "    <tr>\n",
              "      <th>208356</th>\n",
              "      <td>UOXKVF8WID52</td>\n",
              "      <td>9764036.0</td>\n",
              "      <td>2.0</td>\n",
              "      <td>2.0</td>\n",
              "      <td>{'was_impossible': False}</td>\n",
              "      <td>7</td>\n",
              "      <td>56</td>\n",
              "      <td>0.0</td>\n",
              "    </tr>\n",
              "    <tr>\n",
              "      <th>8086</th>\n",
              "      <td>M0CRX7B4YN93</td>\n",
              "      <td>4949748.0</td>\n",
              "      <td>2.0</td>\n",
              "      <td>2.0</td>\n",
              "      <td>{'was_impossible': False}</td>\n",
              "      <td>1</td>\n",
              "      <td>77</td>\n",
              "      <td>0.0</td>\n",
              "    </tr>\n",
              "    <tr>\n",
              "      <th>50483</th>\n",
              "      <td>O0KGLPMF98Q8</td>\n",
              "      <td>1460411.0</td>\n",
              "      <td>2.0</td>\n",
              "      <td>2.0</td>\n",
              "      <td>{'was_impossible': False}</td>\n",
              "      <td>33</td>\n",
              "      <td>16</td>\n",
              "      <td>0.0</td>\n",
              "    </tr>\n",
              "    <tr>\n",
              "      <th>202672</th>\n",
              "      <td>50YD0I82D9QO</td>\n",
              "      <td>3992988.0</td>\n",
              "      <td>2.0</td>\n",
              "      <td>2.0</td>\n",
              "      <td>{'was_impossible': False}</td>\n",
              "      <td>2</td>\n",
              "      <td>22</td>\n",
              "      <td>0.0</td>\n",
              "    </tr>\n",
              "  </tbody>\n",
              "</table>\n",
              "</div>"
            ],
            "text/plain": [
              "                 uid        iid  rui  ...  Iu  Ui  err\n",
              "228650  16P4IKHQOFH9    49533.0  2.0  ...  43  26  0.0\n",
              "208356  UOXKVF8WID52  9764036.0  2.0  ...   7  56  0.0\n",
              "8086    M0CRX7B4YN93  4949748.0  2.0  ...   1  77  0.0\n",
              "50483   O0KGLPMF98Q8  1460411.0  2.0  ...  33  16  0.0\n",
              "202672  50YD0I82D9QO  3992988.0  2.0  ...   2  22  0.0\n",
              "\n",
              "[5 rows x 8 columns]"
            ]
          },
          "metadata": {
            "tags": []
          },
          "execution_count": 25
        }
      ]
    },
    {
      "cell_type": "code",
      "metadata": {
        "id": "4cPbxRjsq4l1",
        "colab_type": "code",
        "outputId": "5c86a2ed-f607-40aa-ca3e-ae4686a82920",
        "colab": {
          "base_uri": "https://localhost:8080/",
          "height": 345
        }
      },
      "source": [
        "df.tail(10)"
      ],
      "execution_count": 0,
      "outputs": [
        {
          "output_type": "execute_result",
          "data": {
            "text/html": [
              "<div>\n",
              "<style scoped>\n",
              "    .dataframe tbody tr th:only-of-type {\n",
              "        vertical-align: middle;\n",
              "    }\n",
              "\n",
              "    .dataframe tbody tr th {\n",
              "        vertical-align: top;\n",
              "    }\n",
              "\n",
              "    .dataframe thead th {\n",
              "        text-align: right;\n",
              "    }\n",
              "</style>\n",
              "<table border=\"1\" class=\"dataframe\">\n",
              "  <thead>\n",
              "    <tr style=\"text-align: right;\">\n",
              "      <th></th>\n",
              "      <th>uid</th>\n",
              "      <th>iid</th>\n",
              "      <th>rui</th>\n",
              "      <th>est</th>\n",
              "      <th>details</th>\n",
              "      <th>Iu</th>\n",
              "      <th>Ui</th>\n",
              "      <th>err</th>\n",
              "    </tr>\n",
              "  </thead>\n",
              "  <tbody>\n",
              "    <tr>\n",
              "      <th>213281</th>\n",
              "      <td>LB7W0UXL76OP</td>\n",
              "      <td>1244912.0</td>\n",
              "      <td>28.5</td>\n",
              "      <td>2.024048</td>\n",
              "      <td>{'was_impossible': False}</td>\n",
              "      <td>2</td>\n",
              "      <td>84</td>\n",
              "      <td>26.475952</td>\n",
              "    </tr>\n",
              "    <tr>\n",
              "      <th>154033</th>\n",
              "      <td>06DNN6G3DH9Q</td>\n",
              "      <td>342731.0</td>\n",
              "      <td>28.5</td>\n",
              "      <td>2.000000</td>\n",
              "      <td>{'was_impossible': False}</td>\n",
              "      <td>2</td>\n",
              "      <td>36</td>\n",
              "      <td>26.500000</td>\n",
              "    </tr>\n",
              "    <tr>\n",
              "      <th>341526</th>\n",
              "      <td>99CKCFZ3H69W</td>\n",
              "      <td>478491.0</td>\n",
              "      <td>28.5</td>\n",
              "      <td>2.000000</td>\n",
              "      <td>{'was_impossible': False}</td>\n",
              "      <td>12</td>\n",
              "      <td>8</td>\n",
              "      <td>26.500000</td>\n",
              "    </tr>\n",
              "    <tr>\n",
              "      <th>137008</th>\n",
              "      <td>737CBO2FXH5O</td>\n",
              "      <td>5737714.0</td>\n",
              "      <td>28.5</td>\n",
              "      <td>2.000000</td>\n",
              "      <td>{'was_impossible': False}</td>\n",
              "      <td>12</td>\n",
              "      <td>5</td>\n",
              "      <td>26.500000</td>\n",
              "    </tr>\n",
              "    <tr>\n",
              "      <th>73519</th>\n",
              "      <td>X3D1A9DUJXBJ</td>\n",
              "      <td>99422.0</td>\n",
              "      <td>28.5</td>\n",
              "      <td>2.000000</td>\n",
              "      <td>{'was_impossible': False}</td>\n",
              "      <td>11</td>\n",
              "      <td>19</td>\n",
              "      <td>26.500000</td>\n",
              "    </tr>\n",
              "    <tr>\n",
              "      <th>258898</th>\n",
              "      <td>3RODJWVUCFKZ</td>\n",
              "      <td>10487598.0</td>\n",
              "      <td>28.5</td>\n",
              "      <td>2.000000</td>\n",
              "      <td>{'was_impossible': False}</td>\n",
              "      <td>17</td>\n",
              "      <td>5</td>\n",
              "      <td>26.500000</td>\n",
              "    </tr>\n",
              "    <tr>\n",
              "      <th>182853</th>\n",
              "      <td>PHN9Z4X90VND</td>\n",
              "      <td>2156040.0</td>\n",
              "      <td>28.5</td>\n",
              "      <td>2.000000</td>\n",
              "      <td>{'was_impossible': False}</td>\n",
              "      <td>11</td>\n",
              "      <td>6</td>\n",
              "      <td>26.500000</td>\n",
              "    </tr>\n",
              "    <tr>\n",
              "      <th>127441</th>\n",
              "      <td>C2HIHX3P77D6</td>\n",
              "      <td>149591.0</td>\n",
              "      <td>28.5</td>\n",
              "      <td>2.000000</td>\n",
              "      <td>{'was_impossible': False}</td>\n",
              "      <td>119</td>\n",
              "      <td>22</td>\n",
              "      <td>26.500000</td>\n",
              "    </tr>\n",
              "    <tr>\n",
              "      <th>106925</th>\n",
              "      <td>YKNINOH9QI3U</td>\n",
              "      <td>61700.0</td>\n",
              "      <td>28.5</td>\n",
              "      <td>2.000000</td>\n",
              "      <td>{'was_impossible': False}</td>\n",
              "      <td>29</td>\n",
              "      <td>153</td>\n",
              "      <td>26.500000</td>\n",
              "    </tr>\n",
              "    <tr>\n",
              "      <th>117147</th>\n",
              "      <td>OVZDADERPF8D</td>\n",
              "      <td>10357418.0</td>\n",
              "      <td>28.5</td>\n",
              "      <td>2.000000</td>\n",
              "      <td>{'was_impossible': False}</td>\n",
              "      <td>16</td>\n",
              "      <td>5</td>\n",
              "      <td>26.500000</td>\n",
              "    </tr>\n",
              "  </tbody>\n",
              "</table>\n",
              "</div>"
            ],
            "text/plain": [
              "                 uid         iid   rui  ...   Iu   Ui        err\n",
              "213281  LB7W0UXL76OP   1244912.0  28.5  ...    2   84  26.475952\n",
              "154033  06DNN6G3DH9Q    342731.0  28.5  ...    2   36  26.500000\n",
              "341526  99CKCFZ3H69W    478491.0  28.5  ...   12    8  26.500000\n",
              "137008  737CBO2FXH5O   5737714.0  28.5  ...   12    5  26.500000\n",
              "73519   X3D1A9DUJXBJ     99422.0  28.5  ...   11   19  26.500000\n",
              "258898  3RODJWVUCFKZ  10487598.0  28.5  ...   17    5  26.500000\n",
              "182853  PHN9Z4X90VND   2156040.0  28.5  ...   11    6  26.500000\n",
              "127441  C2HIHX3P77D6    149591.0  28.5  ...  119   22  26.500000\n",
              "106925  YKNINOH9QI3U     61700.0  28.5  ...   29  153  26.500000\n",
              "117147  OVZDADERPF8D  10357418.0  28.5  ...   16    5  26.500000\n",
              "\n",
              "[10 rows x 8 columns]"
            ]
          },
          "metadata": {
            "tags": []
          },
          "execution_count": 31
        }
      ]
    },
    {
      "cell_type": "code",
      "metadata": {
        "id": "gdyXK4S7xWZQ",
        "colab_type": "code",
        "colab": {}
      },
      "source": [
        "import matplotlib.pyplot as plt"
      ],
      "execution_count": 0,
      "outputs": []
    },
    {
      "cell_type": "code",
      "metadata": {
        "id": "kB5-XcPSxP1D",
        "colab_type": "code",
        "outputId": "dc7dae17-7017-4589-a34b-b1483255030e",
        "colab": {
          "base_uri": "https://localhost:8080/",
          "height": 286
        }
      },
      "source": [
        "plt.scatter(df.rui, df.est)"
      ],
      "execution_count": 0,
      "outputs": [
        {
          "output_type": "execute_result",
          "data": {
            "text/plain": [
              "<matplotlib.collections.PathCollection at 0x7f22cdeb9208>"
            ]
          },
          "metadata": {
            "tags": []
          },
          "execution_count": 39
        },
        {
          "output_type": "display_data",
          "data": {
            "image/png": "[encoded data removed]",
            "text/plain": [
              "<Figure size 432x288 with 1 Axes>"
            ]
          },
          "metadata": {
            "tags": []
          }
        }
      ]
    },
    {
      "cell_type": "code",
      "metadata": {
        "id": "43VwK-x4xMfM",
        "colab_type": "code",
        "outputId": "72e290f6-6b73-4ecb-8a98-760903ce0276",
        "colab": {
          "base_uri": "https://localhost:8080/",
          "height": 286
        }
      },
      "source": [
        "df.err.hist()"
      ],
      "execution_count": 0,
      "outputs": [
        {
          "output_type": "execute_result",
          "data": {
            "text/plain": [
              "<matplotlib.axes._subplots.AxesSubplot at 0x7f22cdf907b8>"
            ]
          },
          "metadata": {
            "tags": []
          },
          "execution_count": 36
        },
        {
          "output_type": "display_data",
          "data": {
            "image/png": "[encoded data removed]",
            "text/plain": [
              "<Figure size 432x288 with 1 Axes>"
            ]
          },
          "metadata": {
            "tags": []
          }
        }
      ]
    },
    {
      "cell_type": "code",
      "metadata": {
        "id": "rywYDvK0v8-8",
        "colab_type": "code",
        "outputId": "0fc2514a-cd33-44ea-9b04-4c97e539ca2b",
        "colab": {
          "base_uri": "https://localhost:8080/",
          "height": 174
        }
      },
      "source": [
        "df_new.loc[df_new['reference_int'] == 2156040.0]['ref_count'].describe()"
      ],
      "execution_count": 0,
      "outputs": [
        {
          "output_type": "execute_result",
          "data": {
            "text/plain": [
              "count    12.000000\n",
              "mean      6.000000\n",
              "std      10.537811\n",
              "min       1.000000\n",
              "25%       1.000000\n",
              "50%       1.000000\n",
              "75%       3.000000\n",
              "max      28.500000\n",
              "Name: ref_count, dtype: float64"
            ]
          },
          "metadata": {
            "tags": []
          },
          "execution_count": 33
        }
      ]
    },
    {
      "cell_type": "code",
      "metadata": {
        "id": "FcRYrpvjwVya",
        "colab_type": "code",
        "outputId": "ca462a81-69d6-4fdb-a749-384bb6865567",
        "colab": {
          "base_uri": "https://localhost:8080/",
          "height": 286
        }
      },
      "source": [
        "df_new.loc[df_new['reference_int'] == 2156040.0]['ref_count'].hist()"
      ],
      "execution_count": 0,
      "outputs": [
        {
          "output_type": "execute_result",
          "data": {
            "text/plain": [
              "<matplotlib.axes._subplots.AxesSubplot at 0x7f22cdfdb780>"
            ]
          },
          "metadata": {
            "tags": []
          },
          "execution_count": 34
        },
        {
          "output_type": "display_data",
          "data": {
            "image/png": "[encoded data removed]",
            "text/plain": [
              "<Figure size 432x288 with 1 Axes>"
            ]
          },
          "metadata": {
            "tags": []
          }
        }
      ]
    }
  ]
}