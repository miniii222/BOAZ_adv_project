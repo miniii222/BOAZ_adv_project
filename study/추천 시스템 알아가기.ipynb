{
 "cells": [
  {
   "cell_type": "code",
   "execution_count": 13,
   "metadata": {
    "ExecuteTime": {
     "end_time": "2019-02-25T05:41:55.322788Z",
     "start_time": "2019-02-25T05:41:53.427382Z"
    }
   },
   "outputs": [],
   "source": [
    "import surprise\n",
    "import numpy as np\n",
    "import pandas as pd\n",
    "import matplotlib.pyplot as plt"
   ]
  },
  {
   "cell_type": "markdown",
   "metadata": {},
   "source": [
    "### 평점 데이터\n",
    "- MovieLense라는 영화 추천 웹사이트의 데이터\n",
    "- 10만개 로드"
   ]
  },
  {
   "cell_type": "code",
   "execution_count": 4,
   "metadata": {
    "ExecuteTime": {
     "end_time": "2019-02-25T05:39:06.837183Z",
     "start_time": "2019-02-25T05:39:06.483657Z"
    }
   },
   "outputs": [],
   "source": [
    "data = surprise.Dataset.load_builtin('ml-100k')"
   ]
  },
  {
   "cell_type": "code",
   "execution_count": 5,
   "metadata": {
    "ExecuteTime": {
     "end_time": "2019-02-25T05:39:08.316512Z",
     "start_time": "2019-02-25T05:39:08.211324Z"
    }
   },
   "outputs": [
    {
     "data": {
      "text/html": [
       "<div>\n",
       "<style scoped>\n",
       "    .dataframe tbody tr th:only-of-type {\n",
       "        vertical-align: middle;\n",
       "    }\n",
       "\n",
       "    .dataframe tbody tr th {\n",
       "        vertical-align: top;\n",
       "    }\n",
       "\n",
       "    .dataframe thead th {\n",
       "        text-align: right;\n",
       "    }\n",
       "</style>\n",
       "<table border=\"1\" class=\"dataframe\">\n",
       "  <thead>\n",
       "    <tr style=\"text-align: right;\">\n",
       "      <th></th>\n",
       "      <th>user</th>\n",
       "      <th>item</th>\n",
       "      <th>rate</th>\n",
       "    </tr>\n",
       "  </thead>\n",
       "  <tbody>\n",
       "    <tr>\n",
       "      <th>0</th>\n",
       "      <td>196</td>\n",
       "      <td>242</td>\n",
       "      <td>3.0</td>\n",
       "    </tr>\n",
       "    <tr>\n",
       "      <th>1</th>\n",
       "      <td>186</td>\n",
       "      <td>302</td>\n",
       "      <td>3.0</td>\n",
       "    </tr>\n",
       "    <tr>\n",
       "      <th>2</th>\n",
       "      <td>22</td>\n",
       "      <td>377</td>\n",
       "      <td>1.0</td>\n",
       "    </tr>\n",
       "    <tr>\n",
       "      <th>3</th>\n",
       "      <td>244</td>\n",
       "      <td>51</td>\n",
       "      <td>2.0</td>\n",
       "    </tr>\n",
       "    <tr>\n",
       "      <th>4</th>\n",
       "      <td>166</td>\n",
       "      <td>346</td>\n",
       "      <td>1.0</td>\n",
       "    </tr>\n",
       "  </tbody>\n",
       "</table>\n",
       "</div>"
      ],
      "text/plain": [
       "  user item  rate\n",
       "0  196  242   3.0\n",
       "1  186  302   3.0\n",
       "2   22  377   1.0\n",
       "3  244   51   2.0\n",
       "4  166  346   1.0"
      ]
     },
     "execution_count": 5,
     "metadata": {},
     "output_type": "execute_result"
    }
   ],
   "source": [
    "df = pd.DataFrame(data.raw_ratings, columns=[\"user\", \"item\", \"rate\", \"id\"])\n",
    "del df['id']\n",
    "df.head()"
   ]
  },
  {
   "cell_type": "markdown",
   "metadata": {},
   "source": [
    "- user : ID, item : 상품 ID, rate : 평점"
   ]
  },
  {
   "cell_type": "code",
   "execution_count": 6,
   "metadata": {
    "ExecuteTime": {
     "end_time": "2019-02-25T05:39:26.276305Z",
     "start_time": "2019-02-25T05:39:26.245350Z"
    }
   },
   "outputs": [
    {
     "data": {
      "text/plain": [
       "user    0\n",
       "item    0\n",
       "rate    0\n",
       "dtype: int64"
      ]
     },
     "execution_count": 6,
     "metadata": {},
     "output_type": "execute_result"
    }
   ],
   "source": [
    "df.isnull().sum()"
   ]
  },
  {
   "cell_type": "code",
   "execution_count": 7,
   "metadata": {
    "ExecuteTime": {
     "end_time": "2019-02-25T05:40:34.828967Z",
     "start_time": "2019-02-25T05:40:34.740318Z"
    }
   },
   "outputs": [],
   "source": [
    "df_table = df.set_index(['user', 'item']).unstack()"
   ]
  },
  {
   "cell_type": "code",
   "execution_count": 12,
   "metadata": {
    "ExecuteTime": {
     "end_time": "2019-02-25T05:41:29.666322Z",
     "start_time": "2019-02-25T05:41:29.644381Z"
    }
   },
   "outputs": [
    {
     "data": {
      "text/html": [
       "<div>\n",
       "<style scoped>\n",
       "    .dataframe tbody tr th:only-of-type {\n",
       "        vertical-align: middle;\n",
       "    }\n",
       "\n",
       "    .dataframe tbody tr th {\n",
       "        vertical-align: top;\n",
       "    }\n",
       "\n",
       "    .dataframe thead tr th {\n",
       "        text-align: left;\n",
       "    }\n",
       "\n",
       "    .dataframe thead tr:last-of-type th {\n",
       "        text-align: right;\n",
       "    }\n",
       "</style>\n",
       "<table border=\"1\" class=\"dataframe\">\n",
       "  <thead>\n",
       "    <tr>\n",
       "      <th></th>\n",
       "      <th colspan=\"9\" halign=\"left\">rate</th>\n",
       "    </tr>\n",
       "    <tr>\n",
       "      <th>item</th>\n",
       "      <th>211</th>\n",
       "      <th>212</th>\n",
       "      <th>213</th>\n",
       "      <th>214</th>\n",
       "      <th>215</th>\n",
       "      <th>216</th>\n",
       "      <th>217</th>\n",
       "      <th>218</th>\n",
       "      <th>219</th>\n",
       "    </tr>\n",
       "    <tr>\n",
       "      <th>user</th>\n",
       "      <th></th>\n",
       "      <th></th>\n",
       "      <th></th>\n",
       "      <th></th>\n",
       "      <th></th>\n",
       "      <th></th>\n",
       "      <th></th>\n",
       "      <th></th>\n",
       "      <th></th>\n",
       "    </tr>\n",
       "  </thead>\n",
       "  <tbody>\n",
       "    <tr>\n",
       "      <th>290</th>\n",
       "      <td>3</td>\n",
       "      <td></td>\n",
       "      <td></td>\n",
       "      <td></td>\n",
       "      <td></td>\n",
       "      <td>4</td>\n",
       "      <td></td>\n",
       "      <td>2</td>\n",
       "      <td></td>\n",
       "    </tr>\n",
       "    <tr>\n",
       "      <th>291</th>\n",
       "      <td></td>\n",
       "      <td>4</td>\n",
       "      <td></td>\n",
       "      <td>4</td>\n",
       "      <td>4</td>\n",
       "      <td></td>\n",
       "      <td></td>\n",
       "      <td>4</td>\n",
       "      <td>4</td>\n",
       "    </tr>\n",
       "    <tr>\n",
       "      <th>292</th>\n",
       "      <td></td>\n",
       "      <td></td>\n",
       "      <td></td>\n",
       "      <td>3</td>\n",
       "      <td></td>\n",
       "      <td></td>\n",
       "      <td></td>\n",
       "      <td></td>\n",
       "      <td></td>\n",
       "    </tr>\n",
       "    <tr>\n",
       "      <th>293</th>\n",
       "      <td>4</td>\n",
       "      <td></td>\n",
       "      <td>3</td>\n",
       "      <td></td>\n",
       "      <td>4</td>\n",
       "      <td>4</td>\n",
       "      <td>3</td>\n",
       "      <td>2</td>\n",
       "      <td></td>\n",
       "    </tr>\n",
       "    <tr>\n",
       "      <th>294</th>\n",
       "      <td></td>\n",
       "      <td></td>\n",
       "      <td></td>\n",
       "      <td></td>\n",
       "      <td></td>\n",
       "      <td></td>\n",
       "      <td></td>\n",
       "      <td></td>\n",
       "      <td></td>\n",
       "    </tr>\n",
       "    <tr>\n",
       "      <th>295</th>\n",
       "      <td></td>\n",
       "      <td></td>\n",
       "      <td>5</td>\n",
       "      <td></td>\n",
       "      <td>5</td>\n",
       "      <td>5</td>\n",
       "      <td>4</td>\n",
       "      <td>5</td>\n",
       "      <td></td>\n",
       "    </tr>\n",
       "    <tr>\n",
       "      <th>296</th>\n",
       "      <td>4</td>\n",
       "      <td></td>\n",
       "      <td></td>\n",
       "      <td></td>\n",
       "      <td></td>\n",
       "      <td></td>\n",
       "      <td></td>\n",
       "      <td></td>\n",
       "      <td></td>\n",
       "    </tr>\n",
       "    <tr>\n",
       "      <th>297</th>\n",
       "      <td>4</td>\n",
       "      <td></td>\n",
       "      <td>3</td>\n",
       "      <td></td>\n",
       "      <td>2</td>\n",
       "      <td>4</td>\n",
       "      <td></td>\n",
       "      <td>3</td>\n",
       "      <td></td>\n",
       "    </tr>\n",
       "    <tr>\n",
       "      <th>298</th>\n",
       "      <td>5</td>\n",
       "      <td></td>\n",
       "      <td>3</td>\n",
       "      <td></td>\n",
       "      <td>5</td>\n",
       "      <td></td>\n",
       "      <td></td>\n",
       "      <td></td>\n",
       "      <td></td>\n",
       "    </tr>\n",
       "    <tr>\n",
       "      <th>299</th>\n",
       "      <td>4</td>\n",
       "      <td>4</td>\n",
       "      <td>5</td>\n",
       "      <td></td>\n",
       "      <td></td>\n",
       "      <td>5</td>\n",
       "      <td></td>\n",
       "      <td></td>\n",
       "      <td></td>\n",
       "    </tr>\n",
       "  </tbody>\n",
       "</table>\n",
       "</div>"
      ],
      "text/plain": [
       "     rate                                \n",
       "item  211 212 213 214 215 216 217 218 219\n",
       "user                                     \n",
       "290     3                   4       2    \n",
       "291         4       4   4           4   4\n",
       "292                 3                    \n",
       "293     4       3       4   4   3   2    \n",
       "294                                      \n",
       "295             5       5   5   4   5    \n",
       "296     4                                \n",
       "297     4       3       2   4       3    \n",
       "298     5       3       5                \n",
       "299     4   4   5           5            "
      ]
     },
     "execution_count": 12,
     "metadata": {},
     "output_type": "execute_result"
    }
   ],
   "source": [
    "#sparse data\n",
    "df_table.iloc[212:222, 808:817].fillna('')"
   ]
  },
  {
   "cell_type": "code",
   "execution_count": 15,
   "metadata": {
    "ExecuteTime": {
     "end_time": "2019-02-25T05:42:28.311407Z",
     "start_time": "2019-02-25T05:42:27.820358Z"
    }
   },
   "outputs": [
    {
     "data": {
      "image/png": "[encoded data removed]",
      "text/plain": [
       "<Figure size 1440x720 with 1 Axes>"
      ]
     },
     "metadata": {
      "needs_background": "light"
     },
     "output_type": "display_data"
    }
   ],
   "source": [
    "plt.figure(figsize = (20,10))\n",
    "plt.imshow(df_table)\n",
    "plt.grid(False)\n",
    "plt.xlabel(\"item\")\n",
    "plt.ylabel(\"user\")\n",
    "plt.title(\"Rate Matrix\")\n",
    "plt.show()"
   ]
  },
  {
   "cell_type": "markdown",
   "metadata": {},
   "source": [
    "# 평가기준\n",
    "- RMSE (Root Mean Squared Error) $$\\text{RMSE} = \\sqrt{\\frac{1}{|\\hat{R}|} \\sum_{\\hat{r}_{ui} \\in \\hat{R}}(r_{ui} - \\hat{r}_{ui})^2}$$\n",
    "- MAE(Mean Absolute Error) $$\\text{MAE} = \\dfrac{1}{|\\hat{R}|} \\sum_{\\hat{r}_{ui} \\in \\hat{R}}|r_{ui} - \\hat{r}_{ui}|$$\n",
    "- FCP (Fraction of Concordant Pairs) $$\\text{FCP} = \\dfrac{\\text{number of concordant pairs}}{\\text{number of discordant pairs}}$$"
   ]
  },
  {
   "cell_type": "markdown",
   "metadata": {},
   "source": [
    "# 1.baseline 모형\n",
    "- 전체 평점의 평균 + 동일한 사용자에 의한 평점 조정값 + 동일한 상품에 대한 평점 조정값\n",
    "- $$\\hat{r}_{ui} = \\mu + b_u + b_i$$\n",
    "- LSE와 같은 방법으로 최적화 $$\\sum_{r_{ui} \\in R_{train}} \\left(r_{ui} - (\\mu + b_u + b_i)\\right)^2$$\n",
    "- 정규화 항 추가 $$\\sum_{r_{ui} \\in R_{train}} \\left(r_{ui} - (\\mu + b_u + b_i)\\right)^2 + \\lambda \\left(b_u^2 + b_i^2 \\right)$$"
   ]
  },
  {
   "cell_type": "markdown",
   "metadata": {},
   "source": [
    "## 최적화 알고리즘\n",
    "### SGD(Stochastic Gradient Descent)\n",
    "- reg : 정규화 가중치.(0.02)\n",
    "- learning_rate(0.005)\n",
    "- n_epochs(20)\n",
    "### ALS(Alternating Least Squares)\n",
    "- reg_i : 상품에 대한 정규화 가중치(10)\n",
    "- reg_u : 사용자에 대한 정규화 가중치(15)\n",
    "- n_epochs(10)"
   ]
  },
  {
   "cell_type": "code",
   "execution_count": 18,
   "metadata": {
    "ExecuteTime": {
     "end_time": "2019-02-25T06:00:01.679922Z",
     "start_time": "2019-02-25T06:00:01.674935Z"
    }
   },
   "outputs": [],
   "source": [
    "bsl_options = {\n",
    "    'method' : 'als', #algorithm selection\n",
    "    'n_epochs' : 5,\n",
    "    'reg_u': 12,\n",
    "    'reg_i' : 5\n",
    "}"
   ]
  },
  {
   "cell_type": "code",
   "execution_count": 19,
   "metadata": {
    "ExecuteTime": {
     "end_time": "2019-02-25T06:00:31.246824Z",
     "start_time": "2019-02-25T06:00:31.242833Z"
    }
   },
   "outputs": [],
   "source": [
    "algo = surprise.BaselineOnly(bsl_options)"
   ]
  },
  {
   "cell_type": "markdown",
   "metadata": {},
   "source": [
    "#### 3-fold"
   ]
  },
  {
   "cell_type": "code",
   "execution_count": 23,
   "metadata": {
    "ExecuteTime": {
     "end_time": "2019-02-25T06:06:55.558753Z",
     "start_time": "2019-02-25T06:06:55.554765Z"
    }
   },
   "outputs": [],
   "source": [
    "from surprise.model_selection import KFold"
   ]
  },
  {
   "cell_type": "code",
   "execution_count": 24,
   "metadata": {
    "ExecuteTime": {
     "end_time": "2019-02-25T06:06:58.850956Z",
     "start_time": "2019-02-25T06:06:57.137536Z"
    }
   },
   "outputs": [
    {
     "name": "stdout",
     "output_type": "stream",
     "text": [
      "Estimating biases using als...\n",
      "RMSE: 0.9453\n",
      "Estimating biases using als...\n",
      "RMSE: 0.9377\n",
      "Estimating biases using als...\n",
      "RMSE: 0.9500\n"
     ]
    }
   ],
   "source": [
    "np.random.seed(0)\n",
    "acc = np.zeros(3)\n",
    "cv = KFold(3)\n",
    "\n",
    "for i, (trainset, testset) in enumerate(cv.split(data)) :\n",
    "    algo.fit(trainset)\n",
    "    predictions = algo.test(testset)\n",
    "    acc[i] = surprise.accuracy.rmse(predictions, verbose=True) #testset prediction\n"
   ]
  },
  {
   "cell_type": "code",
   "execution_count": 25,
   "metadata": {
    "ExecuteTime": {
     "end_time": "2019-02-25T06:06:58.861927Z",
     "start_time": "2019-02-25T06:06:58.853948Z"
    }
   },
   "outputs": [
    {
     "data": {
      "text/plain": [
       "0.9443304984013942"
      ]
     },
     "execution_count": 25,
     "metadata": {},
     "output_type": "execute_result"
    }
   ],
   "source": [
    "acc.mean()"
   ]
  },
  {
   "cell_type": "markdown",
   "metadata": {},
   "source": [
    "#### cross-validation"
   ]
  },
  {
   "cell_type": "code",
   "execution_count": 26,
   "metadata": {
    "ExecuteTime": {
     "end_time": "2019-02-25T06:07:23.992794Z",
     "start_time": "2019-02-25T06:07:21.744799Z"
    }
   },
   "outputs": [
    {
     "name": "stdout",
     "output_type": "stream",
     "text": [
      "Estimating biases using als...\n",
      "Estimating biases using als...\n",
      "Estimating biases using als...\n",
      "Estimating biases using als...\n",
      "Estimating biases using als...\n"
     ]
    },
    {
     "data": {
      "text/plain": [
       "{'test_rmse': array([0.9384446 , 0.94651657, 0.93612815, 0.94221861, 0.94428787]),\n",
       " 'test_mae': array([0.74477853, 0.75124267, 0.73975393, 0.745764  , 0.74659098]),\n",
       " 'fit_time': (0.11968040466308594,\n",
       "  0.1376333236694336,\n",
       "  0.14561176300048828,\n",
       "  0.16255855560302734,\n",
       "  0.13862848281860352),\n",
       " 'test_time': (0.11469244956970215,\n",
       "  0.21143293380737305,\n",
       "  0.12666106224060059,\n",
       "  0.0997323989868164,\n",
       "  0.1107034683227539)}"
      ]
     },
     "execution_count": 26,
     "metadata": {},
     "output_type": "execute_result"
    }
   ],
   "source": [
    "from surprise.model_selection import cross_validate\n",
    "cross_validate(algo, data)"
   ]
  },
  {
   "cell_type": "markdown",
   "metadata": {},
   "source": [
    "# 2. Collaborative Filter\n",
    "- 평점 행렬이 가진 특정한 패턴을 찾아서 이를 평점 예측에 사용하는 방법\n",
    "\n",
    "#### Neighborhood 모형\n",
    "- 사용자나 상품 기준으로 평점의 유사성\n",
    "\n",
    "\n",
    "#### Latent Factor 모형\n",
    "- 행렬의 수치적 특징 이용"
   ]
  },
  {
   "cell_type": "markdown",
   "metadata": {},
   "source": [
    "# 2-1. Neighborhood 모형(Memory-based CF) : 해당 사용자와 similar 사용자에 대해 가중치를 줌\n",
    "#### - User-based CF\n",
    "- 평점 행렬에서 유사한 사용자 행 벡터를 찾아 이를 기반으로\n",
    "\n",
    "#### - Item-based Cf\n",
    "- 특정한 상품에 대해 사용자가 준 점수. 평점행렬에서 열 벡터를 기반으로\n"
   ]
  },
  {
   "cell_type": "markdown",
   "metadata": {},
   "source": [
    "# Similarity 계산\n",
    "### Mean Squared Difference Similarity(평균제곱차이 유사도)\n",
    "- MSD(Mean Sqruared Difference)의 역수를 취해서 구한다.\n",
    "\n",
    "##### 사용자 u와 v간의 msd \n",
    "- $$\\text{msd}(u, v) = \\frac{1}{|I_{uv}|} \\cdot \\sum\\limits_{i \\in I_{uv}} (r_{ui} - r_{vi})^2$$\n",
    "- 위 식에서 $I_{uv}$ 는 사용자  u 와 사용자  v  모두에 의해 평가된 상품의 집합이고  $|I_{uv}|$ 는 사용자  u 와 사용자  v  모두에 의해 평가된 상품의 수\n",
    "- 평가된 모든 상품에 대해 계산\n",
    "\n",
    "##### 상품 i와 j간의 msd\n",
    "- $$\\text{msd}(i, j) = \\frac{1}{|U_{ij}|} \\cdot \\sum\\limits_{u \\in U_{ij}} (r_{ui} - r_{uj})^2$$\n",
    "- 위 식에서  $U_{ij}$ 는 상품  i 와 상품  j  모두를 평가한 사용자의 집합이고  $|U_{ij}|$ 는 상품  i 와 상품  j  모두를 평가한 사용자의 수\n",
    "- 평가한 모든 사람에 대해 계산\n",
    "\n",
    "## $$\\begin{split}\\text{msd_sim}(u, v) &= \\frac{1}{\\text{msd}(u, v) + 1}\\\\\n",
    "\\text{msd_sim}(i, j) &= \\frac{1}{\\text{msd}(i, j) + 1}\\end{split}$$\n",
    "\n",
    "### Cosine Similarity(코사인 유사도)\n",
    "- 두 특성 벡터의 각도에 대한 코사인 값\n",
    "- 각도가 0이면 유사도 1, 각도가 90이면 유사도 0\n",
    "\n",
    "##### 사용자  u 와 사용자  v 간의 cs\n",
    "$$\\text{cosine_sim}(u, v) = \\frac{\n",
    "\\sum\\limits_{i \\in I_{uv}} r_{ui} \\cdot r_{vi}}\n",
    "{\\sqrt{\\sum\\limits_{i \\in I_{uv}} r_{ui}^2} \\cdot\n",
    "\\sqrt{\\sum\\limits_{i \\in I_{uv}} r_{vi}^2}\n",
    "}$$\n",
    "\n",
    "##### 상품  i 와 상품  j 간의 cs\n",
    "$$\\text{cosine_sim}(i, j) = \\frac{\n",
    "\\sum\\limits_{u \\in U_{ij}} r_{ui} \\cdot r_{uj}}\n",
    "{\\sqrt{\\sum\\limits_{u \\in U_{ij}} r_{ui}^2} \\cdot\n",
    "\\sqrt{\\sum\\limits_{u \\in U_{ij}} r_{uj}^2}\n",
    "}$$\n",
    "\n",
    "### Pearson Similarity(피어슨 유사도)\n",
    "- 두 벡터간 상관계수\n",
    "##### 사용자  u 와 사용자  v 간의 PS\n",
    "$$\\text{pearson_sim}(u, v) = \\frac{\n",
    "\\sum\\limits_{i \\in I_{uv}} (r_{ui} -  \\mu_u) \\cdot (r_{vi} - \\mu_{v})}\n",
    "{\\sqrt{\\sum\\limits_{i \\in I_{uv}} (r_{ui} -  \\mu_u)^2} \\cdot\n",
    "\\sqrt{\\sum\\limits_{i \\in I_{uv}} (r_{vi} -  \\mu_{v})^2}\n",
    "}$$\n",
    "- $\\mu_u$ : 사용자 u 의 평균 평점\n",
    "##### 상품  i 와 상품  j 간의 PS\n",
    "$$\\text{pearson_sim}(i, j) = \\frac{\n",
    "\\sum\\limits_{u \\in U_{ij}} (r_{ui} -  \\mu_i) \\cdot (r_{uj} - \\mu_{j})}\n",
    "{\\sqrt{\\sum\\limits_{u \\in U_{ij}} (r_{ui} -  \\mu_i)^2} \\cdot\n",
    "\\sqrt{\\sum\\limits_{u \\in U_{ij}} (r_{uj} -  \\mu_{j})^2}\n",
    "}$$\n",
    "- $\\mu_i$ : 상품 i의 평균 평점\n",
    "\n",
    "### Pearson-Baseline Similarity(피어슨-베이스라인 유사도)\n",
    "- 상관계수를 구하되, 단순 평균이 아닌 베이스라인 모형에서 예측한 값 사용\n",
    "##### 사용자  u 와 사용자  v 간의 PBS\n",
    "$$\\text{pearson_baseline_sim}(u, v) = \\hat{\\rho}_{uv} = \\frac{\n",
    "\\sum\\limits_{i \\in I_{uv}} (r_{ui} -  b_{ui}) \\cdot (r_{vi} - b_{vi})}\n",
    "{\\sqrt{\\sum\\limits_{i \\in I_{uv}} (r_{ui} -  b_{ui})^2} \\cdot\n",
    "\\sqrt{\\sum\\limits_{i \\in I_{uv}} (r_{vi} -  b_{vi})^2}}\n",
    "$$\n",
    "##### 상품  i 와 상품  j 간의 PBS\n",
    "$$\\text{pearson_baseline_sim}(i, j) = \\hat{\\rho}_{ij} = \\frac{\n",
    "\\sum\\limits_{u \\in U_{ij}} (r_{ui} -  b_{ui}) \\cdot (r_{uj} - b_{uj})}\n",
    "{\\sqrt{\\sum\\limits_{u \\in U_{ij}} (r_{ui} -  b_{ui})^2} \\cdot\n",
    "\\sqrt{\\sum\\limits_{u \\in U_{ij}} (r_{uj} -  b_{uj})^2}}\n",
    "$$\n",
    "- 두 사용자나 상품에 공통적으로 있는 평점 원소의 갯수를 이용하여 정규화를 하는 shrinkage를 추가하기도 한다.\n",
    "$$\\begin{split}\\text{pearson_baseline_shrunk_sim}(u, v) &= \\frac{|I_{uv}| - 1}\n",
    "{|I_{uv}| - 1 + \\text{shrinkage}} \\cdot \\hat{\\rho}_{uv}\\end{split}\n",
    "$$\n",
    "$$\\begin{split}\\text{pearson_baseline_shrunk_sim}(i, j) &= \\frac{|U_{ij}| - 1}\n",
    "{|U_{ij}| - 1 + \\text{shrinkage}} \\cdot \\hat{\\rho}_{ij}\\end{split}\n",
    "$$\n"
   ]
  },
  {
   "cell_type": "markdown",
   "metadata": {},
   "source": [
    "# Similarity parameter 조정\n",
    "- name : 유사도의 종류 (MSD)\n",
    "- user_based : True user-based / False item-based\n",
    "- min_support : 두 사용자나, 상품에서 공통적으로 있는 평점 원소의 수의 최솟값. 공통 평점 원소의 수가 이 값보다 적으면 사용하지 않음.\n",
    "- shrinkage : shrinkage 가중치"
   ]
  },
  {
   "cell_type": "markdown",
   "metadata": {},
   "source": [
    "## KNN 가중치 예측 방법\n",
    "- 유사도를 구하고, 유사도가 큰 k개의 사용자 또는 상품 벡터를 사용하여 가중 평균을 구한다.\n",
    "- $N^k$ 는 $k$개의 가장 유사도가 큰 벡터의 집합\n",
    "\n",
    "### KNNBasic\n",
    "- 평점들의 단순 평균\n",
    "$$\\hat{r}_{ui} = \\frac{\n",
    "        \\sum\\limits_{v \\in N^k_i(u)} \\text{sim}(u, v) \\cdot r_{vi}}\n",
    "        {\\sum\\limits_{v \\in N^k_i(u)} \\text{sim}(u, v)}\n",
    "$$\n",
    "$$\\hat{r}_{ui} = \\frac{\n",
    "        \\sum\\limits_{j \\in N^k_u(i)} \\text{sim}(i, j) \\cdot r_{uj}}\n",
    "        {\\sum\\limits_{j \\in N^k_u(j)} \\text{sim}(i, j)}\n",
    "        $$\n",
    "        \n",
    "- 유사도가 클수록 그 평점을 많이 반영\n",
    "\n",
    "### KNNWithMeans\n",
    "- 평점들을 평균값 기준으로 가중평균\n",
    "- 평균보다 작은지 큰지 반영\n",
    "$$\\hat{r}_{ui} = \\mu_u + \\frac{ \\sum\\limits_{v \\in N^k_i(u)}\n",
    "\\text{sim}(u, v) \\cdot (r_{vi} - \\mu_v)} {\\sum\\limits_{v \\in\n",
    "N^k_i(u)} \\text{sim}(u, v)}\n",
    "$$\n",
    "$$\\hat{r}_{ui} = \\mu_i + \\frac{ \\sum\\limits_{j \\in N^k_u(i)}\n",
    "\\text{sim}(i, j) \\cdot (r_{uj} - \\mu_j)} {\\sum\\limits_{j \\in\n",
    "N^k_u(i)} \\text{sim}(i, j)}\n",
    "$$\n",
    "\n",
    "### KNNBaseline\n",
    "- 평점들을 베이스라인 모형의 예측값 기준으로 평균\n",
    "$$\\hat{r}_{ui} = b_{ui} + \\frac{ \\sum\\limits_{v \\in N^k_i(u)}\n",
    "\\text{sim}(u, v) \\cdot (r_{vi} - b_{vi})} {\\sum\\limits_{v \\in\n",
    "N^k_i(u)} \\text{sim}(u, v)}\n",
    "$$\n",
    "$$\\hat{r}_{ui} = b_{ui} + \\frac{ \\sum\\limits_{j \\in N^k_u(i)}\n",
    "\\text{sim}(i, j) \\cdot (r_{uj} - b_{uj})} {\\sum\\limits_{j \\in\n",
    "N^k_u(j)} \\text{sim}(i, j)}\n",
    "$$"
   ]
  },
  {
   "cell_type": "markdown",
   "metadata": {},
   "source": [
    "## MODELING"
   ]
  },
  {
   "cell_type": "code",
   "execution_count": 27,
   "metadata": {
    "ExecuteTime": {
     "end_time": "2019-02-25T07:42:00.333332Z",
     "start_time": "2019-02-25T07:41:12.935548Z"
    }
   },
   "outputs": [
    {
     "name": "stdout",
     "output_type": "stream",
     "text": [
      "Computing the msd similarity matrix...\n",
      "Done computing similarity matrix.\n",
      "Computing the msd similarity matrix...\n",
      "Done computing similarity matrix.\n",
      "Computing the msd similarity matrix...\n",
      "Done computing similarity matrix.\n",
      "Computing the msd similarity matrix...\n",
      "Done computing similarity matrix.\n",
      "Computing the msd similarity matrix...\n",
      "Done computing similarity matrix.\n"
     ]
    },
    {
     "data": {
      "text/plain": [
       "{'test_rmse': array([0.97650906, 0.98346442, 0.97032533, 0.98330974, 0.9818553 ]),\n",
       " 'test_mae': array([0.77163701, 0.77538984, 0.7665685 , 0.77493766, 0.77486794]),\n",
       " 'fit_time': (1.155592441558838,\n",
       "  1.201275110244751,\n",
       "  1.1870551109313965,\n",
       "  1.1668522357940674,\n",
       "  1.1962120532989502),\n",
       " 'test_time': (7.701850414276123,\n",
       "  7.994612455368042,\n",
       "  7.881551265716553,\n",
       "  8.00686526298523,\n",
       "  8.113600969314575)}"
      ]
     },
     "execution_count": 27,
     "metadata": {},
     "output_type": "execute_result"
    }
   ],
   "source": [
    "#MSD - best\n",
    "sim_options = {'name' : 'msd'}\n",
    "algo = surprise.KNNBasic(sim_options=sim_options)\n",
    "cross_validate(algo, data)"
   ]
  },
  {
   "cell_type": "code",
   "execution_count": 28,
   "metadata": {
    "ExecuteTime": {
     "end_time": "2019-02-25T07:46:45.279781Z",
     "start_time": "2019-02-25T07:45:42.393915Z"
    }
   },
   "outputs": [
    {
     "name": "stdout",
     "output_type": "stream",
     "text": [
      "Computing the cosine similarity matrix...\n",
      "Done computing similarity matrix.\n",
      "Computing the cosine similarity matrix...\n",
      "Done computing similarity matrix.\n",
      "Computing the cosine similarity matrix...\n",
      "Done computing similarity matrix.\n",
      "Computing the cosine similarity matrix...\n",
      "Done computing similarity matrix.\n",
      "Computing the cosine similarity matrix...\n",
      "Done computing similarity matrix.\n"
     ]
    },
    {
     "data": {
      "text/plain": [
       "{'test_rmse': array([1.02165374, 1.01094947, 1.01980738, 1.01184665, 1.02300541]),\n",
       " 'test_mae': array([0.80651253, 0.79884201, 0.80939573, 0.79869422, 0.80983937]),\n",
       " 'fit_time': (4.001333236694336,\n",
       "  3.9187870025634766,\n",
       "  3.8563497066497803,\n",
       "  4.447917222976685,\n",
       "  3.9575417041778564),\n",
       " 'test_time': (8.128779888153076,\n",
       "  8.016713857650757,\n",
       "  8.121278285980225,\n",
       "  8.865342140197754,\n",
       "  7.986345529556274)}"
      ]
     },
     "execution_count": 28,
     "metadata": {},
     "output_type": "execute_result"
    }
   ],
   "source": [
    "#cosine similarity\n",
    "sim_options = {'name' : 'cosine'}\n",
    "algo = surprise.KNNBasic(sim_options=sim_options)\n",
    "cross_validate(algo, data)"
   ]
  },
  {
   "cell_type": "code",
   "execution_count": 29,
   "metadata": {
    "ExecuteTime": {
     "end_time": "2019-02-25T07:47:50.786088Z",
     "start_time": "2019-02-25T07:46:45.283684Z"
    }
   },
   "outputs": [
    {
     "name": "stdout",
     "output_type": "stream",
     "text": [
      "Computing the pearson similarity matrix...\n",
      "Done computing similarity matrix.\n",
      "Computing the pearson similarity matrix...\n",
      "Done computing similarity matrix.\n",
      "Computing the pearson similarity matrix...\n",
      "Done computing similarity matrix.\n",
      "Computing the pearson similarity matrix...\n",
      "Done computing similarity matrix.\n",
      "Computing the pearson similarity matrix...\n",
      "Done computing similarity matrix.\n"
     ]
    },
    {
     "data": {
      "text/plain": [
       "{'test_rmse': array([1.01278354, 1.00450375, 1.0174979 , 1.01443365, 1.01270663]),\n",
       " 'test_mae': array([0.80344258, 0.79499421, 0.81000706, 0.80615134, 0.8017943 ]),\n",
       " 'fit_time': (4.801573276519775,\n",
       "  4.8288047313690186,\n",
       "  4.835718870162964,\n",
       "  4.8236284255981445,\n",
       "  4.852158546447754),\n",
       " 'test_time': (8.09889268875122,\n",
       "  7.880070447921753,\n",
       "  8.077646017074585,\n",
       "  7.775540828704834,\n",
       "  7.900661468505859)}"
      ]
     },
     "execution_count": 29,
     "metadata": {},
     "output_type": "execute_result"
    }
   ],
   "source": [
    "#pearson similarity\n",
    "sim_options = {'name' : 'pearson'}\n",
    "algo = surprise.KNNBasic(sim_options=sim_options)\n",
    "cross_validate(algo, data)"
   ]
  },
  {
   "cell_type": "code",
   "execution_count": 30,
   "metadata": {
    "ExecuteTime": {
     "end_time": "2019-02-25T07:48:51.521758Z",
     "start_time": "2019-02-25T07:47:50.791525Z"
    }
   },
   "outputs": [
    {
     "name": "stdout",
     "output_type": "stream",
     "text": [
      "Estimating biases using als...\n",
      "Computing the pearson_baseline similarity matrix...\n",
      "Done computing similarity matrix.\n",
      "Estimating biases using als...\n",
      "Computing the pearson_baseline similarity matrix...\n",
      "Done computing similarity matrix.\n",
      "Estimating biases using als...\n",
      "Computing the pearson_baseline similarity matrix...\n",
      "Done computing similarity matrix.\n",
      "Estimating biases using als...\n",
      "Computing the pearson_baseline similarity matrix...\n",
      "Done computing similarity matrix.\n",
      "Estimating biases using als...\n",
      "Computing the pearson_baseline similarity matrix...\n",
      "Done computing similarity matrix.\n"
     ]
    },
    {
     "data": {
      "text/plain": [
       "{'test_rmse': array([0.99420964, 0.99381429, 1.00551851, 1.00607764, 1.00277361]),\n",
       " 'test_mae': array([0.78802934, 0.78557554, 0.79468128, 0.79776647, 0.79233398]),\n",
       " 'fit_time': (4.258149862289429,\n",
       "  3.4559409618377686,\n",
       "  4.559128761291504,\n",
       "  4.6080803871154785,\n",
       "  4.552084684371948),\n",
       " 'test_time': (7.573566913604736,\n",
       "  7.600717544555664,\n",
       "  6.940124273300171,\n",
       "  7.764057159423828,\n",
       "  7.683103322982788)}"
      ]
     },
     "execution_count": 30,
     "metadata": {},
     "output_type": "execute_result"
    }
   ],
   "source": [
    "#pearson_baseline similarity\n",
    "sim_options = {'name' : 'pearson_baseline'}\n",
    "algo = surprise.KNNBasic(sim_options=sim_options)\n",
    "cross_validate(algo, data)"
   ]
  },
  {
   "cell_type": "code",
   "execution_count": 31,
   "metadata": {
    "ExecuteTime": {
     "end_time": "2019-02-25T07:49:59.095684Z",
     "start_time": "2019-02-25T07:48:51.568111Z"
    }
   },
   "outputs": [
    {
     "name": "stdout",
     "output_type": "stream",
     "text": [
      "Estimating biases using als...\n",
      "Computing the pearson_baseline similarity matrix...\n",
      "Done computing similarity matrix.\n",
      "Estimating biases using als...\n",
      "Computing the pearson_baseline similarity matrix...\n",
      "Done computing similarity matrix.\n",
      "Estimating biases using als...\n",
      "Computing the pearson_baseline similarity matrix...\n",
      "Done computing similarity matrix.\n",
      "Estimating biases using als...\n",
      "Computing the pearson_baseline similarity matrix...\n",
      "Done computing similarity matrix.\n",
      "Estimating biases using als...\n",
      "Computing the pearson_baseline similarity matrix...\n",
      "Done computing similarity matrix.\n"
     ]
    },
    {
     "data": {
      "text/plain": [
       "{'test_rmse': array([0.93804715, 0.9416346 , 0.93537587, 0.94230831, 0.92905337]),\n",
       " 'test_mae': array([0.73170063, 0.73366927, 0.72843607, 0.73115355, 0.7247833 ]),\n",
       " 'fit_time': (4.473891496658325,\n",
       "  4.531806945800781,\n",
       "  4.488576412200928,\n",
       "  4.513503789901733,\n",
       "  4.890480995178223),\n",
       " 'test_time': (8.241814136505127,\n",
       "  8.442302227020264,\n",
       "  8.626290798187256,\n",
       "  8.799132108688354,\n",
       "  8.836081504821777)}"
      ]
     },
     "execution_count": 31,
     "metadata": {},
     "output_type": "execute_result"
    }
   ],
   "source": [
    "#pearson_baseline similarity KNNWithMeans\n",
    "sim_options = {'name' : 'pearson_baseline'}\n",
    "algo = surprise.KNNWithMeans(sim_options=sim_options)\n",
    "cross_validate(algo, data)"
   ]
  },
  {
   "cell_type": "markdown",
   "metadata": {},
   "source": [
    "# 2-2.Latent Factor\n",
    "- 사용자 특성이나 상품 특성을 몇 개의 요인 벡터로 간략화할 수 있다는 가정에서 출발\n",
    "- 영화를 예를 들면, 사용자의 선호도에 따라 액션, 코믹, 드라마 요인에 대해 스코어를 매기고, 영화 역시 액션, 코믹, 드라마 요인에 대해 스코어를 매긴다.\n",
    "$$r_{ui} = q_i^Tp_u$$"
   ]
  },
  {
   "cell_type": "markdown",
   "metadata": {},
   "source": [
    "# Matrix Factorization\n",
    "$$R \\approx PQ^T$$\n",
    "P, Q 찾기\n",
    "\n",
    "- $R \\in \\mathbf{R}^{m \\times n}$ : m 사용자와 n상품의 평점 행렬\n",
    "- $P \\in \\mathbf{R}^{m \\times k}$ : m 사용자와 k요인의 관계 행렬\n",
    "- $Q \\in \\mathbf{R}^{n \\times k}$ : n 상품과 k요인의 관계 행렬"
   ]
  },
  {
   "cell_type": "markdown",
   "metadata": {},
   "source": [
    "# SVD(Singular Value Decomposition)\n",
    "- Matrix factorization 문제를 푸는 방법 중 하나\n",
    "$$R =  U \\Sigma V^T$$\n",
    "\n",
    "- $U$ 는 mxm 크기의 행렬로 역행렬이 대칭 행렬\n",
    "- $\\Sigma$ 는 mxn 크기의 행렬로 비대각 성분이 0\n",
    "- $V$ 는 nxn 크기의 행렬로 역행렬이 대칭 행렬\n",
    "\n",
    "### truncated SVD : $\\Sigma$의 대각성분은 특이치. 특이치 중 값이 가장 큰 k개의 특이치만 사용\n",
    "- $\\hat{U}$는 U에서 가장 값이 큰 k개의 특이치에 대응하는 k개의 성분만을 남긴 m×k 크기의 행렬\n",
    "- $\\hat{\\Sigma}$는 가장 값이 큰 k개의 특이치에 대응하는 k개의 성분만을 남긴 k×k 크기의 대각 행렬\n",
    "- $\\hat{V}$ V에서 가장 값이 큰 k개의 특이치에 대응하는 k개의 성분만을 남긴 k×n 크기의 행렬\n",
    "\n",
    "$$\\hat{U} \\hat{\\Sigma} \\hat{V}^T =  \\hat{R} \\approx R$$"
   ]
  },
  {
   "cell_type": "code",
   "execution_count": 32,
   "metadata": {
    "ExecuteTime": {
     "end_time": "2019-02-25T08:25:55.840652Z",
     "start_time": "2019-02-25T08:25:27.606112Z"
    }
   },
   "outputs": [
    {
     "name": "stdout",
     "output_type": "stream",
     "text": [
      "{'test_rmse': array([0.94053016, 0.92662402, 0.93716278, 0.92936641, 0.93761243]), 'test_mae': array([0.74192097, 0.73013565, 0.73812862, 0.73550834, 0.74111338]), 'fit_time': (4.921126127243042, 4.892420530319214, 4.893706560134888, 4.836885213851929, 4.984352350234985), 'test_time': (0.53629469871521, 0.34891176223754883, 0.32524681091308594, 0.38988590240478516, 0.2900364398956299)}\n"
     ]
    }
   ],
   "source": [
    "algo = surprise.SVD(n_factors = 20)\n",
    "print(cross_validate(algo, data))"
   ]
  }
 ],
 "metadata": {
  "kernelspec": {
   "display_name": "Python 3",
   "language": "python",
   "name": "python3"
  },
  "language_info": {
   "codemirror_mode": {
    "name": "ipython",
    "version": 3
   },
   "file_extension": ".py",
   "mimetype": "text/x-python",
   "name": "python",
   "nbconvert_exporter": "python",
   "pygments_lexer": "ipython3",
   "version": "3.7.1"
  },
  "latex_envs": {
   "LaTeX_envs_menu_present": true,
   "autoclose": false,
   "autocomplete": true,
   "bibliofile": "biblio.bib",
   "cite_by": "apalike",
   "current_citInitial": 1,
   "eqLabelWithNumbers": true,
   "eqNumInitial": 1,
   "hotkeys": {
    "equation": "Ctrl-E",
    "itemize": "Ctrl-I"
   },
   "labels_anchors": false,
   "latex_user_defs": false,
   "report_style_numbering": false,
   "user_envs_cfg": false
  },
  "notify_time": "30"
 },
 "nbformat": 4,
 "nbformat_minor": 2
}
