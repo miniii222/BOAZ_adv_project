{
 "cells": [
  {
   "cell_type": "code",
   "execution_count": 1,
   "metadata": {
    "ExecuteTime": {
     "end_time": "2019-03-12T07:36:00.225567Z",
     "start_time": "2019-03-12T07:35:58.048300Z"
    }
   },
   "outputs": [],
   "source": [
    "import numpy as np"
   ]
  },
  {
   "cell_type": "code",
   "execution_count": 4,
   "metadata": {
    "ExecuteTime": {
     "end_time": "2019-03-12T07:38:25.805864Z",
     "start_time": "2019-03-12T07:38:25.783812Z"
    }
   },
   "outputs": [
    {
     "data": {
      "text/plain": [
       "array([[ 4., nan, nan,  2., nan],\n",
       "       [nan,  5., nan,  3.,  1.],\n",
       "       [nan, nan,  3.,  4.,  4.],\n",
       "       [ 5.,  2.,  1.,  2., nan]])"
      ]
     },
     "execution_count": 4,
     "metadata": {},
     "output_type": "execute_result"
    }
   ],
   "source": [
    "#원본 행렬 R 생성\n",
    "R = np.array([[4, np.NaN, np.NaN, 2, np.NaN],\n",
    "            [np.NaN, 5, np.NaN,3, 1],\n",
    "            [np.NaN, np.NaN,3, 4, 4],\n",
    "            [5, 2, 1, 2, np.NaN]])\n",
    "\n",
    "num_users, num_items = R.shape\n",
    "R"
   ]
  },
  {
   "cell_type": "code",
   "execution_count": 5,
   "metadata": {
    "ExecuteTime": {
     "end_time": "2019-03-12T07:38:45.566351Z",
     "start_time": "2019-03-12T07:38:45.561819Z"
    }
   },
   "outputs": [],
   "source": [
    "#잠재 요인 차원 K는 3\n",
    "K = 3"
   ]
  },
  {
   "cell_type": "code",
   "execution_count": 9,
   "metadata": {
    "ExecuteTime": {
     "end_time": "2019-03-12T07:40:19.785524Z",
     "start_time": "2019-03-12T07:40:19.775617Z"
    }
   },
   "outputs": [],
   "source": [
    "#P, Q를 임의의 값으로\n",
    "np.random.seed(1)\n",
    "P = np.random.normal(scale = 1/K, size = (num_users, K))\n",
    "Q = np.random.normal(scale = 1/K, size = (num_items, K))"
   ]
  },
  {
   "cell_type": "code",
   "execution_count": 10,
   "metadata": {
    "ExecuteTime": {
     "end_time": "2019-03-12T07:40:59.991496Z",
     "start_time": "2019-03-12T07:40:59.986135Z"
    }
   },
   "outputs": [],
   "source": [
    "from sklearn.metrics import mean_squared_error"
   ]
  },
  {
   "cell_type": "code",
   "execution_count": 14,
   "metadata": {
    "ExecuteTime": {
     "end_time": "2019-03-12T07:50:24.788379Z",
     "start_time": "2019-03-12T07:50:24.780205Z"
    }
   },
   "outputs": [],
   "source": [
    "def get_rmse(R,P,Q, non_zeros) :\n",
    "    error = 0\n",
    "    \n",
    "    full_pred_matrix = np.dot(P, Q.T)\n",
    "    \n",
    "    x_non_zero_ind = [non_zero[0] for non_zero in non_zeros]\n",
    "    y_non_zero_ind = [non_zero[1] for non_zero in non_zeros]\n",
    "    R_non_zeros = R[x_non_zero_ind, y_non_zero_ind]\n",
    "    \n",
    "    #new predict Rating Matrix\n",
    "    full_pred_matrix_non_zeros = full_pred_matrix[x_non_zero_ind, y_non_zero_ind]\n",
    "    rmse = np.sqrt(mean_squared_error(R_non_zeros, full_pred_matrix_non_zeros))\n",
    "    \n",
    "    return rmse"
   ]
  },
  {
   "cell_type": "code",
   "execution_count": 13,
   "metadata": {
    "ExecuteTime": {
     "end_time": "2019-03-12T07:43:31.489642Z",
     "start_time": "2019-03-12T07:43:31.481778Z"
    }
   },
   "outputs": [
    {
     "data": {
      "text/plain": [
       "array([[ 4., nan, nan,  2., nan],\n",
       "       [nan,  5., nan,  3.,  1.],\n",
       "       [nan, nan,  3.,  4.,  4.],\n",
       "       [ 5.,  2.,  1.,  2., nan]])"
      ]
     },
     "execution_count": 13,
     "metadata": {},
     "output_type": "execute_result"
    }
   ],
   "source": []
  },
  {
   "cell_type": "code",
   "execution_count": 11,
   "metadata": {
    "ExecuteTime": {
     "end_time": "2019-03-12T07:43:23.783836Z",
     "start_time": "2019-03-12T07:43:23.771554Z"
    }
   },
   "outputs": [
    {
     "data": {
      "text/plain": [
       "[(0, 0, 4.0),\n",
       " (0, 3, 2.0),\n",
       " (1, 1, 5.0),\n",
       " (1, 3, 3.0),\n",
       " (1, 4, 1.0),\n",
       " (2, 2, 3.0),\n",
       " (2, 3, 4.0),\n",
       " (2, 4, 4.0),\n",
       " (3, 0, 5.0),\n",
       " (3, 1, 2.0),\n",
       " (3, 2, 1.0),\n",
       " (3, 3, 2.0)]"
      ]
     },
     "execution_count": 11,
     "metadata": {},
     "output_type": "execute_result"
    }
   ],
   "source": [
    "#R이 0보다 큰 값들의 행,열 index와 그 값 저장\n",
    "non_zeros = [(i,j,R[i,j]) for i in range(num_users) for j in range(num_items) if R[i,j] > 0 ]\n",
    "non_zeros"
   ]
  },
  {
   "cell_type": "markdown",
   "metadata": {},
   "source": [
    "$$(p_u ) ́= p_u+ η(e_((u,i) )* q_i- λ* p_u )$$\n",
    "$$(q_i ) ́= q_i+ η(e_((u,i) )* p_u- λ* q_i )$$"
   ]
  },
  {
   "cell_type": "code",
   "execution_count": 15,
   "metadata": {
    "ExecuteTime": {
     "end_time": "2019-03-12T07:57:47.395634Z",
     "start_time": "2019-03-12T07:57:47.388250Z"
    }
   },
   "outputs": [],
   "source": [
    "steps = 1000\n",
    "learning_rate = 0.01 #SGD의 학습률\n",
    "r_lambda = 0.01 #L2 정규화 계수"
   ]
  },
  {
   "cell_type": "code",
   "execution_count": 16,
   "metadata": {
    "ExecuteTime": {
     "end_time": "2019-03-12T08:27:33.438592Z",
     "start_time": "2019-03-12T08:27:31.036338Z"
    }
   },
   "outputs": [
    {
     "name": "stdout",
     "output_type": "stream",
     "text": [
      "### iteration step : 0 rmse :  3.2648266557429473\n",
      "### iteration step : 0 rmse :  3.264487072423471\n",
      "### iteration step : 0 rmse :  3.261812305059051\n",
      "### iteration step : 0 rmse :  3.2616702512504885\n",
      "### iteration step : 0 rmse :  3.2615018540154637\n",
      "### iteration step : 0 rmse :  3.2611626448664617\n",
      "### iteration step : 0 rmse :  3.2595886638235\n",
      "### iteration step : 0 rmse :  3.2582810865068277\n",
      "### iteration step : 0 rmse :  3.2601465327057806\n",
      "### iteration step : 0 rmse :  3.2593863368770504\n",
      "### iteration step : 0 rmse :  3.2595001564903145\n",
      "### iteration step : 0 rmse :  3.2592719522959612\n",
      "### iteration step : 50 rmse :  0.8923423481752016\n",
      "### iteration step : 50 rmse :  0.8921865800732791\n",
      "### iteration step : 50 rmse :  0.8921447037901181\n",
      "### iteration step : 50 rmse :  0.8905138693524585\n",
      "### iteration step : 50 rmse :  0.8809740483028858\n",
      "### iteration step : 50 rmse :  0.8786550460276334\n",
      "### iteration step : 50 rmse :  0.8780892463658095\n",
      "### iteration step : 50 rmse :  0.8781992310873139\n",
      "### iteration step : 50 rmse :  0.8790530656699199\n",
      "### iteration step : 50 rmse :  0.8649399087016371\n",
      "### iteration step : 50 rmse :  0.8648508132794643\n",
      "### iteration step : 50 rmse :  0.8544649911211605\n",
      "### iteration step : 100 rmse :  0.35173866311094204\n",
      "### iteration step : 100 rmse :  0.35173633334998444\n",
      "### iteration step : 100 rmse :  0.351943901001085\n",
      "### iteration step : 100 rmse :  0.35133679627546655\n",
      "### iteration step : 100 rmse :  0.3514738092061424\n",
      "### iteration step : 100 rmse :  0.3503340123547941\n",
      "### iteration step : 100 rmse :  0.3503173146580014\n",
      "### iteration step : 100 rmse :  0.35018016286782855\n",
      "### iteration step : 100 rmse :  0.35297790686387454\n",
      "### iteration step : 100 rmse :  0.3630376331152022\n",
      "### iteration step : 100 rmse :  0.3418036532831511\n",
      "### iteration step : 100 rmse :  0.3478008057314832\n",
      "### iteration step : 150 rmse :  0.1785498168051273\n",
      "### iteration step : 150 rmse :  0.17854842219171893\n",
      "### iteration step : 150 rmse :  0.17825553979118436\n",
      "### iteration step : 150 rmse :  0.177519854921835\n",
      "### iteration step : 150 rmse :  0.17772700596375557\n",
      "### iteration step : 150 rmse :  0.17758994385313562\n",
      "### iteration step : 150 rmse :  0.1775867366551002\n",
      "### iteration step : 150 rmse :  0.17750891665675808\n",
      "### iteration step : 150 rmse :  0.17495823720475673\n",
      "### iteration step : 150 rmse :  0.18393456518955448\n",
      "### iteration step : 150 rmse :  0.1717567615666144\n",
      "### iteration step : 150 rmse :  0.1759386213297315\n",
      "### iteration step : 200 rmse :  0.08820299226381845\n",
      "### iteration step : 200 rmse :  0.08820215842044499\n",
      "### iteration step : 200 rmse :  0.08770753587370002\n",
      "### iteration step : 200 rmse :  0.08720117830088875\n",
      "### iteration step : 200 rmse :  0.08735867915733447\n",
      "### iteration step : 200 rmse :  0.08732606385786994\n",
      "### iteration step : 200 rmse :  0.08733554973225408\n",
      "### iteration step : 200 rmse :  0.0873068020495934\n",
      "### iteration step : 200 rmse :  0.08490042057788039\n",
      "### iteration step : 200 rmse :  0.08906884579006544\n",
      "### iteration step : 200 rmse :  0.08532731068103094\n",
      "### iteration step : 200 rmse :  0.08702780010280547\n",
      "### iteration step : 250 rmse :  0.04778183223745004\n",
      "### iteration step : 250 rmse :  0.04778048162087434\n",
      "### iteration step : 250 rmse :  0.04742142926281959\n",
      "### iteration step : 250 rmse :  0.04712920534625098\n",
      "### iteration step : 250 rmse :  0.04726818397173756\n",
      "### iteration step : 250 rmse :  0.04725434827562914\n",
      "### iteration step : 250 rmse :  0.04727000199913792\n",
      "### iteration step : 250 rmse :  0.04727735853897914\n",
      "### iteration step : 250 rmse :  0.04578334522655883\n",
      "### iteration step : 250 rmse :  0.048094740566278854\n",
      "### iteration step : 250 rmse :  0.046460470455255753\n",
      "### iteration step : 250 rmse :  0.04726848144660504\n",
      "### iteration step : 300 rmse :  0.030195389084535288\n",
      "### iteration step : 300 rmse :  0.03019289523452921\n",
      "### iteration step : 300 rmse :  0.02994898359310135\n",
      "### iteration step : 300 rmse :  0.029770220954482802\n",
      "### iteration step : 300 rmse :  0.02990980303685454\n",
      "### iteration step : 300 rmse :  0.029903587339175468\n",
      "### iteration step : 300 rmse :  0.02992226046682319\n",
      "### iteration step : 300 rmse :  0.029944830984965524\n",
      "### iteration step : 300 rmse :  0.029024339669194772\n",
      "### iteration step : 300 rmse :  0.03047730882968409\n",
      "### iteration step : 300 rmse :  0.029541882043223357\n",
      "### iteration step : 300 rmse :  0.02997946394130543\n",
      "### iteration step : 350 rmse :  0.022727036386825692\n",
      "### iteration step : 350 rmse :  0.022723472926818304\n",
      "### iteration step : 350 rmse :  0.02254393575792215\n",
      "### iteration step : 350 rmse :  0.02242049812676639\n",
      "### iteration step : 350 rmse :  0.022565699137249602\n",
      "### iteration step : 350 rmse :  0.022563998684576276\n",
      "### iteration step : 350 rmse :  0.0225839603834183\n",
      "### iteration step : 350 rmse :  0.02261170602913448\n",
      "### iteration step : 350 rmse :  0.02203279929825491\n",
      "### iteration step : 350 rmse :  0.023016939472696597\n",
      "### iteration step : 350 rmse :  0.02237301785424411\n",
      "### iteration step : 350 rmse :  0.022640891261666813\n",
      "### iteration step : 400 rmse :  0.0195994784430222\n",
      "### iteration step : 400 rmse :  0.019595319839844524\n",
      "### iteration step : 400 rmse :  0.01944760450003182\n",
      "### iteration step : 400 rmse :  0.01934866027674452\n",
      "### iteration step : 400 rmse :  0.019500040480954973\n",
      "### iteration step : 400 rmse :  0.019501206746372835\n",
      "### iteration step : 400 rmse :  0.019521498005980634\n",
      "### iteration step : 400 rmse :  0.01955046314927814\n",
      "### iteration step : 400 rmse :  0.019150138281774205\n",
      "### iteration step : 400 rmse :  0.01989142711081598\n",
      "### iteration step : 400 rmse :  0.01937628507616578\n",
      "### iteration step : 400 rmse :  0.01956828129957859\n",
      "### iteration step : 450 rmse :  0.01830310100498446\n",
      "### iteration step : 450 rmse :  0.0182987764333666\n",
      "### iteration step : 450 rmse :  0.018165309795862464\n",
      "### iteration step : 450 rmse :  0.01807467418309922\n",
      "### iteration step : 450 rmse :  0.01823231833151276\n",
      "### iteration step : 450 rmse :  0.01823536772328592\n",
      "### iteration step : 450 rmse :  0.018255560281511443\n",
      "### iteration step : 450 rmse :  0.01828449710942655\n",
      "### iteration step : 450 rmse :  0.017957689479548195\n",
      "### iteration step : 450 rmse :  0.01859481475499385\n",
      "### iteration step : 450 rmse :  0.018133126623033364\n",
      "### iteration step : 450 rmse :  0.01829516380916272\n",
      "### iteration step : 500 rmse :  0.017792649103094454\n",
      "### iteration step : 500 rmse :  0.017788408579475803\n",
      "### iteration step : 500 rmse :  0.01766056370686028\n",
      "### iteration step : 500 rmse :  0.01757006703957185\n",
      "### iteration step : 500 rmse :  0.017734231782803655\n",
      "### iteration step : 500 rmse :  0.017738644366704033\n",
      "### iteration step : 500 rmse :  0.017758551798166163\n",
      "### iteration step : 500 rmse :  0.01778713224545873\n",
      "### iteration step : 500 rmse :  0.017474078423967466\n",
      "### iteration step : 500 rmse :  0.01808388203395668\n",
      "### iteration step : 500 rmse :  0.01764002892603661\n",
      "### iteration step : 500 rmse :  0.017794784336542285\n",
      "### iteration step : 550 rmse :  0.017631000160913703\n",
      "### iteration step : 550 rmse :  0.017626962839987072\n",
      "### iteration step : 550 rmse :  0.017500740206203902\n",
      "### iteration step : 550 rmse :  0.017406340287774633\n",
      "### iteration step : 550 rmse :  0.017577334662818044\n",
      "### iteration step : 550 rmse :  0.017582856395088737\n",
      "### iteration step : 550 rmse :  0.017602379991305706\n",
      "### iteration step : 550 rmse :  0.017630519628809686\n",
      "### iteration step : 550 rmse :  0.01729898830872707\n",
      "### iteration step : 550 rmse :  0.017921129934241293\n",
      "### iteration step : 550 rmse :  0.01747855168209914\n",
      "### iteration step : 550 rmse :  0.017637590364049053\n",
      "### iteration step : 600 rmse :  0.017630069624205866\n",
      "### iteration step : 600 rmse :  0.017626285351550013\n",
      "### iteration step : 600 rmse :  0.0174998882664399\n",
      "### iteration step : 600 rmse :  0.017399555673777562\n",
      "### iteration step : 600 rmse :  0.01757768402042073\n",
      "### iteration step : 600 rmse :  0.01758419057000119\n",
      "### iteration step : 600 rmse :  0.01760326614268729\n",
      "### iteration step : 600 rmse :  0.01763093807168707\n",
      "### iteration step : 600 rmse :  0.017263166762429207\n",
      "### iteration step : 600 rmse :  0.017917835276854983\n",
      "### iteration step : 600 rmse :  0.01746904075366964\n",
      "### iteration step : 600 rmse :  0.017638660762648896\n",
      "### iteration step : 650 rmse :  0.017707284222671982\n",
      "### iteration step : 650 rmse :  0.017703770439841424\n",
      "### iteration step : 650 rmse :  0.01757640335517656\n",
      "### iteration step : 650 rmse :  0.017469058463883476\n",
      "### iteration step : 650 rmse :  0.017654618890999268\n",
      "### iteration step : 650 rmse :  0.01766204393497287\n",
      "### iteration step : 650 rmse :  0.017680623804371787\n",
      "### iteration step : 650 rmse :  0.01770781520427285\n",
      "### iteration step : 650 rmse :  0.01729308247582189\n",
      "### iteration step : 650 rmse :  0.017991006294697406\n",
      "### iteration step : 650 rmse :  0.017532767488871823\n",
      "### iteration step : 650 rmse :  0.017716794103414136\n"
     ]
    },
    {
     "name": "stdout",
     "output_type": "stream",
     "text": [
      "### iteration step : 700 rmse :  0.017826296786941986\n",
      "### iteration step : 700 rmse :  0.017823056645620478\n",
      "### iteration step : 700 rmse :  0.017694364812240765\n",
      "### iteration step : 700 rmse :  0.01757936674776322\n",
      "### iteration step : 700 rmse :  0.01777265866922281\n",
      "### iteration step : 700 rmse :  0.017780960389443285\n",
      "### iteration step : 700 rmse :  0.017799005861404732\n",
      "### iteration step : 700 rmse :  0.01782570799882617\n",
      "### iteration step : 700 rmse :  0.017356525959111403\n",
      "### iteration step : 700 rmse :  0.018104037717286508\n",
      "### iteration step : 700 rmse :  0.017635120324631638\n",
      "### iteration step : 700 rmse :  0.017836251742625785\n",
      "### iteration step : 750 rmse :  0.017971349925203214\n",
      "### iteration step : 750 rmse :  0.01796838047236166\n",
      "### iteration step : 750 rmse :  0.01783819685940298\n",
      "### iteration step : 750 rmse :  0.017715104290272055\n",
      "### iteration step : 750 rmse :  0.017916433837706962\n",
      "### iteration step : 750 rmse :  0.0179255801201518\n",
      "### iteration step : 750 rmse :  0.017943057800821817\n",
      "### iteration step : 750 rmse :  0.01796926337963364\n",
      "### iteration step : 750 rmse :  0.017439514820209702\n",
      "### iteration step : 750 rmse :  0.018240981279904506\n",
      "### iteration step : 750 rmse :  0.01776109033201713\n",
      "### iteration step : 750 rmse :  0.017981548235206524\n",
      "### iteration step : 800 rmse :  0.018135890790506416\n",
      "### iteration step : 800 rmse :  0.018133186515032863\n",
      "### iteration step : 800 rmse :  0.0180014196019325\n",
      "### iteration step : 800 rmse :  0.017869881016833178\n",
      "### iteration step : 800 rmse :  0.018079564016135922\n",
      "### iteration step : 800 rmse :  0.018089526114316305\n",
      "### iteration step : 800 rmse :  0.018106406044710404\n",
      "### iteration step : 800 rmse :  0.018132108311421005\n",
      "### iteration step : 800 rmse :  0.017536156235056565\n",
      "### iteration step : 800 rmse :  0.018395110932107505\n",
      "### iteration step : 800 rmse :  0.01790440850310443\n",
      "### iteration step : 800 rmse :  0.01814625220652352\n",
      "### iteration step : 850 rmse :  0.018317473919239803\n",
      "### iteration step : 850 rmse :  0.018315028250571307\n",
      "### iteration step : 850 rmse :  0.018181612791652698\n",
      "### iteration step : 850 rmse :  0.01804131716164201\n",
      "### iteration step : 850 rmse :  0.018259680707359942\n",
      "### iteration step : 850 rmse :  0.018270430594238874\n",
      "### iteration step : 850 rmse :  0.018286685338575737\n",
      "### iteration step : 850 rmse :  0.018311877727268062\n",
      "### iteration step : 850 rmse :  0.017644144163837985\n",
      "### iteration step : 850 rmse :  0.018563805764908837\n",
      "### iteration step : 850 rmse :  0.018062694338046758\n",
      "### iteration step : 850 rmse :  0.01832797237726343\n",
      "### iteration step : 900 rmse :  0.01851548593631459\n",
      "### iteration step : 900 rmse :  0.018513291867273164\n",
      "### iteration step : 900 rmse :  0.01837816731021874\n",
      "### iteration step : 900 rmse :  0.018228822464718953\n",
      "### iteration step : 900 rmse :  0.018456205795733614\n",
      "### iteration step : 900 rmse :  0.018467715089508868\n",
      "### iteration step : 900 rmse :  0.018483319320890493\n",
      "### iteration step : 900 rmse :  0.018507995318015374\n",
      "### iteration step : 900 rmse :  0.017762761752410153\n",
      "### iteration step : 900 rmse :  0.018746268170368608\n",
      "### iteration step : 900 rmse :  0.018235295864184178\n",
      "### iteration step : 900 rmse :  0.018526119678713773\n",
      "### iteration step : 950 rmse :  0.018730138869815317\n",
      "### iteration step : 950 rmse :  0.01872818921312154\n",
      "### iteration step : 950 rmse :  0.01859129007994527\n",
      "### iteration step : 950 rmse :  0.018432613625785497\n",
      "### iteration step : 950 rmse :  0.01866936866727459\n",
      "### iteration step : 950 rmse :  0.018681608220303927\n",
      "### iteration step : 950 rmse :  0.018696538556285492\n",
      "### iteration step : 950 rmse :  0.01872069166995004\n",
      "### iteration step : 950 rmse :  0.01789200238644454\n",
      "### iteration step : 950 rmse :  0.01894251554336544\n",
      "### iteration step : 950 rmse :  0.01842233659850189\n",
      "### iteration step : 950 rmse :  0.018740917328932342\n"
     ]
    }
   ],
   "source": [
    "for step in range(steps) :\n",
    "    for i,j,r in non_zeros :\n",
    "        \n",
    "        #error\n",
    "        eij = r - np.dot(P[i, :], Q[j, :].T)\n",
    "        \n",
    "        P[i, :] = P[i, :] + learning_rate * (eij * Q[j, :] - r_lambda * P[i, :])\n",
    "        Q[j, :] = Q[j, :] + learning_rate * (eij * Q[j, :] - r_lambda * P[i, :])\n",
    "        \n",
    "        rmse = get_rmse(R, P, Q, non_zeros)\n",
    "        \n",
    "        if(step % 50) == 0 :\n",
    "            print('### iteration step :', step, 'rmse : ', rmse)"
   ]
  },
  {
   "cell_type": "code",
   "execution_count": 18,
   "metadata": {
    "ExecuteTime": {
     "end_time": "2019-03-12T08:28:59.388162Z",
     "start_time": "2019-03-12T08:28:59.380185Z"
    }
   },
   "outputs": [
    {
     "data": {
      "text/plain": [
       "array([[  4.   ,  -3.35 ,  -5.152,   2.   ,   1.99 ],\n",
       "       [-40.075,   4.955,  36.291,   2.989,   0.975],\n",
       "       [ -6.38 ,  -3.928,   3.   ,   3.999,   3.999],\n",
       "       [  4.973,   2.026,   1.014,   2.003,  -8.542]])"
      ]
     },
     "execution_count": 18,
     "metadata": {},
     "output_type": "execute_result"
    }
   ],
   "source": [
    "pred_matrix = np.dot(P, Q.T)\n",
    "np.round(pred_matrix, 3)"
   ]
  }
 ],
 "metadata": {
  "hide_input": false,
  "kernelspec": {
   "display_name": "Python 3",
   "language": "python",
   "name": "python3"
  },
  "language_info": {
   "codemirror_mode": {
    "name": "ipython",
    "version": 3
   },
   "file_extension": ".py",
   "mimetype": "text/x-python",
   "name": "python",
   "nbconvert_exporter": "python",
   "pygments_lexer": "ipython3",
   "version": "3.7.1"
  },
  "toc": {
   "base_numbering": 1,
   "nav_menu": {},
   "number_sections": true,
   "sideBar": true,
   "skip_h1_title": false,
   "title_cell": "Table of Contents",
   "title_sidebar": "Contents",
   "toc_cell": false,
   "toc_position": {},
   "toc_section_display": true,
   "toc_window_display": false
  }
 },
 "nbformat": 4,
 "nbformat_minor": 2
}
