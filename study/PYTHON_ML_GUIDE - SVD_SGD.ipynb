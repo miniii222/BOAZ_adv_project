{
 "cells": [
  {
   "cell_type": "code",
   "execution_count": 1,
   "metadata": {
    "ExecuteTime": {
     "end_time": "2019-03-21T05:15:15.896531Z",
     "start_time": "2019-03-21T05:15:13.709817Z"
    }
   },
   "outputs": [],
   "source": [
    "import numpy as np"
   ]
  },
  {
   "cell_type": "code",
   "execution_count": 2,
   "metadata": {
    "ExecuteTime": {
     "end_time": "2019-03-21T05:15:15.916342Z",
     "start_time": "2019-03-21T05:15:15.896531Z"
    }
   },
   "outputs": [
    {
     "data": {
      "text/plain": [
       "array([[ 4., nan, nan,  2., nan],\n",
       "       [nan,  5., nan,  3.,  1.],\n",
       "       [nan, nan,  3.,  4.,  4.],\n",
       "       [ 5.,  2.,  1.,  2., nan]])"
      ]
     },
     "execution_count": 2,
     "metadata": {},
     "output_type": "execute_result"
    }
   ],
   "source": [
    "#원본 행렬 R 생성\n",
    "R = np.array([[4, np.NaN, np.NaN, 2, np.NaN],\n",
    "            [np.NaN, 5, np.NaN,3, 1],\n",
    "            [np.NaN, np.NaN,3, 4, 4],\n",
    "            [5, 2, 1, 2, np.NaN]])\n",
    "\n",
    "num_users, num_items = R.shape\n",
    "R"
   ]
  },
  {
   "cell_type": "code",
   "execution_count": 3,
   "metadata": {
    "ExecuteTime": {
     "end_time": "2019-03-21T05:15:15.928311Z",
     "start_time": "2019-03-21T05:15:15.919336Z"
    }
   },
   "outputs": [],
   "source": [
    "#잠재 요인 차원 K는 3\n",
    "K = 3"
   ]
  },
  {
   "cell_type": "code",
   "execution_count": 4,
   "metadata": {
    "ExecuteTime": {
     "end_time": "2019-03-21T05:15:15.940281Z",
     "start_time": "2019-03-21T05:15:15.931308Z"
    }
   },
   "outputs": [],
   "source": [
    "#P, Q를 임의의 값으로\n",
    "np.random.seed(1)\n",
    "P = np.random.normal(scale = 1/K, size = (num_users, K))\n",
    "Q = np.random.normal(scale = 1/K, size = (num_items, K))"
   ]
  },
  {
   "cell_type": "code",
   "execution_count": 5,
   "metadata": {
    "ExecuteTime": {
     "end_time": "2019-03-21T05:15:18.589190Z",
     "start_time": "2019-03-21T05:15:16.851642Z"
    }
   },
   "outputs": [],
   "source": [
    "from sklearn.metrics import mean_squared_error"
   ]
  },
  {
   "cell_type": "code",
   "execution_count": 6,
   "metadata": {
    "ExecuteTime": {
     "end_time": "2019-03-21T05:15:19.840989Z",
     "start_time": "2019-03-21T05:15:19.836004Z"
    }
   },
   "outputs": [],
   "source": [
    "def get_rmse(R,P,Q, non_zeros) :\n",
    "    error = 0\n",
    "    \n",
    "    full_pred_matrix = np.dot(P, Q.T)\n",
    "    \n",
    "    x_non_zero_ind = [non_zero[0] for non_zero in non_zeros]\n",
    "    y_non_zero_ind = [non_zero[1] for non_zero in non_zeros]\n",
    "    R_non_zeros = R[x_non_zero_ind, y_non_zero_ind]\n",
    "    \n",
    "    #new predict Rating Matrix\n",
    "    full_pred_matrix_non_zeros = full_pred_matrix[x_non_zero_ind, y_non_zero_ind]\n",
    "    rmse = np.sqrt(mean_squared_error(R_non_zeros, full_pred_matrix_non_zeros))\n",
    "    \n",
    "    return rmse"
   ]
  },
  {
   "cell_type": "code",
   "execution_count": 7,
   "metadata": {
    "ExecuteTime": {
     "end_time": "2019-03-21T05:15:22.898679Z",
     "start_time": "2019-03-21T05:15:22.891698Z"
    }
   },
   "outputs": [
    {
     "data": {
      "text/plain": [
       "[(0, 0, 4.0),\n",
       " (0, 3, 2.0),\n",
       " (1, 1, 5.0),\n",
       " (1, 3, 3.0),\n",
       " (1, 4, 1.0),\n",
       " (2, 2, 3.0),\n",
       " (2, 3, 4.0),\n",
       " (2, 4, 4.0),\n",
       " (3, 0, 5.0),\n",
       " (3, 1, 2.0),\n",
       " (3, 2, 1.0),\n",
       " (3, 3, 2.0)]"
      ]
     },
     "execution_count": 7,
     "metadata": {},
     "output_type": "execute_result"
    }
   ],
   "source": [
    "#R이 0보다 큰 값들의 행,열 index와 그 값 저장\n",
    "non_zeros = [(i,j,R[i,j]) for i in range(num_users) for j in range(num_items) if R[i,j] > 0 ]\n",
    "non_zeros"
   ]
  },
  {
   "cell_type": "markdown",
   "metadata": {},
   "source": [
    "$$(p_u ) ́= p_u+ η(e_((u,i) )* q_i- λ* p_u )$$\n",
    "$$(q_i ) ́= q_i+ η(e_((u,i) )* p_u- λ* q_i )$$"
   ]
  },
  {
   "cell_type": "code",
   "execution_count": 10,
   "metadata": {
    "ExecuteTime": {
     "end_time": "2019-03-21T05:16:53.547261Z",
     "start_time": "2019-03-21T05:16:51.187514Z"
    }
   },
   "outputs": [
    {
     "name": "stdout",
     "output_type": "stream",
     "text": [
      "### iteration step : 0 rmse :  0.016452764715057334\n",
      "### iteration step : 0 rmse :  0.0165408914116747\n",
      "### iteration step : 0 rmse :  0.016397378227687113\n",
      "### iteration step : 0 rmse :  0.016327165877973504\n",
      "### iteration step : 0 rmse :  0.0164421848133521\n",
      "### iteration step : 0 rmse :  0.016456959294962027\n",
      "### iteration step : 0 rmse :  0.016281771945551984\n",
      "### iteration step : 0 rmse :  0.016258601686471807\n",
      "### iteration step : 0 rmse :  0.01593521639847534\n",
      "### iteration step : 0 rmse :  0.0160708672766549\n",
      "### iteration step : 0 rmse :  0.016156558845351162\n",
      "### iteration step : 0 rmse :  0.016410959588961445\n",
      "### iteration step : 50 rmse :  0.016415626400065848\n",
      "### iteration step : 50 rmse :  0.016502576268650045\n",
      "### iteration step : 50 rmse :  0.016358274578054634\n",
      "### iteration step : 50 rmse :  0.01628913640069477\n",
      "### iteration step : 50 rmse :  0.016404419353426576\n",
      "### iteration step : 50 rmse :  0.016418985195750725\n",
      "### iteration step : 50 rmse :  0.016244452027802368\n",
      "### iteration step : 50 rmse :  0.01622098623726271\n",
      "### iteration step : 50 rmse :  0.015896934401122373\n",
      "### iteration step : 50 rmse :  0.016033175677935274\n",
      "### iteration step : 50 rmse :  0.01611926402143835\n",
      "### iteration step : 50 rmse :  0.01637308966218993\n",
      "### iteration step : 100 rmse :  0.016377016123685802\n",
      "### iteration step : 100 rmse :  0.01646300678600941\n",
      "### iteration step : 100 rmse :  0.016317918709450728\n",
      "### iteration step : 100 rmse :  0.016249848080128984\n",
      "### iteration step : 100 rmse :  0.01636539556327535\n",
      "### iteration step : 100 rmse :  0.016379779328108936\n",
      "### iteration step : 100 rmse :  0.01620578082929616\n",
      "### iteration step : 100 rmse :  0.016182040582130523\n",
      "### iteration step : 100 rmse :  0.01585745115058332\n",
      "### iteration step : 100 rmse :  0.015994277146687302\n",
      "### iteration step : 100 rmse :  0.016080760611075096\n",
      "### iteration step : 100 rmse :  0.016333882336881784\n",
      "### iteration step : 150 rmse :  0.016337281561600633\n",
      "### iteration step : 150 rmse :  0.016422490515224476\n",
      "### iteration step : 150 rmse :  0.016276619472849904\n",
      "### iteration step : 150 rmse :  0.01620960853492053\n",
      "### iteration step : 150 rmse :  0.016325420787980396\n",
      "### iteration step : 150 rmse :  0.016339643919352716\n",
      "### iteration step : 150 rmse :  0.016166084834343245\n",
      "### iteration step : 150 rmse :  0.016142086951649696\n",
      "### iteration step : 150 rmse :  0.015817064994529235\n",
      "### iteration step : 150 rmse :  0.01595446974779819\n",
      "### iteration step : 150 rmse :  0.016041346480831314\n",
      "### iteration step : 150 rmse :  0.016293661274599174\n",
      "### iteration step : 200 rmse :  0.016296741601188124\n",
      "### iteration step : 200 rmse :  0.016381313862154436\n",
      "### iteration step : 200 rmse :  0.016234664969947406\n",
      "### iteration step : 200 rmse :  0.016168704382377094\n",
      "### iteration step : 200 rmse :  0.016284781211970988\n",
      "### iteration step : 200 rmse :  0.016298861522881264\n",
      "### iteration step : 200 rmse :  0.01612566564590356\n",
      "### iteration step : 200 rmse :  0.01610142357081805\n",
      "### iteration step : 200 rmse :  0.015776055407439017\n",
      "### iteration step : 200 rmse :  0.015914032137123398\n",
      "### iteration step : 200 rmse :  0.01600129953691827\n",
      "### iteration step : 200 rmse :  0.01625272572302336\n",
      "### iteration step : 250 rmse :  0.016255675585758717\n",
      "### iteration step : 250 rmse :  0.016339729841332223\n",
      "### iteration step : 250 rmse :  0.016192309958113427\n",
      "### iteration step : 250 rmse :  0.01612738891666764\n",
      "### iteration step : 250 rmse :  0.016243729651887272\n",
      "### iteration step : 250 rmse :  0.016257682319253477\n",
      "### iteration step : 250 rmse :  0.016084788495099388\n",
      "### iteration step : 250 rmse :  0.016060312979172868\n",
      "### iteration step : 250 rmse :  0.015734670067992947\n",
      "### iteration step : 250 rmse :  0.015873210988020907\n",
      "### iteration step : 250 rmse :  0.0159608655011783\n",
      "### iteration step : 250 rmse :  0.016211338984681307\n",
      "### iteration step : 300 rmse :  0.01621432107113339\n",
      "### iteration step : 300 rmse :  0.016297954645483833\n",
      "### iteration step : 300 rmse :  0.016149772245838103\n",
      "### iteration step : 300 rmse :  0.01608587862924202\n",
      "### iteration step : 300 rmse :  0.016202482138067364\n",
      "### iteration step : 300 rmse :  0.016216320382959896\n",
      "### iteration step : 300 rmse :  0.016043679399191012\n",
      "### iteration step : 300 rmse :  0.01601897904419378\n",
      "### iteration step : 300 rmse :  0.015693120970143786\n",
      "### iteration step : 300 rmse :  0.015832217287935768\n",
      "### iteration step : 300 rmse :  0.01592025439336026\n",
      "### iteration step : 300 rmse :  0.016169725523756753\n",
      "### iteration step : 350 rmse :  0.016172875890571193\n",
      "### iteration step : 350 rmse :  0.0162561687583992\n",
      "### iteration step : 350 rmse :  0.01610723372921422\n",
      "### iteration step : 350 rmse :  0.016044354292116775\n",
      "### iteration step : 350 rmse :  0.016161219027684387\n",
      "### iteration step : 350 rmse :  0.01617495458972407\n",
      "### iteration step : 350 rmse :  0.016002526740486366\n",
      "### iteration step : 350 rmse :  0.015977608428335996\n",
      "### iteration step : 350 rmse :  0.015651585222735562\n",
      "### iteration step : 350 rmse :  0.015791227230244176\n",
      "### iteration step : 350 rmse :  0.015879641515785005\n",
      "### iteration step : 350 rmse :  0.016128072491623933\n",
      "### iteration step : 400 rmse :  0.01613150217683655\n",
      "### iteration step : 400 rmse :  0.016214520209792322\n",
      "### iteration step : 400 rmse :  0.016064843623639344\n",
      "### iteration step : 400 rmse :  0.01600296419663196\n",
      "### iteration step : 400 rmse :  0.016120088255443508\n",
      "### iteration step : 400 rmse :  0.016133731729494873\n",
      "### iteration step : 400 rmse :  0.01596148489432192\n",
      "### iteration step : 400 rmse :  0.0159363541295328\n",
      "### iteration step : 400 rmse :  0.015610208088119809\n",
      "### iteration step : 400 rmse :  0.015750385292600165\n",
      "### iteration step : 400 rmse :  0.015839170572471733\n",
      "### iteration step : 400 rmse :  0.016086533303745463\n",
      "### iteration step : 450 rmse :  0.016090331050150876\n",
      "### iteration step : 450 rmse :  0.016173128643145147\n",
      "### iteration step : 450 rmse :  0.016022722536333023\n",
      "### iteration step : 450 rmse :  0.01596182821409214\n",
      "### iteration step : 450 rmse :  0.016079209396185453\n",
      "### iteration step : 450 rmse :  0.016092770474861066\n",
      "### iteration step : 450 rmse :  0.015920678597599883\n",
      "### iteration step : 450 rmse :  0.015895339780806567\n",
      "### iteration step : 450 rmse :  0.015569106898943568\n",
      "### iteration step : 450 rmse :  0.015709808164605907\n",
      "### iteration step : 450 rmse :  0.01579895760906877\n",
      "### iteration step : 450 rmse :  0.016045231961723017\n",
      "### iteration step : 500 rmse :  0.01604946728801021\n",
      "### iteration step : 500 rmse :  0.016132089483533726\n",
      "### iteration step : 500 rmse :  0.015980966652282515\n",
      "### iteration step : 500 rmse :  0.015921041961984864\n",
      "### iteration step : 500 rmse :  0.016038677827798106\n",
      "### iteration step : 500 rmse :  0.016052165478202034\n",
      "### iteration step : 500 rmse :  0.015880207359765943\n",
      "### iteration step : 500 rmse :  0.015854664006633132\n",
      "### iteration step : 500 rmse :  0.015528375119027464\n",
      "### iteration step : 500 rmse :  0.015669588804394115\n",
      "### iteration step : 500 rmse :  0.015759095066664428\n",
      "### iteration step : 500 rmse :  0.016004267423347165\n",
      "### iteration step : 550 rmse :  0.016008993639432912\n",
      "### iteration step : 550 rmse :  0.01609147784531434\n",
      "### iteration step : 550 rmse :  0.015939651665460925\n",
      "### iteration step : 550 rmse :  0.01588068071334494\n",
      "### iteration step : 550 rmse :  0.01599856863478269\n",
      "### iteration step : 550 rmse :  0.01601199122851215\n",
      "### iteration step : 550 rmse :  0.01584014956734322\n",
      "### iteration step : 550 rmse :  0.015814404484037977\n",
      "### iteration step : 550 rmse :  0.015488086174188951\n",
      "### iteration step : 550 rmse :  0.015629800257802366\n",
      "### iteration step : 550 rmse :  0.015719655590852644\n",
      "### iteration step : 550 rmse :  0.015963717671935662\n",
      "### iteration step : 600 rmse :  0.015968974641446577\n",
      "### iteration step : 600 rmse :  0.01605135201945321\n",
      "### iteration step : 600 rmse :  0.01589883629076012\n",
      "### iteration step : 600 rmse :  0.015840802887505095\n",
      "### iteration step : 600 rmse :  0.015958940092310744\n",
      "### iteration step : 600 rmse :  0.015972305501750255\n",
      "### iteration step : 600 rmse :  0.015800566130579088\n",
      "### iteration step : 600 rmse :  0.015774621554601742\n",
      "### iteration step : 600 rmse :  0.01544829688344444\n",
      "### iteration step : 600 rmse :  0.015590499074992898\n",
      "### iteration step : 600 rmse :  0.01568069543522415\n",
      "### iteration step : 600 rmse :  0.01592364333325902\n",
      "### iteration step : 650 rmse :  0.015929459902981547\n",
      "### iteration step : 650 rmse :  0.016011756491163365\n",
      "### iteration step : 650 rmse :  0.015858565305057\n",
      "### iteration step : 650 rmse :  0.01580145307189854\n",
      "### iteration step : 650 rmse :  0.01591983668133307\n",
      "### iteration step : 650 rmse :  0.015933152351362157\n",
      "### iteration step : 650 rmse :  0.015761503629866776\n",
      "### iteration step : 650 rmse :  0.015735361343206567\n",
      "### iteration step : 650 rmse :  0.015409050434975344\n",
      "### iteration step : 650 rmse :  0.015551728271319669\n",
      "### iteration step : 650 rmse :  0.015642257408439546\n",
      "### iteration step : 650 rmse :  0.015884090797210332\n"
     ]
    },
    {
     "name": "stdout",
     "output_type": "stream",
     "text": [
      "### iteration step : 700 rmse :  0.01589048687759139\n",
      "### iteration step : 700 rmse :  0.015972724497512903\n",
      "### iteration step : 700 rmse :  0.01581887212604341\n",
      "### iteration step : 700 rmse :  0.015762664583956764\n",
      "### iteration step : 700 rmse :  0.015881291644245326\n",
      "### iteration step : 700 rmse :  0.01589456464587936\n",
      "### iteration step : 700 rmse :  0.015722996977267246\n",
      "### iteration step : 700 rmse :  0.015696658397424935\n",
      "### iteration step : 700 rmse :  0.015370378912279287\n",
      "### iteration step : 700 rmse :  0.015513519839118608\n",
      "### iteration step : 700 rmse :  0.01560437337280221\n",
      "### iteration step : 700 rmse :  0.01584509485896164\n",
      "### iteration step : 750 rmse :  0.01585208317317537\n",
      "### iteration step : 750 rmse :  0.015934280163590914\n",
      "### iteration step : 750 rmse :  0.015779780967039997\n",
      "### iteration step : 750 rmse :  0.01572446161134145\n",
      "### iteration step : 750 rmse :  0.015843329119562145\n",
      "### iteration step : 750 rmse :  0.01585656619025379\n",
      "### iteration step : 750 rmse :  0.015685071636354464\n",
      "### iteration step : 750 rmse :  0.015658537889652734\n",
      "### iteration step : 750 rmse :  0.015332305406217769\n",
      "### iteration step : 750 rmse :  0.015475896846720414\n",
      "### iteration step : 750 rmse :  0.015567066331206546\n",
      "### iteration step : 750 rmse :  0.015806680922219037\n",
      "### iteration step : 800 rmse :  0.015814268457047694\n",
      "### iteration step : 800 rmse :  0.015896440267743582\n",
      "### iteration step : 800 rmse :  0.0157413086182995\n",
      "### iteration step : 800 rmse :  0.015686860980830705\n",
      "### iteration step : 800 rmse :  0.015805965905985077\n",
      "### iteration step : 800 rmse :  0.01581917348006164\n",
      "### iteration step : 800 rmse :  0.01564774545468841\n",
      "### iteration step : 800 rmse :  0.015621017435398515\n",
      "### iteration step : 800 rmse :  0.015294845761463338\n",
      "### iteration step : 800 rmse :  0.01543887517340503\n",
      "### iteration step : 800 rmse :  0.015530352151403878\n",
      "### iteration step : 800 rmse :  0.01576886681829548\n",
      "### iteration step : 850 rmse :  0.015777056015593136\n",
      "### iteration step : 850 rmse :  0.015859215688710227\n",
      "### iteration step : 850 rmse :  0.015703465907807718\n",
      "### iteration step : 850 rmse :  0.01564987360861793\n",
      "### iteration step : 850 rmse :  0.015769212908607586\n",
      "### iteration step : 850 rmse :  0.01578239714041937\n",
      "### iteration step : 850 rmse :  0.015611030164867501\n",
      "### iteration step : 850 rmse :  0.015584108582975185\n",
      "### iteration step : 850 rmse :  0.015258010008814132\n",
      "### iteration step : 850 rmse :  0.015402464931762524\n",
      "### iteration step : 850 rmse :  0.015494240979075343\n",
      "### iteration step : 850 rmse :  0.015731664296432853\n",
      "### iteration step : 900 rmse :  0.015740454023995393\n",
      "### iteration step : 900 rmse :  0.015822612584910602\n",
      "### iteration step : 900 rmse :  0.015666258892086327\n",
      "### iteration step : 900 rmse :  0.015613505682266219\n",
      "### iteration step : 900 rmse :  0.015733076317439424\n",
      "### iteration step : 900 rmse :  0.01574624309914338\n",
      "### iteration step : 900 rmse :  0.015574932606970253\n",
      "### iteration step : 900 rmse :  0.015547818026837065\n",
      "### iteration step : 900 rmse :  0.015221803532634835\n",
      "### iteration step : 900 rmse :  0.015366671626625231\n",
      "### iteration step : 900 rmse :  0.015458738388792819\n",
      "### iteration step : 900 rmse :  0.0156950802377121\n",
      "### iteration step : 950 rmse :  0.01570446657558567\n",
      "### iteration step : 950 rmse :  0.01578663335115745\n",
      "### iteration step : 950 rmse :  0.01562968982255156\n",
      "### iteration step : 950 rmse :  0.015577759619613898\n",
      "### iteration step : 950 rmse :  0.01569755856347283\n",
      "### iteration step : 950 rmse :  0.015710713538886346\n",
      "### iteration step : 950 rmse :  0.015539455719742126\n",
      "### iteration step : 950 rmse :  0.015512148591463302\n",
      "### iteration step : 950 rmse :  0.015186228017986334\n",
      "### iteration step : 950 rmse :  0.015331497094981415\n",
      "### iteration step : 950 rmse :  0.015423846317152682\n",
      "### iteration step : 950 rmse :  0.015659117639502156\n"
     ]
    }
   ],
   "source": [
    "steps = 1000\n",
    "learning_rate = 0.01 #SGD의 학습률\n",
    "r_lambda = 0.01 #L2 정규화 계수\n",
    "\n",
    "\n",
    "for step in range(steps) :\n",
    "    for i,j,r in non_zeros :\n",
    "        \n",
    "        #error\n",
    "        eij = r - np.dot(P[i, :], Q[j, :].T)\n",
    "        \n",
    "        P[i, :] = P[i, :] + learning_rate * (eij * Q[j, :] - r_lambda * P[i, :])\n",
    "        Q[j, :] = Q[j, :] + learning_rate * (eij * P[i, :] - r_lambda * Q[j, :])\n",
    "        \n",
    "        rmse = get_rmse(R, P, Q, non_zeros)\n",
    "        \n",
    "        if(step % 50) == 0 :\n",
    "            print('### iteration step :', step, 'rmse : ', rmse)"
   ]
  },
  {
   "cell_type": "code",
   "execution_count": 9,
   "metadata": {
    "ExecuteTime": {
     "end_time": "2019-03-21T05:16:19.338408Z",
     "start_time": "2019-03-21T05:16:19.331428Z"
    }
   },
   "outputs": [
    {
     "data": {
      "text/plain": [
       "array([[3.991, 0.897, 1.306, 2.002, 1.663],\n",
       "       [6.696, 4.978, 0.979, 2.981, 1.003],\n",
       "       [6.677, 0.391, 2.987, 3.977, 3.986],\n",
       "       [4.968, 2.005, 1.006, 2.017, 1.14 ]])"
      ]
     },
     "execution_count": 9,
     "metadata": {},
     "output_type": "execute_result"
    }
   ],
   "source": [
    "pred_matrix = np.dot(P, Q.T)\n",
    "np.round(pred_matrix, 3)"
   ]
  }
 ],
 "metadata": {
  "hide_input": false,
  "kernelspec": {
   "display_name": "Python 3",
   "language": "python",
   "name": "python3"
  },
  "language_info": {
   "codemirror_mode": {
    "name": "ipython",
    "version": 3
   },
   "file_extension": ".py",
   "mimetype": "text/x-python",
   "name": "python",
   "nbconvert_exporter": "python",
   "pygments_lexer": "ipython3",
   "version": "3.7.1"
  },
  "toc": {
   "base_numbering": 1,
   "nav_menu": {},
   "number_sections": true,
   "sideBar": true,
   "skip_h1_title": false,
   "title_cell": "Table of Contents",
   "title_sidebar": "Contents",
   "toc_cell": false,
   "toc_position": {},
   "toc_section_display": true,
   "toc_window_display": false
  }
 },
 "nbformat": 4,
 "nbformat_minor": 2
}
