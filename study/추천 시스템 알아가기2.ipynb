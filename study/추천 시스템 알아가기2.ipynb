{
 "cells": [
  {
   "cell_type": "markdown",
   "metadata": {},
   "source": [
    "https://www.fun-coding.org/recommend_basic2.html"
   ]
  },
  {
   "cell_type": "markdown",
   "metadata": {},
   "source": [
    "# Recommendation 기본 알고리즘"
   ]
  },
  {
   "cell_type": "markdown",
   "metadata": {},
   "source": [
    "## Popularity, High Rated Based\n",
    "- 인기도, 높은 평점을 갖는 item 추천\n",
    "- 모두에게 동일한 item 추천"
   ]
  },
  {
   "cell_type": "code",
   "execution_count": 1,
   "metadata": {
    "ExecuteTime": {
     "end_time": "2019-02-27T09:38:07.243186Z",
     "start_time": "2019-02-27T09:38:07.231488Z"
    }
   },
   "outputs": [],
   "source": [
    "ratings={\n",
    "     'Dave':{'달콤한인생':5,'범죄도시':3,'샤인':3},\n",
    "     'David':{'달콤한인생':5,'범죄도시':1,'샤인':4},\n",
    "     'Alex':{'달콤한인생':0,'범죄도시':4,'샤인':5},\n",
    "     'Andy':{'달콤한인생':2,'범죄도시':1,'샤인':5}\n",
    "}"
   ]
  },
  {
   "cell_type": "markdown",
   "metadata": {},
   "source": [
    "### 평점이 가장 높은 두 영화 출력"
   ]
  },
  {
   "cell_type": "code",
   "execution_count": 21,
   "metadata": {
    "ExecuteTime": {
     "end_time": "2019-02-25T12:12:21.386864Z",
     "start_time": "2019-02-25T12:12:21.378834Z"
    }
   },
   "outputs": [
    {
     "name": "stdout",
     "output_type": "stream",
     "text": [
      "Dave\n",
      "David\n",
      "Alex\n",
      "Andy\n"
     ]
    }
   ],
   "source": [
    "for rating in ratings :\n",
    "    print(rating)"
   ]
  },
  {
   "cell_type": "code",
   "execution_count": 22,
   "metadata": {
    "ExecuteTime": {
     "end_time": "2019-02-25T12:12:22.056402Z",
     "start_time": "2019-02-25T12:12:22.047549Z"
    }
   },
   "outputs": [
    {
     "name": "stdout",
     "output_type": "stream",
     "text": [
      "달콤한인생\n",
      "범죄도시\n",
      "샤인\n",
      "달콤한인생\n",
      "범죄도시\n",
      "샤인\n",
      "달콤한인생\n",
      "범죄도시\n",
      "샤인\n",
      "달콤한인생\n",
      "범죄도시\n",
      "샤인\n"
     ]
    }
   ],
   "source": [
    "for rating in ratings :\n",
    "    for movie in ratings[rating].keys() :\n",
    "        print(movie)"
   ]
  },
  {
   "cell_type": "code",
   "execution_count": 6,
   "metadata": {
    "ExecuteTime": {
     "end_time": "2019-02-25T09:13:36.550271Z",
     "start_time": "2019-02-25T09:13:36.540333Z"
    }
   },
   "outputs": [],
   "source": [
    "movie_dict = dict()\n",
    "for rating in ratings :\n",
    "    for movie in ratings[rating].keys() : #movie 는 각 영화 제목\n",
    "        if movie not in movie_dict :\n",
    "            movie_dict[movie] = ratings[rating][movie] #없으면 평점과 함께 추가하고\n",
    "        else :\n",
    "            movie_dict[movie] = (movie_dict[movie] + ratings[rating][movie]) #있으면 있는 평점에 새로운 평점을 더함\n",
    "            \n",
    "for movie in ratings[rating].keys() :\n",
    "    movie_dict[movie] = movie_dict[movie]/4 #점수의 평균을 냄"
   ]
  },
  {
   "cell_type": "code",
   "execution_count": 7,
   "metadata": {
    "ExecuteTime": {
     "end_time": "2019-02-25T09:13:40.002599Z",
     "start_time": "2019-02-25T09:13:39.986641Z"
    }
   },
   "outputs": [
    {
     "data": {
      "text/plain": [
       "{'달콤한인생': 3.0, '범죄도시': 2.25, '샤인': 4.25}"
      ]
     },
     "execution_count": 7,
     "metadata": {},
     "output_type": "execute_result"
    }
   ],
   "source": [
    "movie_dict"
   ]
  },
  {
   "cell_type": "code",
   "execution_count": 8,
   "metadata": {
    "ExecuteTime": {
     "end_time": "2019-02-25T09:13:54.088167Z",
     "start_time": "2019-02-25T09:13:54.084177Z"
    }
   },
   "outputs": [],
   "source": [
    "import operator"
   ]
  },
  {
   "cell_type": "code",
   "execution_count": 10,
   "metadata": {
    "ExecuteTime": {
     "end_time": "2019-02-25T09:14:50.050278Z",
     "start_time": "2019-02-25T09:14:50.044295Z"
    }
   },
   "outputs": [
    {
     "data": {
      "text/plain": [
       "[('샤인', 4.25), ('달콤한인생', 3.0), ('범죄도시', 2.25)]"
      ]
     },
     "execution_count": 10,
     "metadata": {},
     "output_type": "execute_result"
    }
   ],
   "source": [
    "sorted_x = sorted(movie_dict.items(), key = operator.itemgetter(1), reverse = True) #sorting\n",
    "sorted_x"
   ]
  },
  {
   "cell_type": "markdown",
   "metadata": {},
   "source": [
    "## Collaborative Filtering\n",
    "1. 데이터 구성 : 평점을 사용하여 사용자-항목 레이팅 행렬을 만든다.\n",
    "2. 유사도 계산\n",
    "3. 예측값 및 추천 목록 생성"
   ]
  },
  {
   "cell_type": "markdown",
   "metadata": {},
   "source": [
    "### 데이터 구성"
   ]
  },
  {
   "cell_type": "code",
   "execution_count": 17,
   "metadata": {
    "ExecuteTime": {
     "end_time": "2019-02-25T09:20:53.737864Z",
     "start_time": "2019-02-25T09:20:53.732881Z"
    }
   },
   "outputs": [
    {
     "data": {
      "text/plain": [
       "{'Dave': {'달콤한인생': 5, '범죄도시': 3, '샤인': 3},\n",
       " 'David': {'달콤한인생': 5, '범죄도시': 1, '샤인': 4},\n",
       " 'Alex': {'달콤한인생': 0, '범죄도시': 4, '샤인': 5},\n",
       " 'Andy': {'달콤한인생': 2, '범죄도시': 1, '샤인': 5}}"
      ]
     },
     "execution_count": 17,
     "metadata": {},
     "output_type": "execute_result"
    }
   ],
   "source": [
    "ratings"
   ]
  },
  {
   "cell_type": "code",
   "execution_count": 11,
   "metadata": {
    "ExecuteTime": {
     "end_time": "2019-02-25T09:17:29.267877Z",
     "start_time": "2019-02-25T09:17:29.260894Z"
    }
   },
   "outputs": [
    {
     "data": {
      "text/plain": [
       "{'달콤한인생': 5, '범죄도시': 3, '샤인': 3}"
      ]
     },
     "execution_count": 11,
     "metadata": {},
     "output_type": "execute_result"
    }
   ],
   "source": [
    "ratings.get('Dave')"
   ]
  },
  {
   "cell_type": "code",
   "execution_count": 13,
   "metadata": {
    "ExecuteTime": {
     "end_time": "2019-02-25T09:19:07.906781Z",
     "start_time": "2019-02-25T09:19:07.900796Z"
    }
   },
   "outputs": [
    {
     "data": {
      "text/plain": [
       "{'달콤한인생': 5, '범죄도시': 3, '샤인': 3}"
      ]
     },
     "execution_count": 13,
     "metadata": {},
     "output_type": "execute_result"
    }
   ],
   "source": [
    "ratings['Dave']"
   ]
  },
  {
   "cell_type": "markdown",
   "metadata": {},
   "source": [
    "### 유사도 계산(피타고라스 거리 계산)"
   ]
  },
  {
   "cell_type": "code",
   "execution_count": 16,
   "metadata": {
    "ExecuteTime": {
     "end_time": "2019-02-25T09:20:19.057771Z",
     "start_time": "2019-02-25T09:20:19.052748Z"
    }
   },
   "outputs": [],
   "source": [
    "import math\n",
    "def sim(i,j) :\n",
    "    return math.sqrt(pow(i,2) + pow(j,2))"
   ]
  },
  {
   "cell_type": "markdown",
   "metadata": {},
   "source": [
    "#### Alex가 평가한 범죄의 도시, 샤인을 모두 평가한 사용자와 유사도 구하기"
   ]
  },
  {
   "cell_type": "code",
   "execution_count": 19,
   "metadata": {
    "ExecuteTime": {
     "end_time": "2019-02-25T09:24:57.995204Z",
     "start_time": "2019-02-25T09:24:57.989222Z"
    }
   },
   "outputs": [
    {
     "data": {
      "text/plain": [
       "{'달콤한인생': 0, '범죄도시': 4, '샤인': 5}"
      ]
     },
     "execution_count": 19,
     "metadata": {},
     "output_type": "execute_result"
    }
   ],
   "source": [
    "ratings['Alex']"
   ]
  },
  {
   "cell_type": "code",
   "execution_count": 20,
   "metadata": {
    "ExecuteTime": {
     "end_time": "2019-02-25T09:26:24.482939Z",
     "start_time": "2019-02-25T09:26:24.475958Z"
    }
   },
   "outputs": [
    {
     "name": "stdout",
     "output_type": "stream",
     "text": [
      "Dave  :  2.23606797749979\n",
      "David  :  3.1622776601683795\n",
      "Andy  :  3.0\n"
     ]
    }
   ],
   "source": [
    "for name in ratings :\n",
    "    if name != 'Alex' :\n",
    "        var1 = ratings['Alex']['범죄도시'] - ratings[name]['범죄도시']\n",
    "        var2 = ratings['Alex']['샤인'] - ratings[name]['샤인']\n",
    "        print(name, \" : \", sim(var1, var2))"
   ]
  },
  {
   "cell_type": "markdown",
   "metadata": {},
   "source": [
    "#### 0~1로 스케일. 1에 가까울수록 유사도 높음"
   ]
  },
  {
   "cell_type": "code",
   "execution_count": 21,
   "metadata": {
    "ExecuteTime": {
     "end_time": "2019-02-25T09:28:36.795268Z",
     "start_time": "2019-02-25T09:28:36.788285Z"
    }
   },
   "outputs": [
    {
     "name": "stdout",
     "output_type": "stream",
     "text": [
      "Dave  :  0.4472135954999579\n",
      "David  :  0.31622776601683794\n",
      "Andy  :  0.3333333333333333\n"
     ]
    }
   ],
   "source": [
    "for name in ratings :\n",
    "    if name != 'Alex' :\n",
    "        var1 = ratings['Alex']['범죄도시'] - ratings[name]['범죄도시']\n",
    "        var2 = ratings['Alex']['샤인'] - ratings[name]['샤인']\n",
    "        print(name, \" : \", 1/sim(var1, var2))"
   ]
  },
  {
   "cell_type": "markdown",
   "metadata": {},
   "source": [
    "#### Dave가 평가한 범죄의 도시, 샤인을 모두 평가한 사용자와 유사도 구하기"
   ]
  },
  {
   "cell_type": "code",
   "execution_count": 22,
   "metadata": {
    "ExecuteTime": {
     "end_time": "2019-02-25T09:29:28.067200Z",
     "start_time": "2019-02-25T09:29:28.060220Z"
    }
   },
   "outputs": [
    {
     "name": "stdout",
     "output_type": "stream",
     "text": [
      "David  :  0.4472135954999579\n",
      "Alex  :  0.4472135954999579\n",
      "Andy  :  0.35355339059327373\n"
     ]
    }
   ],
   "source": [
    "for name in ratings :\n",
    "    if name != 'Dave' :\n",
    "        var1 = ratings['Dave']['범죄도시'] - ratings[name]['범죄도시']\n",
    "        var2 = ratings['Dave']['샤인'] - ratings[name]['샤인']\n",
    "        print(name, \" : \", 1/sim(var1, var2))"
   ]
  },
  {
   "cell_type": "markdown",
   "metadata": {},
   "source": [
    "# Similarity 계산 방식"
   ]
  },
  {
   "cell_type": "markdown",
   "metadata": {},
   "source": [
    "### Mean Squared Difference Similarity\n",
    "- user based\n",
    "$$\\text{msd}(u, v) = \\frac{1}{|I_{uv}|} \\cdot \\sum\\limits_{i \\in I_{uv}} (r_{ui} - r_{vi})^2$$\n",
    "\n",
    "$$\\begin{split}\\text{msd_sim}(u, v) &= \\frac{1}{\\text{msd}(u, v) + 1}\\end{split}$$\n",
    "\n",
    "\n",
    "- item based\n",
    "$$\\text{msd}(i, j) = \\frac{1}{|U_{ij}|} \\cdot \\sum\\limits_{u \\in U_{ij}} (r_{ui} - r_{uj})^2$$\n",
    "\n",
    "$$\\begin{split}\\text{msd_sim}(i, j) &= \\frac{1}{\\text{msd}(i, j) + 1}\\end{split}$$\n"
   ]
  },
  {
   "cell_type": "code",
   "execution_count": 4,
   "metadata": {
    "ExecuteTime": {
     "end_time": "2019-02-25T11:54:20.830443Z",
     "start_time": "2019-02-25T11:54:20.814789Z"
    }
   },
   "outputs": [
    {
     "data": {
      "text/plain": [
       "{'Dave': {'달콤한인생': 5, '범죄도시': 3, '샤인': 3},\n",
       " 'David': {'달콤한인생': 5, '범죄도시': 1, '샤인': 4},\n",
       " 'Alex': {'달콤한인생': 0, '범죄도시': 4, '샤인': 5},\n",
       " 'Andy': {'달콤한인생': 2, '범죄도시': 1, '샤인': 5}}"
      ]
     },
     "execution_count": 4,
     "metadata": {},
     "output_type": "execute_result"
    }
   ],
   "source": [
    "ratings"
   ]
  },
  {
   "cell_type": "code",
   "execution_count": 10,
   "metadata": {
    "ExecuteTime": {
     "end_time": "2019-02-25T11:57:49.249047Z",
     "start_time": "2019-02-25T11:57:49.239574Z"
    }
   },
   "outputs": [
    {
     "name": "stdout",
     "output_type": "stream",
     "text": [
      "dict_items([('달콤한인생', 5), ('범죄도시', 3), ('샤인', 3)])\n",
      "dict_keys(['달콤한인생', '범죄도시', '샤인'])\n",
      "dict_values([5, 3, 3])\n",
      "dict_items([('달콤한인생', 5), ('범죄도시', 1), ('샤인', 4)])\n",
      "dict_keys(['달콤한인생', '범죄도시', '샤인'])\n",
      "dict_values([5, 1, 4])\n",
      "dict_items([('달콤한인생', 0), ('범죄도시', 4), ('샤인', 5)])\n",
      "dict_keys(['달콤한인생', '범죄도시', '샤인'])\n",
      "dict_values([0, 4, 5])\n",
      "dict_items([('달콤한인생', 2), ('범죄도시', 1), ('샤인', 5)])\n",
      "dict_keys(['달콤한인생', '범죄도시', '샤인'])\n",
      "dict_values([2, 1, 5])\n"
     ]
    }
   ],
   "source": [
    "for i in ratings :\n",
    "    print(ratings[i].items())\n",
    "    print(ratings[i].keys())\n",
    "    print(ratings[i].values())"
   ]
  },
  {
   "cell_type": "code",
   "execution_count": 2,
   "metadata": {
    "ExecuteTime": {
     "end_time": "2019-02-27T09:38:14.135638Z",
     "start_time": "2019-02-27T09:38:14.121947Z"
    }
   },
   "outputs": [],
   "source": [
    "#user-based\n",
    "#name1, name2 사람의 MSD 계산\n",
    "def sim_msd_user(data, name1, name2) :\n",
    "    sum =0 ; count=0\n",
    "    \n",
    "    #name1과 name2가 모두 관람한 모든 영화에 대하여\n",
    "    for movies in data[name1] :\n",
    "        if (data[name1][movies]>0) and (data[name2][movies]>0) : #평점을 내렸고, 같은 영화를 본 경우만\n",
    "            sum += pow(data[name1][movies]- data[name2][movies], 2)\n",
    "            count+=1\n",
    "            \n",
    "    return 1 / ( 1 + (sum / count) )\n",
    "\n",
    "\n",
    "#item-based\n",
    "#movie1, movie2 MSD 계산\n",
    "def sim_msd_item(data, movie1, movie2) :\n",
    "    sum =0; count=0\n",
    "    \n",
    "    #movie1과 movie2를 모두 평을 내린 모든 사람에 대하여\n",
    "    for name in data :\n",
    "        if (data[name][movie1] > 0) and (data[name][movie2] > 0) : #movie1, movie2 영화의 평점을 내린 경우만\n",
    "            sum+=pow(data[name][movie1] - data[name][movie2], 2)\n",
    "            count+=1\n",
    "            \n",
    "    return 1 / ( 1 + (sum / count) )"
   ]
  },
  {
   "cell_type": "code",
   "execution_count": 3,
   "metadata": {
    "ExecuteTime": {
     "end_time": "2019-02-27T09:38:15.576591Z",
     "start_time": "2019-02-27T09:38:15.562938Z"
    }
   },
   "outputs": [
    {
     "data": {
      "text/plain": [
       "0.15"
      ]
     },
     "execution_count": 3,
     "metadata": {},
     "output_type": "execute_result"
    }
   ],
   "source": [
    "sim_msd_user(ratings, 'Dave','Andy')"
   ]
  },
  {
   "cell_type": "code",
   "execution_count": 4,
   "metadata": {
    "ExecuteTime": {
     "end_time": "2019-02-27T09:38:16.313355Z",
     "start_time": "2019-02-27T09:38:16.305996Z"
    }
   },
   "outputs": [
    {
     "data": {
      "text/plain": [
       "0.13333333333333333"
      ]
     },
     "execution_count": 4,
     "metadata": {},
     "output_type": "execute_result"
    }
   ],
   "source": [
    "sim_msd_item(ratings, '범죄도시', '샤인')"
   ]
  },
  {
   "cell_type": "markdown",
   "metadata": {},
   "source": [
    "### Cosine Similarity\n",
    "- user based\n",
    "$$\\text{cosine_sim}(u, v) = \\frac{\n",
    "\\sum\\limits_{i \\in I_{uv}} r_{ui} \\cdot r_{vi}}\n",
    "{\\sqrt{\\sum\\limits_{i \\in I_{uv}} r_{ui}^2} \\cdot\n",
    "\\sqrt{\\sum\\limits_{i \\in I_{uv}} r_{vi}^2}\n",
    "}$$\n",
    "- item based\n",
    "$$\\text{cosine_sim}(i, j) = \\frac{\n",
    "\\sum\\limits_{u \\in U_{ij}} r_{ui} \\cdot r_{uj}}\n",
    "{\\sqrt{\\sum\\limits_{u \\in U_{ij}} r_{ui}^2} \\cdot\n",
    "\\sqrt{\\sum\\limits_{u \\in U_{ij}} r_{uj}^2}\n",
    "}$$"
   ]
  },
  {
   "cell_type": "code",
   "execution_count": 5,
   "metadata": {
    "ExecuteTime": {
     "end_time": "2019-02-27T09:38:19.362378Z",
     "start_time": "2019-02-27T09:38:19.355626Z"
    }
   },
   "outputs": [],
   "source": [
    "import math"
   ]
  },
  {
   "cell_type": "code",
   "execution_count": 6,
   "metadata": {
    "ExecuteTime": {
     "end_time": "2019-02-27T09:38:19.728099Z",
     "start_time": "2019-02-27T09:38:19.715620Z"
    }
   },
   "outputs": [],
   "source": [
    "#user-based\n",
    "#name1, name2 사람의 cosine similarity 계산\n",
    "def sim_cosine_user(data, name1, name2) :\n",
    "    s1 = 0; s2 =0; ss=0\n",
    "    \n",
    "    for movies in data[name1] :\n",
    "        #if movies in data[name2]:\n",
    "        if (data[name1][movies]>0) and (data[name2][movies]>0) : #평점을 내렸고, 같은 영화를 본 경우만\n",
    "            s1 += pow(data[name1][movies], 2)\n",
    "            s2 += pow(data[name2][movies], 2)\n",
    "            ss += data[name1][movies]*data[name2][movies]\n",
    "            \n",
    "            return ss / (math.sqrt(s1)*math.sqrt(s2))\n",
    "            \n",
    "            \n",
    "#item-based\n",
    "#movie1, movie2  cosine similarity 계산\n",
    "def simsim_cosine_item(data, movie1, movie2) :\n",
    "    s1 = 0; s2 =0; ss=0\n",
    "    \n",
    "    for name in data :\n",
    "        if (data[name][movie1] > 0) and (data[name][movie2] > 0) : #movie1, movie2 영화의 평점을 내린 경우만\n",
    "            s1 += pow(data[name][movie1], 2)\n",
    "            s2 += pow(data[name][movie2], 2)\n",
    "            ss += data[name][movie1] * data[name][movie2]\n",
    "            \n",
    "            return ss / (math.sqrt(s1) * math.sqrt(s2))"
   ]
  },
  {
   "cell_type": "code",
   "execution_count": 7,
   "metadata": {
    "ExecuteTime": {
     "end_time": "2019-02-27T09:38:20.865571Z",
     "start_time": "2019-02-27T09:38:20.857576Z"
    }
   },
   "outputs": [
    {
     "data": {
      "text/plain": [
       "{'Dave': {'달콤한인생': 5, '범죄도시': 3, '샤인': 3},\n",
       " 'David': {'달콤한인생': 5, '범죄도시': 1, '샤인': 4},\n",
       " 'Alex': {'달콤한인생': 0, '범죄도시': 4, '샤인': 5},\n",
       " 'Andy': {'달콤한인생': 2, '범죄도시': 1, '샤인': 5}}"
      ]
     },
     "execution_count": 7,
     "metadata": {},
     "output_type": "execute_result"
    }
   ],
   "source": [
    "ratings"
   ]
  },
  {
   "cell_type": "code",
   "execution_count": 8,
   "metadata": {
    "ExecuteTime": {
     "end_time": "2019-02-27T09:38:22.505569Z",
     "start_time": "2019-02-27T09:38:22.498451Z"
    }
   },
   "outputs": [
    {
     "data": {
      "text/plain": [
       "1.0"
      ]
     },
     "execution_count": 8,
     "metadata": {},
     "output_type": "execute_result"
    }
   ],
   "source": [
    "#?\n",
    "sim_cosine_user(ratings, 'Dave','David')"
   ]
  },
  {
   "cell_type": "code",
   "execution_count": 9,
   "metadata": {
    "ExecuteTime": {
     "end_time": "2019-02-27T09:38:22.974646Z",
     "start_time": "2019-02-27T09:38:22.962697Z"
    }
   },
   "outputs": [
    {
     "data": {
      "text/plain": [
       "1.0"
      ]
     },
     "execution_count": 9,
     "metadata": {},
     "output_type": "execute_result"
    }
   ],
   "source": [
    "simsim_cosine_item(ratings, '달콤한인생','범죄도시')"
   ]
  },
  {
   "cell_type": "markdown",
   "metadata": {},
   "source": [
    "### Pearson Similarity\n",
    "- user based\n",
    "$$\\text{pearson_sim}(u, v) = \\frac{\n",
    "\\sum\\limits_{i \\in I_{uv}} (r_{ui} -  \\mu_u) \\cdot (r_{vi} - \\mu_{v})}\n",
    "{\\sqrt{\\sum\\limits_{i \\in I_{uv}} (r_{ui} -  \\mu_u)^2} \\cdot\n",
    "\\sqrt{\\sum\\limits_{i \\in I_{uv}} (r_{vi} -  \\mu_{v})^2}\n",
    "}$$\n",
    "- item based\n",
    "$$\\text{pearson_sim}(i, j) = \\frac{\n",
    "\\sum\\limits_{u \\in U_{ij}} (r_{ui} -  \\mu_i) \\cdot (r_{uj} - \\mu_{j})}\n",
    "{\\sqrt{\\sum\\limits_{u \\in U_{ij}} (r_{ui} -  \\mu_i)^2} \\cdot\n",
    "\\sqrt{\\sum\\limits_{u \\in U_{ij}} (r_{uj} -  \\mu_{j})^2}\n",
    "}$$"
   ]
  },
  {
   "cell_type": "code",
   "execution_count": 58,
   "metadata": {
    "ExecuteTime": {
     "end_time": "2019-02-27T10:45:52.000811Z",
     "start_time": "2019-02-27T10:45:51.985952Z"
    }
   },
   "outputs": [],
   "source": [
    "def sim_pearson(data, name1, name2):\n",
    "    avg_name1 = 0\n",
    "    avg_name2 = 0\n",
    "    count = 0\n",
    "    for movies in data[name1]:\n",
    "        if movies in data[name2]: #같은 영화를 봤다면\n",
    "            avg_name1 += data[name1][movies]\n",
    "            avg_name2 += data[name2][movies]\n",
    "            count += 1\n",
    "    \n",
    "    avg_name1 = avg_name1 / count\n",
    "    avg_name2 = avg_name2 / count\n",
    "    \n",
    "    sum_name1 = 0\n",
    "    sum_name2 = 0\n",
    "    sum_name1_name2 = 0\n",
    "    count = 0\n",
    "    for movies in data[name1]:\n",
    "        if movies in data[name2]: #같은 영화를 봤다면\n",
    "            sum_name1 += pow(data[name1][movies] - avg_name1, 2)\n",
    "            sum_name2 += pow(data[name2][movies] - avg_name2, 2)\n",
    "            sum_name1_name2 += (data[name1][movies] - avg_name1) * (data[name2][movies] - avg_name2)\n",
    "    \n",
    "    return sum_name1_name2 / (math.sqrt(sum_name1)*math.sqrt(sum_name2))"
   ]
  },
  {
   "cell_type": "code",
   "execution_count": 11,
   "metadata": {
    "ExecuteTime": {
     "end_time": "2019-02-27T09:53:29.752638Z",
     "start_time": "2019-02-27T09:53:29.732980Z"
    }
   },
   "outputs": [],
   "source": [
    "#user-based\n",
    "#name1, name2 사람의 pearson similarity 계산\n",
    "def sim_pearson_user(data, name1, name2) :\n",
    "    avg_name1 =0; avg_name2 =0\n",
    "    count=0\n",
    "    \n",
    "    for movies in data[name1] :\n",
    "        if (data[name1][movies]>0) and (data[name2][movies]>0) : #평점을 내렸고, 같은 영화를 본 경우만\n",
    "            avg_name1 += data[name1][movies]\n",
    "            avg_name2 += data[name2][movies]\n",
    "            count+=1\n",
    "            \n",
    "    avg_name1 = avg_name1 / count\n",
    "    avg_name2 = avg_name2 / count\n",
    "    \n",
    "    sum_name1 =0; sum_name2 =0; ss=0\n",
    "    count=0\n",
    "    \n",
    "    for movies in data[name1] :\n",
    "        if (data[name1][movies]>0) and (data[name2][movies]>0) : #평점을 내렸고, 같은 영화를 본 경우만\n",
    "            sum_name1 += pow(data[name1][movies] - avg_name1, 2)\n",
    "            sum_name2 += pow(data[name2][movies] - avg_name2, 2)\n",
    "            ss += (data[name1][movies] - avg_name1) * (data[name2][movies] - avg_name2)\n",
    "            \n",
    "    return ss / (math.sqrt(sum_name1) * math.sqrt(sum_name2))\n",
    "\n",
    "\n",
    "#item_based\n",
    "#user-based\n",
    "#movie1, movie2 사람의 pearson similarity 계산\n",
    "def sim_pearson_item(data, movie1, movie2) :\n",
    "    avg_movie1 =0; avg_movie2 =0\n",
    "    count=0\n",
    "    \n",
    "    for name in data :\n",
    "        if (data[name][movie1]>0) and (data[name][movie2]>0) : #평점을 내렸고, 같은 영화를 본 경우만\n",
    "            avg_movie1 += data[name][movie1]\n",
    "            avg_movie2 += data[name][movie2]\n",
    "            count+=1\n",
    "            \n",
    "    avg_movie1 = avg_movie1 / count\n",
    "    avg_movie2 = avg_movie2 / count\n",
    "    \n",
    "    sum_movie1 =0; sum_movie2 =0; ss=0\n",
    "    count=0\n",
    "    \n",
    "    for name in data :\n",
    "        if (data[name][movie1]>0) and (data[name][movie2]>0) : #평점을 내렸고, 같은 영화를 본 경우만\n",
    "            sum_movie1 += pow(data[name][movie1] - avg_movie1, 2)\n",
    "            sum_movie2 += pow(data[name][movie2] - avg_movie2, 2)\n",
    "            ss += (data[name][movie1] - avg_movie1) * (data[name][movie2] - avg_movie2)\n",
    "            \n",
    "    return ss / (math.sqrt(sum_movie1) * math.sqrt(sum_movie2))"
   ]
  },
  {
   "cell_type": "code",
   "execution_count": 45,
   "metadata": {
    "ExecuteTime": {
     "end_time": "2019-02-27T10:01:29.203790Z",
     "start_time": "2019-02-27T10:01:29.196589Z"
    }
   },
   "outputs": [
    {
     "data": {
      "text/plain": [
       "0.6933752452815364"
      ]
     },
     "execution_count": 45,
     "metadata": {},
     "output_type": "execute_result"
    }
   ],
   "source": [
    "sim_pearson_user(ratings, 'Dave','David')"
   ]
  },
  {
   "cell_type": "code",
   "execution_count": 46,
   "metadata": {
    "ExecuteTime": {
     "end_time": "2019-02-27T10:01:46.170717Z",
     "start_time": "2019-02-27T10:01:46.162734Z"
    }
   },
   "outputs": [
    {
     "data": {
      "text/plain": [
       "-0.058025885318565944"
      ]
     },
     "execution_count": 46,
     "metadata": {},
     "output_type": "execute_result"
    }
   ],
   "source": [
    "sim_pearson_item(ratings, '범죄도시','샤인')"
   ]
  },
  {
   "cell_type": "code",
   "execution_count": 47,
   "metadata": {
    "ExecuteTime": {
     "end_time": "2019-02-27T10:01:51.243351Z",
     "start_time": "2019-02-27T10:01:51.236170Z"
    },
    "scrolled": true
   },
   "outputs": [
    {
     "data": {
      "text/plain": [
       "{'Dave': {'달콤한인생': 5, '범죄도시': 3, '샤인': 3},\n",
       " 'David': {'달콤한인생': 5, '범죄도시': 1, '샤인': 4},\n",
       " 'Alex': {'달콤한인생': 0, '범죄도시': 4, '샤인': 5},\n",
       " 'Andy': {'달콤한인생': 2, '범죄도시': 1, '샤인': 5}}"
      ]
     },
     "execution_count": 47,
     "metadata": {},
     "output_type": "execute_result"
    }
   ],
   "source": [
    "ratings"
   ]
  },
  {
   "cell_type": "markdown",
   "metadata": {},
   "source": [
    "### Top match"
   ]
  },
  {
   "cell_type": "code",
   "execution_count": 52,
   "metadata": {
    "ExecuteTime": {
     "end_time": "2019-02-27T10:17:32.622058Z",
     "start_time": "2019-02-27T10:17:32.609216Z"
    }
   },
   "outputs": [],
   "source": [
    "def top_match(data, name, index, sim_user_fn) :\n",
    "    lst = []\n",
    "    for i in data :\n",
    "        if name!=i : #자기 자신이 아닐 때\n",
    "            lst.append((sim_user_fn(data, name, i),i))\n",
    "            \n",
    "    lst.sort(reverse=True)\n",
    "    return lst[:index]"
   ]
  },
  {
   "cell_type": "code",
   "execution_count": 59,
   "metadata": {
    "ExecuteTime": {
     "end_time": "2019-02-27T10:46:19.062279Z",
     "start_time": "2019-02-27T10:46:19.054961Z"
    }
   },
   "outputs": [
    {
     "data": {
      "text/plain": [
       "[(0.6933752452815364, 'David'),\n",
       " (-0.2773500981126146, 'Andy'),\n",
       " (-0.9819805060619655, 'Alex')]"
      ]
     },
     "execution_count": 59,
     "metadata": {},
     "output_type": "execute_result"
    }
   ],
   "source": [
    "top_match(ratings, 'Dave', 3, sim_pearson)"
   ]
  },
  {
   "cell_type": "markdown",
   "metadata": {},
   "source": [
    "# 유사도와 KNN을 활용한 예측 값 계산 및 춴 목록 생성 기법\n",
    "- 사용자들 간의 유사도를 바탕으로 모든 항목에 대해 예측값을 계산하고 높은 에측값을 갖는 상위 N개 추천"
   ]
  },
  {
   "cell_type": "code",
   "execution_count": 57,
   "metadata": {
    "ExecuteTime": {
     "end_time": "2019-02-27T10:27:35.339008Z",
     "start_time": "2019-02-27T10:27:35.323948Z"
    }
   },
   "outputs": [],
   "source": [
    "ratings_expand = {\n",
    "    '마동석': {\n",
    "        '택시운전사': 3.5, '남한산성': 1.5,'킹스맨:골든서클': 3.0,\n",
    "        '범죄도시': 3.5,'아이 캔 스피크': 2.5,'꾼': 3.0\n",
    "    },\n",
    "    '이정재': {\n",
    "        '택시운전사': 5.0, '남한산성': 4.5, '킹스맨:골든서클': 0.5,\n",
    "        '범죄도시': 1.5, '아이 캔 스피크': 4.5, '꾼': 5.0\n",
    "    },\n",
    "    '윤계상': {\n",
    "        '택시운전사': 3.0, '남한산성': 2.5, '킹스맨:골든서클': 1.5,\n",
    "        '범죄도시': 3.0, '꾼': 3.0, '아이 캔 스피크': 3.5\n",
    "    },\n",
    "    '설경구': {\n",
    "        '택시운전사': 2.5, '남한산성': 3.0, '범죄도시': 4.5,\n",
    "        '꾼': 4.0\n",
    "    },\n",
    "    '최홍만': {\n",
    "        '남한산성': 4.5, '킹스맨:골든서클': 3.0, '꾼': 4.5,\n",
    "        '범죄도시': 3.0, '아이 캔 스피크': 2.5\n",
    "    },\n",
    "    '홍수환': {\n",
    "        '택시운전사': 3.0, '남한산성': 4.0, '킹스맨:골든서클': 1.0,\n",
    "        '범죄도시': 3.0, '꾼': 3.5, '아이 캔 스피크': 2.0\n",
    "    },\n",
    "    '나원탁': {\n",
    "        '택시운전사': 3.0, '남한산성': 4.0, '꾼': 3.0,\n",
    "        '범죄도시': 5.0, '아이 캔 스피크': 3.5\n",
    "    },\n",
    "    '소이현': {\n",
    "        '남한산성': 4.5, '아이 캔 스피크': 1.0, '범죄도시': 4.0\n",
    "    }\n",
    "}"
   ]
  },
  {
   "cell_type": "markdown",
   "metadata": {},
   "source": [
    "## KNNBasic\n",
    "- 단순 가중 평균. $N^k$ 는 k개의 가장 유사도가 큰 벡터의 집합\n",
    "- user based\n",
    "$$\\hat{r}_{ui} = \\frac{\n",
    "        \\sum\\limits_{v \\in N^k_i(u)} \\text{sim}(u, v) \\cdot r_{vi}}\n",
    "        {\\sum\\limits_{v \\in N^k_i(u)} \\text{sim}(u, v)}\n",
    "        $$\n",
    "- item based\n",
    "$$\\hat{r}_{ui} = \\frac{\n",
    "        \\sum\\limits_{j \\in N^k_u(i)} \\text{sim}(i, j) \\cdot r_{uj}}\n",
    "        {\\sum\\limits_{j \\in N^k_u(j)} \\text{sim}(i, j)}\n",
    "        $$"
   ]
  },
  {
   "cell_type": "code",
   "execution_count": null,
   "metadata": {},
   "outputs": [],
   "source": []
  }
 ],
 "metadata": {
  "hide_input": false,
  "kernelspec": {
   "display_name": "Python 3",
   "language": "python",
   "name": "python3"
  },
  "language_info": {
   "codemirror_mode": {
    "name": "ipython",
    "version": 3
   },
   "file_extension": ".py",
   "mimetype": "text/x-python",
   "name": "python",
   "nbconvert_exporter": "python",
   "pygments_lexer": "ipython3",
   "version": "3.7.1"
  },
  "latex_envs": {
   "LaTeX_envs_menu_present": true,
   "autoclose": false,
   "autocomplete": true,
   "bibliofile": "biblio.bib",
   "cite_by": "apalike",
   "current_citInitial": 1,
   "eqLabelWithNumbers": true,
   "eqNumInitial": 1,
   "hotkeys": {
    "equation": "Ctrl-E",
    "itemize": "Ctrl-I"
   },
   "labels_anchors": false,
   "latex_user_defs": false,
   "report_style_numbering": false,
   "user_envs_cfg": false
  },
  "notify_time": "10",
  "toc": {
   "base_numbering": 1,
   "nav_menu": {
    "height": "341px",
    "width": "311px"
   },
   "number_sections": true,
   "sideBar": true,
   "skip_h1_title": false,
   "title_cell": "Table of Contents",
   "title_sidebar": "Contents",
   "toc_cell": false,
   "toc_position": {},
   "toc_section_display": true,
   "toc_window_display": true
  }
 },
 "nbformat": 4,
 "nbformat_minor": 2
}
