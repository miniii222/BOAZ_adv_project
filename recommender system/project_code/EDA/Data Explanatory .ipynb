{
 "cells": [
  {
   "cell_type": "markdown",
   "metadata": {},
   "source": [
    "# Problem-definition\n",
    "\n",
    "The data provided for this challenge consists of a training and test set, and metadata for accommodations (items). The training set contains user actions up to a specified time (split date). It can be used to build models of user interactions and specifies the type of action that has been performed (filter usage, search refinements, item interactions, item searches, item click-outs) as well as information about impressed items and prices at the time of a click-out.\n",
    "\n",
    "대회의 데이터로는 `training`, `test`, `item metadata`가 제공됩니다.\n",
    "`training data`에는 특정 기간 전까지의 유저 활동 내역 (필터 사용, 검색 새로고침, 상품 비교, 상품 구매 등), 관심 상품 정보, 구매한 시기에 관심 상품의 가격 정보가 있습니다.  \n",
    "\n",
    "The recommendations should be provided for a test set that contains information about sessions after the split date but is missing the information about the accommodations that have been clicked in the last part of the sessions. The required output is a list of maximum 25 items for each click-out ordered by preferences for the specific user. The higher the actually clicked item appears on the list the higher the score.\n",
    "\n",
    "추천시스템의 목적은 특정 시기 이후의 세션 정보를 담고 있는 `test data`에서 세션의 마지막 스텝에서 클릭된 상품에 관한 정보가 빠져 있는 부분에 정보를 공급하기 위함입니다. 따라서 특정 유저의 선호도를 기반으로 최대 25개의 상품이 배열된 리스트를 제출해야 합니다. 실제로 구매한 상품이 `submission` 리스트의 상위에 배열될 수록 점수도 올라갑니다. \n",
    "\n",
    "The following schematic illustrates the problem setting and the separation of the data into training and test sets.\n",
    "\n",
    "<img src = 'recsys_problem_setting.png'>\n",
    "\n",
    "\n"
   ]
  },
  {
   "cell_type": "markdown",
   "metadata": {},
   "source": [
    "# Evaluation\n",
    "\n",
    "## mean reciprocal rank\n",
    "<img src = 'MRRsvg.svg'>\n",
    "\n",
    "Q = sample of queries\n",
    "\n",
    "rank = rank position of the first relevant document"
   ]
  },
  {
   "cell_type": "markdown",
   "metadata": {},
   "source": [
    "# Submission \n",
    "\n",
    "The submission should consist of a list of recommended hotels for each click-out that is missing in the test set. The format of the submission should allow to unambiguously identify the click-out in question.\n",
    "\n",
    "Therefore the submission file should be structured in the following way:\n",
    "\n",
    "`submission.csv`에는 `test data`에 빠져있는 구매 상품 마다의 추천 호텔의 리스트가 있어야합니다. 빠져있는 구매 상품을 명확히 알아내기 위해 `submission`에는 다음의 컬럼이 있어야합니다:\n",
    "\n",
    "user_id: identifier of the user that made the click-out\n",
    "\n",
    "session_id: identifier of the session in which the click-out was made\n",
    "\n",
    "timestamp: UNIX timestamp of the click-out\n",
    "\n",
    "step: step in the sequence of actions that marks the click-out\n",
    "\n",
    "item_recommendations: Space-separated list of items that the user will most likely have clicked\n",
    "\n"
   ]
  },
  {
   "cell_type": "code",
   "execution_count": null,
   "metadata": {},
   "outputs": [],
   "source": []
  }
 ],
 "metadata": {
  "kernelspec": {
   "display_name": "Python 3",
   "language": "python",
   "name": "python3"
  },
  "language_info": {
   "codemirror_mode": {
    "name": "ipython",
    "version": 3
   },
   "file_extension": ".py",
   "mimetype": "text/x-python",
   "name": "python",
   "nbconvert_exporter": "python",
   "pygments_lexer": "ipython3",
   "version": "3.5.6"
  }
 },
 "nbformat": 4,
 "nbformat_minor": 2
}
